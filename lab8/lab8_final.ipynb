{
 "cells": [
  {
   "cell_type": "markdown",
   "metadata": {
    "button": false,
    "deletable": true,
    "new_sheet": false,
    "run_control": {
     "read_only": false
    }
   },
   "source": [
    "<font color=darkred>\n",
    "\n",
    "# Soc220: Computational Text Analysis\n",
    "## Lab 8: Topic models II\n",
    "\n",
    "<br>\n",
    "\n",
    "\n",
    "<img src=\"images/temp_viz.jpg\" style=\"width: 650px\"/>\n",
    "\n",
    "***\n",
    "\n",
    "Today:\n",
    "\n",
    "- Using cross-validation to pick the optimal number of topics\n",
    "- Structural topic models\n",
    "\n",
    "***\n",
    "    \n",
    "   "
   ]
  },
  {
   "cell_type": "markdown",
   "metadata": {
    "button": false,
    "deletable": true,
    "new_sheet": false,
    "run_control": {
     "read_only": false
    }
   },
   "source": [
    "#### Load data:"
   ]
  },
  {
   "cell_type": "code",
   "execution_count": 1,
   "metadata": {
    "button": false,
    "collapsed": true,
    "deletable": true,
    "new_sheet": false,
    "run_control": {
     "read_only": false
    }
   },
   "outputs": [],
   "source": [
    "import warnings\n",
    "warnings.filterwarnings('ignore')"
   ]
  },
  {
   "cell_type": "code",
   "execution_count": 2,
   "metadata": {
    "button": false,
    "collapsed": true,
    "deletable": true,
    "new_sheet": false,
    "run_control": {
     "read_only": false
    }
   },
   "outputs": [],
   "source": [
    "# same as usual\n",
    "import pickle\n",
    "\n",
    "df_texts = pickle.load(open(\"df_proceedings_monarch_and_date.p\",\"rb\"))"
   ]
  },
  {
   "cell_type": "code",
   "execution_count": 3,
   "metadata": {
    "button": false,
    "collapsed": false,
    "deletable": true,
    "new_sheet": false,
    "run_control": {
     "read_only": false
    }
   },
   "outputs": [
    {
     "data": {
      "text/html": [
       "<div>\n",
       "<style>\n",
       "    .dataframe thead tr:only-child th {\n",
       "        text-align: right;\n",
       "    }\n",
       "\n",
       "    .dataframe thead th {\n",
       "        text-align: left;\n",
       "    }\n",
       "\n",
       "    .dataframe tbody tr th {\n",
       "        vertical-align: top;\n",
       "    }\n",
       "</style>\n",
       "<table border=\"1\" class=\"dataframe\">\n",
       "  <thead>\n",
       "    <tr style=\"text-align: right;\">\n",
       "      <th></th>\n",
       "      <th>date</th>\n",
       "      <th>monarch</th>\n",
       "      <th>text</th>\n",
       "    </tr>\n",
       "  </thead>\n",
       "  <tbody>\n",
       "    <tr>\n",
       "      <th>0</th>\n",
       "      <td>1660_11</td>\n",
       "      <td>charles2</td>\n",
       "      <td>On the sixth of November the Parliament met ac...</td>\n",
       "    </tr>\n",
       "    <tr>\n",
       "      <th>1</th>\n",
       "      <td>1660_4</td>\n",
       "      <td>charles2</td>\n",
       "      <td>CHARLES R.\", \"Trusty, and Wellbeloved, We gree...</td>\n",
       "    </tr>\n",
       "    <tr>\n",
       "      <th>2</th>\n",
       "      <td>1661_11</td>\n",
       "      <td>charles2</td>\n",
       "      <td>After a Recess of almost four Months the Parli...</td>\n",
       "    </tr>\n",
       "    <tr>\n",
       "      <th>3</th>\n",
       "      <td>1661_5</td>\n",
       "      <td>charles2</td>\n",
       "      <td>On the 8th of May the new Parliament met, and ...</td>\n",
       "    </tr>\n",
       "    <tr>\n",
       "      <th>4</th>\n",
       "      <td>1663_2</td>\n",
       "      <td>charles2</td>\n",
       "      <td>On February 18, 16623. the Parliament met afte...</td>\n",
       "    </tr>\n",
       "  </tbody>\n",
       "</table>\n",
       "</div>"
      ],
      "text/plain": [
       "      date   monarch                                               text\n",
       "0  1660_11  charles2  On the sixth of November the Parliament met ac...\n",
       "1   1660_4  charles2  CHARLES R.\", \"Trusty, and Wellbeloved, We gree...\n",
       "2  1661_11  charles2  After a Recess of almost four Months the Parli...\n",
       "3   1661_5  charles2  On the 8th of May the new Parliament met, and ...\n",
       "4   1663_2  charles2  On February 18, 16623. the Parliament met afte..."
      ]
     },
     "execution_count": 3,
     "metadata": {},
     "output_type": "execute_result"
    }
   ],
   "source": [
    "# inspect\n",
    "import pandas as pd\n",
    "\n",
    "df_texts.head()"
   ]
  },
  {
   "cell_type": "code",
   "execution_count": 4,
   "metadata": {
    "button": false,
    "collapsed": false,
    "deletable": true,
    "new_sheet": false,
    "run_control": {
     "read_only": false
    },
    "scrolled": false
   },
   "outputs": [
    {
     "data": {
      "text/html": [
       "<div>\n",
       "<style>\n",
       "    .dataframe thead tr:only-child th {\n",
       "        text-align: right;\n",
       "    }\n",
       "\n",
       "    .dataframe thead th {\n",
       "        text-align: left;\n",
       "    }\n",
       "\n",
       "    .dataframe tbody tr th {\n",
       "        vertical-align: top;\n",
       "    }\n",
       "</style>\n",
       "<table border=\"1\" class=\"dataframe\">\n",
       "  <thead>\n",
       "    <tr style=\"text-align: right;\">\n",
       "      <th></th>\n",
       "      <th>date</th>\n",
       "      <th>monarch</th>\n",
       "      <th>text</th>\n",
       "      <th>war</th>\n",
       "    </tr>\n",
       "  </thead>\n",
       "  <tbody>\n",
       "    <tr>\n",
       "      <th>0</th>\n",
       "      <td>1660_11</td>\n",
       "      <td>charles2</td>\n",
       "      <td>On the sixth of November the Parliament met ac...</td>\n",
       "      <td>0</td>\n",
       "    </tr>\n",
       "    <tr>\n",
       "      <th>1</th>\n",
       "      <td>1660_4</td>\n",
       "      <td>charles2</td>\n",
       "      <td>CHARLES R.\", \"Trusty, and Wellbeloved, We gree...</td>\n",
       "      <td>0</td>\n",
       "    </tr>\n",
       "    <tr>\n",
       "      <th>2</th>\n",
       "      <td>1661_11</td>\n",
       "      <td>charles2</td>\n",
       "      <td>After a Recess of almost four Months the Parli...</td>\n",
       "      <td>0</td>\n",
       "    </tr>\n",
       "    <tr>\n",
       "      <th>3</th>\n",
       "      <td>1661_5</td>\n",
       "      <td>charles2</td>\n",
       "      <td>On the 8th of May the new Parliament met, and ...</td>\n",
       "      <td>0</td>\n",
       "    </tr>\n",
       "    <tr>\n",
       "      <th>4</th>\n",
       "      <td>1663_2</td>\n",
       "      <td>charles2</td>\n",
       "      <td>On February 18, 16623. the Parliament met afte...</td>\n",
       "      <td>0</td>\n",
       "    </tr>\n",
       "    <tr>\n",
       "      <th>5</th>\n",
       "      <td>1664_11</td>\n",
       "      <td>charles2</td>\n",
       "      <td>After a Recess of above six Months, the Parlia...</td>\n",
       "      <td>0</td>\n",
       "    </tr>\n",
       "    <tr>\n",
       "      <th>6</th>\n",
       "      <td>1664_3</td>\n",
       "      <td>charles2</td>\n",
       "      <td>March 16, after an interval of near eight Mont...</td>\n",
       "      <td>0</td>\n",
       "    </tr>\n",
       "    <tr>\n",
       "      <th>7</th>\n",
       "      <td>1665_10</td>\n",
       "      <td>charles2</td>\n",
       "      <td>The Plague raging in London and Westminster, t...</td>\n",
       "      <td>1</td>\n",
       "    </tr>\n",
       "    <tr>\n",
       "      <th>8</th>\n",
       "      <td>1666_9</td>\n",
       "      <td>charles2</td>\n",
       "      <td>'September 21, the Parliament, after several P...</td>\n",
       "      <td>1</td>\n",
       "    </tr>\n",
       "    <tr>\n",
       "      <th>9</th>\n",
       "      <td>1667_10</td>\n",
       "      <td>charles2</td>\n",
       "      <td>'On the 10th day of October, after a double P...</td>\n",
       "      <td>1</td>\n",
       "    </tr>\n",
       "    <tr>\n",
       "      <th>10</th>\n",
       "      <td>1667_7</td>\n",
       "      <td>charles2</td>\n",
       "      <td>\"In obedience to the King's Proclamation, but...</td>\n",
       "      <td>0</td>\n",
       "    </tr>\n",
       "    <tr>\n",
       "      <th>11</th>\n",
       "      <td>1669_10</td>\n",
       "      <td>charles2</td>\n",
       "      <td>'On the 19th Day of October the Parliament me...</td>\n",
       "      <td>0</td>\n",
       "    </tr>\n",
       "    <tr>\n",
       "      <th>12</th>\n",
       "      <td>1670_2</td>\n",
       "      <td>charles2</td>\n",
       "      <td>'On the 14th Day of February, the Parliament ...</td>\n",
       "      <td>0</td>\n",
       "    </tr>\n",
       "    <tr>\n",
       "      <th>13</th>\n",
       "      <td>1673_10</td>\n",
       "      <td>charles2</td>\n",
       "      <td>\"On the said 20th Day of October, the Parliam...</td>\n",
       "      <td>0</td>\n",
       "    </tr>\n",
       "    <tr>\n",
       "      <th>14</th>\n",
       "      <td>1673_2</td>\n",
       "      <td>charles2</td>\n",
       "      <td>\"On the fourth Day of February, both Houses m...</td>\n",
       "      <td>0</td>\n",
       "    </tr>\n",
       "    <tr>\n",
       "      <th>15</th>\n",
       "      <td>1674_1</td>\n",
       "      <td>charles2</td>\n",
       "      <td>'When both Houses of Parliament met at Westmi...</td>\n",
       "      <td>0</td>\n",
       "    </tr>\n",
       "    <tr>\n",
       "      <th>16</th>\n",
       "      <td>1675_10</td>\n",
       "      <td>charles2</td>\n",
       "      <td>\"October 13. Both Houses met, according to Pr...</td>\n",
       "      <td>0</td>\n",
       "    </tr>\n",
       "    <tr>\n",
       "      <th>17</th>\n",
       "      <td>1675_4</td>\n",
       "      <td>charles2</td>\n",
       "      <td>\"On the 13th Day of April both Houses of Parl...</td>\n",
       "      <td>0</td>\n",
       "    </tr>\n",
       "    <tr>\n",
       "      <th>18</th>\n",
       "      <td>1677_2</td>\n",
       "      <td>charles2</td>\n",
       "      <td>\"Feb. 15, 16767. The Parliament met according...</td>\n",
       "      <td>0</td>\n",
       "    </tr>\n",
       "    <tr>\n",
       "      <th>19</th>\n",
       "      <td>1678_10</td>\n",
       "      <td>charles2</td>\n",
       "      <td>\"October 21. The Parliament met, and his Maje...</td>\n",
       "      <td>0</td>\n",
       "    </tr>\n",
       "    <tr>\n",
       "      <th>20</th>\n",
       "      <td>1678_5</td>\n",
       "      <td>charles2</td>\n",
       "      <td>\"On Thursday the 23d of May; after a short Re...</td>\n",
       "      <td>0</td>\n",
       "    </tr>\n",
       "    <tr>\n",
       "      <th>21</th>\n",
       "      <td>1679_10</td>\n",
       "      <td>charles2</td>\n",
       "      <td>'October 17, 1679, the new Parliament met and...</td>\n",
       "      <td>0</td>\n",
       "    </tr>\n",
       "    <tr>\n",
       "      <th>22</th>\n",
       "      <td>1679_3</td>\n",
       "      <td>charles2</td>\n",
       "      <td>\"On Thursday the 6th of March, the Parliament...</td>\n",
       "      <td>0</td>\n",
       "    </tr>\n",
       "    <tr>\n",
       "      <th>23</th>\n",
       "      <td>1680_10</td>\n",
       "      <td>charles2</td>\n",
       "      <td>he 30th of November, the House proceeded to th...</td>\n",
       "      <td>0</td>\n",
       "    </tr>\n",
       "    <tr>\n",
       "      <th>24</th>\n",
       "      <td>1680_11</td>\n",
       "      <td>charles2</td>\n",
       "      <td>'The 4th of November, 1680. A Bill to disable...</td>\n",
       "      <td>0</td>\n",
       "    </tr>\n",
       "    <tr>\n",
       "      <th>25</th>\n",
       "      <td>1680_12</td>\n",
       "      <td>charles2</td>\n",
       "      <td>'December 23, 1680. (fn. 1) Some Queries relat...</td>\n",
       "      <td>0</td>\n",
       "    </tr>\n",
       "    <tr>\n",
       "      <th>26</th>\n",
       "      <td>1681_3</td>\n",
       "      <td>charles2</td>\n",
       "      <td>\"The 21st Day of March being come, the fifth ...</td>\n",
       "      <td>0</td>\n",
       "    </tr>\n",
       "    <tr>\n",
       "      <th>27</th>\n",
       "      <td>1685_5</td>\n",
       "      <td>charles2</td>\n",
       "      <td>\"From the Dissolution at Oxford, March 28, 16...</td>\n",
       "      <td>0</td>\n",
       "    </tr>\n",
       "    <tr>\n",
       "      <th>28</th>\n",
       "      <td>1689_1</td>\n",
       "      <td>william_mary</td>\n",
       "      <td>\"January the 22d, the Commons being conven'd,...</td>\n",
       "      <td>1</td>\n",
       "    </tr>\n",
       "    <tr>\n",
       "      <th>29</th>\n",
       "      <td>1689_10</td>\n",
       "      <td>william_mary</td>\n",
       "      <td>\"The 23d, both Houses assembled again, When h...</td>\n",
       "      <td>1</td>\n",
       "    </tr>\n",
       "    <tr>\n",
       "      <th>...</th>\n",
       "      <td>...</td>\n",
       "      <td>...</td>\n",
       "      <td>...</td>\n",
       "      <td>...</td>\n",
       "    </tr>\n",
       "    <tr>\n",
       "      <th>81</th>\n",
       "      <td>1726_1</td>\n",
       "      <td>george2</td>\n",
       "      <td>'THE Parliament being met at Westminster on t...</td>\n",
       "      <td>0</td>\n",
       "    </tr>\n",
       "    <tr>\n",
       "      <th>82</th>\n",
       "      <td>1727_1</td>\n",
       "      <td>george2</td>\n",
       "      <td>\"ON the 17th of January the King came to the ...</td>\n",
       "      <td>0</td>\n",
       "    </tr>\n",
       "    <tr>\n",
       "      <th>83</th>\n",
       "      <td>1727_6</td>\n",
       "      <td>george2</td>\n",
       "      <td>PON the Death of his Majesty King GEORGE I, th...</td>\n",
       "      <td>0</td>\n",
       "    </tr>\n",
       "    <tr>\n",
       "      <th>84</th>\n",
       "      <td>1728_1</td>\n",
       "      <td>george2</td>\n",
       "      <td>On the 23d of January, the Parliament being me...</td>\n",
       "      <td>0</td>\n",
       "    </tr>\n",
       "    <tr>\n",
       "      <th>85</th>\n",
       "      <td>1729_1</td>\n",
       "      <td>george2</td>\n",
       "      <td>On the 21st of January the Parliament being me...</td>\n",
       "      <td>0</td>\n",
       "    </tr>\n",
       "    <tr>\n",
       "      <th>86</th>\n",
       "      <td>1730_1</td>\n",
       "      <td>george2</td>\n",
       "      <td>The King came to the House of Peers, on the 13...</td>\n",
       "      <td>0</td>\n",
       "    </tr>\n",
       "    <tr>\n",
       "      <th>87</th>\n",
       "      <td>1731_1</td>\n",
       "      <td>george2</td>\n",
       "      <td>On the 21st of January the King came to the Ho...</td>\n",
       "      <td>0</td>\n",
       "    </tr>\n",
       "    <tr>\n",
       "      <th>88</th>\n",
       "      <td>1732_1</td>\n",
       "      <td>george2</td>\n",
       "      <td>'On the 13th of January, the Parliament being ...</td>\n",
       "      <td>0</td>\n",
       "    </tr>\n",
       "    <tr>\n",
       "      <th>89</th>\n",
       "      <td>1732_2</td>\n",
       "      <td>george2</td>\n",
       "      <td>\" Feb. 9. A Petition from NewYork, from Rhode...</td>\n",
       "      <td>0</td>\n",
       "    </tr>\n",
       "    <tr>\n",
       "      <th>90</th>\n",
       "      <td>1733_1</td>\n",
       "      <td>george2</td>\n",
       "      <td>\"On the 16th of January the King came to the ...</td>\n",
       "      <td>0</td>\n",
       "    </tr>\n",
       "    <tr>\n",
       "      <th>91</th>\n",
       "      <td>1733_2</td>\n",
       "      <td>george2</td>\n",
       "      <td>\"Feb. 21. The House resolv'd itself into a Co...</td>\n",
       "      <td>0</td>\n",
       "    </tr>\n",
       "    <tr>\n",
       "      <th>92</th>\n",
       "      <td>1733_3</td>\n",
       "      <td>george2</td>\n",
       "      <td>' March 16. Sir Charles Turner reported the a...</td>\n",
       "      <td>0</td>\n",
       "    </tr>\n",
       "    <tr>\n",
       "      <th>93</th>\n",
       "      <td>1733_4</td>\n",
       "      <td>george2</td>\n",
       "      <td>\" April 30. An engross'd Bill, To prevent the...</td>\n",
       "      <td>0</td>\n",
       "    </tr>\n",
       "    <tr>\n",
       "      <th>94</th>\n",
       "      <td>1734_1</td>\n",
       "      <td>george2</td>\n",
       "      <td>n Thursday the 17th of January the Parliament ...</td>\n",
       "      <td>0</td>\n",
       "    </tr>\n",
       "    <tr>\n",
       "      <th>95</th>\n",
       "      <td>1734_2</td>\n",
       "      <td>george2</td>\n",
       "      <td>February 4. A Petition of the Druggists, and ...</td>\n",
       "      <td>0</td>\n",
       "    </tr>\n",
       "    <tr>\n",
       "      <th>96</th>\n",
       "      <td>1734_3</td>\n",
       "      <td>george2</td>\n",
       "      <td>' March 13. Upon a Motion made by Mr. Gibbon,...</td>\n",
       "      <td>0</td>\n",
       "    </tr>\n",
       "    <tr>\n",
       "      <th>97</th>\n",
       "      <td>1735_1</td>\n",
       "      <td>george2</td>\n",
       "      <td>N Tuesday, January 14, The King came to the Ho...</td>\n",
       "      <td>0</td>\n",
       "    </tr>\n",
       "    <tr>\n",
       "      <th>98</th>\n",
       "      <td>1735_2</td>\n",
       "      <td>george2</td>\n",
       "      <td>February 7. The House being in a Grand Commit...</td>\n",
       "      <td>0</td>\n",
       "    </tr>\n",
       "    <tr>\n",
       "      <th>99</th>\n",
       "      <td>1736_1</td>\n",
       "      <td>george2</td>\n",
       "      <td>\"ON the 15th of January the King came to the ...</td>\n",
       "      <td>0</td>\n",
       "    </tr>\n",
       "    <tr>\n",
       "      <th>100</th>\n",
       "      <td>1736_3</td>\n",
       "      <td>george2</td>\n",
       "      <td>\" March 9. The House proceeded farther on the...</td>\n",
       "      <td>0</td>\n",
       "    </tr>\n",
       "    <tr>\n",
       "      <th>101</th>\n",
       "      <td>1736_4</td>\n",
       "      <td>george2</td>\n",
       "      <td>\"April 12. The Counsel for and against the Qu...</td>\n",
       "      <td>0</td>\n",
       "    </tr>\n",
       "    <tr>\n",
       "      <th>102</th>\n",
       "      <td>1737_2</td>\n",
       "      <td>george2</td>\n",
       "      <td>\"On the First of February the Parliament bein...</td>\n",
       "      <td>0</td>\n",
       "    </tr>\n",
       "    <tr>\n",
       "      <th>103</th>\n",
       "      <td>1737_3</td>\n",
       "      <td>george2</td>\n",
       "      <td>'On March 4, the said Committee came to the f...</td>\n",
       "      <td>0</td>\n",
       "    </tr>\n",
       "    <tr>\n",
       "      <th>104</th>\n",
       "      <td>1737_5</td>\n",
       "      <td>george2</td>\n",
       "      <td>'On Monday, May 16th. A Bill entitled, \" An A...</td>\n",
       "      <td>0</td>\n",
       "    </tr>\n",
       "    <tr>\n",
       "      <th>105</th>\n",
       "      <td>1738_1</td>\n",
       "      <td>george2</td>\n",
       "      <td>N the 24th Day of January, 17378, the House of...</td>\n",
       "      <td>0</td>\n",
       "    </tr>\n",
       "    <tr>\n",
       "      <th>106</th>\n",
       "      <td>1738_2</td>\n",
       "      <td>george2</td>\n",
       "      <td>'Feb. 3. Sir Charles Turner being in the Chair...</td>\n",
       "      <td>0</td>\n",
       "    </tr>\n",
       "    <tr>\n",
       "      <th>107</th>\n",
       "      <td>1738_3</td>\n",
       "      <td>george2</td>\n",
       "      <td>'Wednes. March 3. Mr. Alderman Perry presente...</td>\n",
       "      <td>0</td>\n",
       "    </tr>\n",
       "    <tr>\n",
       "      <th>108</th>\n",
       "      <td>1738_4</td>\n",
       "      <td>george2</td>\n",
       "      <td>, ' April 7th. Mr. Speaker reported that the H...</td>\n",
       "      <td>0</td>\n",
       "    </tr>\n",
       "    <tr>\n",
       "      <th>109</th>\n",
       "      <td>1738_5</td>\n",
       "      <td>george2</td>\n",
       "      <td>, \" Friday May 12. About 12 o'Clock Mr. Pulten...</td>\n",
       "      <td>0</td>\n",
       "    </tr>\n",
       "    <tr>\n",
       "      <th>110</th>\n",
       "      <td>1739_2</td>\n",
       "      <td>george2</td>\n",
       "      <td>, \"Thursday, Feb. 1. A Message came by Sir Cha...</td>\n",
       "      <td>0</td>\n",
       "    </tr>\n",
       "  </tbody>\n",
       "</table>\n",
       "<p>111 rows × 4 columns</p>\n",
       "</div>"
      ],
      "text/plain": [
       "        date       monarch                                               text  \\\n",
       "0    1660_11      charles2  On the sixth of November the Parliament met ac...   \n",
       "1     1660_4      charles2  CHARLES R.\", \"Trusty, and Wellbeloved, We gree...   \n",
       "2    1661_11      charles2  After a Recess of almost four Months the Parli...   \n",
       "3     1661_5      charles2  On the 8th of May the new Parliament met, and ...   \n",
       "4     1663_2      charles2  On February 18, 16623. the Parliament met afte...   \n",
       "5    1664_11      charles2  After a Recess of above six Months, the Parlia...   \n",
       "6     1664_3      charles2  March 16, after an interval of near eight Mont...   \n",
       "7    1665_10      charles2  The Plague raging in London and Westminster, t...   \n",
       "8     1666_9      charles2  'September 21, the Parliament, after several P...   \n",
       "9    1667_10      charles2   'On the 10th day of October, after a double P...   \n",
       "10    1667_7      charles2   \"In obedience to the King's Proclamation, but...   \n",
       "11   1669_10      charles2   'On the 19th Day of October the Parliament me...   \n",
       "12    1670_2      charles2   'On the 14th Day of February, the Parliament ...   \n",
       "13   1673_10      charles2   \"On the said 20th Day of October, the Parliam...   \n",
       "14    1673_2      charles2   \"On the fourth Day of February, both Houses m...   \n",
       "15    1674_1      charles2   'When both Houses of Parliament met at Westmi...   \n",
       "16   1675_10      charles2   \"October 13. Both Houses met, according to Pr...   \n",
       "17    1675_4      charles2   \"On the 13th Day of April both Houses of Parl...   \n",
       "18    1677_2      charles2   \"Feb. 15, 16767. The Parliament met according...   \n",
       "19   1678_10      charles2   \"October 21. The Parliament met, and his Maje...   \n",
       "20    1678_5      charles2   \"On Thursday the 23d of May; after a short Re...   \n",
       "21   1679_10      charles2   'October 17, 1679, the new Parliament met and...   \n",
       "22    1679_3      charles2   \"On Thursday the 6th of March, the Parliament...   \n",
       "23   1680_10      charles2  he 30th of November, the House proceeded to th...   \n",
       "24   1680_11      charles2   'The 4th of November, 1680. A Bill to disable...   \n",
       "25   1680_12      charles2  'December 23, 1680. (fn. 1) Some Queries relat...   \n",
       "26    1681_3      charles2   \"The 21st Day of March being come, the fifth ...   \n",
       "27    1685_5      charles2   \"From the Dissolution at Oxford, March 28, 16...   \n",
       "28    1689_1  william_mary   \"January the 22d, the Commons being conven'd,...   \n",
       "29   1689_10  william_mary   \"The 23d, both Houses assembled again, When h...   \n",
       "..       ...           ...                                                ...   \n",
       "81    1726_1       george2   'THE Parliament being met at Westminster on t...   \n",
       "82    1727_1       george2   \"ON the 17th of January the King came to the ...   \n",
       "83    1727_6       george2  PON the Death of his Majesty King GEORGE I, th...   \n",
       "84    1728_1       george2  On the 23d of January, the Parliament being me...   \n",
       "85    1729_1       george2  On the 21st of January the Parliament being me...   \n",
       "86    1730_1       george2  The King came to the House of Peers, on the 13...   \n",
       "87    1731_1       george2  On the 21st of January the King came to the Ho...   \n",
       "88    1732_1       george2  'On the 13th of January, the Parliament being ...   \n",
       "89    1732_2       george2   \" Feb. 9. A Petition from NewYork, from Rhode...   \n",
       "90    1733_1       george2   \"On the 16th of January the King came to the ...   \n",
       "91    1733_2       george2   \"Feb. 21. The House resolv'd itself into a Co...   \n",
       "92    1733_3       george2   ' March 16. Sir Charles Turner reported the a...   \n",
       "93    1733_4       george2   \" April 30. An engross'd Bill, To prevent the...   \n",
       "94    1734_1       george2  n Thursday the 17th of January the Parliament ...   \n",
       "95    1734_2       george2   February 4. A Petition of the Druggists, and ...   \n",
       "96    1734_3       george2   ' March 13. Upon a Motion made by Mr. Gibbon,...   \n",
       "97    1735_1       george2  N Tuesday, January 14, The King came to the Ho...   \n",
       "98    1735_2       george2   February 7. The House being in a Grand Commit...   \n",
       "99    1736_1       george2   \"ON the 15th of January the King came to the ...   \n",
       "100   1736_3       george2   \" March 9. The House proceeded farther on the...   \n",
       "101   1736_4       george2   \"April 12. The Counsel for and against the Qu...   \n",
       "102   1737_2       george2   \"On the First of February the Parliament bein...   \n",
       "103   1737_3       george2   'On March 4, the said Committee came to the f...   \n",
       "104   1737_5       george2   'On Monday, May 16th. A Bill entitled, \" An A...   \n",
       "105   1738_1       george2  N the 24th Day of January, 17378, the House of...   \n",
       "106   1738_2       george2  'Feb. 3. Sir Charles Turner being in the Chair...   \n",
       "107   1738_3       george2   'Wednes. March 3. Mr. Alderman Perry presente...   \n",
       "108   1738_4       george2  , ' April 7th. Mr. Speaker reported that the H...   \n",
       "109   1738_5       george2  , \" Friday May 12. About 12 o'Clock Mr. Pulten...   \n",
       "110   1739_2       george2  , \"Thursday, Feb. 1. A Message came by Sir Cha...   \n",
       "\n",
       "     war  \n",
       "0      0  \n",
       "1      0  \n",
       "2      0  \n",
       "3      0  \n",
       "4      0  \n",
       "5      0  \n",
       "6      0  \n",
       "7      1  \n",
       "8      1  \n",
       "9      1  \n",
       "10     0  \n",
       "11     0  \n",
       "12     0  \n",
       "13     0  \n",
       "14     0  \n",
       "15     0  \n",
       "16     0  \n",
       "17     0  \n",
       "18     0  \n",
       "19     0  \n",
       "20     0  \n",
       "21     0  \n",
       "22     0  \n",
       "23     0  \n",
       "24     0  \n",
       "25     0  \n",
       "26     0  \n",
       "27     0  \n",
       "28     1  \n",
       "29     1  \n",
       "..   ...  \n",
       "81     0  \n",
       "82     0  \n",
       "83     0  \n",
       "84     0  \n",
       "85     0  \n",
       "86     0  \n",
       "87     0  \n",
       "88     0  \n",
       "89     0  \n",
       "90     0  \n",
       "91     0  \n",
       "92     0  \n",
       "93     0  \n",
       "94     0  \n",
       "95     0  \n",
       "96     0  \n",
       "97     0  \n",
       "98     0  \n",
       "99     0  \n",
       "100    0  \n",
       "101    0  \n",
       "102    0  \n",
       "103    0  \n",
       "104    0  \n",
       "105    0  \n",
       "106    0  \n",
       "107    0  \n",
       "108    0  \n",
       "109    0  \n",
       "110    0  \n",
       "\n",
       "[111 rows x 4 columns]"
      ]
     },
     "execution_count": 4,
     "metadata": {},
     "output_type": "execute_result"
    }
   ],
   "source": [
    "#new dummy variable: are we at war or not?\n",
    "\n",
    "df_texts['war'] = 0\n",
    "\n",
    "war_years = ['1665_10', '1666_9', '1667_10','1689_1', '1689_10',\n",
    "       '1689_2', '1689_5', '1690_10', '1690_3', '1691_10', '1692_11',\n",
    "       '1693_11', '1694_11', '1695_11', '1696_10', '1697_12','1702_10', '1702_12',\n",
    "       '1702_5', '1703_11', '1704_10', '1704_2', '1704_4', '1705_10',\n",
    "       '1706_12', '1706_4', '1707_11', '1707_4', '1708_11', '1709_11',\n",
    "       '1710_11', '1711_12', '1711_2', '1712_3']\n",
    "\n",
    "df_texts.loc[df_texts['date'].isin(war_years), 'war'] = 1\n",
    "\n",
    "df_texts"
   ]
  },
  {
   "cell_type": "code",
   "execution_count": null,
   "metadata": {
    "button": false,
    "collapsed": true,
    "deletable": true,
    "new_sheet": false,
    "run_control": {
     "read_only": false
    }
   },
   "outputs": [],
   "source": []
  },
  {
   "cell_type": "code",
   "execution_count": 5,
   "metadata": {
    "button": false,
    "collapsed": true,
    "deletable": true,
    "new_sheet": false,
    "run_control": {
     "read_only": false
    }
   },
   "outputs": [],
   "source": [
    "#write to excel in order to retain complexity of text\n",
    "writer = pd.ExcelWriter('efr_tm.xlsx')\n",
    "df_texts.to_excel(writer,'Sheet1') #index=False? # , ,encoding=\"utf-8\" #r'efr_tm.csv', sep=';'"
   ]
  },
  {
   "cell_type": "code",
   "execution_count": 6,
   "metadata": {
    "button": false,
    "collapsed": false,
    "deletable": true,
    "new_sheet": false,
    "run_control": {
     "read_only": false
    }
   },
   "outputs": [
    {
     "name": "stdout",
     "output_type": "stream",
     "text": [
      "df_proceedings_monarch_and_date.p lab8_final.ipynb\r\n",
      "efr_tm.xlsx                       lab8_stm.R\r\n",
      "\u001b[34mimages\u001b[m\u001b[m                            stmVignette.pdf\r\n"
     ]
    }
   ],
   "source": [
    "#list local files to check if excel file is still there.\n",
    "!ls"
   ]
  },
  {
   "cell_type": "markdown",
   "metadata": {
    "button": false,
    "deletable": true,
    "new_sheet": false,
    "run_control": {
     "read_only": false
    }
   },
   "source": []
  },
  {
   "cell_type": "markdown",
   "metadata": {
    "button": false,
    "deletable": true,
    "new_sheet": false,
    "run_control": {
     "read_only": false
    }
   },
   "source": [
    "<font color=darkgreen>\n",
    "\n",
    "### Cross-validation and hyperparameter tuning (from lab 6)\n",
    "\n",
    "<img src=\"images/ten_fold.png\" style=\"width: 400px;\" />\n",
    "\n",
    "- Hyperparameters are the meta level settings of each algorithm. We can specify them if we have prior theory to do so, or we can aks the machine to tune them, typically using something called gradient descent (it's typically computationally impossible to test *all* possible combinations, so what the computer does is [increment down a slope of the loss function](https://en.wikipedia.org/wiki/Gradient_descent).)\n",
    "- The 'learning rate' parameter is the rate at which one descends the descent. (Typically 'C' parameter in scikit-learn)\n",
    "- In 10-fold cross validation, one sample is used as the training data while the other 9 are used to train the model, and then we iterate through each fold.\n",
    "- The results from each fold are then typically averaged together.\n",
    "- That averaged result is then used to predict on the set aside test data.\n",
    "\n",
    "#### Cross validation:\n",
    "\n",
    "* Gridsearch in a dictionary of parameters and a function.\n",
    "* GridSearchCV itself takes in parameters like specifying the number of folds, the loss function, and the learning rate.\n",
    "\n",
    "#### Viz of model comparison\n",
    "\n",
    "https://machinelearningmastery.com/compare-machine-learning-algorithms-python-scikit-learn/"
   ]
  },
  {
   "cell_type": "markdown",
   "metadata": {
    "button": false,
    "deletable": true,
    "new_sheet": false,
    "run_control": {
     "read_only": false
    }
   },
   "source": [
    "<img src=\"images/lda_diagram.png\" style=\"width: 600px;\" />\n",
    "\n",
    "http://scikit-learn.org/stable/modules/generated/sklearn.decomposition.LatentDirichletAllocation.html"
   ]
  },
  {
   "cell_type": "code",
   "execution_count": 7,
   "metadata": {
    "button": false,
    "collapsed": false,
    "deletable": true,
    "new_sheet": false,
    "run_control": {
     "read_only": false
    }
   },
   "outputs": [
    {
     "name": "stdout",
     "output_type": "stream",
     "text": [
      "(111, 2300)\n"
     ]
    }
   ],
   "source": [
    "#fit topic model as before\n",
    "from sklearn.feature_extraction.text import CountVectorizer\n",
    "from sklearn.decomposition import LatentDirichletAllocation\n",
    "\n",
    "tf_vectorizer = CountVectorizer(\n",
    "                                #strip_accents = 'unicode',\n",
    "                                stop_words = 'english',\n",
    "                                lowercase = True,\n",
    "                                max_features=None,\n",
    "                                max_df = 0.90,\n",
    "                                min_df = .2\n",
    ")\n",
    "\n",
    "dtm_tf = tf_vectorizer.fit_transform(df_texts['text'])\n",
    "print(dtm_tf.shape)"
   ]
  },
  {
   "cell_type": "markdown",
   "metadata": {
    "button": false,
    "collapsed": true,
    "deletable": true,
    "new_sheet": false,
    "run_control": {
     "read_only": false
    }
   },
   "source": [
    "<font color=darkgreen>\n",
    "\n",
    "### LDA model fit statistics.\n",
    "\n",
    "* Perplexity is \"average surprise\" vs maximum log-likelihood which is \"our total surprise.\"\n",
    "Intuitively:\n",
    "- A uniform distribution has high perplexity because it is hard to predict a random draw from it. (e.g. predict the next roll of a six-sided die)\n",
    "– A peaked distribution has low perplexity because it is easy to predict the outcome of a random draw from it. (e.g. predict the height of a random sample of human beings)\n",
    "- In general, minimizing perplexity is a \"less complex\" model.\n",
    "\n",
    "### $$ L(w_d)  = \\sum_d \\log p(w_d|\\Theta,\\alpha)$$\n",
    "\n",
    "Likelihood of an unseen document ($w_d$) is the sum of the log probabilities of given that document, against the topic matrix ($\\Theta$) and the hyperparameter $\\alpha$ of the topic distribution of documents. \n",
    "\n",
    "### $$ \\text{perplexity} (w) = \\text{exp}{- \\frac{L(w)}{\\text{count of tokens}} } $$"
   ]
  },
  {
   "cell_type": "code",
   "execution_count": 8,
   "metadata": {
    "button": false,
    "collapsed": true,
    "deletable": true,
    "new_sheet": false,
    "run_control": {
     "read_only": false
    }
   },
   "outputs": [],
   "source": [
    "perplexity_of_models = []\n",
    "for n in (range(2,20)):\n",
    "    model = LatentDirichletAllocation(n_components=n,learning_method='online')\n",
    "    model.fit(dtm_tf)\n",
    "    perplexity_of_models.append(model.perplexity(dtm_tf)) "
   ]
  },
  {
   "cell_type": "code",
   "execution_count": 9,
   "metadata": {
    "button": false,
    "collapsed": false,
    "deletable": true,
    "new_sheet": false,
    "run_control": {
     "read_only": false
    },
    "scrolled": true
   },
   "outputs": [
    {
     "data": {
      "text/plain": [
       "[1412.8900398281216,\n",
       " 1359.3649305683066,\n",
       " 1352.3304173162257,\n",
       " 1309.9135827301568,\n",
       " 1319.3014149838473,\n",
       " 1307.370414157485,\n",
       " 1310.6945093241625,\n",
       " 1330.1492796230502,\n",
       " 1330.870553266719,\n",
       " 1344.988701009161,\n",
       " 1356.768716081282,\n",
       " 1344.4422000594084,\n",
       " 1343.4924658313166,\n",
       " 1388.0024690601017,\n",
       " 1376.6639614731157,\n",
       " 1372.4658685275142,\n",
       " 1412.1068375223854,\n",
       " 1438.8806412753909]"
      ]
     },
     "execution_count": 9,
     "metadata": {},
     "output_type": "execute_result"
    }
   ],
   "source": [
    "perplexity_of_models"
   ]
  },
  {
   "cell_type": "code",
   "execution_count": 10,
   "metadata": {
    "button": false,
    "collapsed": false,
    "deletable": true,
    "new_sheet": false,
    "run_control": {
     "read_only": false
    }
   },
   "outputs": [
    {
     "data": {
      "text/plain": [
       "5"
      ]
     },
     "execution_count": 10,
     "metadata": {},
     "output_type": "execute_result"
    }
   ],
   "source": [
    "import numpy as np\n",
    "\n",
    "#find the minimization of perplexity\n",
    "np.argmin(perplexity_of_models)"
   ]
  },
  {
   "cell_type": "code",
   "execution_count": 11,
   "metadata": {
    "button": false,
    "collapsed": true,
    "deletable": true,
    "new_sheet": false,
    "run_control": {
     "read_only": false
    }
   },
   "outputs": [],
   "source": [
    "loglikelihood_of_models = []\n",
    "for n in (range(2,20)):\n",
    "    model = LatentDirichletAllocation(n_components=n,learning_method='online')\n",
    "    model.fit(dtm_tf)\n",
    "    loglikelihood_of_models.append(model.score(dtm_tf)) "
   ]
  },
  {
   "cell_type": "code",
   "execution_count": 12,
   "metadata": {
    "button": false,
    "collapsed": false,
    "deletable": true,
    "new_sheet": false,
    "run_control": {
     "read_only": false
    },
    "scrolled": true
   },
   "outputs": [
    {
     "data": {
      "text/plain": [
       "[-3025027.6100607803,\n",
       " -3021279.9252986116,\n",
       " -3010356.213952217,\n",
       " -3010054.9211771325,\n",
       " -3007358.6862623035,\n",
       " -2997150.5248254538,\n",
       " -3006483.866351179,\n",
       " -3003826.982705942,\n",
       " -3007705.6853850647,\n",
       " -3003149.035905044,\n",
       " -3028543.8814738397,\n",
       " -3025174.0363382585,\n",
       " -3018297.278687997,\n",
       " -3020888.4486936103,\n",
       " -3027405.6329127513,\n",
       " -3028216.7403017934,\n",
       " -3030601.2810519496,\n",
       " -3039911.945868356]"
      ]
     },
     "execution_count": 12,
     "metadata": {},
     "output_type": "execute_result"
    }
   ],
   "source": [
    "loglikelihood_of_models"
   ]
  },
  {
   "cell_type": "code",
   "execution_count": 13,
   "metadata": {
    "button": false,
    "collapsed": false,
    "deletable": true,
    "new_sheet": false,
    "run_control": {
     "read_only": false
    }
   },
   "outputs": [
    {
     "data": {
      "text/plain": [
       "5"
      ]
     },
     "execution_count": 13,
     "metadata": {},
     "output_type": "execute_result"
    }
   ],
   "source": [
    "#find the maximum loglikelihood\n",
    "np.argmax(loglikelihood_of_models)"
   ]
  },
  {
   "cell_type": "code",
   "execution_count": null,
   "metadata": {
    "button": false,
    "collapsed": true,
    "deletable": true,
    "new_sheet": false,
    "run_control": {
     "read_only": false
    }
   },
   "outputs": [],
   "source": []
  },
  {
   "cell_type": "code",
   "execution_count": 14,
   "metadata": {
    "button": false,
    "collapsed": false,
    "deletable": true,
    "new_sheet": false,
    "run_control": {
     "read_only": false
    }
   },
   "outputs": [
    {
     "data": {
      "text/plain": [
       "LatentDirichletAllocation(batch_size=128, doc_topic_prior=None,\n",
       "             evaluate_every=-1, learning_decay=0.7,\n",
       "             learning_method='online', learning_offset=50,\n",
       "             max_doc_update_iter=100, max_iter=10, mean_change_tol=0.001,\n",
       "             n_components=5, n_jobs=1, n_topics=None, perp_tol=0.1,\n",
       "             random_state=450, topic_word_prior=None,\n",
       "             total_samples=1000000.0, verbose=0)"
      ]
     },
     "execution_count": 14,
     "metadata": {},
     "output_type": "execute_result"
    }
   ],
   "source": [
    "lda_tf = LatentDirichletAllocation(n_components=5,\n",
    "                                   learning_method='online',\n",
    "                                   learning_offset=50, #A (positive) parameter that downweights early iterations in online learning. It should be greater than 1.0. In the literature, this is called tau_0.\n",
    "                                   #max_iter=20,\n",
    "                                   random_state=450)\n",
    "\n",
    "lda_tf.fit(dtm_tf)"
   ]
  },
  {
   "cell_type": "code",
   "execution_count": 15,
   "metadata": {
    "button": false,
    "collapsed": false,
    "deletable": true,
    "new_sheet": false,
    "run_control": {
     "read_only": false
    },
    "scrolled": false
   },
   "outputs": [
    {
     "name": "stderr",
     "output_type": "stream",
     "text": [
      "/Users/zwehrwein/anaconda3/lib/python3.6/site-packages/pyLDAvis/_prepare.py:387: DeprecationWarning: \n",
      ".ix is deprecated. Please use\n",
      ".loc for label based indexing or\n",
      ".iloc for positional indexing\n",
      "\n",
      "See the documentation here:\n",
      "http://pandas.pydata.org/pandas-docs/stable/indexing.html#ix-indexer-is-deprecated\n",
      "  topic_term_dists = topic_term_dists.ix[topic_order]\n"
     ]
    },
    {
     "data": {
      "text/html": [
       "\n",
       "<link rel=\"stylesheet\" type=\"text/css\" href=\"https://cdn.rawgit.com/bmabey/pyLDAvis/files/ldavis.v1.0.0.css\">\n",
       "\n",
       "\n",
       "<div id=\"ldavis_el127845815601363506070482\"></div>\n",
       "<script type=\"text/javascript\">\n",
       "\n",
       "var ldavis_el127845815601363506070482_data = {\"mdsDat\": {\"Freq\": [45.03897475540673, 24.505930479377174, 13.927556399746363, 12.98460907788199, 3.5429292875877443], \"cluster\": [1, 1, 1, 1, 1], \"topics\": [1, 2, 3, 4, 5], \"x\": [0.057811588197670155, 0.0033593251404975617, -0.02584672226507329, -0.034260160755235386, -0.00106403031785905], \"y\": [-0.018758469205090517, 0.04138365765245032, 0.010055390515403089, -0.03526198623212706, 0.0025814072693641265]}, \"tinfo\": {\"Category\": [\"Default\", \"Default\", \"Default\", \"Default\", \"Default\", \"Default\", \"Default\", \"Default\", \"Default\", \"Default\", \"Default\", \"Default\", \"Default\", \"Default\", \"Default\", \"Default\", \"Default\", \"Default\", \"Default\", \"Default\", \"Default\", \"Default\", \"Default\", \"Default\", \"Default\", \"Default\", \"Default\", \"Default\", \"Default\", \"Default\", \"Topic1\", \"Topic1\", \"Topic1\", \"Topic1\", \"Topic1\", \"Topic1\", \"Topic1\", \"Topic1\", \"Topic1\", \"Topic1\", \"Topic1\", \"Topic1\", \"Topic1\", \"Topic1\", \"Topic1\", \"Topic1\", \"Topic1\", \"Topic1\", \"Topic1\", \"Topic1\", \"Topic1\", \"Topic1\", \"Topic1\", \"Topic1\", \"Topic1\", \"Topic1\", \"Topic1\", \"Topic1\", \"Topic1\", \"Topic1\", \"Topic1\", \"Topic1\", \"Topic1\", \"Topic1\", \"Topic1\", \"Topic1\", \"Topic1\", \"Topic1\", \"Topic1\", \"Topic1\", \"Topic1\", \"Topic1\", \"Topic1\", \"Topic1\", \"Topic1\", \"Topic1\", \"Topic1\", \"Topic1\", \"Topic1\", \"Topic1\", \"Topic1\", \"Topic1\", \"Topic1\", \"Topic1\", \"Topic1\", \"Topic1\", \"Topic1\", \"Topic1\", \"Topic1\", \"Topic1\", \"Topic1\", \"Topic1\", \"Topic1\", \"Topic1\", \"Topic1\", \"Topic1\", \"Topic1\", \"Topic1\", \"Topic1\", \"Topic2\", \"Topic2\", \"Topic2\", \"Topic2\", \"Topic2\", \"Topic2\", \"Topic2\", \"Topic2\", \"Topic2\", \"Topic2\", \"Topic2\", \"Topic2\", \"Topic2\", \"Topic2\", \"Topic2\", \"Topic2\", \"Topic2\", \"Topic2\", \"Topic2\", \"Topic2\", \"Topic2\", \"Topic2\", \"Topic2\", \"Topic2\", \"Topic2\", \"Topic2\", \"Topic2\", \"Topic2\", \"Topic2\", \"Topic2\", \"Topic2\", \"Topic2\", \"Topic2\", \"Topic2\", \"Topic2\", \"Topic2\", \"Topic2\", \"Topic2\", \"Topic2\", \"Topic2\", \"Topic2\", \"Topic2\", \"Topic2\", \"Topic2\", \"Topic2\", \"Topic2\", \"Topic2\", \"Topic2\", \"Topic2\", \"Topic2\", \"Topic2\", \"Topic2\", \"Topic2\", \"Topic2\", \"Topic2\", \"Topic2\", \"Topic2\", \"Topic2\", \"Topic2\", \"Topic2\", \"Topic2\", \"Topic2\", \"Topic2\", \"Topic2\", \"Topic2\", \"Topic2\", \"Topic2\", \"Topic2\", \"Topic2\", \"Topic3\", \"Topic3\", \"Topic3\", \"Topic3\", \"Topic3\", \"Topic3\", \"Topic3\", \"Topic3\", \"Topic3\", \"Topic3\", \"Topic3\", \"Topic3\", \"Topic3\", \"Topic3\", \"Topic3\", \"Topic3\", \"Topic3\", \"Topic3\", \"Topic3\", \"Topic3\", \"Topic3\", \"Topic3\", \"Topic3\", \"Topic3\", \"Topic3\", \"Topic3\", \"Topic3\", \"Topic3\", \"Topic3\", \"Topic3\", \"Topic3\", \"Topic3\", \"Topic3\", \"Topic3\", \"Topic3\", \"Topic3\", \"Topic3\", \"Topic3\", \"Topic3\", \"Topic3\", \"Topic3\", \"Topic3\", \"Topic3\", \"Topic3\", \"Topic3\", \"Topic3\", \"Topic3\", \"Topic3\", \"Topic3\", \"Topic3\", \"Topic3\", \"Topic3\", \"Topic3\", \"Topic3\", \"Topic3\", \"Topic3\", \"Topic3\", \"Topic3\", \"Topic3\", \"Topic3\", \"Topic3\", \"Topic3\", \"Topic3\", \"Topic3\", \"Topic3\", \"Topic3\", \"Topic4\", \"Topic4\", \"Topic4\", \"Topic4\", \"Topic4\", \"Topic4\", \"Topic4\", \"Topic4\", \"Topic4\", \"Topic4\", \"Topic4\", \"Topic4\", \"Topic4\", \"Topic4\", \"Topic4\", \"Topic4\", \"Topic4\", \"Topic4\", \"Topic4\", \"Topic4\", \"Topic4\", \"Topic4\", \"Topic4\", \"Topic4\", \"Topic4\", \"Topic4\", \"Topic4\", \"Topic4\", \"Topic4\", \"Topic4\", \"Topic4\", \"Topic4\", \"Topic4\", \"Topic4\", \"Topic4\", \"Topic4\", \"Topic4\", \"Topic4\", \"Topic4\", \"Topic4\", \"Topic4\", \"Topic4\", \"Topic4\", \"Topic4\", \"Topic4\", \"Topic4\", \"Topic4\", \"Topic4\", \"Topic4\", \"Topic4\", \"Topic4\", \"Topic4\", \"Topic4\", \"Topic4\", \"Topic4\", \"Topic4\", \"Topic4\", \"Topic4\", \"Topic4\", \"Topic4\", \"Topic4\", \"Topic4\", \"Topic4\", \"Topic5\", \"Topic5\", \"Topic5\", \"Topic5\", \"Topic5\", \"Topic5\", \"Topic5\", \"Topic5\", \"Topic5\", \"Topic5\", \"Topic5\", \"Topic5\", \"Topic5\", \"Topic5\", \"Topic5\", \"Topic5\", \"Topic5\", \"Topic5\", \"Topic5\", \"Topic5\", \"Topic5\", \"Topic5\", \"Topic5\", \"Topic5\", \"Topic5\", \"Topic5\", \"Topic5\", \"Topic5\", \"Topic5\", \"Topic5\", \"Topic5\", \"Topic5\", \"Topic5\", \"Topic5\", \"Topic5\", \"Topic5\", \"Topic5\", \"Topic5\", \"Topic5\", \"Topic5\", \"Topic5\", \"Topic5\", \"Topic5\", \"Topic5\", \"Topic5\", \"Topic5\", \"Topic5\", \"Topic5\", \"Topic5\", \"Topic5\", \"Topic5\", \"Topic5\", \"Topic5\"], \"Freq\": [1229.0, 839.0, 605.0, 956.0, 1871.0, 1676.0, 557.0, 1548.0, 1300.0, 1445.0, 1300.0, 1255.0, 1094.0, 1309.0, 592.0, 1530.0, 361.0, 878.0, 435.0, 1004.0, 191.0, 460.0, 919.0, 947.0, 526.0, 1237.0, 1438.0, 869.0, 1478.0, 1180.0, 933.2377213835414, 199.36618020966745, 189.22347717976308, 325.783334504811, 105.46235015390579, 434.58599058397505, 301.54966227817, 1172.9966069491848, 392.64896708414255, 81.78840014170561, 104.05943194229596, 71.22894164246541, 107.13091660384178, 149.33524511163185, 275.6648295461901, 99.14160512223232, 158.8654311151455, 111.4300733189726, 211.72922654662574, 70.07800978196349, 73.19848027396083, 50.97819333095842, 126.75934493086663, 288.82201877221513, 47.49300751238564, 96.75925709412095, 346.33178222811375, 113.69274954038066, 683.2841472708817, 98.25469504300503, 546.9019029352268, 257.51706517249414, 189.04657698466565, 171.44155758338533, 167.67735613998448, 405.3252574742719, 590.6323004134329, 290.6360371242335, 440.2176506681191, 543.6400048943857, 596.2688663347399, 386.70125445378005, 512.7697819352468, 598.656033596507, 366.19146338530226, 597.1403099139812, 664.0402982901446, 475.9543917635021, 257.97966286520057, 1036.6732177023732, 418.39613650095237, 1184.1355681254968, 843.5212922220919, 827.7559364780458, 764.4996037149717, 670.9447295566628, 462.5218586183507, 840.6604409778074, 618.5351982077867, 475.93333530956033, 482.98260871949935, 476.1526994436846, 674.234675461095, 509.12418425728674, 566.0818908577252, 568.7407597129305, 539.0328290467617, 464.34775173066794, 473.19093280436243, 155.1079294135889, 97.77598770197899, 97.6809229529488, 138.79393168580242, 151.20470169691035, 64.6679283574352, 226.27537486462134, 698.3343362615713, 77.59149200360764, 161.15635336327455, 80.92854542519557, 112.03032328701352, 270.3031518992185, 299.28804955053056, 52.56096147172697, 37.84449840190862, 57.79716939913448, 58.565503008407035, 117.27659633939312, 116.30044807295828, 223.24190313391424, 57.53595275615698, 48.70576725376739, 80.87473344872618, 78.85064914510487, 34.97462121079492, 57.211868726270836, 61.96796720537056, 208.32569666115376, 147.07040594479014, 364.1573961552361, 197.03846563937583, 352.74645667114225, 446.3871762012964, 111.1325388472438, 636.4266285088266, 373.34710759651347, 463.91213123836985, 765.471505578809, 213.73543314805303, 481.2905231465543, 283.22142610899874, 663.8616817254, 654.3617467596484, 411.7849033449186, 285.15534442680513, 273.85720349382547, 370.70964893083703, 293.9733621490711, 273.42961808590616, 452.3059310070849, 408.28251509642377, 439.5267980130492, 404.1962326541157, 404.8758649796222, 334.2120045007952, 298.6108827703179, 446.28991868302137, 349.43408485861266, 383.715412301882, 404.36014895924825, 357.5049675738524, 335.29886570070516, 330.89628540412673, 316.9055261228347, 300.0253125764599, 310.6157573215001, 301.29097523600115, 300.17930910456835, 60.52421844784623, 98.48033823588736, 34.5356281007265, 152.23088147746967, 568.8974487724163, 148.02637918506593, 62.99598851940331, 45.53634977477342, 43.97759437451761, 20.57064732001071, 422.6512893035125, 235.8680917219173, 24.43565690211001, 25.562619125650922, 52.236355685058264, 97.96711289420409, 82.68337968317975, 33.434676158705805, 78.52911221334594, 56.966120348478654, 261.1051011312771, 77.69235106887419, 16.44130926051593, 17.883234165424025, 24.014003304407773, 21.108725540224267, 40.885289538884955, 52.18136902847804, 80.11476579221983, 24.57259556890128, 291.13623952880613, 83.69761917482154, 80.66080800533453, 224.49145986380853, 90.5599346463416, 470.6072417735129, 219.54327572170735, 204.33664764539446, 149.88568167595741, 250.2069032259562, 302.4315420355244, 152.44738843685016, 130.18110576261273, 172.03563389031711, 183.22028786865266, 260.1809173621404, 308.0088970849222, 353.7086415656535, 303.97218007857595, 213.10390736050448, 252.8723630377494, 309.6875302270273, 248.821885683838, 200.55745362497842, 172.69044763913942, 243.03585432045094, 164.8081493898484, 217.3271748360687, 209.01286855337005, 231.49682369156426, 200.36456174946116, 182.38915768289112, 213.97774868827238, 189.97241413360297, 184.73752204618938, 188.42153356460355, 158.66850541409127, 301.36577540831064, 255.400403298714, 89.96224309210565, 182.14608991328723, 86.59351060412845, 92.11254068917057, 256.68091116120945, 80.90892198479574, 63.05937096993157, 45.01011445040411, 45.29967713847006, 41.692647975273275, 29.54400496771596, 64.0681657701767, 47.55151882698939, 121.81166614051395, 195.80841314278237, 128.79249300556594, 109.4421386698111, 26.179610434498485, 30.528793048515112, 29.679175792578867, 144.18148662904176, 27.804613740888975, 44.121764869818335, 31.432951024844087, 153.80124356477305, 40.06232409668097, 32.856452474402246, 118.2137177738553, 269.37222995466794, 449.8124600045705, 149.86255113572724, 117.96168144020054, 469.87199878149, 98.82315049461347, 391.34851166187764, 116.86429095173271, 266.8166666850294, 325.22473131067574, 205.85787099851856, 178.82523754980886, 289.682096251181, 124.18988035316481, 326.8486699933743, 176.29038755560356, 200.61612928548507, 157.62483473549923, 159.36109971584258, 248.12480815963406, 152.81805532843032, 205.10146196673332, 227.7814038256797, 207.7273439748958, 230.37717776158252, 196.88170900074567, 204.5768071686117, 181.92133963817724, 159.8528774603133, 170.65766088159046, 160.69897797479496, 159.87364538397344, 96.03203277775648, 60.96918026464575, 57.09814826906417, 51.97434239356081, 32.391647980246425, 46.42093315487028, 61.02512045698017, 88.147319317093, 26.776910739667716, 136.1444152188223, 23.493920305346705, 119.59097969948752, 13.200117235281144, 29.38318533166421, 16.438954491431115, 34.672559929166724, 28.92336216156533, 29.86520668314438, 9.360624667362849, 38.43556144710592, 22.11961235418401, 17.439043316382865, 11.304144238659418, 24.001127277549152, 5.743836405780357, 38.05289355299905, 9.876914338536373, 7.2692406337867626, 117.38865454104736, 40.51136781674786, 24.044783476474286, 57.09133240294314, 111.36768425988465, 70.64299863632044, 41.35156615813829, 53.352964368524674, 90.24571934365359, 49.815281081304995, 86.59909734934426, 90.79392829455116, 74.28824941375812, 55.99524275619095, 65.23523783949256, 43.834840171092985, 54.21571133888376, 55.47210786676069, 51.268483525453576, 46.810895853237376, 51.92612206220865, 45.838395897762545, 48.82565935710443, 47.19746778785647, 47.12017827382], \"Term\": [\"army\", \"royal\", \"prince\", \"000\", \"ought\", \"gentleman\", \"civil\", \"man\", \"motion\", \"right\", \"public\", \"country\", \"publick\", \"trade\", \"revenue\", \"reason\", \"list\", \"number\", \"cent\", \"spain\", \"wales\", \"troops\", \"granted\", \"honourable\", \"reign\", \"general\", \"address\", \"sum\", \"question\", \"years\", \"lordships\", \"writ\", \"doth\", \"action\", \"writs\", \"conference\", \"popery\", \"hath\", \"popish\", \"allegiance\", \"spiritual\", \"irish\", \"judicature\", \"error\", \"papists\", \"elected\", \"protestants\", \"unto\", \"concerning\", \"papist\", \"judgments\", \"nemine\", \"illegal\", \"ireland\", \"prosecuting\", \"jurisdiction\", \"humbly\", \"majesties\", \"religion\", \"record\", \"protestant\", \"trial\", \"secretary\", \"entitled\", \"serjeant\", \"peers\", \"duke\", \"succession\", \"church\", \"queen\", \"commissioners\", \"pounds\", \"earl\", \"matter\", \"judgment\", \"speaker\", \"resolved\", \"appointed\", \"amendments\", \"law\", \"thousand\", \"committee\", \"right\", \"address\", \"public\", \"laws\", \"ordered\", \"case\", \"read\", \"john\", \"royal\", \"pleased\", \"war\", \"account\", \"thing\", \"reason\", \"question\", \"agreed\", \"say\", \"engagements\", \"shippen\", \"injuries\", \"ministry\", \"mov\", \"jekyll\", \"british\", \"spain\", \"reparation\", \"spanish\", \"seas\", \"pulteney\", \"walpole\", \"papers\", \"negotiation\", \"repose\", \"yonge\", \"demands\", \"seconded\", \"situation\", \"treaties\", \"oppos\", \"pelham\", \"betwixt\", \"resentment\", \"interested\", \"losses\", \"juncture\", \"conduct\", \"nations\", \"measures\", \"powers\", \"ministers\", \"treaty\", \"tranquility\", \"motion\", \"europe\", \"honourable\", \"gentleman\", \"merchants\", \"publick\", \"britain\", \"war\", \"ought\", \"proper\", \"rights\", \"satisfaction\", \"manner\", \"spoke\", \"regard\", \"address\", \"general\", \"question\", \"opinion\", \"say\", \"believe\", \"member\", \"committee\", \"know\", \"reason\", \"case\", \"trade\", \"thing\", \"country\", \"years\", \"resolution\", \"right\", \"laid\", \"court\", \"augmentation\", \"frauds\", \"running\", \"scheme\", \"army\", \"standing\", \"armies\", \"estimates\", \"views\", \"germany\", \"publick\", \"expence\", \"italy\", \"ambitious\", \"landed\", \"keeping\", \"reduction\", \"sandys\", \"proposition\", \"numerous\", \"proposed\", \"engaged\", \"walter\", \"fraud\", \"inquire\", \"saved\", \"estimate\", \"balance\", \"regular\", \"turned\", \"number\", \"really\", \"officer\", \"officers\", \"small\", \"gentleman\", \"constitution\", \"spoke\", \"certainly\", \"honourable\", \"country\", \"obliged\", \"troops\", \"danger\", \"europe\", \"know\", \"reason\", \"ought\", \"man\", \"believe\", \"motion\", \"war\", \"say\", \"laid\", \"petition\", \"question\", \"little\", \"thing\", \"general\", \"case\", \"opinion\", \"000\", \"committee\", \"years\", \"proper\", \"trade\", \"salt\", \"cent\", \"tax\", \"annuities\", \"price\", \"sell\", \"capital\", \"taxes\", \"landtax\", \"shilling\", \"higher\", \"securities\", \"compassion\", \"reckon\", \"sale\", \"improvement\", \"funds\", \"produce\", \"stock\", \"rate\", \"gross\", \"profits\", \"sustain\", \"fund\", \"undone\", \"grievous\", \"wages\", \"yearly\", \"rich\", \"quantity\", \"excise\", \"duties\", \"trade\", \"payment\", \"increase\", \"man\", \"poor\", \"public\", \"loss\", \"000\", \"country\", \"pay\", \"method\", \"years\", \"list\", \"ought\", \"paid\", \"sum\", \"civil\", \"revenue\", \"gentleman\", \"advantage\", \"general\", \"case\", \"question\", \"committee\", \"opinion\", \"reason\", \"say\", \"means\", \"law\", \"thing\", \"know\", \"wales\", \"highness\", \"son\", \"father\", \"independent\", \"settlement\", \"regular\", \"list\", \"apparent\", \"prince\", \"maxim\", \"civil\", \"50\", \"supporting\", \"allowance\", \"dignity\", \"100\", \"militia\", \"policy\", \"provision\", \"children\", \"princess\", \"equity\", \"military\", \"regarded\", \"settled\", \"capacity\", \"pleases\", \"royal\", \"family\", \"soldiers\", \"troops\", \"000\", \"revenue\", \"established\", \"reign\", \"army\", \"sufficient\", \"right\", \"ought\", \"motion\", \"granted\", \"reason\", \"respect\", \"country\", \"man\", \"address\", \"number\", \"gentleman\", \"sum\", \"question\", \"general\", \"case\"], \"Total\": [1229.0, 839.0, 605.0, 956.0, 1871.0, 1676.0, 557.0, 1548.0, 1300.0, 1445.0, 1300.0, 1255.0, 1094.0, 1309.0, 592.0, 1530.0, 361.0, 878.0, 435.0, 1004.0, 191.0, 460.0, 919.0, 947.0, 526.0, 1237.0, 1438.0, 869.0, 1478.0, 1180.0, 993.1186375156515, 218.22731264682565, 210.64630036454213, 365.2591101505923, 118.82738665881257, 492.5027916654217, 342.1108840117149, 1339.6892168085828, 449.16288236353427, 94.3768990777252, 120.40587254515654, 82.79229997432955, 125.18882108140089, 174.63512103111537, 323.0835009925424, 117.97759880888138, 189.26133753347128, 133.08823702921302, 252.88337495536229, 83.74351707913887, 87.57566966369528, 61.24080039887964, 152.83374825342224, 349.2793596721476, 57.43789987911703, 117.21718772683549, 420.7302358752073, 138.2883789017707, 832.2247629846198, 119.82383061698258, 669.9823138134658, 314.7891985766139, 231.0941289845207, 209.955036109451, 205.34099466687945, 510.0177553028924, 758.8187363328874, 363.29028418281985, 560.1459435388787, 701.4863379987772, 776.794990797394, 493.6335910050681, 668.267366496506, 818.6397739383124, 479.65093280422826, 824.2268435447469, 935.207005249424, 661.7697717273325, 329.18191882260896, 1650.6850726789303, 576.9827095196063, 2108.500173187694, 1445.3799828688743, 1438.4306428417667, 1300.2908136479305, 1114.3621622669566, 685.7481631949106, 1751.4189957281199, 1122.9346999372208, 776.0621310347738, 839.3675567556155, 820.6776457641007, 1779.8523603216481, 974.7473346239296, 1313.3421097976125, 1530.2771141078388, 1478.148484712262, 888.7437039086407, 1349.4502005074069, 193.62187266585855, 129.27364126525913, 130.20975315371007, 189.2582004868067, 211.69692644909887, 91.87362997254496, 321.82675382653906, 1004.8102571065797, 111.88308353279349, 237.17146917530263, 119.64083787155325, 165.67791575385039, 414.4344162165378, 460.20943164983083, 80.8609916045198, 58.44728843985352, 91.24553263544763, 93.09589871892508, 188.9946465337376, 187.51785810393352, 360.00556870461094, 92.99079027084066, 78.97941509076624, 131.9522440831793, 129.58248608961705, 57.477362372378124, 94.9878907248554, 103.04650838260379, 348.40039215666707, 246.13609045824006, 612.5972803590253, 332.8795398934594, 620.0445690349441, 845.0196263741486, 189.97498856335014, 1300.55817671347, 738.2994548177555, 947.1146469643934, 1676.7294847186527, 399.9172251591258, 1094.7859729634874, 608.3676901638432, 1779.8523603216481, 1871.1501478436094, 1031.5532685819064, 635.0797930497555, 603.4448926443798, 975.4952773579664, 706.5526738844811, 637.7458495189148, 1438.4306428417667, 1237.4278044139755, 1478.148484712262, 1280.265057333785, 1349.4502005074069, 969.3770229370276, 816.6621384852003, 2108.500173187694, 1206.615707046588, 1530.2771141078388, 1751.4189957281199, 1309.3427406851392, 1313.3421097976125, 1255.5672606229919, 1180.8818965848527, 845.9713003847634, 1445.3799828688743, 977.5659346466816, 895.4766085354653, 115.48854034063291, 200.98225508853696, 73.34349035379138, 328.34947508216726, 1229.9137279569818, 328.21876544317274, 145.78836213966323, 108.31017982929629, 112.58885940544585, 52.73887559358139, 1094.7859729634874, 615.7332628735898, 64.05544651558732, 67.07990982410467, 137.62981516909701, 259.68314393930893, 220.74205030591563, 89.3007248030061, 211.77790276668856, 155.21598015990455, 721.6295863084736, 215.15776605436835, 46.19110820819503, 50.26646609252768, 68.03988122042448, 61.06694089970213, 119.33677675865754, 153.04005483068707, 236.1843654835695, 72.5248857203867, 878.6373806993007, 250.91135062388918, 243.51201143118527, 725.8748655774091, 278.38826025791843, 1676.7294847186527, 754.798456184325, 706.5526738844811, 519.0747501310108, 947.1146469643934, 1255.5672606229919, 555.857190638296, 460.2561969217512, 664.6599516536493, 738.2994548177555, 1206.615707046588, 1530.2771141078388, 1871.1501478436094, 1548.2607934922564, 969.3770229370276, 1300.55817671347, 1779.8523603216481, 1349.4502005074069, 977.5659346466816, 762.9174494314294, 1478.148484712262, 736.7046115476538, 1313.3421097976125, 1237.4278044139755, 1751.4189957281199, 1280.265057333785, 956.3674203553467, 2108.500173187694, 1180.8818965848527, 1031.5532685819064, 1309.3427406851392, 214.0518307135012, 435.2631679811543, 409.6528426724502, 144.6013739897116, 296.59483244281813, 147.76127039346883, 161.15991459161972, 455.44982120651423, 143.88826113103315, 114.04068121224769, 81.78420829315927, 83.78282731047645, 77.61544529127654, 55.93064062069862, 123.46937252987571, 93.5535288705798, 241.17768422127756, 391.21109660153326, 263.532399004477, 225.38324771934242, 54.75195769234598, 65.0179016770147, 63.26972279687217, 311.13254445856, 60.36122064156017, 96.60532262839651, 68.87262959536548, 343.1485695683411, 90.33203580547651, 74.3800062588075, 280.8125466467089, 676.8533651979034, 1309.3427406851392, 386.2170104313038, 302.65191869993697, 1548.2607934922564, 253.87121527465249, 1300.2908136479305, 318.2644661109979, 956.3674203553467, 1255.5672606229919, 699.7917180044402, 577.2858487360722, 1180.8818965848527, 361.7128122365092, 1871.1501478436094, 668.6964270390738, 869.8142385172579, 557.9350198621863, 592.1512119168519, 1676.7294847186527, 544.9914386909377, 1237.4278044139755, 1751.4189957281199, 1478.148484712262, 2108.500173187694, 1280.265057333785, 1530.2771141078388, 1349.4502005074069, 747.4299522141763, 1650.6850726789303, 1313.3421097976125, 1206.615707046588, 191.1787969012418, 161.04135379238642, 153.27734858094752, 158.17284561906962, 101.20727249088046, 148.12731856277438, 236.1843654835695, 361.7128122365092, 115.44083697709, 605.744399019067, 107.63442776559148, 557.9350198621863, 64.48679681811723, 146.94919401170856, 83.45056042105823, 176.5958016816793, 149.554682643328, 164.11026914863123, 53.97180943260664, 230.1092084488532, 137.17612115525608, 108.63711730276573, 71.19375660973964, 158.32869761921646, 38.746639531978936, 260.6389558016091, 68.65541722276436, 51.5505552345951, 839.3675567556155, 291.6181070578395, 181.676235898462, 460.2561969217512, 956.3674203553467, 592.1512119168519, 349.61277946197936, 526.1315580458737, 1229.9137279569818, 572.2758878670835, 1445.3799828688743, 1871.1501478436094, 1300.55817671347, 919.2311704455734, 1530.2771141078388, 600.3533820375612, 1255.5672606229919, 1548.2607934922564, 1438.4306428417667, 878.6373806993007, 1676.7294847186527, 869.8142385172579, 1478.148484712262, 1237.4278044139755, 1751.4189957281199], \"loglift\": [30.0, 29.0, 28.0, 27.0, 26.0, 25.0, 24.0, 23.0, 22.0, 21.0, 20.0, 19.0, 18.0, 17.0, 16.0, 15.0, 14.0, 13.0, 12.0, 11.0, 10.0, 9.0, 8.0, 7.0, 6.0, 5.0, 4.0, 3.0, 2.0, 1.0, 0.7355, 0.7072, 0.6904, 0.6833, 0.6783, 0.6725, 0.6714, 0.6648, 0.6632, 0.6545, 0.6517, 0.6472, 0.6419, 0.6411, 0.6389, 0.6237, 0.6226, 0.62, 0.62, 0.6195, 0.6183, 0.6142, 0.6106, 0.6076, 0.6075, 0.6058, 0.603, 0.6018, 0.6005, 0.5992, 0.5947, 0.5968, 0.5968, 0.595, 0.595, 0.5679, 0.5471, 0.5745, 0.5567, 0.5427, 0.5332, 0.5535, 0.5328, 0.4847, 0.5277, 0.4753, 0.4552, 0.468, 0.5539, 0.3325, 0.4763, 0.2207, 0.2591, 0.2451, 0.2665, 0.2903, 0.4038, 0.0636, 0.2013, 0.3087, 0.245, 0.2533, -0.1731, 0.1482, -0.0439, -0.1921, -0.2111, 0.1485, -0.2503, 1.1845, 1.127, 1.1188, 1.0961, 1.0697, 1.0551, 1.054, 1.0424, 1.0403, 1.0198, 1.0153, 1.015, 0.9789, 0.976, 0.9755, 0.9716, 0.9496, 0.9428, 0.9291, 0.9286, 0.9284, 0.9262, 0.9229, 0.9167, 0.9095, 0.9095, 0.8993, 0.8977, 0.892, 0.8913, 0.8861, 0.8819, 0.8422, 0.7681, 0.8701, 0.6916, 0.7244, 0.6925, 0.6221, 0.7797, 0.5844, 0.6417, 0.42, 0.3556, 0.4879, 0.6055, 0.6162, 0.4387, 0.5293, 0.5594, 0.2493, 0.2974, 0.1934, 0.2533, 0.2024, 0.3414, 0.4002, -0.1465, 0.167, 0.023, -0.0596, 0.1081, 0.0409, 0.0727, 0.0908, 0.3696, -0.1313, 0.2293, 0.3133, 1.3252, 1.2579, 1.2181, 1.2026, 1.2003, 1.175, 1.1322, 1.1048, 1.0312, 1.0298, 1.0195, 1.0118, 1.0076, 1.0065, 1.0025, 0.9965, 0.9893, 0.9889, 0.9792, 0.9689, 0.9547, 0.9527, 0.9383, 0.9378, 0.9298, 0.909, 0.9001, 0.8953, 0.8901, 0.889, 0.8667, 0.8734, 0.8664, 0.7978, 0.8483, 0.7007, 0.7364, 0.7307, 0.7291, 0.6402, 0.5478, 0.6776, 0.7084, 0.6197, 0.5776, 0.4371, 0.3682, 0.3055, 0.3433, 0.4564, 0.3336, 0.2226, 0.2806, 0.3873, 0.4857, 0.166, 0.4739, 0.1724, 0.1929, -0.0523, 0.1166, 0.3143, -0.3166, 0.1442, 0.2514, 0.0327, 1.742, 1.6738, 1.5689, 1.5668, 1.5538, 1.507, 1.482, 1.468, 1.4657, 1.4489, 1.4442, 1.4265, 1.42, 1.4032, 1.3854, 1.3647, 1.3583, 1.3493, 1.3254, 1.319, 1.3036, 1.2854, 1.2844, 1.2723, 1.2663, 1.2577, 1.257, 1.2389, 1.2283, 1.2244, 1.1762, 1.12, 0.973, 1.0947, 1.0992, 0.849, 1.0979, 0.8407, 1.0395, 0.7648, 0.6906, 0.8178, 0.8695, 0.6362, 0.9724, 0.2966, 0.7082, 0.5745, 0.7774, 0.7288, 0.1307, 0.7699, 0.2441, 0.0016, 0.0791, -0.1726, 0.1692, 0.0291, 0.0375, 0.499, -0.2279, -0.0594, 0.0202, 2.6517, 2.3689, 2.3527, 2.2273, 2.2009, 2.1799, 1.9869, 1.9284, 1.879, 1.8475, 1.8182, 1.8001, 1.754, 1.7306, 1.7156, 1.7123, 1.6972, 1.6364, 1.5883, 1.5506, 1.5154, 1.5109, 1.5, 1.4536, 1.4313, 1.4161, 1.4013, 1.3813, 1.3731, 1.3664, 1.3179, 1.2531, 1.1899, 1.2141, 1.2055, 1.0516, 0.7281, 0.8989, 0.5254, 0.3145, 0.4776, 0.5419, 0.185, 0.7231, 0.1978, 0.0112, 0.006, 0.408, -0.1346, 0.3971, -0.0701, 0.0738, -0.2753], \"logprob\": [30.0, 29.0, 28.0, 27.0, 26.0, 25.0, 24.0, 23.0, 22.0, 21.0, 20.0, 19.0, 18.0, 17.0, 16.0, 15.0, 14.0, 13.0, 12.0, 11.0, 10.0, 9.0, 8.0, 7.0, 6.0, 5.0, 4.0, 3.0, 2.0, 1.0, -5.3082, -6.8517, -6.9039, -6.3606, -7.4885, -6.0725, -6.4379, -5.0795, -6.174, -7.7427, -7.5019, -7.881, -7.4728, -7.1407, -6.5277, -7.5503, -7.0788, -7.4335, -6.7916, -7.8973, -7.8537, -8.2155, -7.3046, -6.4811, -8.2863, -7.5746, -6.2995, -7.4134, -5.62, -7.5593, -5.8426, -6.5958, -6.9049, -7.0026, -7.0248, -6.1422, -5.7657, -6.4748, -6.0596, -5.8486, -5.7562, -6.1892, -5.907, -5.7522, -6.2437, -5.7547, -5.6485, -5.9815, -6.594, -5.2031, -6.1104, -5.0701, -5.4093, -5.4281, -5.5076, -5.6382, -6.0102, -5.4127, -5.7195, -5.9816, -5.9669, -5.9811, -5.6333, -5.9142, -5.8081, -5.8034, -5.8571, -6.0062, -5.9874, -6.4941, -6.9556, -6.9565, -6.6053, -6.5196, -7.369, -6.1165, -4.9896, -7.1868, -6.4559, -7.1447, -6.8195, -5.9387, -5.8368, -7.5763, -7.9048, -7.4813, -7.4681, -6.7737, -6.7821, -6.13, -7.4858, -7.6525, -7.1454, -7.1707, -7.9836, -7.4915, -7.4116, -6.1992, -6.5473, -5.6407, -6.2549, -5.6725, -5.4371, -6.8275, -5.0824, -5.6157, -5.3986, -4.8978, -6.1735, -5.3618, -5.892, -5.0402, -5.0546, -5.5178, -5.8852, -5.9256, -5.6228, -5.8548, -5.9272, -5.4239, -5.5263, -5.4526, -5.5364, -5.5347, -5.7265, -5.8391, -5.4373, -5.6819, -5.5884, -5.5359, -5.6591, -5.7232, -5.7364, -5.7796, -5.8344, -5.7997, -5.8302, -5.8339, -6.8702, -6.3834, -7.4312, -5.9478, -4.6295, -5.9758, -6.8301, -7.1547, -7.1895, -7.9493, -4.9267, -5.5099, -7.7772, -7.7321, -7.0174, -6.3886, -6.5582, -7.4636, -6.6097, -6.9308, -5.4083, -6.6205, -8.1734, -8.0893, -7.7946, -7.9235, -7.2624, -7.0185, -6.5897, -7.7716, -5.2994, -6.546, -6.583, -5.5594, -6.4672, -4.8192, -5.5817, -5.6534, -5.9633, -5.4509, -5.2614, -5.9464, -6.1043, -5.8255, -5.7625, -5.4118, -5.2431, -5.1047, -5.2563, -5.6114, -5.4403, -5.2376, -5.4565, -5.6721, -5.8217, -5.48, -5.8684, -5.5918, -5.6308, -5.5286, -5.6731, -5.7671, -5.6073, -5.7263, -5.7543, -5.7345, -5.8363, -5.1948, -5.3603, -6.4037, -5.6983, -6.4419, -6.3801, -5.3553, -6.5098, -6.759, -7.0962, -7.0898, -7.1728, -7.5172, -6.7432, -7.0413, -6.1006, -5.626, -6.0449, -6.2077, -7.6381, -7.4844, -7.5127, -5.932, -7.5779, -7.1161, -7.4552, -5.8674, -7.2127, -7.411, -6.1306, -5.307, -4.7943, -5.8934, -6.1327, -4.7506, -6.3098, -4.9335, -6.1421, -5.3165, -5.1186, -5.5759, -5.7167, -5.2343, -6.0813, -5.1136, -5.731, -5.6017, -5.8429, -5.8319, -5.3892, -5.8739, -5.5796, -5.4747, -5.5669, -5.4634, -5.6205, -5.5822, -5.6995, -5.8288, -5.7634, -5.8236, -5.8287, -5.0396, -5.4939, -5.5595, -5.6535, -6.1264, -5.7665, -5.493, -5.1253, -6.3168, -4.6906, -6.4476, -4.8202, -7.0241, -6.2239, -6.8046, -6.0583, -6.2396, -6.2076, -7.3678, -5.9553, -6.5078, -6.7456, -7.1791, -6.4262, -7.8562, -5.9653, -7.3141, -7.6206, -4.8388, -5.9027, -6.4244, -5.5596, -4.8915, -5.3467, -5.8822, -5.6274, -5.1018, -5.696, -5.143, -5.0957, -5.2963, -5.579, -5.4263, -5.8239, -5.6113, -5.5884, -5.6672, -5.7582, -5.6545, -5.7792, -5.716, -5.75, -5.7516]}, \"token.table\": {\"Topic\": [1, 2, 3, 4, 5, 1, 2, 3, 4, 5, 1, 2, 3, 4, 5, 1, 2, 3, 4, 5, 1, 2, 3, 4, 5, 1, 2, 3, 4, 5, 1, 2, 3, 4, 5, 1, 2, 3, 4, 5, 1, 2, 3, 4, 5, 1, 2, 3, 4, 5, 1, 2, 3, 4, 5, 1, 2, 3, 4, 5, 1, 2, 3, 4, 5, 1, 2, 3, 4, 5, 1, 2, 3, 4, 5, 1, 2, 3, 4, 5, 1, 2, 3, 4, 5, 1, 2, 3, 4, 5, 1, 2, 3, 4, 5, 1, 2, 3, 4, 5, 1, 2, 3, 4, 5, 1, 2, 3, 4, 5, 1, 2, 3, 4, 5, 1, 2, 3, 4, 5, 1, 2, 3, 4, 5, 1, 2, 3, 4, 5, 1, 2, 3, 4, 5, 1, 2, 3, 4, 5, 1, 2, 3, 4, 5, 1, 2, 3, 4, 5, 1, 2, 3, 4, 5, 1, 2, 3, 4, 5, 1, 2, 3, 4, 5, 1, 2, 3, 4, 5, 1, 2, 3, 4, 5, 1, 2, 3, 4, 5, 1, 2, 3, 4, 5, 1, 2, 3, 4, 5, 1, 2, 3, 4, 5, 1, 2, 3, 4, 5, 1, 2, 3, 4, 5, 1, 2, 3, 4, 5, 1, 2, 3, 4, 5, 1, 2, 3, 4, 5, 1, 2, 3, 4, 5, 1, 2, 3, 4, 5, 1, 2, 3, 4, 5, 1, 2, 3, 4, 5, 1, 2, 3, 4, 5, 1, 2, 3, 4, 5, 1, 2, 3, 4, 5, 1, 2, 3, 4, 5, 1, 2, 3, 4, 5, 1, 2, 3, 4, 5, 1, 2, 3, 4, 5, 1, 2, 3, 4, 5, 1, 2, 3, 4, 5, 1, 2, 3, 4, 5, 1, 2, 3, 4, 5, 1, 2, 3, 4, 5, 1, 2, 3, 4, 5, 1, 2, 3, 4, 5, 1, 2, 3, 4, 5, 1, 2, 3, 4, 5, 1, 2, 3, 4, 5, 1, 2, 3, 4, 5, 1, 2, 3, 4, 5, 1, 2, 3, 4, 5, 1, 2, 3, 4, 5, 1, 2, 3, 4, 5, 1, 2, 3, 4, 5, 1, 2, 3, 4, 5, 1, 2, 3, 4, 5, 1, 2, 3, 4, 5, 1, 2, 3, 4, 5, 1, 2, 3, 4, 5, 1, 2, 3, 4, 5, 1, 2, 3, 4, 5, 1, 2, 3, 4, 5, 1, 2, 3, 4, 5, 1, 2, 3, 4, 5, 1, 2, 3, 4, 5, 1, 2, 3, 4, 5, 1, 2, 3, 4, 5, 1, 2, 3, 4, 5, 1, 2, 3, 4, 5, 1, 2, 3, 4, 5, 1, 2, 3, 4, 5, 1, 2, 3, 4, 5, 1, 2, 3, 4, 5, 1, 2, 3, 4, 5, 1, 2, 3, 4, 5, 1, 2, 3, 4, 5, 1, 2, 3, 4, 5, 1, 2, 3, 4, 5, 1, 2, 3, 4, 5, 1, 2, 3, 4, 5, 1, 2, 3, 4, 5, 1, 2, 3, 4, 5, 1, 2, 3, 4, 5, 1, 2, 3, 4, 5, 1, 2, 3, 4, 5, 1, 2, 3, 4, 5, 1, 2, 3, 4, 5, 1, 2, 3, 4, 5, 1, 2, 3, 4, 5, 1, 2, 3, 4, 5, 1, 2, 3, 4, 5, 1, 2, 3, 4, 5, 1, 2, 3, 4, 5, 1, 2, 3, 4, 5, 1, 2, 3, 4, 5, 1, 2, 3, 4, 5, 1, 2, 3, 4, 5, 1, 2, 3, 4, 5, 1, 2, 3, 4, 5, 1, 2, 3, 4, 5, 1, 2, 3, 4, 5, 1, 2, 3, 4, 5, 1, 2, 3, 4, 5, 1, 2, 3, 4, 5, 1, 2, 3, 4, 5, 1, 2, 3, 4, 5, 1, 2, 3, 4, 5, 1, 2, 3, 4, 5, 1, 2, 3, 4, 5, 1, 2, 3, 4, 5, 1, 2, 3, 4, 5, 1, 2, 3, 4, 5, 1, 2, 3, 4, 5, 1, 2, 3, 4, 5, 1, 2, 3, 4, 5, 1, 2, 3, 4, 5, 1, 2, 3, 4, 5, 1, 2, 3, 4, 5, 1, 2, 3, 4, 5, 1, 2, 3, 4, 5, 1, 2, 3, 4, 5, 1, 2, 3, 4, 5, 1, 2, 3, 4, 5, 1, 2, 3, 4, 5, 1, 2, 3, 4, 5, 1, 2, 3, 4, 5, 1, 2, 3, 4, 5, 1, 2, 3, 4, 5, 1, 2, 3, 4, 5, 1, 2, 3, 4, 5, 1, 2, 3, 4, 5, 1, 2, 3, 4, 5, 1, 2, 3, 4, 5, 1, 2, 3, 4, 5, 1, 2, 3, 4, 5, 1, 2, 3, 4, 5, 1, 2, 3, 4, 5, 1, 2, 3, 4, 5, 1, 2, 3, 4, 5, 1, 2, 3, 4, 5, 1, 2, 3, 4, 5, 1, 2, 3, 4, 5, 1, 2, 3, 4, 5, 1, 2, 3, 4, 5, 1, 2, 3, 4, 5, 1, 2, 3, 4, 5, 1, 2, 3, 4, 5, 1, 2, 3, 4, 5, 1, 2, 3, 4, 5, 1, 2, 3, 4, 5, 1, 2, 3, 4, 5, 1, 2, 3, 4, 5, 1, 2, 3, 4, 5, 1, 2, 3, 4, 5, 1, 2, 3, 4, 5, 1, 2, 3, 4, 5, 1, 2, 3, 4, 5, 1, 2, 3, 4, 5, 1, 2, 3, 4, 5, 1, 2, 3, 4, 5, 1, 2, 3, 4, 5, 1, 2, 3, 4, 5, 1, 2, 3, 4, 5, 1, 2, 3, 4, 5, 1, 2, 3, 4, 5, 1, 2, 3, 4, 5, 1, 2, 3, 4, 5, 1, 2, 3, 4, 5, 1, 2, 3, 4, 5, 1, 2, 3, 4, 5, 1, 2, 3, 4, 5, 1, 2, 3, 4, 5, 1, 2, 3, 4, 5, 1, 2, 3, 4, 5, 1, 2, 3, 4, 5, 1, 2, 3, 4, 5, 1, 2, 3, 4, 5, 1, 2, 3, 4, 5, 1, 2, 3, 4, 5, 1, 2, 3, 4, 5, 1, 2, 3, 4, 5, 1, 2, 3, 4, 5, 1, 2, 3, 4, 5, 1, 2, 3, 4, 5, 1, 2, 3, 4, 5, 1, 2, 3, 4, 5, 1, 2, 3, 4, 5, 1, 2, 3, 4, 5, 1, 2, 3, 4, 5, 1, 2, 3, 4, 5, 1, 2, 3, 4, 5, 1, 2, 3, 4, 5, 1, 2, 3, 4, 5, 1, 2, 3, 4, 5, 1, 2, 3, 4, 5, 1, 2, 3, 4, 5, 1, 2, 3, 4, 5, 1, 2, 3, 4, 5, 1, 2, 3, 4, 5, 1, 2, 3, 4, 5, 1, 2, 3, 4, 5, 1, 2, 3, 4, 5, 1, 2, 3, 4, 5, 1, 2, 3, 4, 5, 1, 2, 3, 4, 5, 1, 2, 3, 4, 5, 1, 2, 3, 4, 5, 1, 2, 3, 4, 5, 1, 2, 3, 4, 5, 1, 2, 3, 4, 5, 1, 2, 3, 4, 5, 1, 2, 3, 4, 5, 1, 2, 3, 4, 5, 1, 2, 3, 4, 5, 1, 2, 3, 4, 5, 1, 2, 3, 4, 5, 1, 2, 3, 4, 5, 1, 2, 3, 4, 5, 1, 2, 3, 4, 5, 1, 2, 3, 4, 5, 1, 2, 3, 4, 5, 1, 2, 3, 4, 5, 1, 2, 3, 4, 5, 1, 2, 3, 4, 5, 1, 2, 3, 4, 5, 1, 2, 3, 4, 5, 1, 2, 3, 4, 5, 1, 2, 3, 4, 5, 1, 2, 3, 4, 5, 1, 2, 3, 4, 5, 1, 2, 3, 4, 5, 1, 2, 3, 4, 5], \"Freq\": [0.2729076654483098, 0.1411591373008499, 0.19030342954633095, 0.27918140488390314, 0.11606417955847657, 0.37444497898841483, 0.08692472726516773, 0.07355169230129577, 0.27414721675937515, 0.1939090069761434, 0.279126904857259, 0.18608460323817266, 0.10854935188893405, 0.2170987037778681, 0.20159165350802039, 0.5221866035636598, 0.20415546976260962, 0.16004147378375427, 0.09233161949062747, 0.020518137664583883, 0.892517095235746, 0.03832895501012406, 0.03011560750795462, 0.024640042506508326, 0.01916447750506203, 0.5756273367231676, 0.31423134806627023, 0.04310253004448839, 0.03128409438712867, 0.03545530697207916, 0.3174361792096106, 0.222021836325797, 0.15963553520945736, 0.28073835502352845, 0.020183803302345184, 0.5220852738076863, 0.22728712351110483, 0.10914282663652064, 0.11251837797579448, 0.029254778273706563, 0.8688566884621621, 0.02119162654785761, 0.03178743982178642, 0.052979066369644036, 0.02119162654785761, 0.3954437194129694, 0.08388200108759958, 0.1437977161501707, 0.16776400217519916, 0.19173028820022758, 0.11926074469952938, 0.3577822340985881, 0.38759742027347044, 0.1043531516120882, 0.044722779262323514, 0.783761152261319, 0.08505934985781757, 0.06379451239336319, 0.05468101062288273, 0.01215133569397394, 0.20746690831675296, 0.08990232693725961, 0.06224007249502589, 0.6224007249502589, 0.020746690831675296, 0.3724851718506999, 0.14726157956888136, 0.15592402542587439, 0.09528690442692322, 0.23388603813881156, 0.7192833827352955, 0.11635466485423898, 0.07253277809095417, 0.07253277809095417, 0.018133194522738542, 0.16462219375925446, 0.2880888390786953, 0.43213325861804297, 0.05487406458641816, 0.0685925807330227, 0.2740029583699281, 0.134155751130677, 0.46263407511124366, 0.05610149592737401, 0.07317586425309654, 0.18183622321366777, 0.23378942984614426, 0.5281909340968445, 0.03463547108831767, 0.025976603316238252, 0.1502874526897263, 0.3463145648937171, 0.33978032782025075, 0.1306847414693272, 0.0326711853673318, 0.24139214615488264, 0.3445511829732086, 0.2197287484230342, 0.15989650706840516, 0.03404248215004755, 0.18188398512473208, 0.6138584497959708, 0.11367749070295756, 0.06820649442177454, 0.02273549814059151, 0.2219052756789933, 0.4651792075344822, 0.19889287671969028, 0.08383088192317524, 0.031231112873339795, 0.06214523734338063, 0.7022411819802011, 0.1180759509524232, 0.10253964161657804, 0.015536309335845157, 0.45153028346496166, 0.14565493014998762, 0.14565493014998762, 0.1165239441199901, 0.14565493014998762, 0.22338060981990612, 0.09928027103106939, 0.09307525409162755, 0.5708615584286489, 0.012410033878883673, 0.48018207068170454, 0.23067010291962975, 0.13189305389711503, 0.1301801570932564, 0.026835383260451977, 0.15622732407016854, 0.039056831017542135, 0.10108826851599141, 0.6915356550753049, 0.01148730324045357, 0.1464143651387746, 0.26585766301514335, 0.2889757206686341, 0.24659261497056775, 0.05201562972035413, 0.5175827935799564, 0.08747878201351376, 0.06560908651013532, 0.16766766552590137, 0.16037776702477521, 0.7855095713452407, 0.0374902295414774, 0.05712796882510841, 0.10354444349550901, 0.014281992206277103, 0.25092527806299186, 0.13621657951990987, 0.11650102195781765, 0.2831870995282337, 0.21507880976827876, 0.7672552051194297, 0.0514936379274785, 0.10942398059589181, 0.057930342668413314, 0.012873409481869625, 0.5615365912965485, 0.21152476327555797, 0.10149394471069374, 0.10908227702551196, 0.016125206168988725, 0.15460840242513843, 0.15460840242513843, 0.12884033535428202, 0.5411294084879845, 0.025768067070856406, 0.8383311083119687, 0.07117905636611055, 0.03954392020339475, 0.0316351361627158, 0.0158175680813579, 0.15786434584513284, 0.597014253377957, 0.1435130416773935, 0.0774970425057925, 0.02583234750193083, 0.8832437244244378, 0.05685246961812473, 0.03045668015256682, 0.020304453435044546, 0.008121781374017818, 0.34181309975678503, 0.260996824232894, 0.29146853467632833, 0.0702174197174791, 0.035771138346640294, 0.19353801872742954, 0.2636258609003258, 0.24052873109334863, 0.25884714438853745, 0.04300844860609545, 0.5092260318734391, 0.3350171262325257, 0.08933790032867353, 0.04578567391844518, 0.018984303819843125, 0.36259142648868936, 0.26329252960796945, 0.25877894338611857, 0.0902717244370181, 0.024072459849871494, 0.1396409528119984, 0.6337550935313774, 0.1396409528119984, 0.07519128228338376, 0.021483223509538216, 0.305783033830765, 0.36807217035184675, 0.07361443407036934, 0.05096383897179416, 0.19819270711253284, 0.8972386397146246, 0.023736471950122344, 0.023736471950122344, 0.04272564951022022, 0.009494588780048937, 0.778842128827896, 0.10674486029620911, 0.027674593410128286, 0.056667024601691256, 0.02899243119156297, 0.38413046808739626, 0.04136789656325806, 0.15808446186673616, 0.39742729198272925, 0.017729098527110597, 0.7676568177935742, 0.1406622629095438, 0.035913769253500545, 0.034417362201271354, 0.020949698731208652, 0.8391423541377183, 0.0678094831626439, 0.03390474158132195, 0.03390474158132195, 0.016952370790660976, 0.199853348491889, 0.32534266033563325, 0.3625246786597056, 0.08365954122916283, 0.032534266033563325, 0.08779999783050141, 0.8005293919839834, 0.0671411748115599, 0.020658823018941508, 0.025823528773676885, 0.8144601014040765, 0.04762924569614482, 0.04762924569614482, 0.07144386854421723, 0.014288773708843449, 0.3511543875545385, 0.19664645703054157, 0.09832322851527078, 0.19664645703054157, 0.15450793052399694, 0.8532075284756273, 0.04008357516328451, 0.04580980018661086, 0.04008357516328451, 0.017178675069979076, 0.34609718839856896, 0.171618440528216, 0.09725044963265574, 0.2660085828187348, 0.11727260102761426, 0.44412126286254, 0.1508336364438815, 0.34356550523328566, 0.05027787881462717, 0.016759292938209058, 0.1477238799272332, 0.369309699818083, 0.42470615479079543, 0.04616371247726037, 0.027698227486356225, 0.14763657116190876, 0.505215055443963, 0.24786690387733304, 0.059596414047009036, 0.03792499075718757, 0.213665666710705, 0.05341641667767625, 0.28844865005945175, 0.4202091445310532, 0.024927661116248917, 0.17702470626859368, 0.24361198110356927, 0.38328285026961567, 0.14291902891409397, 0.05359463584278524, 0.23318167958107242, 0.24346910662141383, 0.16802797499224337, 0.21260682550038956, 0.14059483621799954, 0.43623164096177347, 0.05689977925588349, 0.07586637234117799, 0.09483296542647249, 0.32875428014510466, 0.1989397858523128, 0.1989397858523128, 0.35809161453416305, 0.2188337644375441, 0.019893978585231283, 0.17414472727744923, 0.07960901818397678, 0.4876052363768578, 0.2438026181884289, 0.009951127272997098, 0.22819856445283096, 0.15106102153919795, 0.1382047643869258, 0.462825257481798, 0.01928438572840825, 0.20316970932950457, 0.11195065616115557, 0.1617065033438914, 0.5058511130244807, 0.01658528239424527, 0.2973910871303546, 0.3297162052966975, 0.1688987424191416, 0.16566623060250732, 0.0379820138454529, 0.08409227683120223, 0.45624533174375675, 0.28090398856380316, 0.14790698336268193, 0.03101275457604621, 0.26545882600697457, 0.24649748129219068, 0.39818823901046185, 0.05688403414435169, 0.037922689429567794, 0.47539728204405385, 0.17514636706886194, 0.1468618605856917, 0.14142253241585126, 0.06092047550221285, 0.1449195512120239, 0.16562234424231304, 0.21737932681803587, 0.45546144666636085, 0.02070279303028913, 0.2009060582236996, 0.12784930977871795, 0.16437768400120878, 0.4748688648923809, 0.05479256133373626, 0.8755762047516729, 0.0410542977505047, 0.034336321754967564, 0.03732208886409518, 0.011943068436510457, 0.13450029326651905, 0.15895489204224977, 0.12227299387865367, 0.5502284724539416, 0.0366818981635961, 0.44709013122692687, 0.06830543671522493, 0.03725751093557724, 0.07451502187115448, 0.37878469451170194, 0.12986812145100757, 0.4899090110021749, 0.26395959644513733, 0.0834112324766634, 0.03273098995919703, 0.8223796877356515, 0.07130459720251314, 0.03327547869450613, 0.059420497668760945, 0.014260919440502628, 0.8309683002043119, 0.03925834489154229, 0.07197363230116087, 0.03925834489154229, 0.013086114963847432, 0.17102508257207594, 0.11757974426830221, 0.14964694725056646, 0.5130752477162278, 0.042756270643018984, 0.1685104136100447, 0.1718145393671044, 0.2378970545082984, 0.3898868393330446, 0.0297371318135373, 0.11856855445917971, 0.23713710891835943, 0.27665996040475266, 0.039522851486393236, 0.3161828118911459, 0.15359832512999538, 0.7526317931369774, 0.06143933005199815, 0.023039748769499307, 0.015359832512999537, 0.04409178773080292, 0.3968260895772263, 0.35273430184642335, 0.191064413500146, 0.014697262576934307, 0.10438892378407778, 0.6089353887404537, 0.15658338567611668, 0.10438892378407778, 0.017398153964012963, 0.8274179163385748, 0.03721949104637187, 0.0629868310015524, 0.05153467991036106, 0.020041264409584855, 0.8575676726219001, 0.02415683584850423, 0.03623525377275635, 0.060392089621260574, 0.02415683584850423, 0.18733769964557045, 0.3434524493502125, 0.3746753992911409, 0.046834424911392614, 0.031222949940928408, 0.06530709629948234, 0.707493543244392, 0.13061419259896467, 0.06530709629948234, 0.03265354814974117, 0.6133529532813545, 0.13916411545039137, 0.09148752034238691, 0.14174122869947267, 0.014174122869947268, 0.7630549113294117, 0.12509096907039535, 0.045866688659144964, 0.05212123711266473, 0.014593946391546125, 0.8335648506067015, 0.04567478633461378, 0.04567478633461378, 0.04567478633461378, 0.02283739316730689, 0.8547089035244284, 0.04792760206679038, 0.03993966838899198, 0.03993966838899198, 0.015975867355596793, 0.2037914756124352, 0.6016700708557611, 0.09704355981544534, 0.0582261358892672, 0.0291130679446336, 0.8275236923961194, 0.03412468834623173, 0.04265586043278966, 0.08531172086557932, 0.017062344173115866, 0.19254233925820616, 0.22334911353951914, 0.377382984946084, 0.08856947605877483, 0.11937625034008781, 0.32653312707522003, 0.2892387343889639, 0.21547871329836854, 0.13260228510668834, 0.03646562840433929, 0.34268788234839415, 0.30790761966228847, 0.2056127294090365, 0.1288915617190975, 0.014321284635455279, 0.12351974736806251, 0.1017221448913456, 0.3778251095964265, 0.36329337461194855, 0.029063469968955882, 0.19459544357479966, 0.06254853543475704, 0.17374593176321398, 0.5629368189128133, 0.013899674541057118, 0.6282240126622286, 0.15024065105133336, 0.09390040690708334, 0.10359335213620163, 0.024838172149615596, 0.6021381761876937, 0.09422430476856608, 0.1426825186495429, 0.13281140100712172, 0.027818604265005223, 0.16311282875272418, 0.16311282875272418, 0.0857033507005839, 0.3428134028023356, 0.24328693102101234, 0.3312046594732315, 0.24568870231415946, 0.2239703639880459, 0.17103191431814416, 0.028505319053024024, 0.9394647978150505, 0.01812472278742863, 0.026180155137396906, 0.010069290437460349, 0.006041574262476209, 0.3142040995714677, 0.17595429576002194, 0.12253959883287242, 0.36761879649861723, 0.021994286970002743, 0.2210808118776865, 0.600076489382292, 0.09474891937615136, 0.05263828854230631, 0.021055315416922522, 0.8243642806817247, 0.07954392182016642, 0.028925062480060517, 0.043387593720090774, 0.021693796860045387, 0.29969111273133886, 0.16470093479847286, 0.19634934972053236, 0.3035664288442441, 0.035523731034964735, 0.30343560534878966, 0.3803196269743276, 0.15376804325107585, 0.11993907373583915, 0.04408017239864174, 0.7317015604046828, 0.1331476963006852, 0.05496923241771407, 0.059855386410399766, 0.019544615970742783, 0.1858141527314701, 0.32517476728007266, 0.16723273745832307, 0.10219778400230854, 0.2136862756411906, 0.37194120890721144, 0.250190669300894, 0.14048139185344316, 0.21406688282429434, 0.024082524317733115, 0.12406192850784227, 0.5941913418007182, 0.15507741063480285, 0.08978165878857007, 0.034280269719272206, 0.41632883903575446, 0.3661244790343841, 0.10898019610053573, 0.06367382244076245, 0.04530637365977328, 0.1875388087376275, 0.5351107342646971, 0.14753052954026696, 0.11502380269241153, 0.015003104699010198, 0.19227909404505045, 0.21826275540248968, 0.2494431490314168, 0.31007169219877506, 0.0311803936289271, 0.32211469409453475, 0.15158338545625163, 0.30948274530651376, 0.07579169272812582, 0.15158338545625163, 0.4570097921908474, 0.04265424727114576, 0.23764509193924066, 0.07921503064641355, 0.18280391687633898, 0.2032111985048271, 0.5693139132714601, 0.13708691962627226, 0.0483836186916255, 0.043545256822462956, 0.12152709864534163, 0.7344463787696733, 0.09510816415722388, 0.031702721385741296, 0.0211351475904942, 0.1568557282962236, 0.48902079998234416, 0.1945318591124734, 0.10226378364410656, 0.05689864653882621, 0.151159492661289, 0.7132838559954575, 0.0755797463306445, 0.042513607310987536, 0.018894936582661125, 0.24376758356848818, 0.597230579742796, 0.07313027507054645, 0.07313027507054645, 0.012188379178424408, 0.13603592760523536, 0.6554458330070432, 0.16076973262436908, 0.03710070752870055, 0.024733805019133703, 0.832778142477266, 0.04898694955748623, 0.03265796637165749, 0.04898694955748623, 0.03265796637165749, 0.24128270052802767, 0.2185201816102892, 0.3311946502530946, 0.15592325458650844, 0.053491919456685376, 0.10308216965493303, 0.28991860215449916, 0.36723022939569894, 0.1417379832755329, 0.09663953405149972, 0.25726032227053097, 0.2122847414540046, 0.27345153136448047, 0.22667692731529304, 0.028784371722576894, 0.4681493916049212, 0.0780248986008202, 0.3326324624561282, 0.08213147221138968, 0.04106573610569484, 0.4546238141714634, 0.13914244009490243, 0.30859313446790243, 0.05923886063446341, 0.037196493886756096, 0.34367883234767155, 0.3155596551555893, 0.15621765106712343, 0.15387438630111658, 0.030462441958089066, 0.1613062966376745, 0.6237176803323414, 0.1182912842009613, 0.0752762717642481, 0.0215075062183566, 0.6751749765436867, 0.11228611920920924, 0.07291306442156444, 0.11228611920920924, 0.027706964480194485, 0.23782164168537537, 0.3495176486791809, 0.1891884520373548, 0.17475882433959045, 0.04863318964802058, 0.46358853953003976, 0.0792586857906197, 0.161508265384659, 0.2631986547009258, 0.032899831837615724, 0.21729237412954433, 0.6497041986473375, 0.07170648346274963, 0.04563139856720431, 0.015210466189068104, 0.8358855997634893, 0.04776489141505653, 0.0358236685612924, 0.059706114268820665, 0.011941222853764132, 0.8542683211990166, 0.04642762615212047, 0.02166622553765622, 0.05880832645935259, 0.02166622553765622, 0.3615361449567694, 0.10717474652868658, 0.2000595268535483, 0.2943733037987925, 0.037153912129944684, 0.3754365967414868, 0.07508731934829736, 0.14240698497090878, 0.3883826862842967, 0.015535307451371869, 0.7940900013558865, 0.11568224711110445, 0.033332172896419925, 0.037253605001881095, 0.01960716052730584, 0.0886306892999312, 0.6204148250995184, 0.20258443268555704, 0.037984581128541944, 0.037984581128541944, 0.47187280913327256, 0.21627503751941657, 0.22676109994460042, 0.06291637455110301, 0.023593640456663626, 0.5800084874455367, 0.2242049615335688, 0.12428753302404358, 0.053614229931940365, 0.017059073160162842, 0.2327811979015681, 0.29097649737696013, 0.15518746526771207, 0.15518746526771207, 0.13578903210924806, 0.240866484497482, 0.33350744007343663, 0.12969733780633647, 0.11116914669114554, 0.16675372003671832, 0.3308764245254192, 0.0827191061313548, 0.16937721731658364, 0.3899615003335298, 0.023634030323244227, 0.8827547269430299, 0.040922404560272914, 0.017538173382974104, 0.05261452014892232, 0.008769086691487052, 0.8749609895011798, 0.037848185296488694, 0.015584546886789464, 0.06233818754715786, 0.011131819204849618, 0.783982303983901, 0.07495438048424893, 0.08305755675281638, 0.04659326354426285, 0.014180558469993042, 0.13217994717873777, 0.5918056725957123, 0.20127401047671434, 0.048065435337722826, 0.02703680737746909, 0.09440488146535138, 0.09777648437482822, 0.1820665571117491, 0.613631729524784, 0.010114808728430505, 0.4473834185489014, 0.17003871627504372, 0.09574995673740325, 0.06108186895317104, 0.22451713993598005, 0.5707073377804142, 0.1656892270975396, 0.04602478530487211, 0.05522974236584653, 0.15648427003656518, 0.15081371799658908, 0.16870687097923523, 0.14570138857297588, 0.5010082835140925, 0.03578630596529232, 0.3076075893582775, 0.061521517871655496, 0.13842341521122487, 0.4767917635053301, 0.030760758935827748, 0.278221211391772, 0.3993976971895822, 0.17934119898075898, 0.10954354316122035, 0.03296000413700435, 0.1330322395608695, 0.266064479121739, 0.3616814013061139, 0.20509136932300712, 0.0346438123856431, 0.1794332624110639, 0.16526747853650622, 0.37303230869668547, 0.2785937495329676, 0.009443855916371783, 0.8182750431146597, 0.052230321900935725, 0.052230321900935725, 0.052230321900935725, 0.01741010730031191, 0.816439462239736, 0.09552490965876252, 0.022388650701272467, 0.053732761683053916, 0.013433190420763479, 0.8401081915205239, 0.058120692495130584, 0.02641849658869572, 0.06340439181286972, 0.01585109795321743, 0.48672541509739037, 0.20425084383551204, 0.060840676887173796, 0.07822372742636631, 0.1651389801223289, 0.5875608686772298, 0.03383858405994517, 0.05075787608991776, 0.300701962896331, 0.026917055502229115, 0.037450242341904215, 0.43935528210868113, 0.38637689050306057, 0.12605203519958003, 0.010961046539093916, 0.06639388206900688, 0.6760104356117065, 0.19314583874620184, 0.036214844764912844, 0.02414322984327523, 0.24200051741550616, 0.06722236594875171, 0.22855604422575582, 0.44366761526176124, 0.01344447318975034, 0.7754962150110303, 0.09836257138926671, 0.044191879899525624, 0.03848970184797393, 0.044191879899525624, 0.3646453692403726, 0.2976696891758144, 0.16439485106755203, 0.1407165803376577, 0.03314957902185205, 0.23071812357923244, 0.12423283577343285, 0.1419803837410661, 0.48362068211800646, 0.017747547967633264, 0.5512341902290543, 0.24044140769280237, 0.08459975455857861, 0.10419127666688102, 0.019591522108302416, 0.12753508328910687, 0.31883770822276714, 0.3347795936339055, 0.1873171535808757, 0.03188377082227672, 0.3718280792114771, 0.25093494273674377, 0.20127073532009654, 0.13396266474227206, 0.04247596686950089, 0.1966721617690386, 0.07151714973419586, 0.16091358690194066, 0.5363786230064689, 0.03575857486709793, 0.8178673599015328, 0.05841909713582377, 0.03338234122047073, 0.06676468244094146, 0.025036755915353048, 0.05436209359915696, 0.18573715313045294, 0.3760044807275023, 0.33070273606153816, 0.04983191913256055, 0.2007069118467131, 0.4280702104230678, 0.17561854786587397, 0.15523425213144215, 0.0407685914688636, 0.1806608285145002, 0.3097042774534289, 0.23227820809007166, 0.1290434489389287, 0.15485213872671444, 0.10584951272627383, 0.20323106443444575, 0.33871844072407625, 0.09314757119912097, 0.25827281105210814, 0.5663982618849432, 0.17296054305882497, 0.08743060418358184, 0.07412594702521069, 0.100735261341953, 0.8206917534519726, 0.0432575448378785, 0.022830370886658097, 0.09011988507891354, 0.022830370886658097, 0.18769593522907146, 0.6971563308508368, 0.07150321342059865, 0.026813705032724497, 0.017875803355149662, 0.22242263665281817, 0.6501584763697762, 0.051328300766034965, 0.051328300766034965, 0.051328300766034965, 0.13890766061975, 0.6096502882755694, 0.11575638384979166, 0.11575638384979166, 0.015434184513305554, 0.34634744685397506, 0.3546219592361519, 0.12057146614029166, 0.15366951566899917, 0.024823537146530635, 0.7100032359390936, 0.12296742791113821, 0.06950332881933899, 0.08019614863769883, 0.017108511709375752, 0.1882224759299018, 0.2898292992194948, 0.21987050285616846, 0.22986461662235794, 0.07329016761872281, 0.35463914583609357, 0.04221894593286828, 0.21616100317628562, 0.2685124961330423, 0.11990180644934592, 0.2988972822238009, 0.088562157695941, 0.12177296683191889, 0.44281078847970506, 0.033210809135977876, 0.5839294925925151, 0.21516833198610452, 0.08717430813584942, 0.054656907482000826, 0.06019178418903888, 0.41097197998795704, 0.44876250688340136, 0.07558105379088864, 0.04251434275737486, 0.02204447402234252, 0.575433248655603, 0.16202675324464183, 0.07029101795171962, 0.05361179335300648, 0.13939066271781686, 0.19088265274078672, 0.14997922715347528, 0.47720663185196677, 0.16361370234924574, 0.02726895039154096, 0.283471109335484, 0.040495872762212, 0.13768596739152078, 0.5183471713563136, 0.0161983491048848, 0.08876354823346805, 0.07474825114397309, 0.08876354823346805, 0.7428107457432326, 0.009343531392996636, 0.05599058698604971, 0.41433034369676786, 0.3695378741079281, 0.1343774087665193, 0.02239623479441988, 0.401030819797848, 0.4540596885314477, 0.08782906384002456, 0.04142880369812479, 0.016571521479249916, 0.37663586322058895, 0.09825283388363189, 0.34388491859271164, 0.13100377851150918, 0.049126416941815944, 0.35051311995221995, 0.30012222744323275, 0.18451959168732088, 0.13486974171523053, 0.03038274401277171, 0.04872856883963681, 0.12791249320404663, 0.46292140397654974, 0.3319633752200258, 0.027409819972295708, 0.19224205053372218, 0.6770263518796302, 0.058508450162437185, 0.05015010013923187, 0.016716700046410623, 0.14815234459565338, 0.6190651542032659, 0.13227887910326194, 0.07936732746195717, 0.021164620656521912, 0.8178485573411505, 0.06490861566199607, 0.04327241044133071, 0.05625413357372993, 0.012981723132399214, 0.16709868178737625, 0.10742058114902758, 0.1551630616597065, 0.537102905745138, 0.023871240255339463, 0.11505044559194189, 0.08797975251148497, 0.19626252483331263, 0.5887875744999379, 0.020303019810342687, 0.8181512915749872, 0.08278911879032609, 0.024349740820684144, 0.05843937796964195, 0.019479792656547316, 0.5256313262100408, 0.17265262539745868, 0.08824467520314554, 0.06906105015898346, 0.14579555033563177, 0.43881169679348425, 0.12151708526588795, 0.07426044099582041, 0.04725664427006753, 0.3105436623461581, 0.061381604578210965, 0.14906961111851233, 0.1841448137346329, 0.5524344412038987, 0.05261280392418083, 0.10056187690516928, 0.7580818412851222, 0.06961976093434796, 0.038677644963526644, 0.030942115970821315, 0.05332825417863619, 0.6186077484721797, 0.20264736587881751, 0.07465955585009065, 0.04799542876077257, 0.20475001333458243, 0.11494737590713398, 0.3268816002359123, 0.3089210727504226, 0.050289476959371124, 0.49538674970291974, 0.08806875550274129, 0.19265040266224656, 0.09357305272166261, 0.13210313325411194, 0.38492315104760194, 0.09786181806294965, 0.05871709083776979, 0.08481357565455637, 0.3718749086392087, 0.16620053270643156, 0.6946585139466421, 0.10250691538181109, 0.022889893726035483, 0.012937766019063535, 0.1686543501167691, 0.6788337592199957, 0.08854353381130378, 0.0463799462821115, 0.01686543501167691, 0.7243151623556521, 0.14923076209337555, 0.04489055445085281, 0.06430268610527565, 0.016985615197619982, 0.8637452459886975, 0.041526213749456614, 0.03322097099956529, 0.041526213749456614, 0.016610485499782644, 0.18257662134485256, 0.4161048579487337, 0.2887258198011622, 0.09058064934938422, 0.021229839691261923, 0.23459962716035399, 0.21631913673227446, 0.4509187638926284, 0.07616871011699805, 0.021327238832759454, 0.23526519029239634, 0.11763259514619817, 0.1441947940501784, 0.48950337980192143, 0.01517839937370299, 0.8010123382588428, 0.10459954932589699, 0.044041915505640836, 0.03303143662923063, 0.019268338033717868, 0.37045069431483546, 0.21493129906002245, 0.1694986667383917, 0.15726680419026035, 0.08737044677236686, 0.3954867427629201, 0.14715785777224935, 0.1736002853407004, 0.2310838235329853, 0.05288485513690211, 0.2790079950811654, 0.1973471184720438, 0.1905420454212837, 0.1292963879644425, 0.1973471184720438, 0.15805348210715353, 0.268690919582161, 0.07902674105357677, 0.4741604463214606, 0.0316106964214307, 0.13181893148286355, 0.05858619177016158, 0.16111202736794436, 0.6224782875579667, 0.02685200456132406, 0.11856410406957833, 0.07245584137585342, 0.20199810322965198, 0.5642773101089191, 0.04171699958003682, 0.4309615870667706, 0.25507443757485543, 0.16522732224998096, 0.12258801328224395, 0.025888151873268907, 0.7244584510132467, 0.12305394742091032, 0.09532348039647982, 0.04332885472567265, 0.015598387701242153, 0.22683136414273694, 0.2734196241181812, 0.14358348976038568, 0.34368388506475295, 0.012219871468968994, 0.0736939115294721, 0.5842874414122431, 0.2631925411766861, 0.042110806588269774, 0.03684695576473605, 0.2333297240435829, 0.6194348626395118, 0.1138871272117488, 0.016666408860255923, 0.016666408860255923, 0.30650175678324754, 0.5277983919896849, 0.12899108683155977, 0.01656766252882419, 0.01893447146151336, 0.8195961016661363, 0.04447420706715468, 0.047650936143380014, 0.08259495598185869, 0.009530187228676002, 0.2650697607461902, 0.2781059784878061, 0.2824513844016781, 0.05214487096646365, 0.12384406854535117, 0.30334415258259156, 0.15167207629129578, 0.3447092642983995, 0.15167207629129578, 0.055153482287743916, 0.11596849642202778, 0.13253542448231745, 0.24850392090434523, 0.4638739856881111, 0.03313385612057936, 0.83403313829783, 0.06762430851063486, 0.04508287234042324, 0.037569060283686034, 0.015027624113474414, 0.05329124064036645, 0.4352117985629927, 0.3908024313626873, 0.07993686096054968, 0.044409367200305375, 0.2903911193387311, 0.130676003702429, 0.11615644773549244, 0.45010623497503316, 0.014519555966936555, 0.32430374604788237, 0.0732298781398444, 0.03138423348850474, 0.06276846697700948, 0.5021477358160759, 0.11340756983716085, 0.6514902948092219, 0.144775621068716, 0.0651490294809222, 0.0217163431603074, 0.08659675325326655, 0.3463870130130662, 0.3463870130130662, 0.1731935065065331, 0.04329837662663327, 0.3786830947473628, 0.37306465120511706, 0.17417174980961792, 0.051689680588660795, 0.022473774168982955, 0.9118931887414903, 0.032076644830102675, 0.018329511331487244, 0.022911889164359052, 0.013747133498615432, 0.8836346818051721, 0.033662273592577986, 0.033662273592577986, 0.025246705194433488, 0.016831136796288993, 0.19525070462709987, 0.05536960280469996, 0.23896354894659985, 0.4487852016801997, 0.06119798204729996, 0.29808230697582455, 0.2684434412253875, 0.16089669978808713, 0.24557917336076457, 0.02709839154325678, 0.043837762622101845, 0.6356475580204767, 0.24110769442156013, 0.06575664393315277, 0.021918881311050922], \"Term\": [\"000\", \"000\", \"000\", \"000\", \"000\", \"100\", \"100\", \"100\", \"100\", \"100\", \"50\", \"50\", \"50\", \"50\", \"50\", \"account\", \"account\", \"account\", \"account\", \"account\", \"action\", \"action\", \"action\", \"action\", \"action\", \"address\", \"address\", \"address\", \"address\", \"address\", \"advantage\", \"advantage\", \"advantage\", \"advantage\", \"advantage\", \"agreed\", \"agreed\", \"agreed\", \"agreed\", \"agreed\", \"allegiance\", \"allegiance\", \"allegiance\", \"allegiance\", \"allegiance\", \"allowance\", \"allowance\", \"allowance\", \"allowance\", \"allowance\", \"ambitious\", \"ambitious\", \"ambitious\", \"ambitious\", \"ambitious\", \"amendments\", \"amendments\", \"amendments\", \"amendments\", \"amendments\", \"annuities\", \"annuities\", \"annuities\", \"annuities\", \"annuities\", \"apparent\", \"apparent\", \"apparent\", \"apparent\", \"apparent\", \"appointed\", \"appointed\", \"appointed\", \"appointed\", \"appointed\", \"armies\", \"armies\", \"armies\", \"armies\", \"armies\", \"army\", \"army\", \"army\", \"army\", \"army\", \"augmentation\", \"augmentation\", \"augmentation\", \"augmentation\", \"augmentation\", \"balance\", \"balance\", \"balance\", \"balance\", \"balance\", \"believe\", \"believe\", \"believe\", \"believe\", \"believe\", \"betwixt\", \"betwixt\", \"betwixt\", \"betwixt\", \"betwixt\", \"britain\", \"britain\", \"britain\", \"britain\", \"britain\", \"british\", \"british\", \"british\", \"british\", \"british\", \"capacity\", \"capacity\", \"capacity\", \"capacity\", \"capacity\", \"capital\", \"capital\", \"capital\", \"capital\", \"capital\", \"case\", \"case\", \"case\", \"case\", \"case\", \"cent\", \"cent\", \"cent\", \"cent\", \"cent\", \"certainly\", \"certainly\", \"certainly\", \"certainly\", \"certainly\", \"children\", \"children\", \"children\", \"children\", \"children\", \"church\", \"church\", \"church\", \"church\", \"church\", \"civil\", \"civil\", \"civil\", \"civil\", \"civil\", \"commissioners\", \"commissioners\", \"commissioners\", \"commissioners\", \"commissioners\", \"committee\", \"committee\", \"committee\", \"committee\", \"committee\", \"compassion\", \"compassion\", \"compassion\", \"compassion\", \"compassion\", \"concerning\", \"concerning\", \"concerning\", \"concerning\", \"concerning\", \"conduct\", \"conduct\", \"conduct\", \"conduct\", \"conduct\", \"conference\", \"conference\", \"conference\", \"conference\", \"conference\", \"constitution\", \"constitution\", \"constitution\", \"constitution\", \"constitution\", \"country\", \"country\", \"country\", \"country\", \"country\", \"court\", \"court\", \"court\", \"court\", \"court\", \"danger\", \"danger\", \"danger\", \"danger\", \"danger\", \"demands\", \"demands\", \"demands\", \"demands\", \"demands\", \"dignity\", \"dignity\", \"dignity\", \"dignity\", \"dignity\", \"doth\", \"doth\", \"doth\", \"doth\", \"doth\", \"duke\", \"duke\", \"duke\", \"duke\", \"duke\", \"duties\", \"duties\", \"duties\", \"duties\", \"duties\", \"earl\", \"earl\", \"earl\", \"earl\", \"earl\", \"elected\", \"elected\", \"elected\", \"elected\", \"elected\", \"engaged\", \"engaged\", \"engaged\", \"engaged\", \"engaged\", \"engagements\", \"engagements\", \"engagements\", \"engagements\", \"engagements\", \"entitled\", \"entitled\", \"entitled\", \"entitled\", \"entitled\", \"equity\", \"equity\", \"equity\", \"equity\", \"equity\", \"error\", \"error\", \"error\", \"error\", \"error\", \"established\", \"established\", \"established\", \"established\", \"established\", \"estimate\", \"estimate\", \"estimate\", \"estimate\", \"estimate\", \"estimates\", \"estimates\", \"estimates\", \"estimates\", \"estimates\", \"europe\", \"europe\", \"europe\", \"europe\", \"europe\", \"excise\", \"excise\", \"excise\", \"excise\", \"excise\", \"expence\", \"expence\", \"expence\", \"expence\", \"expence\", \"family\", \"family\", \"family\", \"family\", \"family\", \"father\", \"father\", \"father\", \"father\", \"father\", \"fraud\", \"fraud\", \"fraud\", \"fraud\", \"fraud\", \"frauds\", \"frauds\", \"frauds\", \"frauds\", \"frauds\", \"fund\", \"fund\", \"fund\", \"fund\", \"fund\", \"funds\", \"funds\", \"funds\", \"funds\", \"funds\", \"general\", \"general\", \"general\", \"general\", \"general\", \"gentleman\", \"gentleman\", \"gentleman\", \"gentleman\", \"gentleman\", \"germany\", \"germany\", \"germany\", \"germany\", \"germany\", \"granted\", \"granted\", \"granted\", \"granted\", \"granted\", \"grievous\", \"grievous\", \"grievous\", \"grievous\", \"grievous\", \"gross\", \"gross\", \"gross\", \"gross\", \"gross\", \"hath\", \"hath\", \"hath\", \"hath\", \"hath\", \"higher\", \"higher\", \"higher\", \"higher\", \"higher\", \"highness\", \"highness\", \"highness\", \"highness\", \"highness\", \"honourable\", \"honourable\", \"honourable\", \"honourable\", \"honourable\", \"humbly\", \"humbly\", \"humbly\", \"humbly\", \"humbly\", \"illegal\", \"illegal\", \"illegal\", \"illegal\", \"illegal\", \"improvement\", \"improvement\", \"improvement\", \"improvement\", \"improvement\", \"increase\", \"increase\", \"increase\", \"increase\", \"increase\", \"independent\", \"independent\", \"independent\", \"independent\", \"independent\", \"injuries\", \"injuries\", \"injuries\", \"injuries\", \"injuries\", \"inquire\", \"inquire\", \"inquire\", \"inquire\", \"inquire\", \"interested\", \"interested\", \"interested\", \"interested\", \"interested\", \"ireland\", \"ireland\", \"ireland\", \"ireland\", \"ireland\", \"irish\", \"irish\", \"irish\", \"irish\", \"irish\", \"italy\", \"italy\", \"italy\", \"italy\", \"italy\", \"jekyll\", \"jekyll\", \"jekyll\", \"jekyll\", \"jekyll\", \"john\", \"john\", \"john\", \"john\", \"john\", \"judgment\", \"judgment\", \"judgment\", \"judgment\", \"judgment\", \"judgments\", \"judgments\", \"judgments\", \"judgments\", \"judgments\", \"judicature\", \"judicature\", \"judicature\", \"judicature\", \"judicature\", \"juncture\", \"juncture\", \"juncture\", \"juncture\", \"juncture\", \"jurisdiction\", \"jurisdiction\", \"jurisdiction\", \"jurisdiction\", \"jurisdiction\", \"keeping\", \"keeping\", \"keeping\", \"keeping\", \"keeping\", \"know\", \"know\", \"know\", \"know\", \"know\", \"laid\", \"laid\", \"laid\", \"laid\", \"laid\", \"landed\", \"landed\", \"landed\", \"landed\", \"landed\", \"landtax\", \"landtax\", \"landtax\", \"landtax\", \"landtax\", \"law\", \"law\", \"law\", \"law\", \"law\", \"laws\", \"laws\", \"laws\", \"laws\", \"laws\", \"list\", \"list\", \"list\", \"list\", \"list\", \"little\", \"little\", \"little\", \"little\", \"little\", \"lordships\", \"lordships\", \"lordships\", \"lordships\", \"lordships\", \"loss\", \"loss\", \"loss\", \"loss\", \"loss\", \"losses\", \"losses\", \"losses\", \"losses\", \"losses\", \"majesties\", \"majesties\", \"majesties\", \"majesties\", \"majesties\", \"man\", \"man\", \"man\", \"man\", \"man\", \"manner\", \"manner\", \"manner\", \"manner\", \"manner\", \"matter\", \"matter\", \"matter\", \"matter\", \"matter\", \"maxim\", \"maxim\", \"maxim\", \"maxim\", \"maxim\", \"means\", \"means\", \"means\", \"means\", \"means\", \"measures\", \"measures\", \"measures\", \"measures\", \"measures\", \"member\", \"member\", \"member\", \"member\", \"member\", \"merchants\", \"merchants\", \"merchants\", \"merchants\", \"merchants\", \"method\", \"method\", \"method\", \"method\", \"method\", \"military\", \"military\", \"military\", \"military\", \"military\", \"militia\", \"militia\", \"militia\", \"militia\", \"militia\", \"ministers\", \"ministers\", \"ministers\", \"ministers\", \"ministers\", \"ministry\", \"ministry\", \"ministry\", \"ministry\", \"ministry\", \"motion\", \"motion\", \"motion\", \"motion\", \"motion\", \"mov\", \"mov\", \"mov\", \"mov\", \"mov\", \"nations\", \"nations\", \"nations\", \"nations\", \"nations\", \"negotiation\", \"negotiation\", \"negotiation\", \"negotiation\", \"negotiation\", \"nemine\", \"nemine\", \"nemine\", \"nemine\", \"nemine\", \"number\", \"number\", \"number\", \"number\", \"number\", \"numerous\", \"numerous\", \"numerous\", \"numerous\", \"numerous\", \"obliged\", \"obliged\", \"obliged\", \"obliged\", \"obliged\", \"officer\", \"officer\", \"officer\", \"officer\", \"officer\", \"officers\", \"officers\", \"officers\", \"officers\", \"officers\", \"opinion\", \"opinion\", \"opinion\", \"opinion\", \"opinion\", \"oppos\", \"oppos\", \"oppos\", \"oppos\", \"oppos\", \"ordered\", \"ordered\", \"ordered\", \"ordered\", \"ordered\", \"ought\", \"ought\", \"ought\", \"ought\", \"ought\", \"paid\", \"paid\", \"paid\", \"paid\", \"paid\", \"papers\", \"papers\", \"papers\", \"papers\", \"papers\", \"papist\", \"papist\", \"papist\", \"papist\", \"papist\", \"papists\", \"papists\", \"papists\", \"papists\", \"papists\", \"pay\", \"pay\", \"pay\", \"pay\", \"pay\", \"payment\", \"payment\", \"payment\", \"payment\", \"payment\", \"peers\", \"peers\", \"peers\", \"peers\", \"peers\", \"pelham\", \"pelham\", \"pelham\", \"pelham\", \"pelham\", \"petition\", \"petition\", \"petition\", \"petition\", \"petition\", \"pleased\", \"pleased\", \"pleased\", \"pleased\", \"pleased\", \"pleases\", \"pleases\", \"pleases\", \"pleases\", \"pleases\", \"policy\", \"policy\", \"policy\", \"policy\", \"policy\", \"poor\", \"poor\", \"poor\", \"poor\", \"poor\", \"popery\", \"popery\", \"popery\", \"popery\", \"popery\", \"popish\", \"popish\", \"popish\", \"popish\", \"popish\", \"pounds\", \"pounds\", \"pounds\", \"pounds\", \"pounds\", \"powers\", \"powers\", \"powers\", \"powers\", \"powers\", \"price\", \"price\", \"price\", \"price\", \"price\", \"prince\", \"prince\", \"prince\", \"prince\", \"prince\", \"princess\", \"princess\", \"princess\", \"princess\", \"princess\", \"produce\", \"produce\", \"produce\", \"produce\", \"produce\", \"profits\", \"profits\", \"profits\", \"profits\", \"profits\", \"proper\", \"proper\", \"proper\", \"proper\", \"proper\", \"proposed\", \"proposed\", \"proposed\", \"proposed\", \"proposed\", \"proposition\", \"proposition\", \"proposition\", \"proposition\", \"proposition\", \"prosecuting\", \"prosecuting\", \"prosecuting\", \"prosecuting\", \"prosecuting\", \"protestant\", \"protestant\", \"protestant\", \"protestant\", \"protestant\", \"protestants\", \"protestants\", \"protestants\", \"protestants\", \"protestants\", \"provision\", \"provision\", \"provision\", \"provision\", \"provision\", \"public\", \"public\", \"public\", \"public\", \"public\", \"publick\", \"publick\", \"publick\", \"publick\", \"publick\", \"pulteney\", \"pulteney\", \"pulteney\", \"pulteney\", \"pulteney\", \"quantity\", \"quantity\", \"quantity\", \"quantity\", \"quantity\", \"queen\", \"queen\", \"queen\", \"queen\", \"queen\", \"question\", \"question\", \"question\", \"question\", \"question\", \"rate\", \"rate\", \"rate\", \"rate\", \"rate\", \"read\", \"read\", \"read\", \"read\", \"read\", \"really\", \"really\", \"really\", \"really\", \"really\", \"reason\", \"reason\", \"reason\", \"reason\", \"reason\", \"reckon\", \"reckon\", \"reckon\", \"reckon\", \"reckon\", \"record\", \"record\", \"record\", \"record\", \"record\", \"reduction\", \"reduction\", \"reduction\", \"reduction\", \"reduction\", \"regard\", \"regard\", \"regard\", \"regard\", \"regard\", \"regarded\", \"regarded\", \"regarded\", \"regarded\", \"regarded\", \"regular\", \"regular\", \"regular\", \"regular\", \"regular\", \"reign\", \"reign\", \"reign\", \"reign\", \"reign\", \"religion\", \"religion\", \"religion\", \"religion\", \"religion\", \"reparation\", \"reparation\", \"reparation\", \"reparation\", \"reparation\", \"repose\", \"repose\", \"repose\", \"repose\", \"repose\", \"resentment\", \"resentment\", \"resentment\", \"resentment\", \"resentment\", \"resolution\", \"resolution\", \"resolution\", \"resolution\", \"resolution\", \"resolved\", \"resolved\", \"resolved\", \"resolved\", \"resolved\", \"respect\", \"respect\", \"respect\", \"respect\", \"respect\", \"revenue\", \"revenue\", \"revenue\", \"revenue\", \"revenue\", \"rich\", \"rich\", \"rich\", \"rich\", \"rich\", \"right\", \"right\", \"right\", \"right\", \"right\", \"rights\", \"rights\", \"rights\", \"rights\", \"rights\", \"royal\", \"royal\", \"royal\", \"royal\", \"royal\", \"running\", \"running\", \"running\", \"running\", \"running\", \"sale\", \"sale\", \"sale\", \"sale\", \"sale\", \"salt\", \"salt\", \"salt\", \"salt\", \"salt\", \"sandys\", \"sandys\", \"sandys\", \"sandys\", \"sandys\", \"satisfaction\", \"satisfaction\", \"satisfaction\", \"satisfaction\", \"satisfaction\", \"saved\", \"saved\", \"saved\", \"saved\", \"saved\", \"say\", \"say\", \"say\", \"say\", \"say\", \"scheme\", \"scheme\", \"scheme\", \"scheme\", \"scheme\", \"seas\", \"seas\", \"seas\", \"seas\", \"seas\", \"seconded\", \"seconded\", \"seconded\", \"seconded\", \"seconded\", \"secretary\", \"secretary\", \"secretary\", \"secretary\", \"secretary\", \"securities\", \"securities\", \"securities\", \"securities\", \"securities\", \"sell\", \"sell\", \"sell\", \"sell\", \"sell\", \"serjeant\", \"serjeant\", \"serjeant\", \"serjeant\", \"serjeant\", \"settled\", \"settled\", \"settled\", \"settled\", \"settled\", \"settlement\", \"settlement\", \"settlement\", \"settlement\", \"settlement\", \"shilling\", \"shilling\", \"shilling\", \"shilling\", \"shilling\", \"shippen\", \"shippen\", \"shippen\", \"shippen\", \"shippen\", \"situation\", \"situation\", \"situation\", \"situation\", \"situation\", \"small\", \"small\", \"small\", \"small\", \"small\", \"soldiers\", \"soldiers\", \"soldiers\", \"soldiers\", \"soldiers\", \"son\", \"son\", \"son\", \"son\", \"son\", \"spain\", \"spain\", \"spain\", \"spain\", \"spain\", \"spanish\", \"spanish\", \"spanish\", \"spanish\", \"spanish\", \"speaker\", \"speaker\", \"speaker\", \"speaker\", \"speaker\", \"spiritual\", \"spiritual\", \"spiritual\", \"spiritual\", \"spiritual\", \"spoke\", \"spoke\", \"spoke\", \"spoke\", \"spoke\", \"standing\", \"standing\", \"standing\", \"standing\", \"standing\", \"stock\", \"stock\", \"stock\", \"stock\", \"stock\", \"succession\", \"succession\", \"succession\", \"succession\", \"succession\", \"sufficient\", \"sufficient\", \"sufficient\", \"sufficient\", \"sufficient\", \"sum\", \"sum\", \"sum\", \"sum\", \"sum\", \"supporting\", \"supporting\", \"supporting\", \"supporting\", \"supporting\", \"sustain\", \"sustain\", \"sustain\", \"sustain\", \"sustain\", \"tax\", \"tax\", \"tax\", \"tax\", \"tax\", \"taxes\", \"taxes\", \"taxes\", \"taxes\", \"taxes\", \"thing\", \"thing\", \"thing\", \"thing\", \"thing\", \"thousand\", \"thousand\", \"thousand\", \"thousand\", \"thousand\", \"trade\", \"trade\", \"trade\", \"trade\", \"trade\", \"tranquility\", \"tranquility\", \"tranquility\", \"tranquility\", \"tranquility\", \"treaties\", \"treaties\", \"treaties\", \"treaties\", \"treaties\", \"treaty\", \"treaty\", \"treaty\", \"treaty\", \"treaty\", \"trial\", \"trial\", \"trial\", \"trial\", \"trial\", \"troops\", \"troops\", \"troops\", \"troops\", \"troops\", \"turned\", \"turned\", \"turned\", \"turned\", \"turned\", \"undone\", \"undone\", \"undone\", \"undone\", \"undone\", \"unto\", \"unto\", \"unto\", \"unto\", \"unto\", \"views\", \"views\", \"views\", \"views\", \"views\", \"wages\", \"wages\", \"wages\", \"wages\", \"wages\", \"wales\", \"wales\", \"wales\", \"wales\", \"wales\", \"walpole\", \"walpole\", \"walpole\", \"walpole\", \"walpole\", \"walter\", \"walter\", \"walter\", \"walter\", \"walter\", \"war\", \"war\", \"war\", \"war\", \"war\", \"writ\", \"writ\", \"writ\", \"writ\", \"writ\", \"writs\", \"writs\", \"writs\", \"writs\", \"writs\", \"yearly\", \"yearly\", \"yearly\", \"yearly\", \"yearly\", \"years\", \"years\", \"years\", \"years\", \"years\", \"yonge\", \"yonge\", \"yonge\", \"yonge\", \"yonge\"]}, \"R\": 30, \"lambda.step\": 0.01, \"plot.opts\": {\"xlab\": \"PC1\", \"ylab\": \"PC2\"}, \"topic.order\": [4, 5, 2, 3, 1]};\n",
       "\n",
       "function LDAvis_load_lib(url, callback){\n",
       "  var s = document.createElement('script');\n",
       "  s.src = url;\n",
       "  s.async = true;\n",
       "  s.onreadystatechange = s.onload = callback;\n",
       "  s.onerror = function(){console.warn(\"failed to load library \" + url);};\n",
       "  document.getElementsByTagName(\"head\")[0].appendChild(s);\n",
       "}\n",
       "\n",
       "if(typeof(LDAvis) !== \"undefined\"){\n",
       "   // already loaded: just create the visualization\n",
       "   !function(LDAvis){\n",
       "       new LDAvis(\"#\" + \"ldavis_el127845815601363506070482\", ldavis_el127845815601363506070482_data);\n",
       "   }(LDAvis);\n",
       "}else if(typeof define === \"function\" && define.amd){\n",
       "   // require.js is available: use it to load d3/LDAvis\n",
       "   require.config({paths: {d3: \"https://cdnjs.cloudflare.com/ajax/libs/d3/3.5.5/d3.min\"}});\n",
       "   require([\"d3\"], function(d3){\n",
       "      window.d3 = d3;\n",
       "      LDAvis_load_lib(\"https://cdn.rawgit.com/bmabey/pyLDAvis/files/ldavis.v1.0.0.js\", function(){\n",
       "        new LDAvis(\"#\" + \"ldavis_el127845815601363506070482\", ldavis_el127845815601363506070482_data);\n",
       "      });\n",
       "    });\n",
       "}else{\n",
       "    // require.js not available: dynamically load d3 & LDAvis\n",
       "    LDAvis_load_lib(\"https://cdnjs.cloudflare.com/ajax/libs/d3/3.5.5/d3.min.js\", function(){\n",
       "         LDAvis_load_lib(\"https://cdn.rawgit.com/bmabey/pyLDAvis/files/ldavis.v1.0.0.js\", function(){\n",
       "                 new LDAvis(\"#\" + \"ldavis_el127845815601363506070482\", ldavis_el127845815601363506070482_data);\n",
       "            })\n",
       "         });\n",
       "}\n",
       "</script>"
      ],
      "text/plain": [
       "PreparedData(topic_coordinates=            Freq  cluster  topics         x         y\n",
       "topic                                                \n",
       "3      45.038975        1       1  0.057812 -0.018758\n",
       "4      24.505930        1       2  0.003359  0.041384\n",
       "1      13.927556        1       3 -0.025847  0.010055\n",
       "2      12.984609        1       4 -0.034260 -0.035262\n",
       "0       3.542929        1       5 -0.001064  0.002581, topic_info=     Category         Freq         Term        Total  loglift  logprob\n",
       "term                                                                  \n",
       "211   Default  1229.000000         army  1229.000000  30.0000  30.0000\n",
       "1843  Default   839.000000        royal   839.000000  29.0000  29.0000\n",
       "1581  Default   605.000000       prince   605.000000  28.0000  28.0000\n",
       "0     Default   956.000000          000   956.000000  27.0000  27.0000\n",
       "1455  Default  1871.000000        ought  1871.000000  26.0000  26.0000\n",
       "945   Default  1676.000000    gentleman  1676.000000  25.0000  25.0000\n",
       "370   Default   557.000000        civil   557.000000  24.0000  24.0000\n",
       "1277  Default  1548.000000          man  1548.000000  23.0000  23.0000\n",
       "1345  Default  1300.000000       motion  1300.000000  22.0000  22.0000\n",
       "1835  Default  1445.000000        right  1445.000000  21.0000  21.0000\n",
       "1660  Default  1300.000000       public  1300.000000  20.0000  20.0000\n",
       "504   Default  1255.000000      country  1255.000000  19.0000  19.0000\n",
       "1661  Default  1094.000000      publick  1094.000000  18.0000  18.0000\n",
       "2128  Default  1309.000000        trade  1309.000000  17.0000  17.0000\n",
       "1827  Default   592.000000      revenue   592.000000  16.0000  16.0000\n",
       "1706  Default  1530.000000       reason  1530.000000  15.0000  15.0000\n",
       "1244  Default   361.000000         list   361.000000  14.0000  14.0000\n",
       "1391  Default   878.000000       number   878.000000  13.0000  13.0000\n",
       "335   Default   435.000000         cent   435.000000  12.0000  12.0000\n",
       "1974  Default  1004.000000        spain  1004.000000  11.0000  11.0000\n",
       "2230  Default   191.000000        wales   191.000000  10.0000  10.0000\n",
       "2145  Default   460.000000       troops   460.000000   9.0000   9.0000\n",
       "966   Default   919.000000      granted   919.000000   8.0000   8.0000\n",
       "1042  Default   947.000000   honourable   947.000000   7.0000   7.0000\n",
       "1751  Default   526.000000        reign   526.000000   6.0000   6.0000\n",
       "942   Default  1237.000000      general  1237.000000   5.0000   5.0000\n",
       "94    Default  1438.000000      address  1438.000000   4.0000   4.0000\n",
       "2046  Default   869.000000          sum   869.000000   3.0000   3.0000\n",
       "1687  Default  1478.000000     question  1478.000000   2.0000   2.0000\n",
       "2292  Default  1180.000000        years  1180.000000   1.0000   1.0000\n",
       "...       ...          ...          ...          ...      ...      ...\n",
       "1320   Topic5    24.001127     military   158.328698   1.4536  -6.4262\n",
       "1743   Topic5     5.743836     regarded    38.746640   1.4313  -7.8562\n",
       "1920   Topic5    38.052894      settled   260.638956   1.4161  -5.9653\n",
       "318    Topic5     9.876914     capacity    68.655417   1.4013  -7.3141\n",
       "1513   Topic5     7.269241      pleases    51.550555   1.3813  -7.6206\n",
       "1843   Topic5   117.388655        royal   839.367557   1.3731  -4.8388\n",
       "854    Topic5    40.511368       family   291.618107   1.3664  -5.9027\n",
       "1960   Topic5    24.044783     soldiers   181.676236   1.3179  -6.4244\n",
       "2145   Topic5    57.091332       troops   460.256197   1.2531  -5.5596\n",
       "0      Topic5   111.367684          000   956.367420   1.1899  -4.8915\n",
       "1827   Topic5    70.642999      revenue   592.151212   1.2141  -5.3467\n",
       "766    Topic5    41.351566  established   349.612779   1.2055  -5.8822\n",
       "1751   Topic5    53.352964        reign   526.131558   1.0516  -5.6274\n",
       "211    Topic5    90.245719         army  1229.913728   0.7281  -5.1018\n",
       "2041   Topic5    49.815281   sufficient   572.275888   0.8989  -5.6960\n",
       "1835   Topic5    86.599097        right  1445.379983   0.5254  -5.1430\n",
       "1455   Topic5    90.793928        ought  1871.150148   0.3145  -5.0957\n",
       "1345   Topic5    74.288249       motion  1300.558177   0.4776  -5.2963\n",
       "966    Topic5    55.995243      granted   919.231170   0.5419  -5.5790\n",
       "1706   Topic5    65.235238       reason  1530.277114   0.1850  -5.4263\n",
       "1814   Topic5    43.834840      respect   600.353382   0.7231  -5.8239\n",
       "504    Topic5    54.215711      country  1255.567261   0.1978  -5.6113\n",
       "1277   Topic5    55.472108          man  1548.260793   0.0112  -5.5884\n",
       "94     Topic5    51.268484      address  1438.430643   0.0060  -5.6672\n",
       "1391   Topic5    46.810896       number   878.637381   0.4080  -5.7582\n",
       "945    Topic5    51.926122    gentleman  1676.729485  -0.1346  -5.6545\n",
       "2046   Topic5    45.838396          sum   869.814239   0.3971  -5.7792\n",
       "1687   Topic5    48.825659     question  1478.148485  -0.0701  -5.7160\n",
       "942    Topic5    47.197468      general  1237.427804   0.0738  -5.7500\n",
       "326    Topic5    47.120178         case  1751.418996  -0.2753  -5.7516\n",
       "\n",
       "[350 rows x 6 columns], token_table=      Topic      Freq     Term\n",
       "term                          \n",
       "0         1  0.272908      000\n",
       "0         2  0.141159      000\n",
       "0         3  0.190303      000\n",
       "0         4  0.279181      000\n",
       "0         5  0.116064      000\n",
       "2         1  0.374445      100\n",
       "2         2  0.086925      100\n",
       "2         3  0.073552      100\n",
       "2         4  0.274147      100\n",
       "2         5  0.193909      100\n",
       "52        1  0.279127       50\n",
       "52        2  0.186085       50\n",
       "52        3  0.108549       50\n",
       "52        4  0.217099       50\n",
       "52        5  0.201592       50\n",
       "75        1  0.522187  account\n",
       "75        2  0.204155  account\n",
       "75        3  0.160041  account\n",
       "75        4  0.092332  account\n",
       "75        5  0.020518  account\n",
       "85        1  0.892517   action\n",
       "85        2  0.038329   action\n",
       "85        3  0.030116   action\n",
       "85        4  0.024640   action\n",
       "85        5  0.019164   action\n",
       "94        1  0.575627  address\n",
       "94        2  0.314231  address\n",
       "94        3  0.043103  address\n",
       "94        4  0.031284  address\n",
       "94        5  0.035455  address\n",
       "...     ...       ...      ...\n",
       "2237      1  0.378683      war\n",
       "2237      2  0.373065      war\n",
       "2237      3  0.174172      war\n",
       "2237      4  0.051690      war\n",
       "2237      5  0.022474      war\n",
       "2284      1  0.911893     writ\n",
       "2284      2  0.032077     writ\n",
       "2284      3  0.018330     writ\n",
       "2284      4  0.022912     writ\n",
       "2284      5  0.013747     writ\n",
       "2286      1  0.883635    writs\n",
       "2286      2  0.033662    writs\n",
       "2286      3  0.033662    writs\n",
       "2286      4  0.025247    writs\n",
       "2286      5  0.016831    writs\n",
       "2291      1  0.195251   yearly\n",
       "2291      2  0.055370   yearly\n",
       "2291      3  0.238964   yearly\n",
       "2291      4  0.448785   yearly\n",
       "2291      5  0.061198   yearly\n",
       "2292      1  0.298082    years\n",
       "2292      2  0.268443    years\n",
       "2292      3  0.160897    years\n",
       "2292      4  0.245579    years\n",
       "2292      5  0.027098    years\n",
       "2296      1  0.043838    yonge\n",
       "2296      2  0.635648    yonge\n",
       "2296      3  0.241108    yonge\n",
       "2296      4  0.065757    yonge\n",
       "2296      5  0.021919    yonge\n",
       "\n",
       "[1245 rows x 3 columns], R=30, lambda_step=0.01, plot_opts={'xlab': 'PC1', 'ylab': 'PC2'}, topic_order=[4, 5, 2, 3, 1])"
      ]
     },
     "execution_count": 15,
     "metadata": {},
     "output_type": "execute_result"
    }
   ],
   "source": [
    "#visualize same as before\n",
    "import pyLDAvis\n",
    "import pyLDAvis.sklearn\n",
    "pyLDAvis.enable_notebook()\n",
    "\n",
    "#pyLDAvs takes in the fit lda, the dtm, and then method of creating the dtm\n",
    "pyLDAvis.sklearn.prepare(lda_tf, dtm_tf, tf_vectorizer)"
   ]
  },
  {
   "cell_type": "markdown",
   "metadata": {
    "button": false,
    "deletable": true,
    "new_sheet": false,
    "run_control": {
     "read_only": false
    }
   },
   "source": [
    "<font color=darkgreen>\n",
    "\n",
    "#### My owning coding scheme:\n",
    "\n",
    "1. 'religion'\n",
    "2. 'judiciary'\n",
    "3. 'taxes'\n",
    "4. 'misc'\n",
    "5. 'army'"
   ]
  },
  {
   "cell_type": "code",
   "execution_count": 16,
   "metadata": {
    "button": false,
    "collapsed": true,
    "deletable": true,
    "new_sheet": false,
    "run_control": {
     "read_only": false
    }
   },
   "outputs": [],
   "source": [
    "def print_top_words(model, feature_names, n_top_words):\n",
    "    for topic_idx, topic in enumerate(model.components_):\n",
    "        #components_ : array, [n_topics, n_features]\n",
    "        #components_[i, j] = word j in topic i\n",
    "        print('\\n')\n",
    "        print(\"Topic #%d:\" % topic_idx)\n",
    "        print(\" \".join([feature_names[i]\n",
    "                        for i in topic.argsort()[:-n_top_words - 1:-1]]))\n",
    "    print()"
   ]
  },
  {
   "cell_type": "raw",
   "metadata": {
    "button": false,
    "deletable": true,
    "new_sheet": false,
    "run_control": {
     "read_only": false
    }
   },
   "source": [
    "#only usable with gensim LDA objects\n",
    "def get_lda_topics(model, num_topics):\n",
    "    word_dict = {};\n",
    "    for i in range(num_topics):\n",
    "        words = model.components_(i, topn = 20);\n",
    "        word_dict['Topic # ' + '{:02d}'.format(i+1)] = [i[0] for i in words];\n",
    "    return pd.DataFrame(word_dict);"
   ]
  },
  {
   "cell_type": "raw",
   "metadata": {
    "button": false,
    "deletable": true,
    "new_sheet": false,
    "run_control": {
     "read_only": false
    }
   },
   "source": [
    "tf_feature_names = tf_vectorizer.get_feature_names()\n",
    "\n",
    "print_top_words(lda_tf,tf_feature_names,50)"
   ]
  },
  {
   "cell_type": "code",
   "execution_count": null,
   "metadata": {
    "button": false,
    "collapsed": true,
    "deletable": true,
    "new_sheet": false,
    "run_control": {
     "read_only": false
    }
   },
   "outputs": [],
   "source": []
  },
  {
   "cell_type": "code",
   "execution_count": null,
   "metadata": {
    "button": false,
    "collapsed": true,
    "deletable": true,
    "new_sheet": false,
    "run_control": {
     "read_only": false
    }
   },
   "outputs": [],
   "source": []
  },
  {
   "cell_type": "code",
   "execution_count": 17,
   "metadata": {
    "button": false,
    "collapsed": false,
    "deletable": true,
    "new_sheet": false,
    "run_control": {
     "read_only": false
    }
   },
   "outputs": [
    {
     "data": {
      "text/html": [
       "<div>\n",
       "<style>\n",
       "    .dataframe thead tr:only-child th {\n",
       "        text-align: right;\n",
       "    }\n",
       "\n",
       "    .dataframe thead th {\n",
       "        text-align: left;\n",
       "    }\n",
       "\n",
       "    .dataframe tbody tr th {\n",
       "        vertical-align: top;\n",
       "    }\n",
       "</style>\n",
       "<table border=\"1\" class=\"dataframe\">\n",
       "  <thead>\n",
       "    <tr style=\"text-align: right;\">\n",
       "      <th></th>\n",
       "      <th>religion</th>\n",
       "      <th>judiciary</th>\n",
       "      <th>taxes</th>\n",
       "      <th>misc</th>\n",
       "      <th>military</th>\n",
       "    </tr>\n",
       "  </thead>\n",
       "  <tbody>\n",
       "    <tr>\n",
       "      <th>0</th>\n",
       "      <td>0.000349</td>\n",
       "      <td>0.000349</td>\n",
       "      <td>0.030833</td>\n",
       "      <td>0.968121</td>\n",
       "      <td>0.000349</td>\n",
       "    </tr>\n",
       "    <tr>\n",
       "      <th>1</th>\n",
       "      <td>0.000093</td>\n",
       "      <td>0.000092</td>\n",
       "      <td>0.000093</td>\n",
       "      <td>0.975043</td>\n",
       "      <td>0.024679</td>\n",
       "    </tr>\n",
       "    <tr>\n",
       "      <th>2</th>\n",
       "      <td>0.000152</td>\n",
       "      <td>0.000152</td>\n",
       "      <td>0.062961</td>\n",
       "      <td>0.936584</td>\n",
       "      <td>0.000152</td>\n",
       "    </tr>\n",
       "    <tr>\n",
       "      <th>3</th>\n",
       "      <td>0.000149</td>\n",
       "      <td>0.000149</td>\n",
       "      <td>0.000149</td>\n",
       "      <td>0.983301</td>\n",
       "      <td>0.016251</td>\n",
       "    </tr>\n",
       "    <tr>\n",
       "      <th>4</th>\n",
       "      <td>0.000176</td>\n",
       "      <td>0.000176</td>\n",
       "      <td>0.000176</td>\n",
       "      <td>0.970827</td>\n",
       "      <td>0.028645</td>\n",
       "    </tr>\n",
       "  </tbody>\n",
       "</table>\n",
       "</div>"
      ],
      "text/plain": [
       "   religion  judiciary     taxes      misc  military\n",
       "0  0.000349   0.000349  0.030833  0.968121  0.000349\n",
       "1  0.000093   0.000092  0.000093  0.975043  0.024679\n",
       "2  0.000152   0.000152  0.062961  0.936584  0.000152\n",
       "3  0.000149   0.000149  0.000149  0.983301  0.016251\n",
       "4  0.000176   0.000176  0.000176  0.970827  0.028645"
      ]
     },
     "execution_count": 17,
     "metadata": {},
     "output_type": "execute_result"
    }
   ],
   "source": [
    "# extract topic distribution\n",
    "topic_dist = lda_tf.transform(dtm_tf)\n",
    "topic_dist\n",
    "\n",
    "topic_dist_df = pd.DataFrame(topic_dist,columns=['religion','judiciary','taxes','misc','military']) #\n",
    "\n",
    "topic_dist_df.head()"
   ]
  },
  {
   "cell_type": "code",
   "execution_count": 18,
   "metadata": {
    "button": false,
    "collapsed": false,
    "deletable": true,
    "new_sheet": false,
    "run_control": {
     "read_only": false
    }
   },
   "outputs": [
    {
     "data": {
      "text/html": [
       "<div>\n",
       "<style>\n",
       "    .dataframe thead tr:only-child th {\n",
       "        text-align: right;\n",
       "    }\n",
       "\n",
       "    .dataframe thead th {\n",
       "        text-align: left;\n",
       "    }\n",
       "\n",
       "    .dataframe tbody tr th {\n",
       "        vertical-align: top;\n",
       "    }\n",
       "</style>\n",
       "<table border=\"1\" class=\"dataframe\">\n",
       "  <thead>\n",
       "    <tr style=\"text-align: right;\">\n",
       "      <th></th>\n",
       "      <th>religion</th>\n",
       "      <th>judiciary</th>\n",
       "      <th>taxes</th>\n",
       "      <th>misc</th>\n",
       "      <th>military</th>\n",
       "      <th>date</th>\n",
       "      <th>monarch</th>\n",
       "      <th>text</th>\n",
       "      <th>war</th>\n",
       "    </tr>\n",
       "  </thead>\n",
       "  <tbody>\n",
       "    <tr>\n",
       "      <th>0</th>\n",
       "      <td>0.000349</td>\n",
       "      <td>0.000349</td>\n",
       "      <td>0.030833</td>\n",
       "      <td>0.968121</td>\n",
       "      <td>0.000349</td>\n",
       "      <td>1660_11</td>\n",
       "      <td>charles2</td>\n",
       "      <td>On the sixth of November the Parliament met ac...</td>\n",
       "      <td>0</td>\n",
       "    </tr>\n",
       "    <tr>\n",
       "      <th>1</th>\n",
       "      <td>0.000093</td>\n",
       "      <td>0.000092</td>\n",
       "      <td>0.000093</td>\n",
       "      <td>0.975043</td>\n",
       "      <td>0.024679</td>\n",
       "      <td>1660_4</td>\n",
       "      <td>charles2</td>\n",
       "      <td>CHARLES R.\", \"Trusty, and Wellbeloved, We gree...</td>\n",
       "      <td>0</td>\n",
       "    </tr>\n",
       "    <tr>\n",
       "      <th>2</th>\n",
       "      <td>0.000152</td>\n",
       "      <td>0.000152</td>\n",
       "      <td>0.062961</td>\n",
       "      <td>0.936584</td>\n",
       "      <td>0.000152</td>\n",
       "      <td>1661_11</td>\n",
       "      <td>charles2</td>\n",
       "      <td>After a Recess of almost four Months the Parli...</td>\n",
       "      <td>0</td>\n",
       "    </tr>\n",
       "    <tr>\n",
       "      <th>3</th>\n",
       "      <td>0.000149</td>\n",
       "      <td>0.000149</td>\n",
       "      <td>0.000149</td>\n",
       "      <td>0.983301</td>\n",
       "      <td>0.016251</td>\n",
       "      <td>1661_5</td>\n",
       "      <td>charles2</td>\n",
       "      <td>On the 8th of May the new Parliament met, and ...</td>\n",
       "      <td>0</td>\n",
       "    </tr>\n",
       "    <tr>\n",
       "      <th>4</th>\n",
       "      <td>0.000176</td>\n",
       "      <td>0.000176</td>\n",
       "      <td>0.000176</td>\n",
       "      <td>0.970827</td>\n",
       "      <td>0.028645</td>\n",
       "      <td>1663_2</td>\n",
       "      <td>charles2</td>\n",
       "      <td>On February 18, 16623. the Parliament met afte...</td>\n",
       "      <td>0</td>\n",
       "    </tr>\n",
       "  </tbody>\n",
       "</table>\n",
       "</div>"
      ],
      "text/plain": [
       "   religion  judiciary     taxes      misc  military     date   monarch  \\\n",
       "0  0.000349   0.000349  0.030833  0.968121  0.000349  1660_11  charles2   \n",
       "1  0.000093   0.000092  0.000093  0.975043  0.024679   1660_4  charles2   \n",
       "2  0.000152   0.000152  0.062961  0.936584  0.000152  1661_11  charles2   \n",
       "3  0.000149   0.000149  0.000149  0.983301  0.016251   1661_5  charles2   \n",
       "4  0.000176   0.000176  0.000176  0.970827  0.028645   1663_2  charles2   \n",
       "\n",
       "                                                text  war  \n",
       "0  On the sixth of November the Parliament met ac...    0  \n",
       "1  CHARLES R.\", \"Trusty, and Wellbeloved, We gree...    0  \n",
       "2  After a Recess of almost four Months the Parli...    0  \n",
       "3  On the 8th of May the new Parliament met, and ...    0  \n",
       "4  On February 18, 16623. the Parliament met afte...    0  "
      ]
     },
     "execution_count": 18,
     "metadata": {},
     "output_type": "execute_result"
    }
   ],
   "source": [
    "# join topic list to doc list\n",
    "\n",
    "df_texts_topics = topic_dist_df.join(df_texts)\n",
    "df_texts_topics.head()"
   ]
  },
  {
   "cell_type": "code",
   "execution_count": 19,
   "metadata": {
    "button": false,
    "collapsed": false,
    "deletable": true,
    "new_sheet": false,
    "run_control": {
     "read_only": false
    }
   },
   "outputs": [
    {
     "data": {
      "image/png": "[encoded data removed]",
      "text/plain": [
       "<matplotlib.figure.Figure at 0x11010c630>"
      ]
     },
     "metadata": {},
     "output_type": "display_data"
    }
   ],
   "source": [
    "import matplotlib\n",
    "import matplotlib.pyplot as plt\n",
    "\n",
    "plt.figure(figsize=(22, 5))\n",
    "\n",
    "plt.plot(df_texts_topics.date,df_texts_topics['military'],color='blue')\n",
    "#plt.plot(df_texts_topics.date,df_texts_topics['religion'],color='blue')\n",
    "#plt.plot(df_texts_topics.date,df_texts_topics['misc'],color='blue')\n",
    "plt.plot(df_texts_topics.date,df_texts_topics['taxes'],color='green')\n",
    "#plt.plot(df_texts_topics.date,df_texts_topics['judiciary'],color='blue')\n",
    "\n",
    "plt.xticks(df_texts.date[::], rotation=45,size=7)\n",
    "#plt.title()\n",
    "plt.grid()\n",
    "plt.show()"
   ]
  },
  {
   "cell_type": "code",
   "execution_count": null,
   "metadata": {
    "button": false,
    "collapsed": true,
    "deletable": true,
    "new_sheet": false,
    "run_control": {
     "read_only": false
    }
   },
   "outputs": [],
   "source": []
  },
  {
   "cell_type": "code",
   "execution_count": 20,
   "metadata": {
    "button": false,
    "collapsed": true,
    "deletable": true,
    "new_sheet": false,
    "run_control": {
     "read_only": false
    }
   },
   "outputs": [],
   "source": [
    "topics = ['religion','judiciary','taxes','misc','military']\n",
    "#selection by index\n",
    "#X = df_texts_topics.iloc[:,0:15]\n",
    "#selection by topics\n",
    "X = df_texts_topics[topics]\n",
    "y = df_texts_topics['war']"
   ]
  },
  {
   "cell_type": "code",
   "execution_count": 21,
   "metadata": {
    "button": false,
    "collapsed": false,
    "deletable": true,
    "new_sheet": false,
    "run_control": {
     "read_only": false
    }
   },
   "outputs": [
    {
     "name": "stdout",
     "output_type": "stream",
     "text": [
      "Optimization terminated successfully.\n",
      "         Current function value: 0.457540\n",
      "         Iterations 9\n"
     ]
    }
   ],
   "source": [
    "import statsmodels.api as sm\n",
    "logit_model=sm.Logit(y,X)\n",
    "result=logit_model.fit()"
   ]
  },
  {
   "cell_type": "code",
   "execution_count": 22,
   "metadata": {
    "button": false,
    "collapsed": false,
    "deletable": true,
    "new_sheet": false,
    "run_control": {
     "read_only": false
    },
    "scrolled": false
   },
   "outputs": [
    {
     "name": "stderr",
     "output_type": "stream",
     "text": [
      "/Users/zwehrwein/anaconda3/lib/python3.6/site-packages/statsmodels/iolib/summary2.py:529: DeprecationWarning: \n",
      ".ix is deprecated. Please use\n",
      ".loc for label based indexing or\n",
      ".iloc for positional indexing\n",
      "\n",
      "See the documentation here:\n",
      "http://pandas.pydata.org/pandas-docs/stable/indexing.html#ix-indexer-is-deprecated\n",
      "  dat.ix[:, 0] = [str(x) + int(pad_index) * ' ' for x in dat.ix[:, 0]]\n",
      "/Users/zwehrwein/anaconda3/lib/python3.6/site-packages/pandas/core/indexing.py:992: DeprecationWarning: \n",
      ".ix is deprecated. Please use\n",
      ".loc for label based indexing or\n",
      ".iloc for positional indexing\n",
      "\n",
      "See the documentation here:\n",
      "http://pandas.pydata.org/pandas-docs/stable/indexing.html#ix-indexer-is-deprecated\n",
      "  return getattr(section, self.name)[new_key]\n",
      "/Users/zwehrwein/anaconda3/lib/python3.6/site-packages/statsmodels/iolib/summary2.py:529: DeprecationWarning: \n",
      ".ix is deprecated. Please use\n",
      ".loc for label based indexing or\n",
      ".iloc for positional indexing\n",
      "\n",
      "See the documentation here:\n",
      "http://pandas.pydata.org/pandas-docs/stable/indexing.html#ix-indexer-is-deprecated\n",
      "  dat.ix[:, 0] = [str(x) + int(pad_index) * ' ' for x in dat.ix[:, 0]]\n",
      "/Users/zwehrwein/anaconda3/lib/python3.6/site-packages/pandas/core/indexing.py:992: DeprecationWarning: \n",
      ".ix is deprecated. Please use\n",
      ".loc for label based indexing or\n",
      ".iloc for positional indexing\n",
      "\n",
      "See the documentation here:\n",
      "http://pandas.pydata.org/pandas-docs/stable/indexing.html#ix-indexer-is-deprecated\n",
      "  return getattr(section, self.name)[new_key]\n",
      "/Users/zwehrwein/anaconda3/lib/python3.6/site-packages/statsmodels/iolib/summary2.py:529: DeprecationWarning: \n",
      ".ix is deprecated. Please use\n",
      ".loc for label based indexing or\n",
      ".iloc for positional indexing\n",
      "\n",
      "See the documentation here:\n",
      "http://pandas.pydata.org/pandas-docs/stable/indexing.html#ix-indexer-is-deprecated\n",
      "  dat.ix[:, 0] = [str(x) + int(pad_index) * ' ' for x in dat.ix[:, 0]]\n",
      "/Users/zwehrwein/anaconda3/lib/python3.6/site-packages/pandas/core/indexing.py:992: DeprecationWarning: \n",
      ".ix is deprecated. Please use\n",
      ".loc for label based indexing or\n",
      ".iloc for positional indexing\n",
      "\n",
      "See the documentation here:\n",
      "http://pandas.pydata.org/pandas-docs/stable/indexing.html#ix-indexer-is-deprecated\n",
      "  return getattr(section, self.name)[new_key]\n"
     ]
    },
    {
     "data": {
      "text/html": [
       "<table class=\"simpletable\">\n",
       "<tr>\n",
       "        <td>Model:</td>              <td>Logit</td>       <td>No. Iterations:</td>   <td>9.0000</td> \n",
       "</tr>\n",
       "<tr>\n",
       "  <td>Dependent Variable:</td>        <td>war</td>       <td>Pseudo R-squared:</td>   <td>0.257</td> \n",
       "</tr>\n",
       "<tr>\n",
       "         <td>Date:</td>        <td>2018-03-29 15:10</td>       <td>AIC:</td>        <td>111.5738</td>\n",
       "</tr>\n",
       "<tr>\n",
       "   <td>No. Observations:</td>         <td>111</td>             <td>BIC:</td>        <td>125.1214</td>\n",
       "</tr>\n",
       "<tr>\n",
       "       <td>Df Model:</td>              <td>4</td>         <td>Log-Likelihood:</td>   <td>-50.787</td>\n",
       "</tr>\n",
       "<tr>\n",
       "     <td>Df Residuals:</td>           <td>106</td>           <td>LL-Null:</td>       <td>-68.389</td>\n",
       "</tr>\n",
       "<tr>\n",
       "      <td>Converged:</td>           <td>1.0000</td>           <td>Scale:</td>        <td>1.0000</td> \n",
       "</tr>\n",
       "</table>\n",
       "<table class=\"simpletable\">\n",
       "<tr>\n",
       "      <td></td>       <th>Coef.</th>  <th>Std.Err.</th>    <th>z</th>     <th>P>|z|</th>  <th>[0.025</th>  <th>0.975]</th> \n",
       "</tr>\n",
       "<tr>\n",
       "  <th>religion</th>  <td>-4.8624</td>  <td>8.5269</td>  <td>-0.5702</td> <td>0.5685</td> <td>-21.5748</td> <td>11.8501</td>\n",
       "</tr>\n",
       "<tr>\n",
       "  <th>judiciary</th> <td>-6.0115</td>  <td>5.4882</td>  <td>-1.0953</td> <td>0.2734</td> <td>-16.7682</td> <td>4.7453</td> \n",
       "</tr>\n",
       "<tr>\n",
       "  <th>taxes</th>     <td>-1.6418</td>  <td>1.2391</td>  <td>-1.3250</td> <td>0.1852</td>  <td>-4.0704</td> <td>0.7867</td> \n",
       "</tr>\n",
       "<tr>\n",
       "  <th>misc</th>      <td>0.2758</td>   <td>0.2873</td>  <td>0.9600</td>  <td>0.3371</td>  <td>-0.2872</td> <td>0.8388</td> \n",
       "</tr>\n",
       "<tr>\n",
       "  <th>military</th>  <td>-4.9740</td>  <td>1.6665</td>  <td>-2.9847</td> <td>0.0028</td>  <td>-8.2402</td> <td>-1.7077</td>\n",
       "</tr>\n",
       "</table>"
      ],
      "text/plain": [
       "<class 'statsmodels.iolib.summary2.Summary'>\n",
       "\"\"\"\n",
       "                        Results: Logit\n",
       "===============================================================\n",
       "Model:              Logit            No. Iterations:   9.0000  \n",
       "Dependent Variable: war              Pseudo R-squared: 0.257   \n",
       "Date:               2018-03-29 15:10 AIC:              111.5738\n",
       "No. Observations:   111              BIC:              125.1214\n",
       "Df Model:           4                Log-Likelihood:   -50.787 \n",
       "Df Residuals:       106              LL-Null:          -68.389 \n",
       "Converged:          1.0000           Scale:            1.0000  \n",
       "----------------------------------------------------------------\n",
       "            Coef.   Std.Err.     z     P>|z|    [0.025    0.975]\n",
       "----------------------------------------------------------------\n",
       "religion   -4.8624    8.5269  -0.5702  0.5685  -21.5748  11.8501\n",
       "judiciary  -6.0115    5.4882  -1.0953  0.2734  -16.7682   4.7453\n",
       "taxes      -1.6418    1.2391  -1.3250  0.1852   -4.0704   0.7867\n",
       "misc        0.2758    0.2873   0.9600  0.3371   -0.2872   0.8388\n",
       "military   -4.9740    1.6665  -2.9847  0.0028   -8.2402  -1.7077\n",
       "===============================================================\n",
       "\n",
       "\"\"\""
      ]
     },
     "execution_count": 22,
     "metadata": {},
     "output_type": "execute_result"
    }
   ],
   "source": [
    "result.summary2()"
   ]
  },
  {
   "cell_type": "markdown",
   "metadata": {
    "button": false,
    "deletable": true,
    "new_sheet": false,
    "run_control": {
     "read_only": false
    }
   },
   "source": [
    "<font color=darkgreen>\n",
    "\n",
    "Rough interpretation:\n",
    "\n",
    "- Issues with the domestic judiciary are less discussed during times of war, as is our `misc` category.\n",
    "- Religion, taxes, and the military all do come up.\n",
    "- The only \"statistically significant\" observation is religion which makes sense because given that the fight between the English and French was also a Protestant vs. Catholics fight (and fear of domestic Catholics rising up and seizing power in the name of the \"one true church\")."
   ]
  },
  {
   "cell_type": "markdown",
   "metadata": {
    "button": false,
    "deletable": true,
    "new_sheet": false,
    "run_control": {
     "read_only": false
    }
   },
   "source": [
    "\n",
    "\n",
    "## The linear algebra approach to topic models: NMF\n",
    "\n",
    "\n",
    "<img src=\"images/nmf2.png\" style=\"width: 400px;\" />\n",
    "\n",
    "\n",
    "<img src=\"images/nmf.png\" style=\"width: 200px;\" />\n",
    "\n",
    "\n",
    "\n",
    "- Intuition: just like PCA.\n",
    "- Non-negative Matrix Factorization factors high-dimensional vectors into a low-dimensional representation.\n",
    "- NMF creates \"non-negative\" coefficients which factor the complex matrix\n",
    "- Document-term matrix (V)\n",
    "- Term-feature (W)\n",
    "- Feature-document (H) -- the weights of each topic in each document.\n",
    "\n",
    "https://en.wikipedia.org/wiki/Non-negative_matrix_factorization\n",
    "\n",
    "- Key: because this is a linear algebraic approach (and not a probalistic one), you will get the same result every single time."
   ]
  },
  {
   "cell_type": "code",
   "execution_count": 23,
   "metadata": {
    "button": false,
    "collapsed": true,
    "deletable": true,
    "new_sheet": false,
    "run_control": {
     "read_only": false
    }
   },
   "outputs": [],
   "source": [
    "#nmf takes into tfidf\n",
    "from sklearn.feature_extraction.text import TfidfVectorizer\n",
    "\n",
    "tfidf_vectorizer = TfidfVectorizer(max_df=0.95, min_df=2, stop_words='english')\n",
    "\n",
    "#tfidf for texts\n",
    "tfidf_texts = tfidf_vectorizer.fit_transform(df_texts['text'])\n",
    "tfidf_feature_names = tfidf_vectorizer.get_feature_names()"
   ]
  },
  {
   "cell_type": "code",
   "execution_count": 24,
   "metadata": {
    "button": false,
    "collapsed": true,
    "deletable": true,
    "new_sheet": false,
    "run_control": {
     "read_only": false
    }
   },
   "outputs": [],
   "source": [
    "# Run NMF; same as above.\n",
    "from sklearn.decomposition import NMF\n",
    "\n",
    "nmf_model = NMF(n_components=5) #\n",
    "#.fit(tfidf)\n",
    "\n",
    "#fit the model\n",
    "nmf_model.fit(tfidf_texts)\n",
    "\n",
    "nmf_W = nmf_model.transform(tfidf_texts)\n",
    "nmf_H = nmf_model.components_"
   ]
  },
  {
   "cell_type": "code",
   "execution_count": 25,
   "metadata": {
    "button": false,
    "collapsed": false,
    "deletable": true,
    "new_sheet": false,
    "run_control": {
     "read_only": false
    }
   },
   "outputs": [
    {
     "name": "stderr",
     "output_type": "stream",
     "text": [
      "/Users/zwehrwein/anaconda3/lib/python3.6/site-packages/pyLDAvis/_prepare.py:387: DeprecationWarning: \n",
      ".ix is deprecated. Please use\n",
      ".loc for label based indexing or\n",
      ".iloc for positional indexing\n",
      "\n",
      "See the documentation here:\n",
      "http://pandas.pydata.org/pandas-docs/stable/indexing.html#ix-indexer-is-deprecated\n",
      "  topic_term_dists = topic_term_dists.ix[topic_order]\n"
     ]
    },
    {
     "data": {
      "text/html": [
       "\n",
       "<link rel=\"stylesheet\" type=\"text/css\" href=\"https://cdn.rawgit.com/bmabey/pyLDAvis/files/ldavis.v1.0.0.css\">\n",
       "\n",
       "\n",
       "<div id=\"ldavis_el12784570149416736346741\"></div>\n",
       "<script type=\"text/javascript\">\n",
       "\n",
       "var ldavis_el12784570149416736346741_data = {\"mdsDat\": {\"Freq\": [22.740685466171506, 19.69251973820527, 19.3719558414651, 19.368623967893154, 18.826214986264965], \"cluster\": [1, 1, 1, 1, 1], \"topics\": [1, 2, 3, 4, 5], \"x\": [0.05404981022589611, 0.16941299223735176, -0.15131775881475712, -0.10496537825439542, 0.03282033460590477], \"y\": [0.13462769948414494, 0.005099575567901214, -0.04051301184705984, 0.07994028245149151, -0.1791545456564777]}, \"tinfo\": {\"Category\": [\"Default\", \"Default\", \"Default\", \"Default\", \"Default\", \"Default\", \"Default\", \"Default\", \"Default\", \"Default\", \"Default\", \"Default\", \"Default\", \"Default\", \"Default\", \"Default\", \"Default\", \"Default\", \"Default\", \"Default\", \"Default\", \"Default\", \"Default\", \"Default\", \"Default\", \"Default\", \"Default\", \"Default\", \"Default\", \"Default\", \"Topic1\", \"Topic1\", \"Topic1\", \"Topic1\", \"Topic1\", \"Topic1\", \"Topic1\", \"Topic1\", \"Topic1\", \"Topic1\", \"Topic1\", \"Topic1\", \"Topic1\", \"Topic1\", \"Topic1\", \"Topic1\", \"Topic1\", \"Topic1\", \"Topic1\", \"Topic1\", \"Topic1\", \"Topic1\", \"Topic1\", \"Topic1\", \"Topic1\", \"Topic1\", \"Topic1\", \"Topic1\", \"Topic1\", \"Topic1\", \"Topic1\", \"Topic1\", \"Topic1\", \"Topic1\", \"Topic1\", \"Topic1\", \"Topic1\", \"Topic1\", \"Topic1\", \"Topic1\", \"Topic1\", \"Topic1\", \"Topic1\", \"Topic1\", \"Topic1\", \"Topic1\", \"Topic1\", \"Topic1\", \"Topic1\", \"Topic1\", \"Topic1\", \"Topic1\", \"Topic1\", \"Topic1\", \"Topic1\", \"Topic1\", \"Topic1\", \"Topic1\", \"Topic1\", \"Topic1\", \"Topic1\", \"Topic1\", \"Topic1\", \"Topic1\", \"Topic1\", \"Topic1\", \"Topic1\", \"Topic1\", \"Topic1\", \"Topic1\", \"Topic1\", \"Topic1\", \"Topic1\", \"Topic1\", \"Topic1\", \"Topic1\", \"Topic1\", \"Topic1\", \"Topic1\", \"Topic1\", \"Topic1\", \"Topic1\", \"Topic1\", \"Topic1\", \"Topic1\", \"Topic1\", \"Topic1\", \"Topic1\", \"Topic1\", \"Topic1\", \"Topic1\", \"Topic1\", \"Topic1\", \"Topic1\", \"Topic1\", \"Topic1\", \"Topic1\", \"Topic1\", \"Topic1\", \"Topic1\", \"Topic1\", \"Topic1\", \"Topic1\", \"Topic1\", \"Topic1\", \"Topic1\", \"Topic2\", \"Topic2\", \"Topic2\", \"Topic2\", \"Topic2\", \"Topic2\", \"Topic2\", \"Topic2\", \"Topic2\", \"Topic2\", \"Topic2\", \"Topic2\", \"Topic2\", \"Topic2\", \"Topic2\", \"Topic2\", \"Topic2\", \"Topic2\", \"Topic2\", \"Topic2\", \"Topic2\", \"Topic2\", \"Topic2\", \"Topic2\", \"Topic2\", \"Topic2\", \"Topic2\", \"Topic2\", \"Topic2\", \"Topic2\", \"Topic2\", \"Topic2\", \"Topic2\", \"Topic2\", \"Topic2\", \"Topic2\", \"Topic2\", \"Topic2\", \"Topic2\", \"Topic2\", \"Topic2\", \"Topic2\", \"Topic2\", \"Topic2\", \"Topic2\", \"Topic2\", \"Topic2\", \"Topic2\", \"Topic2\", \"Topic2\", \"Topic2\", \"Topic2\", \"Topic2\", \"Topic2\", \"Topic2\", \"Topic2\", \"Topic2\", \"Topic2\", \"Topic2\", \"Topic2\", \"Topic2\", \"Topic2\", \"Topic2\", \"Topic2\", \"Topic2\", \"Topic2\", \"Topic2\", \"Topic2\", \"Topic2\", \"Topic2\", \"Topic2\", \"Topic2\", \"Topic2\", \"Topic2\", \"Topic2\", \"Topic2\", \"Topic2\", \"Topic2\", \"Topic2\", \"Topic2\", \"Topic2\", \"Topic2\", \"Topic2\", \"Topic2\", \"Topic2\", \"Topic2\", \"Topic2\", \"Topic2\", \"Topic2\", \"Topic2\", \"Topic2\", \"Topic2\", \"Topic2\", \"Topic2\", \"Topic2\", \"Topic2\", \"Topic2\", \"Topic2\", \"Topic2\", \"Topic2\", \"Topic2\", \"Topic3\", \"Topic3\", \"Topic3\", \"Topic3\", \"Topic3\", \"Topic3\", \"Topic3\", \"Topic3\", \"Topic3\", \"Topic3\", \"Topic3\", \"Topic3\", \"Topic3\", \"Topic3\", \"Topic3\", \"Topic3\", \"Topic3\", \"Topic3\", \"Topic3\", \"Topic3\", \"Topic3\", \"Topic3\", \"Topic3\", \"Topic3\", \"Topic3\", \"Topic3\", \"Topic3\", \"Topic3\", \"Topic3\", \"Topic3\", \"Topic3\", \"Topic3\", \"Topic3\", \"Topic3\", \"Topic3\", \"Topic3\", \"Topic3\", \"Topic3\", \"Topic3\", \"Topic3\", \"Topic3\", \"Topic3\", \"Topic3\", \"Topic3\", \"Topic3\", \"Topic3\", \"Topic3\", \"Topic3\", \"Topic3\", \"Topic3\", \"Topic3\", \"Topic3\", \"Topic3\", \"Topic3\", \"Topic3\", \"Topic3\", \"Topic3\", \"Topic3\", \"Topic3\", \"Topic3\", \"Topic3\", \"Topic3\", \"Topic3\", \"Topic3\", \"Topic3\", \"Topic3\", \"Topic3\", \"Topic3\", \"Topic3\", \"Topic3\", \"Topic3\", \"Topic3\", \"Topic3\", \"Topic3\", \"Topic3\", \"Topic3\", \"Topic3\", \"Topic3\", \"Topic3\", \"Topic3\", \"Topic3\", \"Topic3\", \"Topic3\", \"Topic3\", \"Topic3\", \"Topic3\", \"Topic3\", \"Topic3\", \"Topic3\", \"Topic3\", \"Topic3\", \"Topic3\", \"Topic3\", \"Topic3\", \"Topic3\", \"Topic3\", \"Topic3\", \"Topic3\", \"Topic3\", \"Topic3\", \"Topic3\", \"Topic3\", \"Topic3\", \"Topic3\", \"Topic4\", \"Topic4\", \"Topic4\", \"Topic4\", \"Topic4\", \"Topic4\", \"Topic4\", \"Topic4\", \"Topic4\", \"Topic4\", \"Topic4\", \"Topic4\", \"Topic4\", \"Topic4\", \"Topic4\", \"Topic4\", \"Topic4\", \"Topic4\", \"Topic4\", \"Topic4\", \"Topic4\", \"Topic4\", \"Topic4\", \"Topic4\", \"Topic4\", \"Topic4\", \"Topic4\", \"Topic4\", \"Topic4\", \"Topic4\", \"Topic4\", \"Topic4\", \"Topic4\", \"Topic4\", \"Topic4\", \"Topic4\", \"Topic4\", \"Topic4\", \"Topic4\", \"Topic4\", \"Topic4\", \"Topic4\", \"Topic4\", \"Topic4\", \"Topic4\", \"Topic4\", \"Topic4\", \"Topic4\", \"Topic4\", \"Topic4\", \"Topic4\", \"Topic4\", \"Topic4\", \"Topic4\", \"Topic4\", \"Topic4\", \"Topic4\", \"Topic4\", \"Topic4\", \"Topic4\", \"Topic4\", \"Topic4\", \"Topic4\", \"Topic4\", \"Topic4\", \"Topic4\", \"Topic4\", \"Topic4\", \"Topic4\", \"Topic4\", \"Topic4\", \"Topic4\", \"Topic4\", \"Topic4\", \"Topic4\", \"Topic4\", \"Topic4\", \"Topic4\", \"Topic4\", \"Topic4\", \"Topic4\", \"Topic4\", \"Topic4\", \"Topic4\", \"Topic4\", \"Topic4\", \"Topic4\", \"Topic4\", \"Topic4\", \"Topic4\", \"Topic4\", \"Topic4\", \"Topic4\", \"Topic4\", \"Topic4\", \"Topic4\", \"Topic4\", \"Topic4\", \"Topic4\", \"Topic4\", \"Topic4\", \"Topic4\", \"Topic4\", \"Topic4\", \"Topic4\", \"Topic4\", \"Topic4\", \"Topic4\", \"Topic4\", \"Topic4\", \"Topic4\", \"Topic4\", \"Topic4\", \"Topic4\", \"Topic4\", \"Topic5\", \"Topic5\", \"Topic5\", \"Topic5\", \"Topic5\", \"Topic5\", \"Topic5\", \"Topic5\", \"Topic5\", \"Topic5\", \"Topic5\", \"Topic5\", \"Topic5\", \"Topic5\", \"Topic5\", \"Topic5\", \"Topic5\", \"Topic5\", \"Topic5\", \"Topic5\", \"Topic5\", \"Topic5\", \"Topic5\", \"Topic5\", \"Topic5\", \"Topic5\", \"Topic5\", \"Topic5\", \"Topic5\", \"Topic5\", \"Topic5\", \"Topic5\", \"Topic5\", \"Topic5\", \"Topic5\", \"Topic5\", \"Topic5\", \"Topic5\", \"Topic5\", \"Topic5\", \"Topic5\", \"Topic5\", \"Topic5\", \"Topic5\", \"Topic5\", \"Topic5\", \"Topic5\", \"Topic5\", \"Topic5\", \"Topic5\", \"Topic5\", \"Topic5\", \"Topic5\", \"Topic5\", \"Topic5\", \"Topic5\", \"Topic5\", \"Topic5\", \"Topic5\", \"Topic5\", \"Topic5\", \"Topic5\", \"Topic5\", \"Topic5\", \"Topic5\", \"Topic5\", \"Topic5\", \"Topic5\", \"Topic5\", \"Topic5\", \"Topic5\", \"Topic5\", \"Topic5\", \"Topic5\", \"Topic5\", \"Topic5\", \"Topic5\", \"Topic5\", \"Topic5\", \"Topic5\", \"Topic5\", \"Topic5\", \"Topic5\", \"Topic5\", \"Topic5\", \"Topic5\", \"Topic5\", \"Topic5\", \"Topic5\", \"Topic5\", \"Topic5\", \"Topic5\", \"Topic5\", \"Topic5\", \"Topic5\", \"Topic5\", \"Topic5\", \"Topic5\", \"Topic5\", \"Topic5\", \"Topic5\"], \"Freq\": [4.0, 4.0, 5.0, 2.0, 12.0, 2.0, 2.0, 4.0, 2.0, 6.0, 3.0, 3.0, 3.0, 1.0, 3.0, 2.0, 2.0, 1.0, 3.0, 4.0, 1.0, 1.0, 2.0, 2.0, 1.0, 5.0, 2.0, 2.0, 1.0, 1.0, 0.08564184278151382, 0.23583949810920873, 0.0688200435127071, 0.07449457892032235, 0.04609691971288131, 0.09439433769547109, 0.06670866234222844, 0.18726728076041552, 0.09871986401284072, 0.13974637525820344, 0.24500120235367867, 0.2160661624180382, 0.06998570205257748, 0.05229091463725828, 0.06424621126240346, 0.057379552751390735, 0.09572556486448686, 0.028473585234865963, 0.08780586886509825, 0.05100702109414406, 0.23498474149351137, 0.038485067636308185, 0.09151211157247227, 0.05100702109414406, 0.05100702109414406, 0.1383840913741912, 0.6481481580260535, 0.04905104444816547, 0.13926133164844928, 0.10650092973225099, 1.0646633082844152, 0.6268614924859939, 0.43959419737634, 0.3879562052418276, 0.3815344240222763, 0.34511536528322584, 0.3284362784706866, 0.31176208681684336, 0.3013588270479976, 0.2873986180848376, 0.2852093422434884, 0.2848082108103457, 0.26875663265414707, 0.2655258671811145, 0.2386218448604094, 0.23822569981683078, 0.2541301493799769, 0.23130461691753298, 0.22446240310735027, 0.24748607931091934, 0.2192891226164095, 0.2166629776946655, 0.21501457865693707, 0.20303878836041625, 0.2029176134111815, 1.4541130371545925, 0.3463452587628233, 0.5256087976610709, 0.2478127559842181, 0.6594883266866922, 0.5264704820433781, 0.8677341291314565, 0.4625879752118192, 1.7552598495824776, 0.3670000472922059, 0.7692559459941666, 0.8998938603048086, 0.3019266672785541, 0.6083910477004525, 0.436346098919427, 2.222403994292683, 2.8584934039584877, 0.44804699957898486, 1.3769714666956674, 0.5859784527213711, 0.9171802828320743, 1.0051126000658037, 0.6297444808744436, 1.2765082270315755, 0.6720907951921385, 1.6306764621178487, 1.4929945945021421, 0.6117723644561811, 1.525294120844963, 1.3904878816273334, 1.3087856487600227, 1.2255639576260104, 1.5303684175472114, 0.9807103961280665, 0.8923147595876819, 1.7058942134870005, 1.1771381621774661, 1.152303748281005, 1.4888579584222505, 1.9692087295346725, 1.2420741665019244, 1.6841951991634412, 1.5113995215951592, 1.3994868227140982, 1.1171535576038207, 1.3296723854672305, 1.2238913177670478, 1.1674725223335565, 1.137365611849909, 1.0833480468649932, 1.0511004418743877, 0.030530546973384025, 0.030530546973384025, 0.032080808656184595, 0.09742222951272639, 0.09742222951272639, 0.06359397263146979, 0.028997696008434427, 0.2505935605565769, 0.0826130942892166, 0.03296676997269955, 0.021338076305506437, 0.2848176368428334, 0.31713324178341756, 0.0626280621647962, 0.06225925364426049, 0.032080808656184595, 0.04355579881944917, 0.021338076305506437, 0.053505208593466025, 0.11967371016959509, 0.17474610991333794, 0.021914829774499, 0.030530546973384025, 0.042676152611012874, 0.0478373906438272, 0.056141942492605346, 0.09742222951272639, 0.1811573283205093, 0.114134554708183, 0.7047498642465947, 4.506854295624238, 2.6753563013923465, 0.9923485142124979, 0.5891662341040256, 0.47250872608097144, 0.44668278572821357, 0.383057234048344, 0.3477650075762351, 0.32946825564268034, 0.32286054931834446, 0.5850342297035933, 0.30428493190817263, 0.3025885990155651, 0.2966956316126817, 0.2859362935863554, 0.2590784858747218, 0.24759914416167175, 0.21886026887582877, 0.6961319138894823, 0.21734201825461033, 0.19880850968583577, 0.6938601798861652, 0.18424789449236817, 0.17620387003917914, 0.6855333493454592, 0.40978571180370915, 0.8650652479255393, 1.5234285426668184, 0.5797512020272869, 0.8540779244672932, 0.43937257246510475, 0.7364117797175517, 0.34663710570012546, 0.3697440738874193, 0.7375380544630306, 0.5602259634462535, 0.7069761315888993, 0.5249458030493604, 0.9313102128346423, 1.0838063718135822, 0.5559802525932085, 0.8842311389144704, 0.6032753914527514, 1.9369770834828697, 1.0324104119638144, 1.009205755367751, 0.7563868962436889, 4.732538631877299, 2.086191767965758, 1.798609872450524, 0.849870742323753, 1.757812823461465, 1.448125160687608, 1.2631333380998908, 1.5498488418037488, 1.2881588475051688, 1.7720476328944748, 1.1555400896816075, 1.001472966209327, 1.1057887511927864, 1.156526976714655, 1.4067605818024835, 0.9880000966293614, 1.0403341331274978, 1.132971213781145, 1.077388635231986, 1.0951265300688824, 0.9716756719975841, 0.9541788127411782, 1.0238387783171068, 0.9941537887554843, 0.0696592029495626, 0.05783830187350855, 0.08010703275149668, 0.08661792583045781, 0.05402761279485073, 0.08584662496934078, 0.05835138749813317, 0.04933953893197504, 0.061572469112544, 0.48901144065183133, 0.07911532198087236, 0.05515262935897388, 0.33296592311626655, 0.0623088086007551, 0.049736824639269026, 0.0627798048854892, 0.029245345252531783, 0.049286610506061264, 0.05783388598670017, 0.11928527559530583, 0.13621748962868083, 0.1416971217859128, 0.20243501609150164, 0.027424226620863516, 0.3036756287980169, 0.24738326040251093, 0.12175558954308327, 0.05835138749813317, 0.049736824639269026, 0.9899802154571506, 0.6494236328492177, 0.45131267218729987, 0.3056193418567168, 0.26905509329949107, 0.25532996859700297, 0.23710925393843632, 0.1926173780733181, 0.18963004279982132, 0.18387379820734306, 0.17737409012770566, 0.1689439119731676, 0.16549803883358352, 0.37875552902033555, 0.13186308094572605, 0.11860206280453837, 0.3055255742411999, 0.11795209187730417, 0.11490375449990105, 0.25723570325072487, 0.10358279780276274, 0.6946978617544332, 0.42531520893055336, 0.5252215508296421, 0.20381807677646988, 0.47063867269671106, 0.8293262647039774, 0.23987036159928082, 0.21476936360337362, 1.4574621083268768, 1.2594347736806584, 0.3296086961166605, 2.104412405983939, 0.6350132532974804, 0.729407386761708, 0.8965710117420418, 1.4410929187664376, 0.8932142592309879, 1.4469705538019377, 0.5258340241712955, 0.6500381685433066, 0.5740614062740383, 0.9708314201105388, 1.008950040188303, 0.948857436529022, 0.6761666692897398, 3.121300166353492, 1.0763487624473134, 0.6610210536112046, 1.6259239088890243, 1.6786452140063808, 2.0434148313601255, 1.407293749744723, 1.5726661756225684, 2.0834453352112208, 0.9875001260231544, 1.1100992470017885, 0.6929441471889265, 1.289850882941895, 1.14005002884441, 2.3889625947206374, 1.6213675941790078, 1.0890032279400854, 0.9834530897075239, 1.1137277491226114, 1.1673101462249842, 1.1945158528129363, 1.189682472645481, 1.0727822768677415, 1.1515941914708325, 1.044796764556046, 1.0296966205485159, 1.014228380355838, 1.031742787131625, 1.009264415681699, 0.013977318142815163, 0.01242190115456078, 0.013977318142815163, 0.015631881201323687, 0.016332340214622976, 0.016332340214622976, 0.01063832047894959, 0.01063832047894959, 0.016868841376070694, 0.020889433280038734, 0.008434420688035347, 0.01242190115456078, 0.01242190115456078, 0.021953210652088797, 0.008434420688035347, 0.008434420688035347, 0.019886548528807023, 0.008434420688035347, 0.013977318142815163, 0.016332340214622976, 0.008434420688035347, 0.018188461915016534, 0.008434420688035347, 0.01242190115456078, 0.08569972668747049, 0.1435471987547086, 0.008434420688035347, 0.01063832047894959, 0.020889433280038734, 0.008434420688035347, 4.172430749919426, 0.2610982090304517, 0.23504905866261466, 0.22389262180981043, 0.1992761660277896, 0.19510029890087546, 0.18489800526356548, 0.1772517862065341, 0.16093780714367245, 0.14942001887614875, 0.13666091083988366, 0.13423365551606836, 0.12924196306241503, 0.1239553147130452, 0.1104651523119717, 0.09360276263709803, 0.08949268887168739, 0.08733681043475572, 0.08806819079327538, 0.0786596864324736, 0.07565545996691851, 0.07333452837831314, 0.0707851347242202, 0.06420683930307172, 0.06325707913660626, 0.06274442952242705, 0.06267634734433708, 0.061454402591602376, 0.29310344389847837, 0.11692175056612862, 0.19921343841053366, 0.27785340442615536, 0.6191620567414358, 0.3470905820427185, 0.2969327370077562, 1.238499727452341, 0.7107290784879563, 1.4857175816852226, 0.1675093940208466, 0.6337760985272836, 0.1809250951812776, 0.2185702909803017, 1.8016989586600825, 1.1002540729207588, 0.44768884870698744, 0.32887698767482987, 0.5033417275547638, 0.5440654315534791, 0.8899132733267191, 0.5155327964585198, 0.6790548198343583, 1.4751031518343651, 0.6453833078310293, 1.326260039310045, 0.5588670081934157, 0.6104608595796638, 2.0427513371276187, 1.9073917306049328, 0.8135666254565593, 1.236545534855799, 2.4227607154113606, 1.8107930275051902, 0.9001328140234152, 1.4739611007501392, 1.55063289353301, 2.446718908703188, 2.4020534107652884, 0.6764649352073927, 1.3643184380235402, 1.530100793297687, 1.5728418169695326, 0.8154955478891769, 0.8758745716485878, 0.8552711851543879, 1.4688348118596282, 1.0894156934782973, 1.2726144182850823, 1.2271142034334055, 1.4196269365667442, 1.1209328240754053, 1.2114183831602425, 1.2694036021811206, 1.0313528255519577, 1.0773657816450817, 1.0907057650494847, 0.025741899344076277, 0.13562673418036283, 0.0990774807651248, 0.021826759409872866, 0.02529559361589444, 0.02529559361589444, 0.23188904699964127, 0.26205806156574757, 0.04357769409953205, 0.09976852469945166, 0.2589510336459465, 0.03129555233097671, 0.05385796433179572, 0.0624452934622819, 0.037928510736299895, 0.025741899344076277, 0.1500471419329713, 0.025741899344076277, 0.12748067069386007, 0.037928510736299895, 0.021826759409872866, 0.03101889561487804, 0.03213461555105383, 0.7886072533408796, 0.07322063020205546, 0.06257716981312413, 0.05097199391209153, 0.09166165033419171, 0.03122264673114095, 0.10007320930298261, 1.4945835894553179, 0.9506678075559569, 0.8376922807496938, 0.7175456227834129, 0.676414024387211, 0.6187552390650014, 0.5138641046161743, 0.5134556404801014, 0.47526678616661183, 0.43623958639369875, 0.33570743494748573, 0.3320653091219742, 0.3220392601432974, 0.30376112660529536, 0.2839257932804794, 0.2839161739264193, 0.274604119522475, 0.25576916632142094, 0.24199483472472835, 0.2313242592421542, 0.2230072899669544, 0.22024713869359297, 0.20956255617434166, 0.20704932828786163, 0.19445871456659325, 0.18987071438510666, 0.46722614287473657, 0.37892057172035226, 0.9915551941981863, 0.3043241114405843, 0.6842512388588003, 0.36143507573691236, 0.9133933741783598, 0.478963161573172, 2.198378705379822, 2.0522831363186738, 1.550670963079484, 0.3325978708600071, 0.6251207217367903, 0.3952746279768582, 0.656245422171683, 0.6169416013262848, 1.206833563499123, 3.2950951742797177, 0.812954488388903, 2.125711402515416, 1.4554842794005702, 0.8597284841337339, 1.3959519995978018, 2.1268138944748145, 4.015084840873444, 1.3427151501286587, 1.2825932951760897, 1.1350172944223655, 0.9251463968944253, 0.7754251138684528, 1.2839700090360349, 1.073594096417339, 0.852719681584119, 1.7225734651682674, 1.4670137337077966, 1.1660900265367173, 1.001712472297993, 1.2966268248199464, 1.422605416195386, 1.1936442000150709, 1.3519513082358205, 1.0530026843263205, 1.064154715454864, 1.0415509346201264, 0.9533697805015046], \"Term\": [\"lordships\", \"gentleman\", \"publick\", \"conference\", \"said\", \"duties\", \"commissioners\", \"hath\", \"walpole\", \"act\", \"public\", \"case\", \"religion\", \"accompts\", \"motion\", \"europe\", \"popish\", \"trial\", \"earl\", \"year\", \"engagements\", \"tranquility\", \"honourable\", \"thousand\", \"wou\", \"committee\", \"britain\", \"measures\", \"emperor\", \"proposed\", \"trample\", \"pride\", \"smyrna\", \"banks\", \"dutifulness\", \"insecurity\", \"disinherison\", \"mensem\", \"propound\", \"liberally\", \"reverence\", \"appetite\", \"frequenting\", \"revealing\", \"stiled\", \"countenances\", \"boldness\", \"omers\", \"limb\", \"buoy\", \"insolencies\", \"oldest\", \"countermine\", \"exhorting\", \"inquisitive\", \"miracle\", \"cou\", \"accompanies\", \"harangu\", \"quid\", \"shou\", \"uniformity\", \"conjure\", \"oblivion\", \"breda\", \"prayers\", \"shortly\", \"prevention\", \"exceedingly\", \"sectaries\", \"precious\", \"wisdoms\", \"distempers\", \"marry\", \"haste\", \"wonderful\", \"gotten\", \"primitive\", \"nonconformists\", \"invite\", \"reproaches\", \"distractions\", \"soul\", \"modena\", \"condescensions\", \"wou\", \"chearful\", \"confident\", \"breaches\", \"marriage\", \"indulgence\", \"affections\", \"remedies\", \"god\", \"assessment\", \"unto\", \"pray\", \"restoration\", \"love\", \"bless\", \"religion\", \"hath\", \"kindness\", \"popery\", \"recess\", \"tell\", \"advice\", \"hearts\", \"bills\", \"thank\", \"protestant\", \"popish\", \"heart\", \"houses\", \"church\", \"parliaments\", \"papists\", \"royal\", \"ready\", \"dutch\", \"england\", \"revenue\", \"desire\", \"men\", \"act\", \"laws\", \"nation\", \"war\", \"government\", \"supply\", \"think\", \"crown\", \"public\", \"given\", \"address\", \"power\", \"exhausting\", \"infatuate\", \"assess\", \"paton\", \"paty\", \"stat\", \"singula\", \"pleaded\", \"popham\", \"hoc\", \"heiress\", \"haversham\", \"hallifax\", \"garraway\", \"garisons\", \"531\", \"whipt\", \"forsaken\", \"betrayers\", \"eliz\", \"bellasis\", \"fanshaw\", \"reproved\", \"parliamentroll\", \"subsidybill\", \"anglesey\", \"oviat\", \"lee\", \"paintedchamber\", \"judicature\", \"lordships\", \"conference\", \"danby\", \"somers\", \"crispe\", \"shirley\", \"pemberton\", \"nicholas\", \"plea\", \"porter\", \"sbench\", \"1675\", \"mohun\", \"dalmahoy\", \"peck\", \"batteries\", \"partition\", \"cap\", \"impeached\", \"cited\", \"chain\", \"corpus\", \"commitments\", \"bedloe\", \"habeas\", \"chiefjustice\", \"writ\", \"trial\", \"highsteward\", \"serjeant\", \"judgments\", \"error\", \"oates\", \"bail\", \"trials\", \"record\", \"impeachments\", \"fagg\", \"privilege\", \"impeachment\", \"writs\", \"action\", \"illegal\", \"earl\", \"judgment\", \"judges\", \"custody\", \"said\", \"lord\", \"case\", \"treason\", \"law\", \"right\", \"john\", \"persons\", \"duke\", \"committee\", \"court\", \"reasons\", \"message\", \"popish\", \"hath\", \"proceedings\", \"matter\", \"person\", \"resolved\", \"answer\", \"appointed\", \"plot\", \"government\", \"think\", \"aggrandizing\", \"instill\", \"259\", \"383\", \"confounding\", \"retirement\", \"resorts\", \"boasting\", \"infante\", \"repose\", \"1850\", \"glaring\", \"doddington\", \"brackley\", \"commendations\", \"dutchies\", \"17012\", \"prie\", \"spectators\", \"chetwynd\", \"swedish\", \"1719\", \"1721\", \"unpardonable\", \"lawson\", \"1724\", \"unjustisiable\", \"victim\", \"surmize\", \"shippen\", \"craggs\", \"broderick\", \"1726\", \"molesworth\", \"palm\", \"hinchingbroke\", \"resident\", \"subgovernor\", \"1720\", \"bahama\", \"cambray\", \"plummer\", \"aislabie\", \"1717\", \"655\", \"hop\", \"skreen\", \"brunswick\", \"sloper\", \"animadverted\", \"jekyll\", \"hutcheson\", \"1727\", \"quadruple\", \"methuen\", \"sweden\", \"wilfrid\", \"lutwyche\", \"engagements\", \"mov\", \"1728\", \"walpole\", \"oppos\", \"hungerford\", \"seconded\", \"tranquility\", \"national\", \"emperor\", \"lechmere\", \"sinking\", \"gibraltar\", \"pretender\", \"pulteney\", \"southsea\", \"vienna\", \"publick\", \"treaties\", \"wyndham\", \"europe\", \"britain\", \"motion\", \"measures\", \"member\", \"address\", \"robert\", \"fn\", \"stanhope\", \"spain\", \"support\", \"said\", \"committee\", \"william\", \"allies\", \"read\", \"question\", \"lord\", \"year\", \"general\", \"nation\", \"honour\", \"000\", \"treaty\", \"crown\", \"late\", \"unbyassed\", \"lewdness\", \"productive\", \"disclosed\", \"deaf\", \"pretexts\", \"divulging\", \"disgraceful\", \"pardo\", \"cockburn\", \"abstain\", \"ugly\", \"bauble\", \"numberless\", \"disobeyed\", \"swayed\", \"1738\", \"prolix\", \"unawares\", \"unadvisable\", \"cedula\", \"tackle\", \"sophistical\", \"grasping\", \"minority\", \"purchaser\", \"polite\", \"adventures\", \"arrant\", \"arrogant\", \"gentleman\", \"ridiculous\", \"keene\", \"surprised\", \"1737\", \"smugglers\", \"dependent\", \"loading\", \"constituents\", \"american\", \"shape\", \"overturned\", \"plundered\", \"needle\", \"honestly\", \"conversant\", \"captures\", \"georgia\", \"monstrous\", \"slavish\", \"corner\", \"guarda\", \"senate\", \"unanswerable\", \"costa\", \"hynde\", \"muscovites\", \"countrygentleman\", \"trader\", \"woven\", \"motive\", \"commodity\", \"septennial\", \"talk\", \"smuggling\", \"scheme\", \"really\", \"proposed\", \"comprehend\", \"convinced\", \"stockjobbing\", \"plumer\", \"honourable\", \"certainly\", \"bad\", \"barnard\", \"agreeing\", \"rum\", \"suppose\", \"proposition\", \"sort\", \"believe\", \"regular\", \"spoke\", \"consumption\", \"minister\", \"ought\", \"man\", \"petitioners\", \"constitution\", \"think\", \"army\", \"method\", \"know\", \"say\", \"publick\", \"nation\", \"liquors\", \"country\", \"reason\", \"case\", \"spaniards\", \"obliged\", \"respect\", \"motion\", \"number\", \"thing\", \"opinion\", \"power\", \"way\", \"question\", \"war\", \"years\", \"law\", \"year\", \"967\", \"lime\", \"398\", \"illminded\", \"4500\", \"independentcompanies\", \"certificates\", \"callicoes\", \"burglaries\", \"ratifying\", \"breadwaggons\", \"consistency\", \"576\", \"lustring\", \"589\", \"purser\", \"boyle\", \"thirtyfive\", \"thirtytwo\", \"blasphemy\", \"condescention\", \"resettled\", \"transfers\", \"1711\", \"weeklybills\", \"watkins\", \"dismist\", \"fifths\", \"sixtythree\", \"robberies\", \"accompts\", \"1712\", \"1710\", \"1707\", \"1709\", \"marlborough\", \"pence\", \"1706\", \"cloathing\", \"accompt\", \"1708\", \"debentures\", \"forage\", \"deposition\", \"32\", \"drugs\", \"contractors\", \"1705\", \"harnage\", \"prophaneness\", \"vellom\", \"montgomery\", \"establishments\", \"majorgeneral\", \"auditors\", \"linnens\", \"merchandizes\", \"contracts\", \"imported\", \"paymaster\", \"1713\", \"victualling\", \"portugal\", \"impositions\", \"duties\", \"commissioners\", \"scotland\", \"equivalent\", \"shillings\", \"africa\", \"payable\", \"regiment\", \"paid\", \"act\", \"goods\", \"public\", \"thousand\", \"cent\", \"granted\", \"year\", \"said\", \"queen\", \"sum\", \"ordered\", \"union\", \"payment\", \"resolved\", \"pounds\", \"greatbritain\", \"committee\", \"england\", \"account\", \"resolutions\", \"money\", \"address\", \"000\", \"war\", \"pleased\", \"read\", \"presented\", \"trade\"], \"Total\": [4.0, 4.0, 5.0, 2.0, 12.0, 2.0, 2.0, 4.0, 2.0, 6.0, 3.0, 3.0, 3.0, 1.0, 3.0, 2.0, 2.0, 1.0, 3.0, 4.0, 1.0, 1.0, 2.0, 2.0, 1.0, 5.0, 2.0, 2.0, 1.0, 1.0, 0.08564184278151382, 0.23583949810920873, 0.0688200435127071, 0.07449457892032235, 0.04609691971288131, 0.09439433769547109, 0.06670866234222844, 0.18726728076041552, 0.09871986401284072, 0.13974637525820344, 0.24500120235367867, 0.2160661624180382, 0.06998570205257748, 0.05229091463725828, 0.06424621126240346, 0.057379552751390735, 0.09572556486448686, 0.028473585234865963, 0.08780586886509825, 0.05100702109414406, 0.23498474149351137, 0.038485067636308185, 0.09151211157247227, 0.05100702109414406, 0.05100702109414406, 0.1383840913741912, 0.6481481580260535, 0.04905104444816547, 0.13926133164844928, 0.10650092973225099, 1.0646633082844152, 0.6268614924859939, 0.43959419737634, 0.3879562052418276, 0.3815344240222763, 0.34511536528322584, 0.3284362784706866, 0.31176208681684336, 0.3013588270479976, 0.2873986180848376, 0.2852093422434884, 0.2848082108103457, 0.26875663265414707, 0.2655258671811145, 0.2386218448604094, 0.23822569981683078, 0.2543068405031773, 0.23130461691753298, 0.22446240310735027, 0.2477724688479411, 0.2192891226164095, 0.2166629776946655, 0.21501457865693707, 0.20303878836041625, 0.2029176134111815, 1.5033845519024904, 0.3501811877313059, 0.5401777911567103, 0.24902434586334518, 0.6908626770132105, 0.5536454453553388, 0.9837021250371565, 0.4952069473005581, 2.188785478948576, 0.38541999636578667, 0.8774719718477658, 1.0562499816647695, 0.3106882468420706, 0.7001912700276391, 0.4766277368727073, 3.217373862071324, 4.658443145536431, 0.500537900148761, 1.9695650611779691, 0.6973078206452602, 1.2300998173622366, 1.396012933086848, 0.7796659502987103, 1.9920219558563186, 0.8666926169457243, 2.9044044274861673, 2.6495215712167974, 0.7713268866745914, 2.7766110870986425, 2.4435432288052636, 2.2775092697352597, 2.081782983871628, 2.95659970487065, 1.6053666818341157, 1.4021478927402404, 4.146540457705706, 2.269682119844278, 2.2492557663559203, 3.71796357291254, 6.520845012594848, 2.9504692023484553, 5.580127017537403, 5.036581417581102, 4.4179145733520535, 2.5173879868560993, 5.117602610077043, 4.001833488034679, 3.8334334996925428, 4.207266296581891, 5.205578286990821, 4.196420996713301, 0.030530546973384025, 0.030530546973384025, 0.032080808656184595, 0.09742222951272639, 0.09742222951272639, 0.06359397263146979, 0.028997696008434427, 0.2505935605565769, 0.0826130942892166, 0.03296676997269955, 0.021338076305506437, 0.2848176368428334, 0.31713324178341756, 0.0626280621647962, 0.06225925364426049, 0.032080808656184595, 0.04355579881944917, 0.021338076305506437, 0.053505208593466025, 0.11967371016959509, 0.17474610991333794, 0.021914829774499, 0.030530546973384025, 0.042676152611012874, 0.0478373906438272, 0.056141942492605346, 0.09742222951272639, 0.1811573283205093, 0.114134554708183, 0.7047498642465947, 4.506854295624238, 2.6753563013923465, 0.9923485142124979, 0.5891662341040256, 0.47250872608097144, 0.44668278572821357, 0.383057234048344, 0.3477650075762351, 0.32946825564268034, 0.32286054931834446, 0.5888281498643461, 0.30428493190817263, 0.3025885990155651, 0.2966956316126817, 0.2859362935863554, 0.2590784858747218, 0.24759914416167175, 0.21886026887582877, 0.7045456148455337, 0.217530802764905, 0.19880850968583577, 0.7028752512029879, 0.18424789449236817, 0.17620387003917914, 0.6957728053659186, 0.4177020025192125, 0.9084527484013734, 1.6415616359623082, 0.6020729486748227, 0.9160015336027874, 0.4568745911507514, 0.8085039009059938, 0.35726111578845604, 0.38368538971638905, 0.8457748713145701, 0.6243881899239616, 0.8227557326178994, 0.5842817083359074, 1.1614710108680706, 1.4004968445039232, 0.6323830367902704, 1.1314110462979172, 0.7133190699735648, 3.183111070291704, 1.4334110612518853, 1.3916412303159484, 0.9618537007897089, 12.157183173945647, 4.370076570902504, 3.6061169302769445, 1.1847940028011787, 3.79168656759809, 2.9035528738274277, 2.349225787408243, 3.460690425419977, 2.7155004834302146, 5.564036906409347, 2.3482219258956945, 1.76007761610619, 2.2303562077861963, 2.6495215712167974, 4.658443145536431, 1.8121873171536216, 2.1945942694639955, 3.0045540468862146, 2.746624381424543, 3.5694022585857033, 1.9644421653165511, 1.79233167872965, 4.4179145733520535, 5.117602610077043, 0.0696592029495626, 0.05783830187350855, 0.08010703275149668, 0.08661792583045781, 0.05402761279485073, 0.08584662496934078, 0.05835138749813317, 0.04933953893197504, 0.061572469112544, 0.48901144065183133, 0.07911532198087236, 0.05515262935897388, 0.33296592311626655, 0.0623088086007551, 0.049736824639269026, 0.0627798048854892, 0.029245345252531783, 0.049286610506061264, 0.05783388598670017, 0.11928527559530583, 0.13621748962868083, 0.1416971217859128, 0.20243501609150164, 0.027424226620863516, 0.3036756287980169, 0.24738326040251093, 0.12175558954308327, 0.05835138749813317, 0.049736824639269026, 0.9899802154571506, 0.6494236328492177, 0.45131267218729987, 0.3056193418567168, 0.26905509329949107, 0.25532996859700297, 0.23710925393843632, 0.1926173780733181, 0.18963004279982132, 0.18387379820734306, 0.17737409012770566, 0.1689439119731676, 0.16562122086061887, 0.38243442923523696, 0.13186308094572605, 0.11860206280453837, 0.30846442756519105, 0.11795209187730417, 0.11490375449990105, 0.2594959693145591, 0.10358279780276274, 0.7107885217195877, 0.43274368554819054, 0.5386081267343182, 0.2053190583822192, 0.48272091080779855, 0.8687382829956901, 0.24344955659534567, 0.21747498748440622, 1.5796413268834697, 1.3578833615357828, 0.338882836330875, 2.3496782165560726, 0.6731688215446027, 0.7828622882574592, 0.9823080772181628, 1.6342857029037086, 0.9838932059765735, 1.6744084724595856, 0.5694307008134684, 0.7311823020970848, 0.6364777851028379, 1.1546122591536137, 1.208950513107918, 1.1314681152503558, 0.816181291353576, 5.5680190750566805, 1.4789610844316496, 0.8139622886327427, 2.6239466015746835, 2.8988425224814525, 3.9227409896848124, 2.367733010949305, 2.82183765180997, 5.205578286990821, 1.5956862994889716, 1.9884005139717964, 0.8831769722464021, 3.067169243927278, 2.4097905488406535, 12.157183173945647, 5.564036906409347, 2.3923183567793083, 2.0521277367742807, 3.1399974174608962, 3.7337082059302187, 4.370076570902504, 4.5977645421389, 3.065236382228564, 5.580127017537403, 2.912183941152896, 3.2574856614634013, 2.622016816641936, 4.001833488034679, 3.449048457262104, 0.013977318142815163, 0.01242190115456078, 0.013977318142815163, 0.015631881201323687, 0.016332340214622976, 0.016332340214622976, 0.01063832047894959, 0.01063832047894959, 0.016868841376070694, 0.020889433280038734, 0.008434420688035347, 0.01242190115456078, 0.01242190115456078, 0.021953210652088797, 0.008434420688035347, 0.008434420688035347, 0.019886548528807023, 0.008434420688035347, 0.013977318142815163, 0.016332340214622976, 0.008434420688035347, 0.018188461915016534, 0.008434420688035347, 0.01242190115456078, 0.08569972668747049, 0.1435471987547086, 0.008434420688035347, 0.01063832047894959, 0.020889433280038734, 0.008434420688035347, 4.18821352637728, 0.2610982090304517, 0.23504905866261466, 0.22389262180981043, 0.1992761660277896, 0.19510029890087546, 0.18489800526356548, 0.1772517862065341, 0.16093780714367245, 0.14942001887614875, 0.13666091083988366, 0.13423365551606836, 0.12924196306241503, 0.1239553147130452, 0.1104651523119717, 0.09360276263709803, 0.08949268887168739, 0.08733681043475572, 0.08814386643993069, 0.0786596864324736, 0.07565545996691851, 0.07333452837831314, 0.0707851347242202, 0.06420683930307172, 0.06325707913660626, 0.06274442952242705, 0.06267634734433708, 0.061454402591602376, 0.2987410271203489, 0.11798959913622943, 0.20460881887836038, 0.29074849279975484, 0.6724361214897381, 0.36956687112010467, 0.3142213935872979, 1.422668723750046, 0.7931494052349667, 1.7418090036520961, 0.17414016755702066, 0.7234347689578167, 0.19009714628764, 0.23300473137839464, 2.3581569905098947, 1.371603033031989, 0.5193289690068877, 0.3719078973225237, 0.6053439687371536, 0.6723528173926698, 1.2003921286132748, 0.6380737915428246, 0.8807902651883519, 2.228008763883234, 0.8456562045540132, 2.041644619971398, 0.7242767337318052, 0.8148738138110697, 3.6372025775795978, 3.428589574269831, 1.1757545913928715, 2.0738647934484686, 5.117602610077043, 3.5456297029848276, 1.3973250902415506, 2.7274856044575873, 2.934936687975847, 5.5680190750566805, 5.580127017537403, 0.9665620494239653, 2.808343626322633, 3.425572988824643, 3.6061169302769445, 1.3050098636780638, 1.472979934986531, 1.4265657281041697, 3.9227409896848124, 2.2772426998917332, 3.1484173091751417, 3.041844048375629, 4.196420996713301, 2.909230072498257, 3.7337082059302187, 5.036581417581102, 2.574658070352182, 3.79168656759809, 4.5977645421389, 0.025741899344076277, 0.13562673418036283, 0.0990774807651248, 0.021826759409872866, 0.02529559361589444, 0.02529559361589444, 0.23188904699964127, 0.26205806156574757, 0.04357769409953205, 0.09976852469945166, 0.2589510336459465, 0.03129555233097671, 0.05385796433179572, 0.0624452934622819, 0.037928510736299895, 0.025741899344076277, 0.1500471419329713, 0.025741899344076277, 0.12748067069386007, 0.037928510736299895, 0.021826759409872866, 0.03101889561487804, 0.03213461555105383, 0.7886072533408796, 0.07322063020205546, 0.06257716981312413, 0.05097199391209153, 0.09166165033419171, 0.03122264673114095, 0.10007320930298261, 1.4945835894553179, 0.9506678075559569, 0.8376922807496938, 0.7175456227834129, 0.676414024387211, 0.6187552390650014, 0.5138641046161743, 0.5134556404801014, 0.47526678616661183, 0.43623958639369875, 0.33570743494748573, 0.3320653091219742, 0.3220392601432974, 0.30376112660529536, 0.2839257932804794, 0.2839161739264193, 0.274604119522475, 0.25576916632142094, 0.24199483472472835, 0.2313242592421542, 0.2230072899669544, 0.22024713869359297, 0.20956255617434166, 0.20704932828786163, 0.19445871456659325, 0.18987071438510666, 0.47193611612781616, 0.3821942580386403, 1.0246788292576483, 0.3075667928779608, 0.7411362187643944, 0.3752295699011333, 1.036964066274271, 0.5135962521314001, 2.7823662306546124, 2.62350463432133, 1.9873846788281484, 0.34419020612048595, 0.7278691456154414, 0.42349525754095246, 0.7975899239973814, 0.7487517530011518, 1.7595945607826167, 6.520845012594848, 1.0774821509154047, 3.8334334996925428, 2.3657039090909615, 1.2017988064002243, 2.44164445663011, 4.5977645421389, 12.157183173945647, 2.498811551524854, 2.3547364692064363, 1.9850286919718867, 1.4264227758013193, 1.0805453870199226, 2.746624381424543, 2.0334440795309625, 1.343304879259689, 5.564036906409347, 4.146540457705706, 2.6565773888864594, 1.9917610969638915, 3.9665447199202517, 5.205578286990821, 3.2574856614634013, 5.036581417581102, 2.409525894177704, 3.1399974174608962, 2.8649539825393173, 3.204449036247259], \"loglift\": [30.0, 29.0, 28.0, 27.0, 26.0, 25.0, 24.0, 23.0, 22.0, 21.0, 20.0, 19.0, 18.0, 17.0, 16.0, 15.0, 14.0, 13.0, 12.0, 11.0, 10.0, 9.0, 8.0, 7.0, 6.0, 5.0, 4.0, 3.0, 2.0, 1.0, 1.481, 1.481, 1.481, 1.481, 1.481, 1.481, 1.481, 1.481, 1.481, 1.481, 1.481, 1.481, 1.481, 1.481, 1.481, 1.481, 1.481, 1.481, 1.481, 1.481, 1.481, 1.481, 1.481, 1.481, 1.481, 1.481, 1.481, 1.481, 1.481, 1.481, 1.481, 1.481, 1.481, 1.481, 1.481, 1.481, 1.481, 1.481, 1.481, 1.481, 1.481, 1.481, 1.481, 1.481, 1.481, 1.481, 1.4803, 1.481, 1.481, 1.4799, 1.481, 1.481, 1.481, 1.481, 1.481, 1.4477, 1.47, 1.4537, 1.4761, 1.4345, 1.4307, 1.3556, 1.4129, 1.2603, 1.432, 1.3494, 1.3208, 1.4524, 1.3405, 1.3927, 1.111, 0.9926, 1.3702, 1.1231, 1.3071, 1.1875, 1.1525, 1.2675, 1.036, 1.2267, 0.9038, 0.9074, 1.2493, 0.882, 0.9172, 0.927, 0.9512, 0.8225, 0.9882, 1.0291, 0.5928, 0.8245, 0.8122, 0.5658, 0.2836, 0.6158, 0.2831, 0.2773, 0.3315, 0.6686, 0.1333, 0.2963, 0.2921, 0.1729, -0.0887, 0.0966, 1.6249, 1.6249, 1.6249, 1.6249, 1.6249, 1.6249, 1.6249, 1.6249, 1.6249, 1.6249, 1.6249, 1.6249, 1.6249, 1.6249, 1.6249, 1.6249, 1.6249, 1.6249, 1.6249, 1.6249, 1.6249, 1.6249, 1.6249, 1.6249, 1.6249, 1.6249, 1.6249, 1.6249, 1.6249, 1.6249, 1.6249, 1.6249, 1.6249, 1.6249, 1.6249, 1.6249, 1.6249, 1.6249, 1.6249, 1.6249, 1.6185, 1.6249, 1.6249, 1.6249, 1.6249, 1.6249, 1.6249, 1.6249, 1.6129, 1.6241, 1.6249, 1.612, 1.6249, 1.6249, 1.6101, 1.6058, 1.576, 1.5502, 1.5872, 1.5549, 1.5859, 1.5315, 1.5947, 1.5879, 1.488, 1.5165, 1.4733, 1.5178, 1.4041, 1.3686, 1.4962, 1.3784, 1.4574, 1.1282, 1.2968, 1.3036, 1.3846, 0.6815, 0.8855, 0.9293, 1.2927, 0.8562, 0.9293, 1.0044, 0.8216, 0.8792, 0.4807, 0.9158, 1.061, 0.9233, 0.796, 0.4275, 1.0183, 0.8785, 0.6496, 0.6891, 0.4434, 0.921, 0.9945, 0.1628, -0.0136, 1.6413, 1.6413, 1.6413, 1.6413, 1.6413, 1.6413, 1.6413, 1.6413, 1.6413, 1.6413, 1.6413, 1.6413, 1.6413, 1.6413, 1.6413, 1.6413, 1.6413, 1.6413, 1.6413, 1.6413, 1.6413, 1.6413, 1.6413, 1.6413, 1.6413, 1.6413, 1.6413, 1.6413, 1.6413, 1.6413, 1.6413, 1.6413, 1.6413, 1.6413, 1.6413, 1.6413, 1.6413, 1.6413, 1.6413, 1.6413, 1.6413, 1.6406, 1.6317, 1.6413, 1.6413, 1.6318, 1.6413, 1.6413, 1.6326, 1.6413, 1.6184, 1.624, 1.6162, 1.634, 1.616, 1.5949, 1.6265, 1.6288, 1.5608, 1.5661, 1.6136, 1.5311, 1.583, 1.5706, 1.55, 1.5155, 1.5447, 1.4954, 1.5617, 1.5237, 1.5381, 1.468, 1.4605, 1.4653, 1.4531, 1.0626, 1.3236, 1.4332, 1.1627, 1.095, 0.9892, 1.1211, 1.0567, 0.7256, 1.1615, 1.0585, 1.3988, 0.7751, 0.8929, 0.0143, 0.4083, 0.8543, 0.9058, 0.6048, 0.4786, 0.3443, 0.2895, 0.5915, 0.0633, 0.6163, 0.4897, 0.6915, 0.2858, 0.4125, 1.6415, 1.6415, 1.6415, 1.6415, 1.6415, 1.6415, 1.6415, 1.6415, 1.6415, 1.6415, 1.6415, 1.6415, 1.6415, 1.6415, 1.6415, 1.6415, 1.6415, 1.6415, 1.6415, 1.6415, 1.6415, 1.6415, 1.6415, 1.6415, 1.6415, 1.6415, 1.6415, 1.6415, 1.6415, 1.6415, 1.6377, 1.6415, 1.6415, 1.6415, 1.6415, 1.6415, 1.6415, 1.6415, 1.6415, 1.6415, 1.6415, 1.6415, 1.6415, 1.6415, 1.6415, 1.6415, 1.6415, 1.6415, 1.6407, 1.6415, 1.6415, 1.6415, 1.6415, 1.6415, 1.6415, 1.6415, 1.6415, 1.6415, 1.6225, 1.6324, 1.6148, 1.5962, 1.559, 1.5788, 1.5849, 1.5029, 1.5318, 1.4825, 1.6027, 1.5092, 1.5921, 1.5776, 1.3724, 1.4211, 1.4931, 1.5186, 1.457, 1.4298, 1.3422, 1.4283, 1.3814, 1.2291, 1.3712, 1.2101, 1.3823, 1.3527, 1.0646, 1.0551, 1.2733, 1.1244, 0.8937, 0.9696, 1.2017, 1.0261, 1.0035, 0.8192, 0.7986, 1.2847, 0.9196, 0.8356, 0.8118, 1.1713, 1.1217, 1.1299, 0.6592, 0.9042, 0.7357, 0.7337, 0.5577, 0.6878, 0.5159, 0.2633, 0.7267, 0.3832, 0.2028, 1.6699, 1.6699, 1.6699, 1.6699, 1.6699, 1.6699, 1.6699, 1.6699, 1.6699, 1.6699, 1.6699, 1.6699, 1.6699, 1.6699, 1.6699, 1.6699, 1.6699, 1.6699, 1.6699, 1.6699, 1.6699, 1.6699, 1.6699, 1.6699, 1.6699, 1.6699, 1.6699, 1.6699, 1.6699, 1.6699, 1.6699, 1.6699, 1.6699, 1.6699, 1.6699, 1.6699, 1.6699, 1.6699, 1.6699, 1.6699, 1.6699, 1.6699, 1.6699, 1.6699, 1.6699, 1.6699, 1.6699, 1.6699, 1.6699, 1.6699, 1.6699, 1.6699, 1.6699, 1.6699, 1.6699, 1.6699, 1.6599, 1.6613, 1.6371, 1.6593, 1.5901, 1.6325, 1.543, 1.6001, 1.4343, 1.4244, 1.4218, 1.6357, 1.5177, 1.601, 1.4749, 1.4763, 1.2928, 0.9874, 1.3882, 1.0803, 1.1842, 1.335, 1.1108, 0.899, 0.5621, 1.0488, 1.0624, 1.1109, 1.2369, 1.3381, 0.9095, 1.0312, 1.2155, 0.4974, 0.6309, 0.8465, 0.9826, 0.5518, 0.3727, 0.666, 0.3547, 0.8421, 0.5879, 0.6581, 0.4576], \"logprob\": [30.0, 29.0, 28.0, 27.0, 26.0, 25.0, 24.0, 23.0, 22.0, 21.0, 20.0, 19.0, 18.0, 17.0, 16.0, 15.0, 14.0, 13.0, 12.0, 11.0, 10.0, 9.0, 8.0, 7.0, 6.0, 5.0, 4.0, 3.0, 2.0, 1.0, -8.8983, -7.8853, -9.117, -9.0377, -9.5177, -8.801, -9.1481, -8.1159, -8.7562, -8.4086, -7.8472, -7.9729, -9.1002, -9.3917, -9.1858, -9.2988, -8.787, -9.9995, -8.8733, -9.4165, -7.889, -9.6982, -8.832, -9.4165, -9.4165, -8.4184, -6.8744, -9.4556, -8.4121, -8.6803, -6.3781, -6.9077, -7.2626, -7.3876, -7.4043, -7.5046, -7.5541, -7.6062, -7.6402, -7.6876, -7.6953, -7.6967, -7.7547, -7.7668, -7.8736, -7.8753, -7.8106, -7.9047, -7.9348, -7.8371, -7.9581, -7.9701, -7.9778, -8.0351, -8.0357, -6.0663, -7.501, -7.0839, -7.8358, -6.857, -7.0823, -6.5826, -7.2116, -5.8781, -7.4431, -6.7031, -6.5462, -7.6383, -6.9377, -7.27, -5.6421, -5.3904, -7.2436, -6.1208, -6.9752, -6.5272, -6.4356, -6.9032, -6.1966, -6.8381, -5.9517, -6.0399, -6.9321, -6.0185, -6.1111, -6.1716, -6.2373, -6.0152, -6.4602, -6.5547, -5.9066, -6.2776, -6.299, -6.0427, -5.7631, -6.2239, -5.9194, -6.0277, -6.1046, -6.3299, -6.1558, -6.2387, -6.2859, -6.312, -6.3607, -6.3909, -9.7858, -9.7858, -9.7363, -8.6255, -8.6255, -9.052, -9.8373, -7.6807, -8.7904, -9.7091, -10.1441, -7.5527, -7.4452, -9.0673, -9.0733, -9.7363, -9.4305, -10.1441, -9.2248, -8.4198, -8.0412, -10.1174, -9.7858, -9.4509, -9.3368, -9.1767, -8.6255, -8.0052, -8.4672, -6.6467, -4.7912, -5.3127, -6.3045, -6.8258, -7.0465, -7.1027, -7.2564, -7.353, -7.4071, -7.4273, -6.8329, -7.4866, -7.4922, -7.5119, -7.5488, -7.6474, -7.6927, -7.8161, -6.659, -7.8231, -7.9122, -6.6623, -7.9883, -8.0329, -6.6744, -7.1889, -6.4418, -5.8758, -6.842, -6.4545, -7.1192, -6.6028, -7.3563, -7.2917, -6.6012, -6.8762, -6.6436, -6.9413, -6.368, -6.2163, -6.8838, -6.4198, -6.8022, -5.6357, -6.2649, -6.2876, -6.576, -4.7423, -5.5615, -5.7098, -6.4595, -5.7327, -5.9265, -6.0632, -5.8586, -6.0436, -5.7247, -6.1522, -6.2953, -6.1962, -6.1514, -5.9555, -6.3089, -6.2573, -6.172, -6.2223, -6.2059, -6.3255, -6.3437, -6.2732, -6.3027, -8.9445, -9.1305, -8.8048, -8.7266, -9.1986, -8.7356, -9.1217, -9.2894, -9.0679, -6.9958, -8.8172, -9.178, -7.3801, -9.056, -9.2814, -9.0485, -9.8124, -9.2905, -9.1306, -8.4066, -8.2739, -8.2345, -7.8777, -9.8767, -7.4722, -7.6772, -8.3861, -9.1217, -9.2814, -6.2905, -6.7121, -7.076, -7.4658, -7.5932, -7.6456, -7.7196, -7.9274, -7.9431, -7.9739, -8.0099, -8.0586, -8.0792, -7.2513, -8.3064, -8.4124, -7.4661, -8.4179, -8.4441, -7.6382, -8.5478, -6.6447, -7.1353, -6.9243, -7.8709, -7.0341, -6.4675, -7.708, -7.8186, -5.9037, -6.0497, -7.3902, -5.5364, -6.7345, -6.5959, -6.3896, -5.915, -6.3933, -5.9109, -6.9232, -6.7111, -6.8354, -6.31, -6.2715, -6.3329, -6.6717, -5.1421, -6.2068, -6.6944, -5.7943, -5.7624, -5.5658, -5.9387, -5.8276, -5.5464, -6.293, -6.1759, -6.6472, -6.0259, -6.1493, -5.4095, -5.7971, -6.1951, -6.2971, -6.1727, -6.1257, -6.1026, -6.1067, -6.2101, -6.1392, -6.2366, -6.2511, -6.2663, -6.2491, -6.2712, -10.5505, -10.6685, -10.5505, -10.4387, -10.3948, -10.3948, -10.8235, -10.8235, -10.3625, -10.1487, -11.0557, -10.6685, -10.6685, -10.0991, -11.0557, -11.0557, -10.1979, -11.0557, -10.5505, -10.3948, -11.0557, -10.2872, -11.0557, -10.6685, -8.7371, -8.2213, -11.0557, -10.8235, -10.1487, -11.0557, -4.8517, -7.6231, -7.7282, -7.7768, -7.8933, -7.9145, -7.9682, -8.0104, -8.107, -8.1812, -8.2705, -8.2884, -8.3263, -8.3681, -8.4833, -8.6489, -8.6938, -8.7182, -8.7099, -8.8228, -8.8618, -8.8929, -8.9283, -9.0259, -9.0408, -9.0489, -9.05, -9.0697, -7.5074, -8.4265, -7.8936, -7.5609, -6.7596, -7.3384, -7.4945, -6.0663, -6.6217, -5.8843, -8.0669, -6.7363, -7.9899, -7.8009, -5.6915, -6.1847, -7.0839, -7.3923, -6.9667, -6.8889, -6.3968, -6.9428, -6.6673, -5.8915, -6.7181, -5.9979, -6.8621, -6.7738, -5.5659, -5.6345, -6.4865, -6.0679, -5.3953, -5.6865, -6.3854, -5.8923, -5.8416, -5.3855, -5.4039, -6.6711, -5.9696, -5.8549, -5.8273, -6.4842, -6.4128, -6.4366, -5.8957, -6.1946, -6.0391, -6.0756, -5.9298, -6.1661, -6.0884, -6.0417, -6.2493, -6.2057, -6.1934, -9.9114, -8.2497, -8.5637, -10.0764, -9.9289, -9.9289, -7.7133, -7.591, -9.385, -8.5567, -7.6029, -9.7161, -9.1732, -9.0253, -9.5239, -9.9114, -8.1486, -9.9114, -8.3116, -9.5239, -10.0764, -9.725, -9.6896, -6.4893, -8.8661, -9.0232, -9.2283, -8.6415, -9.7184, -8.5537, -5.85, -6.3024, -6.4289, -6.5837, -6.6428, -6.7319, -6.9176, -6.9184, -6.9957, -7.0814, -7.3433, -7.3542, -7.3849, -7.4433, -7.5109, -7.5109, -7.5442, -7.6153, -7.6707, -7.7157, -7.7524, -7.7648, -7.8145, -7.8266, -7.8893, -7.9132, -7.0128, -7.2222, -6.2603, -7.4415, -6.6312, -7.2695, -6.3424, -6.9879, -5.4641, -5.5329, -5.8131, -7.3526, -6.7216, -7.18, -6.673, -6.7348, -6.0638, -5.0594, -6.4589, -5.4977, -5.8765, -6.403, -5.9182, -5.4972, -4.8618, -5.9571, -6.0029, -6.1252, -6.3296, -6.5062, -6.0019, -6.1808, -6.4111, -5.708, -5.8686, -6.0982, -6.2501, -5.992, -5.8993, -6.0748, -5.9503, -6.2002, -6.1896, -6.2111, -6.2996]}, \"token.table\": {\"Topic\": [3, 4, 5, 5, 5, 5, 5, 5, 5, 5, 3, 5, 3, 5, 1, 2, 5, 2, 1, 2, 3, 5, 1, 1, 4, 3, 5, 1, 2, 3, 2, 5, 1, 4, 5, 1, 4, 1, 5, 3, 5, 2, 4, 5, 4, 1, 5, 2, 5, 2, 3, 5, 2, 1, 4, 4, 4, 2, 1, 1, 3, 4, 2, 4, 3, 1, 2, 3, 4, 2, 2, 1, 1, 2, 5, 1, 4, 5, 2, 3, 5, 3, 3, 1, 2, 5, 2, 3, 4, 2, 3, 3, 4, 5, 4, 3, 1, 2, 3, 5, 1, 5, 1, 2, 3, 4, 3, 5, 5, 2, 1, 2, 1, 1, 2, 1, 3, 4, 4, 1, 2, 3, 2, 2, 2, 2, 5, 1, 3, 2, 2, 2, 2, 1, 4, 1, 2, 3, 5, 1, 2, 4, 1, 2, 4, 3, 4, 1, 2, 3, 5, 2, 1, 1, 2, 4, 5, 1, 2, 3, 4, 2, 3, 1, 3, 4, 5, 2, 4, 4, 1, 3, 4, 5, 3, 4, 3, 1, 3, 4, 3, 3, 4, 4, 2, 3, 4, 3, 2, 5, 2, 4, 5, 1, 2, 1, 4, 5, 5, 5, 1, 2, 1, 2, 5, 4, 1, 5, 1, 2, 1, 2, 1, 2, 5, 1, 5, 1, 2, 3, 4, 1, 3, 5, 3, 2, 2, 4, 4, 1, 2, 1, 2, 5, 3, 4, 3, 1, 5, 2, 3, 4, 2, 3, 5, 1, 4, 1, 2, 4, 2, 1, 2, 5, 4, 1, 2, 3, 5, 2, 5, 4, 1, 4, 5, 2, 4, 3, 1, 3, 5, 4, 2, 3, 4, 5, 1, 4, 2, 4, 5, 3, 4, 2, 5, 3, 1, 3, 2, 4, 3, 3, 4, 5, 4, 4, 3, 3, 5, 1, 5, 1, 3, 4, 3, 1, 1, 1, 2, 4, 1, 2, 4, 1, 5, 3, 4, 5, 3, 2, 3, 3, 4, 5, 2, 2, 1, 5, 1, 3, 3, 1, 3, 4, 5, 1, 2, 4, 2, 3, 1, 2, 2, 3, 3, 4, 5, 4, 5], \"Freq\": [0.306985234602923, 0.306985234602923, 0.306985234602923, 1.9475879144398147, 1.393639607361725, 1.4783844863446434, 1.1937557776049323, 1.2680583341879876, 1.0518921457652697, 1.3492796259062572, 1.8566374147809224, 0.6690826843378077, 0.3764241930927386, 0.3764241930927386, 0.30670871583928927, 0.15335435791964463, 0.4600630737589339, 0.883852074161812, 0.1921016157799575, 0.1921016157799575, 0.384203231559915, 0.1921016157799575, 0.7163257419032726, 1.0165678964678744, 1.651953354860648, 0.48729910038245966, 0.48729910038245966, 0.28015895311172573, 0.28015895311172573, 0.28015895311172573, 0.5090503643505634, 0.5090503643505634, 0.2820373484456561, 0.5640746968913122, 0.2820373484456561, 0.44883126862440303, 0.44883126862440303, 0.502002499048825, 0.502002499048825, 0.6899305445153917, 0.34496527225769585, 0.5546131860583908, 0.5546131860583908, 0.8320860319335173, 0.7290739200171173, 0.4092417879952695, 0.4092417879952695, 0.381169519168274, 0.762339038336548, 0.35945124621588187, 0.35945124621588187, 0.35945124621588187, 1.1213459674282256, 1.851242343485927, 0.48219151178953074, 1.3806877308450076, 1.3822946351342837, 1.42272757262185, 1.5428571193436966, 0.3560817809569278, 0.3560817809569278, 0.3560817809569278, 0.4258541277432987, 0.4258541277432987, 1.539826931786726, 0.24988545949999164, 0.24988545949999164, 0.24988545949999164, 0.24988545949999164, 1.0396591489734581, 1.0077104824342626, 0.4445915022016935, 0.36825624082997843, 0.36825624082997843, 0.36825624082997843, 0.7131915293512182, 0.35940631717799715, 0.7188126343559943, 0.6283161208750149, 0.31415806043750744, 0.31415806043750744, 0.597225836137267, 0.6330551011683997, 0.48232979284774813, 0.24116489642387406, 0.24116489642387406, 1.2368524120655688, 0.7622106329449538, 0.3811053164724769, 1.711503176863263, 0.5029167881286235, 0.3262391134979793, 0.3262391134979793, 0.3262391134979793, 0.9550611435658868, 1.5711467444828833, 0.237684027942902, 0.237684027942902, 0.237684027942902, 0.237684027942902, 0.9137487520982355, 0.9280896200001294, 0.22635113997717227, 0.22635113997717227, 0.22635113997717227, 0.22635113997717227, 0.4095600394580677, 0.4095600394580677, 0.744432641792466, 1.437250769630301, 0.6439919746309457, 0.21466399154364854, 1.2964671882647358, 1.282600579923843, 1.6609283014641738, 0.3433849029481678, 0.3433849029481678, 0.3433849029481678, 0.8481199547141042, 0.7203025332906292, 0.3601512666453146, 1.2773638671826417, 1.4018971903233421, 1.4193545157743157, 0.7140323121214992, 1.2154275690284564, 0.9759155468494187, 1.8062101086340256, 1.4068882226470572, 0.42567215350689586, 0.7185760081087617, 0.6976365866234066, 1.4189431608745882, 0.3666380487455842, 0.3666380487455842, 0.28993503929887143, 0.28993503929887143, 0.28993503929887143, 0.28993503929887143, 0.26373487949808766, 0.5274697589961753, 0.26373487949808766, 0.33892914361012144, 0.33892914361012144, 0.33892914361012144, 1.756139945688625, 1.0345947273596792, 0.22882894241678722, 0.45765788483357445, 0.22882894241678722, 0.22882894241678722, 1.109421266370773, 1.4281811882066542, 0.2916651230303542, 0.2916651230303542, 0.5833302460607084, 1.6161479319530223, 1.447465658911081, 0.455665092137618, 0.4223449161605708, 0.4223449161605708, 0.3543789981534142, 0.7087579963068285, 0.2689644426012034, 0.2689644426012034, 0.2689644426012034, 0.2689644426012034, 0.4483588749227544, 0.7156530767132605, 1.227183869516087, 0.2521085908795969, 0.2521085908795969, 0.2521085908795969, 0.2521085908795969, 0.5098475798578528, 0.2549237899289264, 0.7364402778077991, 0.35841478047261927, 0.17920739023630963, 0.35841478047261927, 1.016370469808702, 0.43912754668070425, 0.43912754668070425, 0.6788958737643254, 0.32874795160324166, 0.32874795160324166, 0.32874795160324166, 1.4855114616055376, 0.5037710558262111, 0.5037710558262111, 0.27493656970447244, 0.5498731394089449, 0.5683127365176833, 0.48035746653103795, 0.48035746653103795, 0.4390761492339573, 0.4390761492339573, 1.2537771226950494, 0.9254585804654982, 1.946039801217367, 0.3328280950833137, 0.3328280950833137, 0.28895968060438215, 0.5779193612087643, 0.28895968060438215, 0.8505176227424621, 0.4150194037824478, 0.4150194037824478, 0.5579324473630738, 0.5579324473630738, 0.5077263095852818, 0.5077263095852818, 0.3774266308542445, 0.3774266308542445, 0.9643535707007863, 0.4917764939130569, 0.4917764939130569, 0.23829830247804373, 0.23829830247804373, 0.23829830247804373, 0.23829830247804373, 0.9467455785645429, 0.3490457459681995, 0.3490457459681995, 0.8660916182659001, 0.8609771493587353, 0.5518193348636203, 0.574115760053642, 1.5672168536840532, 0.6886093345240658, 0.3443046672620329, 0.26086274878126986, 0.26086274878126986, 0.5217254975625397, 0.5387912576376116, 0.3591941717584078, 0.827163716924395, 0.4001902421932411, 0.4001902421932411, 0.26783024940505745, 0.26783024940505745, 0.26783024940505745, 0.31847159951126086, 0.31847159951126086, 0.31847159951126086, 0.6229106479633113, 1.2607965074420686, 0.29192196554046057, 0.29192196554046057, 0.5838439310809211, 0.568156762434315, 1.4340868844331056, 1.60156776847714, 1.3355561385890493, 1.1825136439782706, 0.6216249916049276, 0.3108124958024638, 0.5020682457973166, 0.5020682457973166, 0.36408327500586296, 0.36408327500586296, 0.7009841750011386, 0.44059033256542973, 0.44059033256542973, 0.44059033256542973, 0.34440564489594166, 0.34440564489594166, 0.6266895945150724, 0.67645274965875, 0.338226374829375, 0.338226374829375, 1.4873143595618734, 0.4112794821349423, 0.16451179285397693, 0.08225589642698847, 0.32902358570795387, 0.3407228524202596, 0.6814457048405193, 1.6982883719645188, 0.7029043257267065, 1.006347699721269, 1.0180105642945945, 1.4871301050642038, 1.091701228999948, 1.3738733205327196, 1.0101211967536365, 0.9392640774024485, 1.3676479820858987, 1.697313834559358, 1.135344064896262, 0.883807494459297, 0.32603352487962994, 0.32603352487962994, 0.32603352487962994, 0.7662777330905236, 0.4898012074275734, 1.1322758987436607, 0.4246759724823931, 0.4246759724823931, 0.3972371383438888, 0.3972371383438888, 0.41497382437701835, 0.41497382437701835, 0.8330611107515565, 1.1510946617336548, 0.8129421579334505, 1.1538116056925218, 0.31761990289082465, 0.31761990289082465, 0.31761990289082465, 0.19540399600994918, 0.19540399600994918, 0.39080799201989835, 0.42270716811059295, 0.42270716811059295, 0.31206612702790976, 0.31206612702790976, 0.31206612702790976, 0.6118881161496152, 0.8440285801883914, 0.6761503128963602, 0.3813858071592073, 0.3813858071592073, 0.3813858071592073, 1.2183520595177468, 1.1823477309579098, 1.595248730360229, 0.7010544257737553, 1.139637540666076, 1.2252179884466285, 0.8511803811721094, 0.39709474228265956, 0.19854737114132978, 0.19854737114132978, 0.19854737114132978, 0.3437335566730428, 0.3437335566730428, 0.3437335566730428, 0.41800456748000037, 0.41800456748000037, 0.6651658078663429, 1.1007727168636174, 1.5813200889695112, 1.2285581457093733, 0.2174970011697893, 0.2174970011697893, 0.4349940023395786, 0.3884010896496295, 0.3884010896496295], \"Term\": [\"000\", \"000\", \"000\", \"1706\", \"1707\", \"1709\", \"1710\", \"1711\", \"1712\", \"1713\", \"1727\", \"accompts\", \"account\", \"account\", \"act\", \"act\", \"act\", \"action\", \"address\", \"address\", \"address\", \"address\", \"advice\", \"affections\", \"agreeing\", \"allies\", \"allies\", \"answer\", \"answer\", \"answer\", \"appointed\", \"appointed\", \"army\", \"army\", \"army\", \"believe\", \"believe\", \"bills\", \"bills\", \"britain\", \"britain\", \"case\", \"case\", \"cent\", \"certainly\", \"church\", \"church\", \"commissioners\", \"commissioners\", \"committee\", \"committee\", \"committee\", \"conference\", \"confident\", \"constitution\", \"consumption\", \"convinced\", \"corpus\", \"cou\", \"country\", \"country\", \"country\", \"court\", \"court\", \"craggs\", \"crown\", \"crown\", \"crown\", \"crown\", \"custody\", \"danby\", \"desire\", \"duke\", \"duke\", \"duke\", \"dutch\", \"duties\", \"duties\", \"earl\", \"earl\", \"earl\", \"emperor\", \"engagements\", \"england\", \"england\", \"england\", \"error\", \"europe\", \"europe\", \"fagg\", \"fn\", \"general\", \"general\", \"general\", \"gentleman\", \"gibraltar\", \"given\", \"given\", \"given\", \"given\", \"god\", \"goods\", \"government\", \"government\", \"government\", \"government\", \"granted\", \"granted\", \"greatbritain\", \"habeas\", \"hath\", \"hath\", \"heart\", \"hearts\", \"highsteward\", \"honour\", \"honour\", \"honour\", \"honourable\", \"houses\", \"houses\", \"hungerford\", \"illegal\", \"impeached\", \"impeachment\", \"impeachments\", \"imported\", \"indulgence\", \"jekyll\", \"john\", \"judges\", \"judgment\", \"judicature\", \"know\", \"know\", \"late\", \"late\", \"late\", \"late\", \"law\", \"law\", \"law\", \"laws\", \"laws\", \"laws\", \"lechmere\", \"liquors\", \"lord\", \"lord\", \"lord\", \"lord\", \"lordships\", \"love\", \"man\", \"man\", \"man\", \"marlborough\", \"marriage\", \"matter\", \"measures\", \"measures\", \"member\", \"member\", \"men\", \"men\", \"men\", \"men\", \"message\", \"method\", \"minister\", \"money\", \"money\", \"money\", \"money\", \"motion\", \"motion\", \"mov\", \"nation\", \"nation\", \"nation\", \"national\", \"number\", \"number\", \"obliged\", \"opinion\", \"opinion\", \"opinion\", \"oppos\", \"ordered\", \"ordered\", \"ought\", \"ought\", \"paid\", \"papists\", \"papists\", \"parliaments\", \"parliaments\", \"payable\", \"payment\", \"pence\", \"person\", \"person\", \"persons\", \"persons\", \"persons\", \"petitioners\", \"pleased\", \"pleased\", \"plot\", \"plot\", \"popery\", \"popery\", \"popish\", \"popish\", \"portugal\", \"pounds\", \"pounds\", \"power\", \"power\", \"power\", \"power\", \"pray\", \"presented\", \"presented\", \"pretender\", \"privilege\", \"proceedings\", \"proposed\", \"proposition\", \"protestant\", \"protestant\", \"public\", \"public\", \"public\", \"publick\", \"publick\", \"pulteney\", \"queen\", \"queen\", \"question\", \"question\", \"question\", \"read\", \"read\", \"read\", \"ready\", \"really\", \"reason\", \"reason\", \"reason\", \"reasons\", \"recess\", \"record\", \"regiment\", \"regular\", \"religion\", \"religion\", \"resolutions\", \"resolutions\", \"resolved\", \"resolved\", \"respect\", \"revenue\", \"revenue\", \"revenue\", \"right\", \"right\", \"robert\", \"royal\", \"royal\", \"royal\", \"rum\", \"said\", \"said\", \"said\", \"said\", \"say\", \"say\", \"sbench\", \"scheme\", \"scotland\", \"seconded\", \"septennial\", \"serjeant\", \"shillings\", \"shippen\", \"shou\", \"sinking\", \"somers\", \"sort\", \"southsea\", \"spain\", \"spain\", \"spain\", \"spaniards\", \"spoke\", \"stanhope\", \"sum\", \"sum\", \"supply\", \"supply\", \"support\", \"support\", \"suppose\", \"sweden\", \"tell\", \"thank\", \"thing\", \"thing\", \"thing\", \"think\", \"think\", \"think\", \"thousand\", \"thousand\", \"trade\", \"trade\", \"trade\", \"tranquility\", \"treason\", \"treaties\", \"treaty\", \"treaty\", \"treaty\", \"trial\", \"trials\", \"uniformity\", \"union\", \"unto\", \"vienna\", \"walpole\", \"war\", \"war\", \"war\", \"war\", \"way\", \"way\", \"way\", \"william\", \"william\", \"wou\", \"writ\", \"writs\", \"wyndham\", \"year\", \"year\", \"year\", \"years\", \"years\"]}, \"R\": 30, \"lambda.step\": 0.01, \"plot.opts\": {\"xlab\": \"PC1\", \"ylab\": \"PC2\"}, \"topic.order\": [3, 5, 4, 2, 1]};\n",
       "\n",
       "function LDAvis_load_lib(url, callback){\n",
       "  var s = document.createElement('script');\n",
       "  s.src = url;\n",
       "  s.async = true;\n",
       "  s.onreadystatechange = s.onload = callback;\n",
       "  s.onerror = function(){console.warn(\"failed to load library \" + url);};\n",
       "  document.getElementsByTagName(\"head\")[0].appendChild(s);\n",
       "}\n",
       "\n",
       "if(typeof(LDAvis) !== \"undefined\"){\n",
       "   // already loaded: just create the visualization\n",
       "   !function(LDAvis){\n",
       "       new LDAvis(\"#\" + \"ldavis_el12784570149416736346741\", ldavis_el12784570149416736346741_data);\n",
       "   }(LDAvis);\n",
       "}else if(typeof define === \"function\" && define.amd){\n",
       "   // require.js is available: use it to load d3/LDAvis\n",
       "   require.config({paths: {d3: \"https://cdnjs.cloudflare.com/ajax/libs/d3/3.5.5/d3.min\"}});\n",
       "   require([\"d3\"], function(d3){\n",
       "      window.d3 = d3;\n",
       "      LDAvis_load_lib(\"https://cdn.rawgit.com/bmabey/pyLDAvis/files/ldavis.v1.0.0.js\", function(){\n",
       "        new LDAvis(\"#\" + \"ldavis_el12784570149416736346741\", ldavis_el12784570149416736346741_data);\n",
       "      });\n",
       "    });\n",
       "}else{\n",
       "    // require.js not available: dynamically load d3 & LDAvis\n",
       "    LDAvis_load_lib(\"https://cdnjs.cloudflare.com/ajax/libs/d3/3.5.5/d3.min.js\", function(){\n",
       "         LDAvis_load_lib(\"https://cdn.rawgit.com/bmabey/pyLDAvis/files/ldavis.v1.0.0.js\", function(){\n",
       "                 new LDAvis(\"#\" + \"ldavis_el12784570149416736346741\", ldavis_el12784570149416736346741_data);\n",
       "            })\n",
       "         });\n",
       "}\n",
       "</script>"
      ],
      "text/plain": [
       "PreparedData(topic_coordinates=            Freq  cluster  topics         x         y\n",
       "topic                                                \n",
       "2      22.740685        1       1  0.054050  0.134628\n",
       "4      19.692520        1       2  0.169413  0.005100\n",
       "3      19.371956        1       3 -0.151318 -0.040513\n",
       "1      19.368624        1       4 -0.104965  0.079940\n",
       "0      18.826215        1       5  0.032820 -0.179155, topic_info=      Category       Freq           Term      Total  loglift  logprob\n",
       "term                                                                 \n",
       "7154   Default   4.000000      lordships   4.000000  30.0000  30.0000\n",
       "5362   Default   4.000000      gentleman   4.000000  29.0000  29.0000\n",
       "9199   Default   5.000000        publick   5.000000  28.0000  28.0000\n",
       "2695   Default   2.000000     conference   2.000000  27.0000  27.0000\n",
       "10133  Default  12.000000           said  12.000000  26.0000  26.0000\n",
       "4146   Default   2.000000         duties   2.000000  25.0000  25.0000\n",
       "2503   Default   2.000000  commissioners   2.000000  24.0000  24.0000\n",
       "5683   Default   4.000000           hath   4.000000  23.0000  23.0000\n",
       "12287  Default   2.000000        walpole   2.000000  22.0000  22.0000\n",
       "710    Default   6.000000            act   6.000000  21.0000  21.0000\n",
       "9195   Default   3.000000         public   3.000000  20.0000  20.0000\n",
       "2077   Default   3.000000           case   3.000000  19.0000  19.0000\n",
       "9638   Default   3.000000       religion   3.000000  18.0000  18.0000\n",
       "655    Default   1.000000       accompts   1.000000  17.0000  17.0000\n",
       "7708   Default   3.000000         motion   3.000000  16.0000  16.0000\n",
       "4543   Default   2.000000         europe   2.000000  15.0000  15.0000\n",
       "8688   Default   2.000000         popish   2.000000  14.0000  14.0000\n",
       "11665  Default   1.000000          trial   1.000000  13.0000  13.0000\n",
       "4161   Default   3.000000           earl   3.000000  12.0000  12.0000\n",
       "12622  Default   4.000000           year   4.000000  11.0000  11.0000\n",
       "4365   Default   1.000000    engagements   1.000000  10.0000  10.0000\n",
       "11591  Default   1.000000    tranquility   1.000000   9.0000   9.0000\n",
       "5876   Default   2.000000     honourable   2.000000   8.0000   8.0000\n",
       "11457  Default   2.000000       thousand   2.000000   7.0000   7.0000\n",
       "12573  Default   1.000000            wou   1.000000   6.0000   6.0000\n",
       "2510   Default   5.000000      committee   5.000000   5.0000   5.0000\n",
       "1871   Default   2.000000        britain   2.000000   4.0000   4.0000\n",
       "7404   Default   2.000000       measures   2.000000   3.0000   3.0000\n",
       "4283   Default   1.000000        emperor   1.000000   2.0000   2.0000\n",
       "9100   Default   1.000000       proposed   1.000000   1.0000   1.0000\n",
       "...        ...        ...            ...        ...      ...      ...\n",
       "9572    Topic5   0.616942       regiment   0.748752   1.4763  -6.7348\n",
       "8249    Topic5   1.206834           paid   1.759595   1.2928  -6.0638\n",
       "710     Topic5   3.295095            act   6.520845   0.9874  -5.0594\n",
       "5432    Topic5   0.812954          goods   1.077482   1.3882  -6.4589\n",
       "9195    Topic5   2.125711         public   3.833433   1.0803  -5.4977\n",
       "11457   Topic5   1.455484       thousand   2.365704   1.1842  -5.8765\n",
       "2140    Topic5   0.859728           cent   1.201799   1.3350  -6.4030\n",
       "5468    Topic5   1.395952        granted   2.441644   1.1108  -5.9182\n",
       "12622   Topic5   2.126814           year   4.597765   0.8990  -5.4972\n",
       "10133   Topic5   4.015085           said  12.157183   0.5621  -4.8618\n",
       "9291    Topic5   1.342715          queen   2.498812   1.0488  -5.9571\n",
       "11129   Topic5   1.282593            sum   2.354736   1.0624  -6.0029\n",
       "8138    Topic5   1.135017        ordered   1.985029   1.1109  -6.1252\n",
       "11923   Topic5   0.925146          union   1.426423   1.2369  -6.3296\n",
       "8390    Topic5   0.775425        payment   1.080545   1.3381  -6.5062\n",
       "9842    Topic5   1.283970       resolved   2.746624   0.9095  -6.0019\n",
       "8747    Topic5   1.073594         pounds   2.033444   1.0312  -6.1808\n",
       "5495    Topic5   0.852720   greatbritain   1.343305   1.2155  -6.4111\n",
       "2510    Topic5   1.722573      committee   5.564037   0.4974  -5.7080\n",
       "4371    Topic5   1.467014        england   4.146540   0.6309  -5.8686\n",
       "659     Topic5   1.166090        account   2.656577   0.8465  -6.0982\n",
       "9839    Topic5   1.001712    resolutions   1.991761   0.9826  -6.2501\n",
       "7657    Topic5   1.296627          money   3.966545   0.5518  -5.9920\n",
       "734     Topic5   1.422605        address   5.205578   0.3727  -5.8993\n",
       "0       Topic5   1.193644            000   3.257486   0.6660  -6.0748\n",
       "12296   Topic5   1.351951            war   5.036581   0.3547  -5.9503\n",
       "8625    Topic5   1.053003        pleased   2.409526   0.8421  -6.2002\n",
       "9385    Topic5   1.064155           read   3.139997   0.5879  -6.1896\n",
       "8864    Topic5   1.041551      presented   2.864954   0.6581  -6.2111\n",
       "11567   Topic5   0.953370          trade   3.204449   0.4576  -6.2996\n",
       "\n",
       "[557 rows x 6 columns], token_table=       Topic      Freq        Term\n",
       "term                              \n",
       "0          3  0.306985         000\n",
       "0          4  0.306985         000\n",
       "0          5  0.306985         000\n",
       "163        5  1.947588        1706\n",
       "165        5  1.393640        1707\n",
       "167        5  1.478384        1709\n",
       "169        5  1.193756        1710\n",
       "170        5  1.268058        1711\n",
       "172        5  1.051892        1712\n",
       "174        5  1.349280        1713\n",
       "190        3  1.856637        1727\n",
       "655        5  0.669083    accompts\n",
       "659        3  0.376424     account\n",
       "659        5  0.376424     account\n",
       "710        1  0.306709         act\n",
       "710        2  0.153354         act\n",
       "710        5  0.460063         act\n",
       "714        2  0.883852      action\n",
       "734        1  0.192102     address\n",
       "734        2  0.192102     address\n",
       "734        3  0.384203     address\n",
       "734        5  0.192102     address\n",
       "810        1  0.716326      advice\n",
       "835        1  1.016568  affections\n",
       "893        4  1.651953    agreeing\n",
       "953        3  0.487299      allies\n",
       "953        5  0.487299      allies\n",
       "1065       1  0.280159      answer\n",
       "1065       2  0.280159      answer\n",
       "1065       3  0.280159      answer\n",
       "...      ...       ...         ...\n",
       "11638      2  0.844029     treason\n",
       "11648      3  0.676150    treaties\n",
       "11652      3  0.381386      treaty\n",
       "11652      4  0.381386      treaty\n",
       "11652      5  0.381386      treaty\n",
       "11665      2  1.218352       trial\n",
       "11666      2  1.182348      trials\n",
       "11920      1  1.595249  uniformity\n",
       "11923      5  0.701054       union\n",
       "12014      1  1.139638        unto\n",
       "12180      3  1.225218      vienna\n",
       "12287      3  0.851180     walpole\n",
       "12296      1  0.397095         war\n",
       "12296      3  0.198547         war\n",
       "12296      4  0.198547         war\n",
       "12296      5  0.198547         war\n",
       "12342      1  0.343734         way\n",
       "12342      2  0.343734         way\n",
       "12342      4  0.343734         way\n",
       "12469      2  0.418005     william\n",
       "12469      3  0.418005     william\n",
       "12573      1  0.665166         wou\n",
       "12587      2  1.100773        writ\n",
       "12594      2  1.581320       writs\n",
       "12605      3  1.228558     wyndham\n",
       "12622      3  0.217497        year\n",
       "12622      4  0.217497        year\n",
       "12622      5  0.434994        year\n",
       "12625      4  0.388401       years\n",
       "12625      5  0.388401       years\n",
       "\n",
       "[349 rows x 3 columns], R=30, lambda_step=0.01, plot_opts={'xlab': 'PC1', 'ylab': 'PC2'}, topic_order=[3, 5, 4, 2, 1])"
      ]
     },
     "execution_count": 25,
     "metadata": {},
     "output_type": "execute_result"
    }
   ],
   "source": [
    "#again, takes in the model, the tfidf or tf matrix, and the vectorizer used.\n",
    "pyLDAvis.sklearn.prepare(nmf_model, tfidf_texts, tfidf_vectorizer)"
   ]
  },
  {
   "cell_type": "code",
   "execution_count": null,
   "metadata": {
    "button": false,
    "collapsed": true,
    "deletable": true,
    "new_sheet": false,
    "run_control": {
     "read_only": false
    }
   },
   "outputs": [],
   "source": []
  },
  {
   "cell_type": "code",
   "execution_count": null,
   "metadata": {
    "button": false,
    "collapsed": true,
    "deletable": true,
    "new_sheet": false,
    "run_control": {
     "read_only": false
    }
   },
   "outputs": [],
   "source": []
  },
  {
   "cell_type": "code",
   "execution_count": null,
   "metadata": {
    "button": false,
    "collapsed": true,
    "deletable": true,
    "new_sheet": false,
    "run_control": {
     "read_only": false
    }
   },
   "outputs": [],
   "source": []
  },
  {
   "cell_type": "code",
   "execution_count": null,
   "metadata": {
    "button": false,
    "collapsed": true,
    "deletable": true,
    "new_sheet": false,
    "run_control": {
     "read_only": false
    }
   },
   "outputs": [],
   "source": []
  },
  {
   "cell_type": "code",
   "execution_count": null,
   "metadata": {
    "button": false,
    "collapsed": true,
    "deletable": true,
    "new_sheet": false,
    "run_control": {
     "read_only": false
    }
   },
   "outputs": [],
   "source": []
  },
  {
   "cell_type": "code",
   "execution_count": null,
   "metadata": {
    "button": false,
    "collapsed": true,
    "deletable": true,
    "new_sheet": false,
    "run_control": {
     "read_only": false
    }
   },
   "outputs": [],
   "source": []
  },
  {
   "cell_type": "code",
   "execution_count": null,
   "metadata": {
    "button": false,
    "collapsed": true,
    "deletable": true,
    "new_sheet": false,
    "run_control": {
     "read_only": false
    }
   },
   "outputs": [],
   "source": []
  },
  {
   "cell_type": "code",
   "execution_count": null,
   "metadata": {
    "button": false,
    "collapsed": true,
    "deletable": true,
    "new_sheet": false,
    "run_control": {
     "read_only": false
    }
   },
   "outputs": [],
   "source": []
  },
  {
   "cell_type": "code",
   "execution_count": null,
   "metadata": {
    "button": false,
    "collapsed": true,
    "deletable": true,
    "new_sheet": false,
    "run_control": {
     "read_only": false
    }
   },
   "outputs": [],
   "source": []
  },
  {
   "cell_type": "code",
   "execution_count": null,
   "metadata": {
    "button": false,
    "collapsed": true,
    "deletable": true,
    "new_sheet": false,
    "run_control": {
     "read_only": false
    }
   },
   "outputs": [],
   "source": []
  },
  {
   "cell_type": "code",
   "execution_count": null,
   "metadata": {
    "button": false,
    "collapsed": true,
    "deletable": true,
    "new_sheet": false,
    "run_control": {
     "read_only": false
    }
   },
   "outputs": [],
   "source": []
  },
  {
   "cell_type": "code",
   "execution_count": null,
   "metadata": {
    "button": false,
    "collapsed": true,
    "deletable": true,
    "new_sheet": false,
    "run_control": {
     "read_only": false
    }
   },
   "outputs": [],
   "source": []
  },
  {
   "cell_type": "code",
   "execution_count": null,
   "metadata": {
    "button": false,
    "collapsed": true,
    "deletable": true,
    "new_sheet": false,
    "run_control": {
     "read_only": false
    }
   },
   "outputs": [],
   "source": []
  },
  {
   "cell_type": "code",
   "execution_count": null,
   "metadata": {
    "button": false,
    "collapsed": true,
    "deletable": true,
    "new_sheet": false,
    "run_control": {
     "read_only": false
    }
   },
   "outputs": [],
   "source": []
  },
  {
   "cell_type": "code",
   "execution_count": null,
   "metadata": {
    "button": false,
    "collapsed": true,
    "deletable": true,
    "new_sheet": false,
    "run_control": {
     "read_only": false
    }
   },
   "outputs": [],
   "source": []
  },
  {
   "cell_type": "code",
   "execution_count": null,
   "metadata": {
    "button": false,
    "collapsed": true,
    "deletable": true,
    "new_sheet": false,
    "run_control": {
     "read_only": false
    }
   },
   "outputs": [],
   "source": []
  },
  {
   "cell_type": "code",
   "execution_count": null,
   "metadata": {
    "button": false,
    "collapsed": true,
    "deletable": true,
    "new_sheet": false,
    "run_control": {
     "read_only": false
    }
   },
   "outputs": [],
   "source": []
  }
 ],
 "metadata": {
  "kernelspec": {
   "display_name": "Python 3",
   "language": "python",
   "name": "python3"
  },
  "language_info": {
   "codemirror_mode": {
    "name": "ipython",
    "version": 3
   },
   "file_extension": ".py",
   "mimetype": "text/x-python",
   "name": "python",
   "nbconvert_exporter": "python",
   "pygments_lexer": "ipython3",
   "version": "3.5.0"
  }
 },
 "nbformat": 4,
 "nbformat_minor": 2
}
