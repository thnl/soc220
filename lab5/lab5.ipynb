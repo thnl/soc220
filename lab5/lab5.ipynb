{
 "cells": [
  {
   "cell_type": "markdown",
   "metadata": {
    "button": false,
    "deletable": true,
    "new_sheet": false,
    "run_control": {
     "read_only": false
    }
   },
   "source": [
    "<font color=darkred>\n",
    "\n",
    "# Soc220: Computational Text Analysis\n",
    "## Lab5 (Week 6): Data wrangling, Descriptives, and Dictionary methods\n",
    "\n",
    "<br>\n",
    "\n",
    "<img src=\"images/text.jpg\" alt=\"Drawing\" style=\"width: 600px;\"/>\n",
    "\n",
    "Go back in time:\n",
    "\n",
    "- Flip this week and last week\n",
    "- Text preprocessing is a research choice\n",
    "\n",
    "Today:\n",
    "\n",
    "- More data cleaning and structure\n",
    "- 'Descriptives' of a corpus\n",
    "- Dictionary methods\n",
    "\n",
    "\n",
    "Next week:\n",
    "\n",
    "- Classification and clustering\n",
    "- A baby introduction to machine learning\n",
    "\n",
    "After spring break:\n",
    "\n",
    "- Two weeks on topic models\n",
    "- Two weeks on word embeddings or 'relational' models of meaning.\n",
    "\n",
    "\n",
    "***\n",
    "    3/2/2018"
   ]
  },
  {
   "cell_type": "code",
   "execution_count": null,
   "metadata": {
    "button": false,
    "collapsed": true,
    "deletable": true,
    "new_sheet": false,
    "run_control": {
     "read_only": false
    }
   },
   "outputs": [],
   "source": []
  },
  {
   "cell_type": "code",
   "execution_count": 1,
   "metadata": {
    "button": false,
    "collapsed": false,
    "deletable": true,
    "new_sheet": false,
    "run_control": {
     "read_only": false
    }
   },
   "outputs": [
    {
     "name": "stdout",
     "output_type": "stream",
     "text": [
      "dates_list.p           monarchs_list.p        proceeding_text_list.p\r\n",
      "\u001b[34mimages\u001b[m\u001b[m                 negative_words.txt     proceedings_bag_list.p\r\n",
      "lab5.ipynb             positive_words.txt     stop_tokens.p\r\n"
     ]
    }
   ],
   "source": [
    "# this terminal command \"lists files\" within the working directory\n",
    "\n",
    "!ls"
   ]
  },
  {
   "cell_type": "code",
   "execution_count": null,
   "metadata": {
    "button": false,
    "collapsed": true,
    "deletable": true,
    "new_sheet": false,
    "run_control": {
     "read_only": false
    }
   },
   "outputs": [],
   "source": []
  },
  {
   "cell_type": "markdown",
   "metadata": {
    "button": false,
    "deletable": true,
    "new_sheet": false,
    "run_control": {
     "read_only": false
    }
   },
   "source": [
    "<font color=darkred>\n",
    "\n",
    "## 1. Data Wrangling\n",
    "\n",
    "Rant: my advice from the onset was to stay within native Python structures because it allows for complex dimensionality which is closer to the real world. This allows you maximum flexibility and so if you do decide to transform data in some way and thus 'lose' information, you do as a consequence of *research design* as opposed to convenience. Gary King (2016) on propensity score matching."
   ]
  },
  {
   "cell_type": "code",
   "execution_count": 2,
   "metadata": {
    "button": false,
    "collapsed": true,
    "deletable": true,
    "new_sheet": false,
    "run_control": {
     "read_only": false
    }
   },
   "outputs": [],
   "source": [
    "# importing data\n",
    "import pickle\n",
    "\n",
    "dates_list = pickle.load(open(\"dates_list.p\",\"rb\"))\n",
    "monarchs_list = pickle.load(open(\"monarchs_list.p\",\"rb\"))\n",
    "proceedings_list = pickle.load(open(\"proceeding_text_list.p\",\"rb\"))"
   ]
  },
  {
   "cell_type": "code",
   "execution_count": 3,
   "metadata": {
    "button": false,
    "collapsed": false,
    "deletable": true,
    "new_sheet": false,
    "run_control": {
     "read_only": false
    }
   },
   "outputs": [
    {
     "name": "stdout",
     "output_type": "stream",
     "text": [
      "139\n",
      "111\n"
     ]
    }
   ],
   "source": [
    "#checking the length of data imported; we have repeated dates\n",
    "\n",
    "print(len(dates_list)); print(len(set(dates_list)))"
   ]
  },
  {
   "cell_type": "markdown",
   "metadata": {
    "button": false,
    "deletable": true,
    "new_sheet": false,
    "run_control": {
     "read_only": false
    }
   },
   "source": [
    "<font color=darkred>\n",
    "\n",
    "#### 1a. Pandas"
   ]
  },
  {
   "cell_type": "code",
   "execution_count": 4,
   "metadata": {
    "button": false,
    "collapsed": false,
    "deletable": true,
    "new_sheet": false,
    "run_control": {
     "read_only": false
    }
   },
   "outputs": [
    {
     "data": {
      "text/html": [
       "<div>\n",
       "<style>\n",
       "    .dataframe thead tr:only-child th {\n",
       "        text-align: right;\n",
       "    }\n",
       "\n",
       "    .dataframe thead th {\n",
       "        text-align: left;\n",
       "    }\n",
       "\n",
       "    .dataframe tbody tr th {\n",
       "        vertical-align: top;\n",
       "    }\n",
       "</style>\n",
       "<table border=\"1\" class=\"dataframe\">\n",
       "  <thead>\n",
       "    <tr style=\"text-align: right;\">\n",
       "      <th></th>\n",
       "      <th>date</th>\n",
       "      <th>proceedings</th>\n",
       "    </tr>\n",
       "  </thead>\n",
       "  <tbody>\n",
       "    <tr>\n",
       "      <th>0</th>\n",
       "      <td>1660_4</td>\n",
       "      <td>['Pages 2-25', 'The History and Proceedings of...</td>\n",
       "    </tr>\n",
       "    <tr>\n",
       "      <th>1</th>\n",
       "      <td>1660_11</td>\n",
       "      <td>['Pages 25-31', 'The History and Proceedings o...</td>\n",
       "    </tr>\n",
       "    <tr>\n",
       "      <th>2</th>\n",
       "      <td>1661_5</td>\n",
       "      <td>['Pages 31-46', 'The History and Proceedings o...</td>\n",
       "    </tr>\n",
       "    <tr>\n",
       "      <th>3</th>\n",
       "      <td>1661_11</td>\n",
       "      <td>['Pages 46-60', 'The History and Proceedings o...</td>\n",
       "    </tr>\n",
       "    <tr>\n",
       "      <th>4</th>\n",
       "      <td>1663_2</td>\n",
       "      <td>['Pages 60-72', 'The History and Proceedings o...</td>\n",
       "    </tr>\n",
       "  </tbody>\n",
       "</table>\n",
       "</div>"
      ],
      "text/plain": [
       "      date                                        proceedings\n",
       "0   1660_4  ['Pages 2-25', 'The History and Proceedings of...\n",
       "1  1660_11  ['Pages 25-31', 'The History and Proceedings o...\n",
       "2   1661_5  ['Pages 31-46', 'The History and Proceedings o...\n",
       "3  1661_11  ['Pages 46-60', 'The History and Proceedings o...\n",
       "4   1663_2  ['Pages 60-72', 'The History and Proceedings o..."
      ]
     },
     "execution_count": 4,
     "metadata": {},
     "output_type": "execute_result"
    }
   ],
   "source": [
    "# dicts require unique keys, but not pandas -- so let's stick them together\n",
    "\n",
    "import pandas as pd\n",
    "\n",
    "df_date = pd.DataFrame({\n",
    "    'date':dates_list,\n",
    "    'proceedings':proceedings_list\n",
    "})\n",
    "# let's look at the top of the dataframe\n",
    "df_date.head()"
   ]
  },
  {
   "cell_type": "markdown",
   "metadata": {
    "button": false,
    "deletable": true,
    "new_sheet": false,
    "run_control": {
     "read_only": false
    }
   },
   "source": [
    "The groupby function allows us to take each unique date and then specify an aggregator function to join our strings together. as_index parameters specifies whether or not we wish to have that variable serve as the index of these data."
   ]
  },
  {
   "cell_type": "code",
   "execution_count": 5,
   "metadata": {
    "button": false,
    "collapsed": true,
    "deletable": true,
    "new_sheet": false,
    "run_control": {
     "read_only": false
    }
   },
   "outputs": [],
   "source": [
    "df_date = df_date.groupby('date', as_index=False).agg(' '.join)"
   ]
  },
  {
   "cell_type": "code",
   "execution_count": 6,
   "metadata": {
    "button": false,
    "collapsed": false,
    "deletable": true,
    "new_sheet": false,
    "run_control": {
     "read_only": false
    }
   },
   "outputs": [
    {
     "data": {
      "text/plain": [
       "(111, 2)"
      ]
     },
     "execution_count": 6,
     "metadata": {},
     "output_type": "execute_result"
    }
   ],
   "source": [
    "df_date.shape"
   ]
  },
  {
   "cell_type": "code",
   "execution_count": 7,
   "metadata": {
    "button": false,
    "collapsed": false,
    "deletable": true,
    "new_sheet": false,
    "run_control": {
     "read_only": false
    }
   },
   "outputs": [
    {
     "data": {
      "text/html": [
       "<div>\n",
       "<style>\n",
       "    .dataframe thead tr:only-child th {\n",
       "        text-align: right;\n",
       "    }\n",
       "\n",
       "    .dataframe thead th {\n",
       "        text-align: left;\n",
       "    }\n",
       "\n",
       "    .dataframe tbody tr th {\n",
       "        vertical-align: top;\n",
       "    }\n",
       "</style>\n",
       "<table border=\"1\" class=\"dataframe\">\n",
       "  <thead>\n",
       "    <tr style=\"text-align: right;\">\n",
       "      <th></th>\n",
       "      <th>date</th>\n",
       "      <th>proceedings</th>\n",
       "    </tr>\n",
       "  </thead>\n",
       "  <tbody>\n",
       "    <tr>\n",
       "      <th>0</th>\n",
       "      <td>1660_11</td>\n",
       "      <td>['Pages 25-31', 'The History and Proceedings o...</td>\n",
       "    </tr>\n",
       "    <tr>\n",
       "      <th>1</th>\n",
       "      <td>1660_4</td>\n",
       "      <td>['Pages 2-25', 'The History and Proceedings of...</td>\n",
       "    </tr>\n",
       "    <tr>\n",
       "      <th>2</th>\n",
       "      <td>1661_11</td>\n",
       "      <td>['Pages 46-60', 'The History and Proceedings o...</td>\n",
       "    </tr>\n",
       "    <tr>\n",
       "      <th>3</th>\n",
       "      <td>1661_5</td>\n",
       "      <td>['Pages 31-46', 'The History and Proceedings o...</td>\n",
       "    </tr>\n",
       "    <tr>\n",
       "      <th>4</th>\n",
       "      <td>1663_2</td>\n",
       "      <td>['Pages 60-72', 'The History and Proceedings o...</td>\n",
       "    </tr>\n",
       "  </tbody>\n",
       "</table>\n",
       "</div>"
      ],
      "text/plain": [
       "      date                                        proceedings\n",
       "0  1660_11  ['Pages 25-31', 'The History and Proceedings o...\n",
       "1   1660_4  ['Pages 2-25', 'The History and Proceedings of...\n",
       "2  1661_11  ['Pages 46-60', 'The History and Proceedings o...\n",
       "3   1661_5  ['Pages 31-46', 'The History and Proceedings o...\n",
       "4   1663_2  ['Pages 60-72', 'The History and Proceedings o..."
      ]
     },
     "execution_count": 7,
     "metadata": {},
     "output_type": "execute_result"
    }
   ],
   "source": [
    "df_date.head()"
   ]
  },
  {
   "cell_type": "code",
   "execution_count": 8,
   "metadata": {
    "button": false,
    "collapsed": false,
    "deletable": true,
    "new_sheet": false,
    "run_control": {
     "read_only": false
    }
   },
   "outputs": [
    {
     "data": {
      "text/plain": [
       "date           object\n",
       "proceedings    object\n",
       "dtype: object"
      ]
     },
     "execution_count": 8,
     "metadata": {},
     "output_type": "execute_result"
    }
   ],
   "source": [
    "df_date.dtypes"
   ]
  },
  {
   "cell_type": "code",
   "execution_count": 9,
   "metadata": {
    "button": false,
    "collapsed": false,
    "deletable": true,
    "new_sheet": false,
    "run_control": {
     "read_only": false
    }
   },
   "outputs": [
    {
     "data": {
      "text/html": [
       "<div>\n",
       "<style>\n",
       "    .dataframe thead tr:only-child th {\n",
       "        text-align: right;\n",
       "    }\n",
       "\n",
       "    .dataframe thead th {\n",
       "        text-align: left;\n",
       "    }\n",
       "\n",
       "    .dataframe tbody tr th {\n",
       "        vertical-align: top;\n",
       "    }\n",
       "</style>\n",
       "<table border=\"1\" class=\"dataframe\">\n",
       "  <thead>\n",
       "    <tr style=\"text-align: right;\">\n",
       "      <th></th>\n",
       "      <th>date</th>\n",
       "      <th>proceedings</th>\n",
       "    </tr>\n",
       "  </thead>\n",
       "  <tbody>\n",
       "    <tr>\n",
       "      <th>count</th>\n",
       "      <td>111</td>\n",
       "      <td>111</td>\n",
       "    </tr>\n",
       "    <tr>\n",
       "      <th>unique</th>\n",
       "      <td>111</td>\n",
       "      <td>111</td>\n",
       "    </tr>\n",
       "    <tr>\n",
       "      <th>top</th>\n",
       "      <td>1731_1</td>\n",
       "      <td>['Pages 68-70', 'The History and Proceedings o...</td>\n",
       "    </tr>\n",
       "    <tr>\n",
       "      <th>freq</th>\n",
       "      <td>1</td>\n",
       "      <td>1</td>\n",
       "    </tr>\n",
       "  </tbody>\n",
       "</table>\n",
       "</div>"
      ],
      "text/plain": [
       "          date                                        proceedings\n",
       "count      111                                                111\n",
       "unique     111                                                111\n",
       "top     1731_1  ['Pages 68-70', 'The History and Proceedings o...\n",
       "freq         1                                                  1"
      ]
     },
     "execution_count": 9,
     "metadata": {},
     "output_type": "execute_result"
    }
   ],
   "source": [
    "df_date.describe()"
   ]
  },
  {
   "cell_type": "code",
   "execution_count": 10,
   "metadata": {
    "button": false,
    "collapsed": false,
    "deletable": true,
    "new_sheet": false,
    "run_control": {
     "read_only": false
    }
   },
   "outputs": [
    {
     "data": {
      "text/plain": [
       "pandas.core.frame.DataFrame"
      ]
     },
     "execution_count": 10,
     "metadata": {},
     "output_type": "execute_result"
    }
   ],
   "source": [
    "type(df_date)"
   ]
  },
  {
   "cell_type": "markdown",
   "metadata": {
    "button": false,
    "deletable": true,
    "new_sheet": false,
    "run_control": {
     "read_only": false
    }
   },
   "source": [
    "<font color=darkred>\n",
    "\n",
    "#### Some general Pandas notes:\n",
    "\n",
    "- Data must be 'flat' by row X column. Columns are unique keys, rows have unique index. Can be both sliced and subsetted as a result.\n",
    "- Each dataframe is made up of series. Series are vectors (as opposed to lists) and so one must use function commands on them. (Press <TAB> to see possible functions to apply) `df['A'].apply(FUNC)`\n",
    "- Many ways to create df, most common: pass a dictionary made of lists. Each key will become a column and the list the associated series.\n",
    "- Via a CSV file: `df = pandas.read_csv(\"FILEPATH\", encoding = 'utf-8', index_col=0)`\n",
    "\n",
    "- `df.head()`\n",
    "\n",
    "- `df.info()`\n",
    "\n",
    "- `df.columns`\n",
    "\n",
    "- `df.describe()`\n",
    "\n",
    "- `df.COLUMN.value_counts()`\n",
    "\n",
    "- `df.COLUMN.plot('hist')`\n",
    "\n",
    "- `df.drop_duplicates()`\n",
    "\n",
    "***\n",
    "\n",
    "* `df['COLUMN'] or df.COLUMN` selections a column\n",
    "* `.loc[]` method selects by keys. For instance: `df.loc[:,['A','B']]` selects all of columns A and B and the `:` signals that one wishes to have every row value. `df.loc[5,['A']]` is the 6th value of column A.\n",
    "* `.iloc[]` method by index. `df.iloc[1][1]` selects the 2nd row of the 2nd column.\n",
    "* One can also use boolean methods: `df[df.A > 0]` for instance selects the whole dataframe for when the value of column A is greater than 0.\n",
    "* A list of values can also be fed into either `iloc` or `loc`.\n",
    "* `df.dropna(how='any')` is a common method for removing all missing, while `df.fillna(value=)` fills in missing values with what could be anything (e.g. mean)\n",
    "* `df['A'].tolist` extracts a column as a list should you wish to exit Pandas.\n",
    "\n",
    "<img src=\"images/pandas_selection.png\" alt=\"Drawing\" style=\"width: 500px;\"/>"
   ]
  },
  {
   "cell_type": "markdown",
   "metadata": {
    "button": false,
    "deletable": true,
    "new_sheet": false,
    "run_control": {
     "read_only": false
    }
   },
   "source": [
    "<font color=darkred>\n",
    "\n",
    "#### 1b. Glob or how to load lots files at once (for those of you with a stack of CSV or txt files)"
   ]
  },
  {
   "cell_type": "code",
   "execution_count": 11,
   "metadata": {
    "button": false,
    "collapsed": false,
    "deletable": true,
    "new_sheet": false,
    "run_control": {
     "read_only": false
    }
   },
   "outputs": [
    {
     "data": {
      "text/plain": [
       "[]"
      ]
     },
     "execution_count": 11,
     "metadata": {},
     "output_type": "execute_result"
    }
   ],
   "source": [
    "import glob\n",
    "\n",
    "#this will select all files of type CSV in a given folder. Can be modified like a regular expression\n",
    "glob_selection = glob.glob('*.csv')\n",
    "[pd.read_csv(filename) for filename in glob_selection]"
   ]
  },
  {
   "cell_type": "markdown",
   "metadata": {
    "button": false,
    "deletable": true,
    "new_sheet": false,
    "run_control": {
     "read_only": false
    }
   },
   "source": [
    "<font color=darkred>\n",
    "\n",
    "#### 1c. Regular expressions\n",
    "\n",
    "* `re.match` returns whatever is found while `re.findall` returns a list that matches pattern.\n",
    "\n",
    "\n",
    "| Expression | Search                         |\n",
    "|------------|--------------------------------|\n",
    "| \\d         | Any Digit                      |\n",
    "| \\D         | Any Non-digit character        |\n",
    "| .          | Any Character                  |\n",
    "| \\.         | Period                         |\n",
    "| [abc]      | Only a, b, or c                |\n",
    "| [^abc]     | Not a, b, nor c                |\n",
    "| [a-z]      | Characters a to z              |\n",
    "| [0-9]      | Numbers 0 to 9                 |\n",
    "| \\w         | Any Alphanumeric character     |\n",
    "| \\W         | Any Non-alphanumeric character |\n",
    "| {m}        | m Repetitions                  |\n",
    "| {m,n}      | m to n Repetitions             |\n",
    "| *          | Zero or more repetitions       |\n",
    "| +          | One or more repetitions        |\n",
    "| ?          | \"zero or one occurrences of the preceding element.\"              |\n",
    "| \\s         | Any Whitespace                 |\n",
    "| \\S         | Any Non-whitespace character   |\n",
    "| ^…$        | Starts and ends                |\n",
    "| (a(bc))    | Capture Sub-group              |\n",
    "\n",
    "\n",
    "In general, you will use ^...$ to select specific words alongside specific types of characters. \n",
    "\n",
    "This tutorial is very useful:\n",
    "\n",
    "https://github.com/zeeshanu/learn-regex"
   ]
  },
  {
   "cell_type": "markdown",
   "metadata": {
    "button": false,
    "deletable": true,
    "new_sheet": false,
    "run_control": {
     "read_only": false
    }
   },
   "source": [
    "<font color=darkred>\n",
    "\n",
    "## 2. Bag of Words solution\n",
    "\n",
    "In hindsight:\n",
    "\n",
    "* Grimmer and Stewart is a pretty restrictive view of text. Both are trained as political scientists (though Stewart has a job in sociology at Princeton), but the vast majority of their work uses things like campaign speeches or congressional hearings. Political contexts where certain buzzwords matter and meaning-making is not really that important.\n",
    "* Impossible to do the type of cleaning for very very large corpus for 99% and 1%. There are some other alternatives for this. In general, their intuition: for a power-law distribution, what is probably most interesting is not on the ends of the distribution. Similar intuition as a log-transformation of dependent variable.\n",
    "\n",
    "\"In addition to discarding word order, we also typically discard punctuation, capitalization, very common words (often we remove “stop” words, or function words that do not convey meaning but primarily serve grammatical functions), and very uncommon words (words that appear only once or twice in the corpus and thus are unlikely to be discriminating). We typically remove words which appear in less than 1% and more than 99% of documents in the corpus, although these choices need to be made contingent both on the diversity of the vocabulary, average length of the document, and the size of the corpus (Quinn et al. 2010; Hopkins and King 2010).\" (Grimmer and Stewart 2013. p. 7)"
   ]
  },
  {
   "cell_type": "code",
   "execution_count": 12,
   "metadata": {
    "button": false,
    "collapsed": true,
    "deletable": true,
    "new_sheet": false,
    "run_control": {
     "read_only": false
    }
   },
   "outputs": [],
   "source": [
    "def BagOWordsR(corpus,stemmer):\n",
    "    '''\n",
    "    Takes in a corpus (vector of strings), maybe some arguments, and performs the following steps:\n",
    "    \n",
    "    1. Removes all numbers, punctuation, exit characters, html artifacts\n",
    "    2. Splits on white space to create a list of words (i.e. tokens)\n",
    "    3. Lowercases all tokens\n",
    "    4. Stem all tokens using _____ stemmer\n",
    "    5. Remove stop words *from across the corpus*.\n",
    "    6. Remove rare words *from across the corpus*.\n",
    "    \n",
    "    List of strings --> List of strings\n",
    "    \n",
    "    '''\n",
    "    \n",
    "    bags_of_all_tokens = []\n",
    "    \n",
    "    for text in corpus:\n",
    "        \n",
    "        print('processing',text[0:50])\n",
    "        \n",
    "        #step1\n",
    "        #removing code exit characters and artifacts\n",
    "        corrected_text = text.replace('\\\\n', ' ').replace('\\r', '').replace('\\\\t', '').replace(\"\\\\\",\"\").replace(\"-\",'')\n",
    "        #removing all punctuation\n",
    "        import re\n",
    "        corrected_text = re.sub('[^A-Za-z0-9]+', ' ', str(corrected_text))\n",
    "        \n",
    "        #step2\n",
    "        #tokenize to split on white space.\n",
    "        #NOW we have a list!\n",
    "        list_tokens = corrected_text.split(' ')\n",
    "        \n",
    "        #remove numbers\n",
    "        #is digit\n",
    "        list_tokens = [token for token in list_tokens if not token.isdigit()]\n",
    "        \n",
    "        #step3\n",
    "        #we have to use the same variable in order to do this sequentially\n",
    "        list_tokens = [token.lower() for token in list_tokens]\n",
    "        \n",
    "        #stop words\n",
    "        from nltk.corpus import stopwords\n",
    "        stop_words = list(stopwords.words('english'))\n",
    "        list_tokens = [word for word in list_tokens if word not in stop_words]\n",
    "        \n",
    "        #step4\n",
    "        #must import a stemmer as an argument\n",
    "        stemmer = stemmer\n",
    "        list_tokens = [stemmer.stem(token) for token in list_tokens]\n",
    "        \n",
    "        bags_of_all_tokens.append(list_tokens)\n",
    "        \n",
    "    return bags_of_all_tokens"
   ]
  },
  {
   "cell_type": "code",
   "execution_count": null,
   "metadata": {
    "button": false,
    "collapsed": true,
    "deletable": true,
    "new_sheet": false,
    "run_control": {
     "read_only": false
    }
   },
   "outputs": [],
   "source": []
  },
  {
   "cell_type": "code",
   "execution_count": 13,
   "metadata": {
    "button": false,
    "collapsed": true,
    "deletable": true,
    "new_sheet": false,
    "run_control": {
     "read_only": false
    }
   },
   "outputs": [],
   "source": [
    "list_proceedings = df_date['proceedings'].tolist()"
   ]
  },
  {
   "cell_type": "code",
   "execution_count": 14,
   "metadata": {
    "button": false,
    "collapsed": false,
    "deletable": true,
    "new_sheet": false,
    "run_control": {
     "read_only": false
    }
   },
   "outputs": [
    {
     "data": {
      "text/plain": [
       "60178"
      ]
     },
     "execution_count": 14,
     "metadata": {},
     "output_type": "execute_result"
    }
   ],
   "source": [
    "#data check\n",
    "len(list_proceedings[1])"
   ]
  },
  {
   "cell_type": "code",
   "execution_count": 15,
   "metadata": {
    "button": false,
    "collapsed": false,
    "deletable": true,
    "new_sheet": false,
    "run_control": {
     "read_only": false
    }
   },
   "outputs": [
    {
     "name": "stdout",
     "output_type": "stream",
     "text": [
      "processing ['Pages 25-31', 'The History and Proceedings of th\n",
      "processing ['Pages 2-25', 'The History and Proceedings of the\n",
      "processing ['Pages 46-60', 'The History and Proceedings of th\n",
      "processing ['Pages 31-46', 'The History and Proceedings of th\n",
      "processing ['Pages 60-72', 'The History and Proceedings of th\n",
      "processing ['Pages 80-85', 'The History and Proceedings of th\n",
      "processing ['Pages 72-80', 'The History and Proceedings of th\n",
      "processing ['Pages 85-92', 'The History and Proceedings of th\n",
      "processing ['Pages 92-100', 'The History and Proceedings of t\n",
      "processing ['Pages 101-127', 'The History and Proceedings of \n",
      "processing ['Pages 100-101', 'The History and Proceedings of \n",
      "processing ['Pages 127-132', 'The History and Proceedings of \n",
      "processing ['Pages 132-163', 'The History and Proceedings of \n",
      "processing ['Pages 179-186', 'The History and Proceedings of \n",
      "processing ['Pages 163-178', 'The History and Proceedings of \n",
      "processing ['Pages 186-201', 'The History and Proceedings of \n",
      "processing ['Pages 234-242', 'The History and Proceedings of \n",
      "processing ['Pages 201-234', 'The History and Proceedings of \n",
      "processing ['Pages 242-280', 'The History and Proceedings of \n",
      "processing ['Pages 291-323', 'The History and Proceedings of \n",
      "processing ['Pages 280-291', 'The History and Proceedings of \n",
      "processing ['Pages 370-403', 'The History and Proceedings of \n",
      "processing ['Pages 323-370', 'The History and Proceedings of \n",
      "processing ['Pages 1-48', 'The History and Proceedings of the\n",
      "processing ['Pages 403-435', 'The History and Proceedings of \n",
      "processing ['Pages 48-101', 'The History and Proceedings of t\n",
      "processing ['Pages 101-164', 'The History and Proceedings of \n",
      "processing ['Pages 164-199', 'The History and Proceedings of \n",
      "processing ['Pages 199-255', 'The History and Proceedings of \n",
      "processing ['Pages 355-373', 'The History and Proceedings of \n",
      "processing ['Pages 255-277', 'The History and Proceedings of \n",
      "processing ['Pages 309-355', 'The History and Proceedings of \n",
      "processing ['Pages 384-389', 'The History and Proceedings of \n",
      "processing ['Pages 373-384', 'The History and Proceedings of \n",
      "processing ['Pages 389-408', 'The History and Proceedings of \n",
      "processing ['Pages 408-415', 'The History and Proceedings of \n",
      "processing ['Pages 415-445', 'The History and Proceedings of \n",
      "processing ['Pages 445-474', 'The History and Proceedings of \n",
      "processing ['Pages 1-25', 'The History and Proceedings of the\n",
      "processing ['Pages 25-73', 'The History and Proceedings of th\n",
      "processing ['Pages 74-91', 'The History and Proceedings of th\n",
      "processing ['Pages 91-106', 'The History and Proceedings of t\n",
      "processing ['Pages 190-197', 'The History and Proceedings of \n",
      "processing ['Pages 106-127', 'The History and Proceedings of \n",
      "processing ['Pages 183-190', 'The History and Proceedings of \n",
      "processing ['Pages 127-183', 'The History and Proceedings of \n",
      "processing ['Pages 203-211', 'The History and Proceedings of \n",
      "processing ['Pages 217-278', 'The History and Proceedings of \n",
      "processing ['Pages 197-203', 'The History and Proceedings of \n",
      "processing ['Pages 278-308', 'The History and Proceedings of \n",
      "processing ['Pages 392-442', 'The History and Proceedings of \n",
      "processing ['Pages 388-392', 'The History and Proceedings of \n",
      "processing ['Pages 308-388', 'The History and Proceedings of \n",
      "processing ['Pages 442-473', 'The History and Proceedings of \n",
      "processing ['Pages 45-68', 'The History and Proceedings of th\n",
      "processing ['Pages 474-479', 'The History and Proceedings of \n",
      "processing ['Pages 70-97', 'The History and Proceedings of th\n",
      "processing ['Pages 68-70', 'The History and Proceedings of th\n",
      "processing ['Pages 98-135', 'The History and Proceedings of t\n",
      "processing ['Pages 135-168', 'The History and Proceedings of \n",
      "processing ['Pages 169-226', 'The History and Proceedings of \n",
      "processing ['Pages 226-261', 'The History and Proceedings of \n",
      "processing ['Pages 261-294', 'The History and Proceedings of \n",
      "processing ['Pages 294-334', 'The History and Proceedings of \n",
      "processing ['Pages 334-375', 'The History and Proceedings of \n",
      "processing ['Pages 58-78', 'The History and Proceedings of th\n",
      "processing ['Pages 78-106', 'The History and Proceedings of t\n",
      "processing ['Pages 1-8', 'The History and Proceedings of the \n",
      "processing ['Pages 47-68', 'The History and Proceedings of th\n",
      "processing ['Pages 9-47', 'The History and Proceedings of the\n",
      "processing ['Pages 68-107', 'The History and Proceedings of t\n",
      "processing ['Pages 150-181', 'The History and Proceedings of \n",
      "processing ['Pages 107-150', 'The History and Proceedings of \n",
      "processing ['Pages 182-198', 'The History and Proceedings of \n",
      "processing ['Pages 198-218', 'The History and Proceedings of \n",
      "processing ['Pages 218-262', 'The History and Proceedings of \n",
      "processing ['Pages 263-281', 'The History and Proceedings of \n",
      "processing ['Page 356', 'The History and Proceedings of the H\n",
      "processing ['Pages 282-318', 'The History and Proceedings of \n",
      "processing ['Pages 318-324', 'The History and Proceedings of \n",
      "processing ['Pages 324-349', 'The History and Proceedings of \n",
      "processing ['Pages 349-372', 'The History and Proceedings of \n",
      "processing ['Pages 372-398', 'The History and Proceedings of \n",
      "processing ['Pages 1-14', 'The History and Proceedings of the\n",
      "processing ['Pages 15-31', 'The History and Proceedings of th\n",
      "processing ['Pages 31-50', 'The History and Proceedings of th\n",
      "processing ['Pages 51-69', 'The History and Proceedings of th\n",
      "processing ['Pages 69-86', 'The History and Proceedings of th\n",
      "processing ['Pages 87-133', 'The History and Proceedings of t\n",
      "processing ['Pages 159-208', 'The History and Proceedings of \n",
      "processing ['Pages 251-279', 'The History and Proceedings of \n",
      "processing ['Pages 279-304', 'The History and Proceedings of \n",
      "processing ['Pages 354-375', 'The History and Proceedings of \n",
      "processing ['Pages 375-401', 'The History and Proceedings of \n",
      "processing ['Pages 1-26', 'The History and Proceedings of the\n",
      "processing ['Pages 45-69', 'The History and Proceedings of th\n",
      "processing ['Pages 137-209', 'The History and Proceedings of \n",
      "processing ['Pages 1-22', 'The History and Proceedings of the\n",
      "processing ['Pages 22-48', 'The History and Proceedings of th\n",
      "processing ['Pages 103-130', 'The History and Proceedings of \n",
      "processing ['Pages 159-193', 'The History and Proceedings of \n",
      "processing ['Pages 193-238', 'The History and Proceedings of \n",
      "processing ['Pages 225-277', 'The History and Proceedings of \n",
      "processing ['Pages 341-370', 'The History and Proceedings of \n",
      "processing ['Pages 506-546', 'The History and Proceedings of \n",
      "processing ['Pages 1-9', 'The History and Proceedings of the \n",
      "processing ['Pages 10-59', 'The History and Proceedings of th\n",
      "processing ['Pages 96-159', 'The History and Proceedings of t\n",
      "processing ['Pages 258-292', 'The History and Proceedings of \n",
      "processing ['Pages 292-338', 'The History and Proceedings of \n",
      "processing ['Pages 339-358', 'The History and Proceedings of \n"
     ]
    }
   ],
   "source": [
    "#%%timeit\n",
    "\n",
    "from nltk.stem import PorterStemmer\n",
    "\n",
    "bags_proceedings = BagOWordsR(list_proceedings,PorterStemmer())"
   ]
  },
  {
   "cell_type": "code",
   "execution_count": 16,
   "metadata": {
    "button": false,
    "collapsed": false,
    "deletable": true,
    "new_sheet": false,
    "run_control": {
     "read_only": false
    }
   },
   "outputs": [
    {
     "data": {
      "text/plain": [
       "4609"
      ]
     },
     "execution_count": 16,
     "metadata": {},
     "output_type": "execute_result"
    }
   ],
   "source": [
    "#data check\n",
    "len(bags_proceedings[1])"
   ]
  },
  {
   "cell_type": "markdown",
   "metadata": {
    "button": false,
    "deletable": true,
    "new_sheet": false,
    "run_control": {
     "read_only": false
    }
   },
   "source": [
    "#### Step 5 and 6: Removing stop words the Grimmer and Stewart way"
   ]
  },
  {
   "cell_type": "raw",
   "metadata": {
    "button": false,
    "deletable": true,
    "new_sheet": false,
    "run_control": {
     "read_only": false
    }
   },
   "source": [
    "unique_token_list = []\n",
    "\n",
    "for bag in bags_proceedings:\n",
    "    unique_tokens = set(bag)\n",
    "    unique_token_list.extend(unique_tokens)"
   ]
  },
  {
   "cell_type": "raw",
   "metadata": {
    "button": false,
    "deletable": true,
    "new_sheet": false,
    "run_control": {
     "read_only": false
    }
   },
   "source": [
    "len(unique_token_list)"
   ]
  },
  {
   "cell_type": "raw",
   "metadata": {
    "button": false,
    "deletable": true,
    "new_sheet": false,
    "run_control": {
     "read_only": false
    }
   },
   "source": [
    "#THIS WILL TAKE AWHILE!\n",
    "\n",
    "#define cutoffs\n",
    "one_cutoff = round(len(bags_proceedings) * .01)\n",
    "ninetynine_cutoff = round(len(bags_proceedings) * .99)\n",
    "#stop words empty list\n",
    "stop_tokens = []\n",
    "\n",
    "#length of unqiue words to go through\n",
    "counter = 162483\n",
    "\n",
    "for token in unique_token_list:\n",
    "        \n",
    "        #subtract 1 from counter\n",
    "        counter -= 1\n",
    "        \n",
    "        #count for each token their frequency\n",
    "        number_bags_appear = sum(1 for bag in bags_proceedings if token in bag)\n",
    "        \n",
    "        #if that word is too rare..\n",
    "        if number_bags_appear < one_cutoff:\n",
    "            stop_tokens.append(token)\n",
    "            print(token,' is too rare.')\n",
    "        #if that word is too common..\n",
    "        elif number_bags_appear > ninetynine_cutoff:\n",
    "            stop_tokens.append(token)\n",
    "            print(token,' is too common.')\n",
    "        #else forget it.\n",
    "        else:\n",
    "            print(counter, 'tokens left')\n",
    "            \n",
    "pickle.dump(stop_tokens,open(\"stop_tokens.p\",\"wb\"))"
   ]
  },
  {
   "cell_type": "code",
   "execution_count": 17,
   "metadata": {
    "button": false,
    "collapsed": false,
    "deletable": true,
    "new_sheet": false,
    "run_control": {
     "read_only": false
    }
   },
   "outputs": [
    {
     "data": {
      "text/plain": [
       "4995"
      ]
     },
     "execution_count": 17,
     "metadata": {},
     "output_type": "execute_result"
    }
   ],
   "source": [
    "stop_tokens = pickle.load(open(\"stop_tokens.p\",\"rb\"))\n",
    "len(stop_tokens)"
   ]
  },
  {
   "cell_type": "code",
   "execution_count": 18,
   "metadata": {
    "button": false,
    "collapsed": true,
    "deletable": true,
    "new_sheet": false,
    "run_control": {
     "read_only": false
    }
   },
   "outputs": [],
   "source": [
    "#what exactly did we remove?\n",
    "#From LK Nelson: \"We want to instead identify frequent words that are unevenly distributed across the corpus.\"\n",
    "\n",
    "#stop_tokens"
   ]
  },
  {
   "cell_type": "code",
   "execution_count": 19,
   "metadata": {
    "button": false,
    "collapsed": true,
    "deletable": true,
    "new_sheet": false,
    "run_control": {
     "read_only": false
    }
   },
   "outputs": [],
   "source": [
    "analysis_corpus = []\n",
    "\n",
    "#finally undertake step5 and step6\n",
    "for bag in bags_proceedings:\n",
    "    analysis_tokens = [token for token in bag if token not in stop_tokens]\n",
    "    analysis_corpus.append(analysis_tokens)"
   ]
  },
  {
   "cell_type": "code",
   "execution_count": 20,
   "metadata": {
    "button": false,
    "collapsed": true,
    "deletable": true,
    "new_sheet": false,
    "run_control": {
     "read_only": false
    }
   },
   "outputs": [],
   "source": [
    "#data check\n",
    "#len(analysis_corpus[1])"
   ]
  },
  {
   "cell_type": "code",
   "execution_count": 21,
   "metadata": {
    "button": false,
    "collapsed": true,
    "deletable": true,
    "new_sheet": false,
    "run_control": {
     "read_only": false
    }
   },
   "outputs": [],
   "source": [
    "df_date['bagged_tokens'] = analysis_corpus"
   ]
  },
  {
   "cell_type": "code",
   "execution_count": 22,
   "metadata": {
    "button": false,
    "collapsed": true,
    "deletable": true,
    "new_sheet": false,
    "run_control": {
     "read_only": false
    }
   },
   "outputs": [],
   "source": [
    "#pickle it!\n",
    "\n",
    "pickle.dump(analysis_corpus,open(\"proceedings_bag_list.p\",\"wb\"))"
   ]
  },
  {
   "cell_type": "code",
   "execution_count": null,
   "metadata": {
    "button": false,
    "collapsed": true,
    "deletable": true,
    "new_sheet": false,
    "run_control": {
     "read_only": false
    }
   },
   "outputs": [],
   "source": []
  },
  {
   "cell_type": "markdown",
   "metadata": {
    "button": false,
    "deletable": true,
    "new_sheet": false,
    "run_control": {
     "read_only": false
    }
   },
   "source": [
    "<font color=darkred>\n",
    "\n",
    "## 3. Descriptives of a corpus\n",
    "\n",
    "- Named entity recognition\n",
    "- Part of speech tagging\n",
    "- Aim to figure out structure, frequency and association, i.e. the spiritual equivalent of histograms and scatterplots.\n",
    "- Really: do this before preprocessing because preprocessing is itself a research decision.\n",
    "- Tokens approximate Zipf's Law\n",
    "\n",
    "https://en.wikipedia.org/wiki/Zipf%27s_law"
   ]
  },
  {
   "cell_type": "markdown",
   "metadata": {
    "button": false,
    "deletable": true,
    "new_sheet": false,
    "run_control": {
     "read_only": false
    }
   },
   "source": [
    "#### PLOTTING SOME DISTRIBUTIONS OF TOKENS"
   ]
  },
  {
   "cell_type": "raw",
   "metadata": {
    "button": false,
    "deletable": true,
    "new_sheet": false,
    "run_control": {
     "read_only": false
    }
   },
   "source": [
    "from collections import Counter \n",
    "from matplotlib.backends.backend_pdf import PdfPages\n",
    "import matplotlib.pyplot as plt\n",
    "\n",
    "#open up a PDF document\n",
    "pp = PdfPages('freq_plots_all_proceedings.pdf')\n",
    "    \n",
    "for index, row in df_date.iterrows():\n",
    "        \n",
    "    #extracting the the necessary information from each row\n",
    "    year = row['date']\n",
    "    bag = row['bagged_tokens']\n",
    "    \n",
    "    #frequency count from last lab\n",
    "    freq_count = pd.DataFrame(Counter(bag).most_common(), columns=[\"word\", \"frequency\"])[25:100]\n",
    "    \n",
    "    plt.figure(figsize=(18, 10))\n",
    "    plt.bar(freq_count.index, freq_count['frequency'].values, color = \"darkred\", alpha = 0.7, edgecolor=\"white\")\n",
    "    plt.xticks(freq_count.index, freq_count['word'].values, rotation=90)\n",
    "    plt.title(year)\n",
    "    plt.grid()\n",
    "    \n",
    "    print(year,' completed.')\n",
    "    \n",
    "    #save current figure to page\n",
    "    pp.savefig()\n",
    "    plt.close()\n",
    "    \n",
    "pp.close()"
   ]
  },
  {
   "cell_type": "markdown",
   "metadata": {
    "button": false,
    "deletable": true,
    "new_sheet": false,
    "run_control": {
     "read_only": false
    }
   },
   "source": [
    "<font color=darkred>\n",
    "\n",
    "#### With that done, let's dive into a single year. n.b. Any of these commands can be done to a whole dataframe with an .apply method."
   ]
  },
  {
   "cell_type": "code",
   "execution_count": 23,
   "metadata": {
    "button": false,
    "collapsed": false,
    "deletable": true,
    "new_sheet": false,
    "run_control": {
     "read_only": false
    }
   },
   "outputs": [
    {
     "data": {
      "text/html": [
       "<div>\n",
       "<style>\n",
       "    .dataframe thead tr:only-child th {\n",
       "        text-align: right;\n",
       "    }\n",
       "\n",
       "    .dataframe thead th {\n",
       "        text-align: left;\n",
       "    }\n",
       "\n",
       "    .dataframe tbody tr th {\n",
       "        vertical-align: top;\n",
       "    }\n",
       "</style>\n",
       "<table border=\"1\" class=\"dataframe\">\n",
       "  <thead>\n",
       "    <tr style=\"text-align: right;\">\n",
       "      <th></th>\n",
       "      <th>date</th>\n",
       "      <th>proceedings</th>\n",
       "      <th>bagged_tokens</th>\n",
       "    </tr>\n",
       "  </thead>\n",
       "  <tbody>\n",
       "    <tr>\n",
       "      <th>33</th>\n",
       "      <td>1690_3</td>\n",
       "      <td>['Pages 373-384', 'The History and Proceedings...</td>\n",
       "      <td>[, march, new, met, westminst, chosen, sir, jo...</td>\n",
       "    </tr>\n",
       "    <tr>\n",
       "      <th>34</th>\n",
       "      <td>1691_10</td>\n",
       "      <td>['Pages 389-408', 'The History and Proceedings...</td>\n",
       "      <td>[, thursday, octob, 22d, met, westminst, majes...</td>\n",
       "    </tr>\n",
       "    <tr>\n",
       "      <th>35</th>\n",
       "      <td>1692_11</td>\n",
       "      <td>['Pages 408-415', 'The History and Proceedings...</td>\n",
       "      <td>[, lord, gentlemen, glad, meet, opportun, than...</td>\n",
       "    </tr>\n",
       "    <tr>\n",
       "      <th>36</th>\n",
       "      <td>1693_11</td>\n",
       "      <td>['Pages 415-445', 'The History and Proceedings...</td>\n",
       "      <td>[, met, westminst, nov, majesti, made, speech,...</td>\n",
       "    </tr>\n",
       "    <tr>\n",
       "      <th>37</th>\n",
       "      <td>1694_11</td>\n",
       "      <td>['Pages 445-474', 'The History and Proceedings...</td>\n",
       "      <td>[, monday, novemb, 12th, met, westminst, usual...</td>\n",
       "    </tr>\n",
       "    <tr>\n",
       "      <th>38</th>\n",
       "      <td>1695_11</td>\n",
       "      <td>['Pages 1-25', 'The History and Proceedings of...</td>\n",
       "      <td>[, met, accord, writ, summon, king, seat, thro...</td>\n",
       "    </tr>\n",
       "    <tr>\n",
       "      <th>39</th>\n",
       "      <td>1696_10</td>\n",
       "      <td>['Pages 25-73', 'The History and Proceedings o...</td>\n",
       "      <td>[, tuesday, octob, met, westminst, king, seat,...</td>\n",
       "    </tr>\n",
       "    <tr>\n",
       "      <th>40</th>\n",
       "      <td>1697_12</td>\n",
       "      <td>['Pages 74-91', 'The History and Proceedings o...</td>\n",
       "      <td>[, friday, decemb, met, westminst, king, robe,...</td>\n",
       "    </tr>\n",
       "    <tr>\n",
       "      <th>41</th>\n",
       "      <td>1698_8</td>\n",
       "      <td>['Pages 91-106', 'The History and Proceedings ...</td>\n",
       "      <td>[, tuesday, decemb, 6th, new, met, westminst, ...</td>\n",
       "    </tr>\n",
       "  </tbody>\n",
       "</table>\n",
       "</div>"
      ],
      "text/plain": [
       "       date                                        proceedings  \\\n",
       "33   1690_3  ['Pages 373-384', 'The History and Proceedings...   \n",
       "34  1691_10  ['Pages 389-408', 'The History and Proceedings...   \n",
       "35  1692_11  ['Pages 408-415', 'The History and Proceedings...   \n",
       "36  1693_11  ['Pages 415-445', 'The History and Proceedings...   \n",
       "37  1694_11  ['Pages 445-474', 'The History and Proceedings...   \n",
       "38  1695_11  ['Pages 1-25', 'The History and Proceedings of...   \n",
       "39  1696_10  ['Pages 25-73', 'The History and Proceedings o...   \n",
       "40  1697_12  ['Pages 74-91', 'The History and Proceedings o...   \n",
       "41   1698_8  ['Pages 91-106', 'The History and Proceedings ...   \n",
       "\n",
       "                                        bagged_tokens  \n",
       "33  [, march, new, met, westminst, chosen, sir, jo...  \n",
       "34  [, thursday, octob, 22d, met, westminst, majes...  \n",
       "35  [, lord, gentlemen, glad, meet, opportun, than...  \n",
       "36  [, met, westminst, nov, majesti, made, speech,...  \n",
       "37  [, monday, novemb, 12th, met, westminst, usual...  \n",
       "38  [, met, accord, writ, summon, king, seat, thro...  \n",
       "39  [, tuesday, octob, met, westminst, king, seat,...  \n",
       "40  [, friday, decemb, met, westminst, king, robe,...  \n",
       "41  [, tuesday, decemb, 6th, new, met, westminst, ...  "
      ]
     },
     "execution_count": 23,
     "metadata": {},
     "output_type": "execute_result"
    }
   ],
   "source": [
    "df_date.iloc[33:42,]"
   ]
  },
  {
   "cell_type": "code",
   "execution_count": 76,
   "metadata": {
    "button": false,
    "collapsed": true,
    "deletable": true,
    "new_sheet": false,
    "run_control": {
     "read_only": false
    }
   },
   "outputs": [],
   "source": [
    "#The Bank of England is founded in July 1694. I want some context surrounding that period\n",
    "import re\n",
    "\n",
    "bank_year = \" \".join(df_date.proceedings)\n",
    "bank_year = bank_year.replace('\\\\n', ' ').replace('\\r', '').replace('\\\\t', '').replace(\"\\\\\",\"\").replace(\"-\",'')\n",
    "bank_year = re.sub('[^A-Za-z0-9]+', ' ', str(bank_year))"
   ]
  },
  {
   "cell_type": "code",
   "execution_count": 77,
   "metadata": {
    "button": false,
    "collapsed": false,
    "deletable": true,
    "new_sheet": false,
    "run_control": {
     "read_only": false
    }
   },
   "outputs": [
    {
     "data": {
      "text/plain": [
       "9792566"
      ]
     },
     "execution_count": 77,
     "metadata": {},
     "output_type": "execute_result"
    }
   ],
   "source": [
    "len(bank_year)"
   ]
  },
  {
   "cell_type": "markdown",
   "metadata": {
    "button": false,
    "deletable": true,
    "new_sheet": false,
    "run_control": {
     "read_only": false
    }
   },
   "source": [
    "#### USING NLTK TO LOOK FOR CONTEXTUAL LANGUAGE"
   ]
  },
  {
   "cell_type": "code",
   "execution_count": 25,
   "metadata": {
    "button": false,
    "collapsed": false,
    "deletable": true,
    "new_sheet": false,
    "run_control": {
     "read_only": false
    }
   },
   "outputs": [
    {
     "data": {
      "text/plain": [
       "['be',\n",
       " 'absolutely',\n",
       " 'necessary',\n",
       " 'for',\n",
       " 'the',\n",
       " 'more',\n",
       " 'speedy',\n",
       " 'reducing',\n",
       " 'of',\n",
       " 'that',\n",
       " 'Kingdom',\n",
       " 'I',\n",
       " 'continue',\n",
       " 'my',\n",
       " 'Resolution',\n",
       " 'of',\n",
       " 'going',\n",
       " 'thither',\n",
       " 'as',\n",
       " 'soon']"
      ]
     },
     "execution_count": 25,
     "metadata": {},
     "output_type": "execute_result"
    }
   ],
   "source": [
    "#nltk tokenize\n",
    "import nltk\n",
    "import string\n",
    "\n",
    "bank_year_nltk = nltk.word_tokenize(bank_year)\n",
    "#bank_year_nltk = [nltk.word_tokenize(sent) for sent in bank_year_nltk]\n",
    "#bank_year_nltk = [word for word in bank_year_nltk if word not in list(string.punctuation)]\n",
    "#Turning off or turning on uppercase can help with identifying proper nouns\n",
    "#bank_year_nltk = [word.lower() for word in bank_year_nltk]\n",
    "\n",
    "#quirk of creating and list of tokenized words in sentences is that the that list layer has to be popped up\n",
    "bank_year_nltk = bank_year_nltk\n",
    "bank_year_nltk[100:120]"
   ]
  },
  {
   "cell_type": "code",
   "execution_count": 26,
   "metadata": {
    "button": false,
    "collapsed": true,
    "deletable": true,
    "new_sheet": false,
    "run_control": {
     "read_only": false
    }
   },
   "outputs": [],
   "source": [
    "text_bank_year_nltk = nltk.Text(bank_year_nltk)"
   ]
  },
  {
   "cell_type": "code",
   "execution_count": 27,
   "metadata": {
    "button": false,
    "collapsed": false,
    "deletable": true,
    "new_sheet": false,
    "run_control": {
     "read_only": false
    }
   },
   "outputs": [
    {
     "name": "stdout",
     "output_type": "stream",
     "text": [
      "Sir John; John Fenwick; Sir Thomas; Royal Assent; Thomas Cooke;\n",
      "Negative Yeas; EastIndia Company; thousand Pounds; per cent;\n",
      "Affirmative Yeas; per Ann; per Cent; Basil Firebrace; Sir Basil; King\n",
      "James; Queen Mary; per Annum; 2017 University; take care; Lord\n",
      "Falkland\n"
     ]
    }
   ],
   "source": [
    "#What are some pairs of words that together?\n",
    "\n",
    "text_bank_year_nltk.collocations()"
   ]
  },
  {
   "cell_type": "code",
   "execution_count": 28,
   "metadata": {
    "button": false,
    "collapsed": false,
    "deletable": true,
    "new_sheet": false,
    "run_control": {
     "read_only": false
    }
   },
   "outputs": [
    {
     "name": "stdout",
     "output_type": "stream",
     "text": [
      "so_a my_dislike and_officers too_what and_tables too_for the_care\n",
      "his_wisdom some_occasion a_encouragement the_power the_services a_deal\n",
      "very_importance the_proofs so_an with_violence another_alteration\n",
      "this_and too_to\n"
     ]
    }
   ],
   "source": [
    "text_bank_year_nltk.common_contexts(['great'])"
   ]
  },
  {
   "cell_type": "code",
   "execution_count": 29,
   "metadata": {
    "button": false,
    "collapsed": false,
    "deletable": true,
    "new_sheet": false,
    "run_control": {
     "read_only": false
    },
    "scrolled": true
   },
   "outputs": [
    {
     "name": "stdout",
     "output_type": "stream",
     "text": [
      "chandler_1742 of_as of_to of_attended of_the of_and of_an of_merchant\n",
      "of_pages of_was of_presented of_on of_soon of_s of_appointed of_after\n",
      "of_could of_where will_january brother_february\n"
     ]
    }
   ],
   "source": [
    "text_bank_year_nltk.common_contexts(['London'])"
   ]
  },
  {
   "cell_type": "code",
   "execution_count": 30,
   "metadata": {
    "button": false,
    "collapsed": false,
    "deletable": true,
    "new_sheet": false,
    "run_control": {
     "read_only": false
    }
   },
   "outputs": [
    {
     "name": "stdout",
     "output_type": "stream",
     "text": [
      "francis_and josiah_deputygovernor josiah_who josiah_and josiah_being\n",
      "josiah_often robert_and\n"
     ]
    }
   ],
   "source": [
    "text_bank_year_nltk.common_contexts(['Child'])"
   ]
  },
  {
   "cell_type": "code",
   "execution_count": 31,
   "metadata": {
    "button": false,
    "collapsed": false,
    "deletable": true,
    "new_sheet": false,
    "run_control": {
     "read_only": false
    }
   },
   "outputs": [
    {
     "name": "stdout",
     "output_type": "stream",
     "text": [
      "the_made majesties_william the_is young_encompassed the_money the_of\n",
      "and_james the_what late_james recognizing_william the_gave the_by\n",
      "under_william orange_and the_or the_and the_s to_william the_500\n",
      "the_to\n"
     ]
    }
   ],
   "source": [
    "text_bank_year_nltk.common_contexts(['King'])"
   ]
  },
  {
   "cell_type": "code",
   "execution_count": 32,
   "metadata": {
    "button": false,
    "collapsed": false,
    "deletable": true,
    "new_sheet": false,
    "run_control": {
     "read_only": false
    }
   },
   "outputs": [
    {
     "name": "stdout",
     "output_type": "stream",
     "text": [
      "a_boat the_are the_menofwar the_king a_prize the_fleet to_protestants\n",
      "a_cook fine_woman thousand_which the_but the_arms the_interest\n",
      "the_protestants the_make over_troops the_toulon of_goods\n",
      "selling_lustrings\n"
     ]
    }
   ],
   "source": [
    "text_bank_year_nltk.common_contexts(['French'])"
   ]
  },
  {
   "cell_type": "code",
   "execution_count": 33,
   "metadata": {
    "button": false,
    "collapsed": false,
    "deletable": true,
    "new_sheet": false,
    "run_control": {
     "read_only": false
    }
   },
   "outputs": [
    {
     "name": "stdout",
     "output_type": "stream",
     "text": [
      "Displaying 25 of 26 matches:\n",
      "So that the King does not only give Liberty but seems to command it The Manager\n",
      "ng s Officers that the Commons have liberty of challenging because that Fear an\n",
      "welve on a Trial and have claimed a liberty to eat and drink before their Verdi\n",
      "pply for the Fleet any Person be at liberty to add a second Life to the Life th\n",
      "hall forbear grating and desire the liberty to consider in short how the Trade \n",
      "atly when he had violated St Paul s Liberty by binding of him and shall we set \n",
      "ce which is such a Violation of the Liberty and Property of your Subjects that \n",
      "the Agents assume to themselves the Liberty of making great Deductions Which si\n",
      "gaged for the Safety of England and Liberty of Europe The Commons Address being\n",
      "ce by which many Hardships upon the Liberty of the Subject were removed or miti\n",
      "ce to subvert our Religion Laws and Liberty we whose Names are hereunto subscri\n",
      " Table and then every Member was at liberty to speak and ask Questions A third \n",
      "his Conduct and every Member was at liberty to ask him what Question he pleased\n",
      "ed from the Table no Member had the liberty to speak yet any Member had the lib\n",
      "rty to speak yet any Member had the liberty to desire that the Counsel and the \n",
      "ther the King s Counsel shall be at liberty to prove any thing that is not sugg\n",
      "two Witnesses and you will give him liberty to make his Defence I think it no l\n",
      "power and might restrain him of his Liberty for Life and whose Estate and Inter\n",
      "inst Sir John Fenwick and given him liberty to make his defence and have fully \n",
      "from And therefore I shall take the liberty to see how far agreeable our Procee\n",
      " Tally be allowed as Principal That Liberty be given by Parliament to enlarge t\n",
      "e tho they saw the Mischiefs of the Liberty of the Press they knew not where to\n",
      "ilence that Mr Duncomb being set at liberty by the Order of the House of Lords \n",
      "hat every Subscriber might have the liberty of trading Yearly to the amount of \n",
      "ption or might assign over such his liberty of Trading to any other Person Seco\n"
     ]
    }
   ],
   "source": [
    "text_bank_year_nltk.concordance('liberty')"
   ]
  },
  {
   "cell_type": "code",
   "execution_count": 34,
   "metadata": {
    "button": false,
    "collapsed": false,
    "deletable": true,
    "new_sheet": false,
    "run_control": {
     "read_only": false
    }
   },
   "outputs": [
    {
     "name": "stdout",
     "output_type": "stream",
     "text": [
      "Displaying 25 of 218 matches:\n",
      "eir Speaker with the usual Forms the King made the following Speech to both Ho\n",
      "rnment under their present Majesties King William and Queen Mary both by their\n",
      "shot through and through by them The King is pleased to lay his Wants before u\n",
      "nd generous Prince but he is a young King encompassed and hemmed in by a Compa\n",
      "so well in the Face We must save the King Money wherever we can for I am afrai\n",
      "testant Religion and to keep out the King of France and King James too whom by\n",
      "d to keep out the King of France and King James too whom by the way I have not\n",
      " conclude Mr Speaker let us save the King what we can and then let us proceed \n",
      "e hereditary Revenues which the late King James was entitled to December 10 16\n",
      "re vested in their present Majesties King William and Queen Mary in Right of t\n",
      "or elsewhere against their Majesties King William and Queen Mary and to enact \n",
      "ords entitled An Act for recognizing King William and Queen Mary and for avoid\n",
      "r their Concurrence The same day the King gave the Royal Assent to the Act for\n",
      "al Assent to the Act for recognizing King William and Queen Mary c and a priva\n",
      " When this Vote was presented to the King by the whole House his Majesty was p\n",
      "or an Oath of Abjuration of the late King James to be taken by all Persons in \n",
      " Bill to secure the Government under King William and Queen Mary against the l\n",
      "liam and Queen Mary against the late King James and all his Adherents Resolved\n",
      "rnment under their present Majesties King William and Queen Mary against the l\n",
      "liam and Queen Mary against the late King James and all his Adherents and all \n",
      "ng the Prince and Princess of Orange King and Queen a Debate arising a Motion \n",
      "ll cease at or upon the Death of the King or Queen who shall make any such Gra\n",
      "st Esq which were seiz d by the late King James the Bill was pass d and order \n",
      " pass d in the Negative The 20th the King gave the Royal Assent to An Act for \n",
      "nd this Bill entitled An Act for the King and Queen s most gracious general an\n"
     ]
    }
   ],
   "source": [
    "text_bank_year_nltk.concordance('King')"
   ]
  },
  {
   "cell_type": "code",
   "execution_count": 35,
   "metadata": {
    "button": false,
    "collapsed": false,
    "deletable": true,
    "new_sheet": false,
    "run_control": {
     "read_only": false
    }
   },
   "outputs": [
    {
     "name": "stdout",
     "output_type": "stream",
     "text": [
      "Displaying 25 of 31 matches:\n",
      "f the Government in the hands of the Queen during my Absence and if it shall be\n",
      "r present Majesties King William and Queen Mary both by their Council and with \n",
      "r present Majesties King William and Queen Mary in Right of the Crown of Englan\n",
      "nst their Majesties King William and Queen Mary and to enact and declare their \n",
      "Act for recognizing King William and Queen Mary and for avoiding all Questions \n",
      "Act for recognizing King William and Queen Mary c and a private Bill The 17th t\n",
      "he Government under King William and Queen Mary against the late King James and\n",
      "r present Majesties King William and Queen Mary against the late King James and\n",
      "ince and Princess of Orange King and Queen a Debate arising a Motion was made t\n",
      " at or upon the Death of the King or Queen who shall make any such Grant Resolv\n",
      "ill entitled An Act for the King and Queen s most gracious general and free Par\n",
      "on Oppressor They also address d the Queen and acknowledg d her prudent Adminis\n",
      "inting the Caths to King William and Queen Mary Which after two or three Confer\n",
      "n the first Year of King William and Queen Mary entitled An Act for abrogating \n",
      "aving been in open Rebellion against Queen Mary That if the Earl of Wiltshire h\n",
      "rl did not sit upon the Trial of the Queen That if all Power must be abolished \n",
      "and Commons and in particular to the Queen for her wise and happy Administratio\n",
      "d Pamphlet entitled King William and Queen Mary Conquerors as containing Assert\n",
      "at the Assertion of King William and Queen Mary s being King and Queen by Conqu\n",
      "liam and Queen Mary s being King and Queen by Conquest was highly injurious to \n",
      "be rais d of the same Numbers as the Queen s Regiment to be commanded by Office\n",
      "e same time December 22 The 31st the Queen dying the 28th both Houses of Parlia\n",
      "ormation from the Lady Derby how the Queen s Pleasure was That Colonel FitzPatr\n",
      "t those Lordships in grant to him in Queen Elizabeth s time Sir Robert Cotton a\n",
      "in Peace and to grant it back to the Queen Since which Time it had ever been in\n"
     ]
    }
   ],
   "source": [
    "text_bank_year_nltk.concordance('Queen')"
   ]
  },
  {
   "cell_type": "code",
   "execution_count": 36,
   "metadata": {
    "button": false,
    "collapsed": false,
    "deletable": true,
    "new_sheet": false,
    "run_control": {
     "read_only": false
    }
   },
   "outputs": [
    {
     "name": "stdout",
     "output_type": "stream",
     "text": [
      "Displaying 2 of 2 matches:\n",
      "them for quarters and that no Irish Papist may serve in your Army there And fo\n",
      "tection may be granted to any Irish Papist to stop the Course of Justice And a\n"
     ]
    }
   ],
   "source": [
    "text_bank_year_nltk.concordance('papist')"
   ]
  },
  {
   "cell_type": "code",
   "execution_count": 37,
   "metadata": {
    "button": false,
    "collapsed": false,
    "deletable": true,
    "new_sheet": false,
    "run_control": {
     "read_only": false
    }
   },
   "outputs": [
    {
     "name": "stdout",
     "output_type": "stream",
     "text": [
      "Displaying 8 of 8 matches:\n",
      "m be in eight Notes upon Sir Francis Child and Mr Fowle two for 1000 l apiece p\n",
      "min Bathurst Governor and Sir Josiah Child DeputyGovernor 2230 l 14 s In 1690 a\n",
      "m that he delivered it to Sir Josiah Child who presented it to his Majesty as a\n",
      "yssen told him he gave it Sir Josiah Child who said he gave it the King And her\n",
      "nt heard a Note signed by Sir Josiah Child and Sir Thomas Cooke for fifty thous\n",
      " Hints of his Expectation Sir Josiah Child being examined said he never dispose\n",
      "flection on the King that Sir Josiah Child often complain d of it as a Rudeness\n",
      "al belonging to Arthur Mangey Robert Child and J Hurst convict of HighTreason s\n"
     ]
    }
   ],
   "source": [
    "text_bank_year_nltk.concordance('Child')"
   ]
  },
  {
   "cell_type": "code",
   "execution_count": 38,
   "metadata": {
    "button": false,
    "collapsed": false,
    "deletable": true,
    "new_sheet": false,
    "run_control": {
     "read_only": false
    }
   },
   "outputs": [
    {
     "name": "stdout",
     "output_type": "stream",
     "text": [
      "Displaying 25 of 33 matches:\n",
      "ed in the Year 1693 while Sir Thomas Cooke was Governor and Francis Tyssen Esq \n",
      "id was a new Course since Sir Thomas Cooke came to be DeputyGovernor or Governo\n",
      "Joseph Herne Governor and Sir Thomas Cooke DeputyGovernor 13 532 l 9 s In 1692 \n",
      "32 l 9 s In 1692 and 1693 Sir Thomas Cooke Governour and Mr Tyssen DeputyGovern\n",
      "at 90 000 l was lent upon Sir Thomas Cooke s Notes which he produced with other\n",
      "Ballance That in his Note Sir Thomas Cooke owned the Receipt of 90 000 l which \n",
      " Esq Sir Joseph Herne and Sir Thomas Cooke were present at the Court of Committ\n",
      "e of Sir Joseph Herne and Sir Thomas Cooke s Government but only that the same \n",
      "or an Account thereof but Sir Thomas Cooke desired he would not That the Compan\n",
      "ine had often called upon Sir Thomas Cooke to give an account to whom he had di\n",
      "oney lay principally with Sir Thomas Cooke and Sir Joseph Herne That Sir Benjam\n",
      " some warm discourse with Sir Thomas Cooke about it to know how it was disburse\n",
      "rsons with him discoursed Sir Thomas Cooke about it who said the 90 000 l he ha\n",
      " said that it was made by Sir Thomas Cooke and Sir Basil Firebrace but he knew \n",
      "he House And ordered that Sir Thomas Cooke a Member having refused to give an a\n",
      "the EastIndia Company and Sir Thomas Cooke petitioned the House that he might b\n",
      "rted the next day The 6th Sir Thomas Cooke s Council were heard and the Bill wa\n",
      "the Commons desiring that Sir Thomas Cooke might be permitted and ordered to ap\n",
      "e of the Act to indemnify Sir Thomas Cooke a fn 2 Committee of both Houses was \n",
      "he Original being read by Sir Thomas Cooke the Committee conceived it was imper\n",
      "entioned in the Report of Sir Thomas Cooke be had before a Committee of both Ho\n",
      "virtue of a Contract with Sir Thomas Cooke for Favours and Services done That t\n",
      "t he had these Notes from Sir Thomas Cooke and was accountable to him for the s\n",
      "d by Sir Josiah Child and Sir Thomas Cooke for fifty thousand Pounds was lodged\n",
      "nd two thousand Pounds of Sir Thomas Cooke That he told Sir Thomas he had Frien\n"
     ]
    }
   ],
   "source": [
    "text_bank_year_nltk.concordance('Cooke')"
   ]
  },
  {
   "cell_type": "code",
   "execution_count": 39,
   "metadata": {
    "button": false,
    "collapsed": true,
    "deletable": true,
    "new_sheet": false,
    "run_control": {
     "read_only": false
    }
   },
   "outputs": [],
   "source": [
    "#concordance_index = nltk.text.ConcordanceIndex()"
   ]
  },
  {
   "cell_type": "code",
   "execution_count": 40,
   "metadata": {
    "button": false,
    "collapsed": false,
    "deletable": true,
    "new_sheet": false,
    "run_control": {
     "read_only": false
    }
   },
   "outputs": [
    {
     "name": "stdout",
     "output_type": "stream",
     "text": [
      "house bill commons lords government nation crown kingdom parliament\n",
      "committee army exchequer company people war same court speaker money\n",
      "other\n"
     ]
    }
   ],
   "source": [
    "#SIMILAR\n",
    "#Takes a word and finds all contexts (i.e. wors on either side), and then searches for words which appear in that same context\n",
    "text_bank_year_nltk.similar('King')"
   ]
  },
  {
   "cell_type": "code",
   "execution_count": 41,
   "metadata": {
    "button": false,
    "collapsed": false,
    "deletable": true,
    "new_sheet": false,
    "run_control": {
     "read_only": false
    },
    "scrolled": true
   },
   "outputs": [
    {
     "name": "stdout",
     "output_type": "stream",
     "text": [
      "nation other government fleet house commons king lords company people\n",
      "crown bill exchequer counsel speaker kingdom war commissioners future\n",
      "supply\n"
     ]
    }
   ],
   "source": [
    "text_bank_year_nltk.similar('Queen')"
   ]
  },
  {
   "cell_type": "code",
   "execution_count": 42,
   "metadata": {
    "button": false,
    "collapsed": false,
    "deletable": true,
    "new_sheet": false,
    "run_control": {
     "read_only": false
    }
   },
   "outputs": [
    {
     "name": "stdout",
     "output_type": "stream",
     "text": [
      "commons bill house supply crown evidence king lords kingdom time\n",
      "committee company people grant report person peers charter stock\n",
      "constitution\n"
     ]
    }
   ],
   "source": [
    "text_bank_year_nltk.similar('Revenue')"
   ]
  },
  {
   "cell_type": "code",
   "execution_count": 43,
   "metadata": {
    "button": false,
    "collapsed": false,
    "deletable": true,
    "new_sheet": false,
    "run_control": {
     "read_only": false
    },
    "scrolled": true
   },
   "outputs": [
    {
     "name": "stdout",
     "output_type": "stream",
     "text": [
      "house commons bill parliament king government crown nation kingdom\n",
      "people same committee company exchequer war army money fleet rest\n",
      "treasury\n"
     ]
    }
   ],
   "source": [
    "text_bank_year_nltk.similar('Lords')"
   ]
  },
  {
   "cell_type": "code",
   "execution_count": 44,
   "metadata": {
    "button": false,
    "collapsed": false,
    "deletable": true,
    "new_sheet": false,
    "run_control": {
     "read_only": false
    }
   },
   "outputs": [
    {
     "data": {
      "image/png": "[encoded data removed]",
      "text/plain": [
       "<matplotlib.figure.Figure at 0x12495a278>"
      ]
     },
     "metadata": {},
     "output_type": "display_data"
    }
   ],
   "source": [
    "#From leture\n",
    "text_bank_year_nltk.dispersion_plot(['Mary','James','William'])"
   ]
  },
  {
   "cell_type": "code",
   "execution_count": 45,
   "metadata": {
    "button": false,
    "collapsed": false,
    "deletable": true,
    "new_sheet": false,
    "run_control": {
     "read_only": false
    }
   },
   "outputs": [
    {
     "data": {
      "image/png": "[encoded data removed]",
      "text/plain": [
       "<matplotlib.figure.Figure at 0x11d139048>"
      ]
     },
     "metadata": {},
     "output_type": "display_data"
    }
   ],
   "source": [
    "text_bank_year_nltk.dispersion_plot(['Commons','Lords'])"
   ]
  },
  {
   "cell_type": "markdown",
   "metadata": {
    "button": false,
    "deletable": true,
    "new_sheet": false,
    "run_control": {
     "read_only": false
    }
   },
   "source": [
    "#### (Just wait until we get to word embeddings though.)"
   ]
  },
  {
   "cell_type": "markdown",
   "metadata": {
    "button": false,
    "deletable": true,
    "new_sheet": false,
    "run_control": {
     "read_only": false
    }
   },
   "source": [
    "#### PARTS OF SPEECH TAGGING"
   ]
  },
  {
   "cell_type": "code",
   "execution_count": 46,
   "metadata": {
    "button": false,
    "collapsed": false,
    "deletable": true,
    "new_sheet": false,
    "run_control": {
     "read_only": false
    },
    "scrolled": true
   },
   "outputs": [
    {
     "data": {
      "text/plain": [
       "list"
      ]
     },
     "execution_count": 46,
     "metadata": {},
     "output_type": "execute_result"
    }
   ],
   "source": [
    "#Parts of Speech tagging\n",
    "bank_year_nltk_pos = nltk.pos_tag(bank_year_nltk)\n",
    "type(bank_year_nltk_pos)"
   ]
  },
  {
   "cell_type": "code",
   "execution_count": 47,
   "metadata": {
    "button": false,
    "collapsed": false,
    "deletable": true,
    "new_sheet": false,
    "run_control": {
     "read_only": false
    },
    "scrolled": false
   },
   "outputs": [
    {
     "name": "stdout",
     "output_type": "stream",
     "text": [
      "$: dollar\n",
      "    $ -$ --$ A$ C$ HK$ M$ NZ$ S$ U.S.$ US$\n",
      "'': closing quotation mark\n",
      "    ' ''\n",
      "(: opening parenthesis\n",
      "    ( [ {\n",
      "): closing parenthesis\n",
      "    ) ] }\n",
      ",: comma\n",
      "    ,\n",
      "--: dash\n",
      "    --\n",
      ".: sentence terminator\n",
      "    . ! ?\n",
      ":: colon or ellipsis\n",
      "    : ; ...\n",
      "CC: conjunction, coordinating\n",
      "    & 'n and both but either et for less minus neither nor or plus so\n",
      "    therefore times v. versus vs. whether yet\n",
      "CD: numeral, cardinal\n",
      "    mid-1890 nine-thirty forty-two one-tenth ten million 0.5 one forty-\n",
      "    seven 1987 twenty '79 zero two 78-degrees eighty-four IX '60s .025\n",
      "    fifteen 271,124 dozen quintillion DM2,000 ...\n",
      "DT: determiner\n",
      "    all an another any both del each either every half la many much nary\n",
      "    neither no some such that the them these this those\n",
      "EX: existential there\n",
      "    there\n",
      "FW: foreign word\n",
      "    gemeinschaft hund ich jeux habeas Haementeria Herr K'ang-si vous\n",
      "    lutihaw alai je jour objets salutaris fille quibusdam pas trop Monte\n",
      "    terram fiche oui corporis ...\n",
      "IN: preposition or conjunction, subordinating\n",
      "    astride among uppon whether out inside pro despite on by throughout\n",
      "    below within for towards near behind atop around if like until below\n",
      "    next into if beside ...\n",
      "JJ: adjective or numeral, ordinal\n",
      "    third ill-mannered pre-war regrettable oiled calamitous first separable\n",
      "    ectoplasmic battery-powered participatory fourth still-to-be-named\n",
      "    multilingual multi-disciplinary ...\n",
      "JJR: adjective, comparative\n",
      "    bleaker braver breezier briefer brighter brisker broader bumper busier\n",
      "    calmer cheaper choosier cleaner clearer closer colder commoner costlier\n",
      "    cozier creamier crunchier cuter ...\n",
      "JJS: adjective, superlative\n",
      "    calmest cheapest choicest classiest cleanest clearest closest commonest\n",
      "    corniest costliest crassest creepiest crudest cutest darkest deadliest\n",
      "    dearest deepest densest dinkiest ...\n",
      "LS: list item marker\n",
      "    A A. B B. C C. D E F First G H I J K One SP-44001 SP-44002 SP-44005\n",
      "    SP-44007 Second Third Three Two * a b c d first five four one six three\n",
      "    two\n",
      "MD: modal auxiliary\n",
      "    can cannot could couldn't dare may might must need ought shall should\n",
      "    shouldn't will would\n",
      "NN: noun, common, singular or mass\n",
      "    common-carrier cabbage knuckle-duster Casino afghan shed thermostat\n",
      "    investment slide humour falloff slick wind hyena override subhumanity\n",
      "    machinist ...\n",
      "NNP: noun, proper, singular\n",
      "    Motown Venneboerger Czestochwa Ranzer Conchita Trumplane Christos\n",
      "    Oceanside Escobar Kreisler Sawyer Cougar Yvette Ervin ODI Darryl CTCA\n",
      "    Shannon A.K.C. Meltex Liverpool ...\n",
      "NNPS: noun, proper, plural\n",
      "    Americans Americas Amharas Amityvilles Amusements Anarcho-Syndicalists\n",
      "    Andalusians Andes Andruses Angels Animals Anthony Antilles Antiques\n",
      "    Apache Apaches Apocrypha ...\n",
      "NNS: noun, common, plural\n",
      "    undergraduates scotches bric-a-brac products bodyguards facets coasts\n",
      "    divestitures storehouses designs clubs fragrances averages\n",
      "    subjectivists apprehensions muses factory-jobs ...\n",
      "PDT: pre-determiner\n",
      "    all both half many quite such sure this\n",
      "POS: genitive marker\n",
      "    ' 's\n",
      "PRP: pronoun, personal\n",
      "    hers herself him himself hisself it itself me myself one oneself ours\n",
      "    ourselves ownself self she thee theirs them themselves they thou thy us\n",
      "PRP$: pronoun, possessive\n",
      "    her his mine my our ours their thy your\n",
      "RB: adverb\n",
      "    occasionally unabatingly maddeningly adventurously professedly\n",
      "    stirringly prominently technologically magisterially predominately\n",
      "    swiftly fiscally pitilessly ...\n",
      "RBR: adverb, comparative\n",
      "    further gloomier grander graver greater grimmer harder harsher\n",
      "    healthier heavier higher however larger later leaner lengthier less-\n",
      "    perfectly lesser lonelier longer louder lower more ...\n",
      "RBS: adverb, superlative\n",
      "    best biggest bluntest earliest farthest first furthest hardest\n",
      "    heartiest highest largest least less most nearest second tightest worst\n",
      "RP: particle\n",
      "    aboard about across along apart around aside at away back before behind\n",
      "    by crop down ever fast for forth from go high i.e. in into just later\n",
      "    low more off on open out over per pie raising start teeth that through\n",
      "    under unto up up-pp upon whole with you\n",
      "SYM: symbol\n",
      "    % & ' '' ''. ) ). * + ,. < = > @ A[fj] U.S U.S.S.R * ** ***\n",
      "TO: \"to\" as preposition or infinitive marker\n",
      "    to\n",
      "UH: interjection\n",
      "    Goodbye Goody Gosh Wow Jeepers Jee-sus Hubba Hey Kee-reist Oops amen\n",
      "    huh howdy uh dammit whammo shucks heck anyways whodunnit honey golly\n",
      "    man baby diddle hush sonuvabitch ...\n",
      "VB: verb, base form\n",
      "    ask assemble assess assign assume atone attention avoid bake balkanize\n",
      "    bank begin behold believe bend benefit bevel beware bless boil bomb\n",
      "    boost brace break bring broil brush build ...\n",
      "VBD: verb, past tense\n",
      "    dipped pleaded swiped regummed soaked tidied convened halted registered\n",
      "    cushioned exacted snubbed strode aimed adopted belied figgered\n",
      "    speculated wore appreciated contemplated ...\n",
      "VBG: verb, present participle or gerund\n",
      "    telegraphing stirring focusing angering judging stalling lactating\n",
      "    hankerin' alleging veering capping approaching traveling besieging\n",
      "    encrypting interrupting erasing wincing ...\n",
      "VBN: verb, past participle\n",
      "    multihulled dilapidated aerosolized chaired languished panelized used\n",
      "    experimented flourished imitated reunifed factored condensed sheared\n",
      "    unsettled primed dubbed desired ...\n",
      "VBP: verb, present tense, not 3rd person singular\n",
      "    predominate wrap resort sue twist spill cure lengthen brush terminate\n",
      "    appear tend stray glisten obtain comprise detest tease attract\n",
      "    emphasize mold postpone sever return wag ...\n",
      "VBZ: verb, present tense, 3rd person singular\n",
      "    bases reconstructs marks mixes displeases seals carps weaves snatches\n",
      "    slumps stretches authorizes smolders pictures emerges stockpiles\n",
      "    seduces fizzes uses bolsters slaps speaks pleads ...\n",
      "WDT: WH-determiner\n",
      "    that what whatever which whichever\n",
      "WP: WH-pronoun\n",
      "    that what whatever whatsoever which who whom whosoever\n",
      "WP$: WH-pronoun, possessive\n",
      "    whose\n",
      "WRB: Wh-adverb\n",
      "    how however whence whenever where whereby whereever wherein whereof why\n",
      "``: opening quotation mark\n",
      "    ` ``\n"
     ]
    }
   ],
   "source": [
    "#What do these tags mean?!\n",
    "nltk.help.upenn_tagset()"
   ]
  },
  {
   "cell_type": "code",
   "execution_count": 48,
   "metadata": {
    "button": false,
    "collapsed": true,
    "deletable": true,
    "new_sheet": false,
    "run_control": {
     "read_only": false
    }
   },
   "outputs": [],
   "source": [
    "#nltk.ConditionalFreqDist \n",
    "#Frequency of each poart of speech for each word\n",
    "#nltk quirk of code not to accecpt list comprehension\n",
    "bank_pos2word = nltk.ConditionalFreqDist((pos, word) for word, pos in bank_year_nltk_pos)"
   ]
  },
  {
   "cell_type": "code",
   "execution_count": null,
   "metadata": {
    "button": false,
    "collapsed": true,
    "deletable": true,
    "new_sheet": false,
    "run_control": {
     "read_only": false
    }
   },
   "outputs": [],
   "source": []
  },
  {
   "cell_type": "code",
   "execution_count": 49,
   "metadata": {
    "button": false,
    "collapsed": false,
    "deletable": true,
    "new_sheet": false,
    "run_control": {
     "read_only": false
    }
   },
   "outputs": [
    {
     "data": {
      "text/plain": [
       "FreqDist({'Interest': 3,\n",
       "          'Most': 2,\n",
       "          'best': 18,\n",
       "          'blest': 1,\n",
       "          'deepest': 1,\n",
       "          'extremest': 1,\n",
       "          'fairest': 1,\n",
       "          'greatest': 13,\n",
       "          'highest': 6,\n",
       "          'least': 21,\n",
       "          'lest': 1,\n",
       "          'longest': 1,\n",
       "          'manifest': 3,\n",
       "          'meanest': 2,\n",
       "          'most': 34,\n",
       "          'worst': 2})"
      ]
     },
     "execution_count": 49,
     "metadata": {},
     "output_type": "execute_result"
    }
   ],
   "source": [
    "#superlative adjectives\n",
    "bank_pos2word['JJS']"
   ]
  },
  {
   "cell_type": "code",
   "execution_count": 50,
   "metadata": {
    "button": false,
    "collapsed": false,
    "deletable": true,
    "new_sheet": false,
    "run_control": {
     "read_only": false
    }
   },
   "outputs": [
    {
     "data": {
      "text/plain": [
       "[('House', 449),\n",
       " ('Bill', 355),\n",
       " ('Majesty', 339),\n",
       " ('Sir', 313),\n",
       " ('Mr', 271),\n",
       " ('Parliament', 228),\n",
       " ('King', 215),\n",
       " ('John', 150),\n",
       " ('Act', 146),\n",
       " ('Money', 128),\n",
       " ('Lord', 124),\n",
       " ('Government', 106),\n",
       " ('Committee', 106),\n",
       " ('England', 105),\n",
       " ('Kingdom', 103),\n",
       " ('Person', 97),\n",
       " ('Gentlemen', 95),\n",
       " ('A', 94),\n",
       " ('Lords', 91),\n",
       " ('Grant', 86),\n",
       " ('Crown', 84),\n",
       " ('Company', 74),\n",
       " ('Thomas', 72),\n",
       " ('War', 71),\n",
       " ('Fenwick', 68),\n",
       " ('Service', 61),\n",
       " ('Trial', 61),\n",
       " ('Sum', 60),\n",
       " ('Commons', 57),\n",
       " ('Army', 56),\n",
       " ('Account', 56),\n",
       " ('Noes', 55),\n",
       " ('Ireland', 54),\n",
       " ('Law', 54),\n",
       " ('Member', 53)]"
      ]
     },
     "execution_count": 50,
     "metadata": {},
     "output_type": "execute_result"
    }
   ],
   "source": [
    "#most common singular proper nouns\n",
    "bank_pos2word['NNP'].most_common(35)"
   ]
  },
  {
   "cell_type": "code",
   "execution_count": 51,
   "metadata": {
    "button": false,
    "collapsed": true,
    "deletable": true,
    "new_sheet": false,
    "run_control": {
     "read_only": false
    }
   },
   "outputs": [],
   "source": [
    "# most common adjectives, nouns, and verbs\n",
    "adjectives = [word for (word,pos) in bank_year_nltk_pos if pos == 'JJ' or pos=='JJR' or pos=='JJS']\n",
    "nouns = [word for (word,pos) in bank_year_nltk_pos if pos=='NN' or pos=='NNS']\n",
    "verbs = [word for (word,pos) in bank_year_nltk_pos if pos in ['VB', 'VBD','VBG','VBN','VBP','VBZ']]"
   ]
  },
  {
   "cell_type": "code",
   "execution_count": null,
   "metadata": {
    "button": false,
    "collapsed": true,
    "deletable": true,
    "new_sheet": false,
    "run_control": {
     "read_only": false
    }
   },
   "outputs": [],
   "source": []
  },
  {
   "cell_type": "code",
   "execution_count": 52,
   "metadata": {
    "button": false,
    "collapsed": false,
    "deletable": true,
    "new_sheet": false,
    "run_control": {
     "read_only": false
    }
   },
   "outputs": [
    {
     "data": {
      "image/png": "[encoded data removed]",
      "text/plain": [
       "<matplotlib.figure.Figure at 0x128a6a860>"
      ]
     },
     "metadata": {},
     "output_type": "display_data"
    }
   ],
   "source": [
    "from collections import Counter \n",
    "from matplotlib.backends.backend_pdf import PdfPages\n",
    "import matplotlib.pyplot as plt\n",
    "\n",
    "\n",
    "freq_count = pd.DataFrame(Counter(adjectives).most_common(), columns=[\"word\", \"frequency\"])[25:100]\n",
    "plt.figure(figsize=(18, 10))\n",
    "plt.bar(freq_count.index, freq_count['frequency'].values, color = \"darkred\", alpha = 0.7, edgecolor=\"white\")\n",
    "plt.xticks(freq_count.index, freq_count['word'].values, rotation=90)\n",
    "plt.title('Most Frequently Used Adjectives')\n",
    "plt.grid()\n",
    "plt.show()"
   ]
  },
  {
   "cell_type": "code",
   "execution_count": 53,
   "metadata": {
    "button": false,
    "collapsed": false,
    "deletable": true,
    "new_sheet": false,
    "run_control": {
     "read_only": false
    }
   },
   "outputs": [
    {
     "data": {
      "image/png": "[encoded data removed]",
      "text/plain": [
       "<matplotlib.figure.Figure at 0x1109d0048>"
      ]
     },
     "metadata": {},
     "output_type": "display_data"
    }
   ],
   "source": [
    "freq_count = pd.DataFrame(Counter(nouns).most_common(), columns=[\"word\", \"frequency\"])[25:100]\n",
    "plt.figure(figsize=(18, 10))\n",
    "plt.bar(freq_count.index, freq_count['frequency'].values, color = \"darkgreen\", alpha = 0.7, edgecolor=\"white\")\n",
    "plt.xticks(freq_count.index, freq_count['word'].values, rotation=90)\n",
    "plt.title('Most Frequently Used Nouns')\n",
    "plt.grid()\n",
    "plt.show()"
   ]
  },
  {
   "cell_type": "code",
   "execution_count": 54,
   "metadata": {
    "button": false,
    "collapsed": false,
    "deletable": true,
    "new_sheet": false,
    "run_control": {
     "read_only": false
    }
   },
   "outputs": [
    {
     "data": {
      "image/png": "[encoded data removed]",
      "text/plain": [
       "<matplotlib.figure.Figure at 0x11e190c50>"
      ]
     },
     "metadata": {},
     "output_type": "display_data"
    }
   ],
   "source": [
    "freq_count = pd.DataFrame(Counter(verbs).most_common(), columns=[\"word\", \"frequency\"])[25:100]\n",
    "plt.figure(figsize=(18, 10))\n",
    "plt.bar(freq_count.index, freq_count['frequency'].values, color = \"darkblue\", alpha = 0.7, edgecolor=\"white\")\n",
    "plt.xticks(freq_count.index, freq_count['word'].values, rotation=90)\n",
    "plt.title('Most Frequently Used Verbs')\n",
    "plt.grid()\n",
    "plt.show()"
   ]
  },
  {
   "cell_type": "markdown",
   "metadata": {
    "button": false,
    "deletable": true,
    "new_sheet": false,
    "run_control": {
     "read_only": false
    }
   },
   "source": [
    "***\n",
    "#### Using spaCy to look for NER and PoS"
   ]
  },
  {
   "cell_type": "code",
   "execution_count": null,
   "metadata": {
    "button": false,
    "collapsed": true,
    "deletable": true,
    "new_sheet": false,
    "run_control": {
     "read_only": false
    }
   },
   "outputs": [],
   "source": [
    "%%time\n",
    "import spacy\n",
    "spacy_nlp = spacy.load('en')\n",
    "\n",
    "bank_year_spacy = spacy_nlp(bank_year)"
   ]
  },
  {
   "cell_type": "code",
   "execution_count": null,
   "metadata": {
    "button": false,
    "collapsed": true,
    "deletable": true,
    "new_sheet": false,
    "run_control": {
     "read_only": false
    }
   },
   "outputs": [],
   "source": []
  },
  {
   "cell_type": "code",
   "execution_count": 56,
   "metadata": {
    "button": false,
    "collapsed": false,
    "deletable": true,
    "new_sheet": false,
    "run_control": {
     "read_only": false
    }
   },
   "outputs": [
    {
     "data": {
      "text/plain": [
       "{'CARDINAL',\n",
       " 'DATE',\n",
       " 'EVENT',\n",
       " 'FAC',\n",
       " 'GPE',\n",
       " 'LANGUAGE',\n",
       " 'LAW',\n",
       " 'LOC',\n",
       " 'MONEY',\n",
       " 'NORP',\n",
       " 'ORDINAL',\n",
       " 'ORG',\n",
       " 'PERCENT',\n",
       " 'PERSON',\n",
       " 'PRODUCT',\n",
       " 'QUANTITY',\n",
       " 'TIME',\n",
       " 'WORK_OF_ART'}"
      ]
     },
     "execution_count": 56,
     "metadata": {},
     "output_type": "execute_result"
    }
   ],
   "source": [
    "#Named Entity Recognition\n",
    "set([ent.label_ for ent in bank_year_spacy.ents])"
   ]
  },
  {
   "cell_type": "code",
   "execution_count": 57,
   "metadata": {
    "button": false,
    "collapsed": false,
    "deletable": true,
    "new_sheet": false,
    "run_control": {
     "read_only": false
    }
   },
   "outputs": [
    {
     "data": {
      "text/plain": [
       "{'Absence',\n",
       " 'Advice',\n",
       " 'Amongst',\n",
       " 'Ann',\n",
       " 'Armour',\n",
       " 'Bill',\n",
       " 'Chandler London',\n",
       " 'Charles Sedley',\n",
       " 'Coaches',\n",
       " 'Endeavours',\n",
       " 'Gift',\n",
       " 'Houses Resolved',\n",
       " 'Instruments',\n",
       " 'James',\n",
       " 'John Trevor',\n",
       " 'Kings Charles',\n",
       " 'Laws',\n",
       " 'Majesties',\n",
       " 'Majesties King William',\n",
       " 'Majesty',\n",
       " 'Moiety',\n",
       " 'Okeden',\n",
       " 'Place',\n",
       " 'Provision',\n",
       " 'Queen Mary',\n",
       " 'Resolutions',\n",
       " 'Resolv',\n",
       " 'Session',\n",
       " 'Speed',\n",
       " 'Taxes',\n",
       " 'Thomas',\n",
       " 'Thomas Mompesson',\n",
       " 'Vigour',\n",
       " 'Wants',\n",
       " 'Ways',\n",
       " 'the Commissioners of the Treasury'}"
      ]
     },
     "execution_count": 57,
     "metadata": {},
     "output_type": "execute_result"
    }
   ],
   "source": [
    "set([ent.text for ent in bank_year_spacy.ents if ent.label_ == 'PERSON'][:50])"
   ]
  },
  {
   "cell_type": "code",
   "execution_count": 58,
   "metadata": {
    "button": false,
    "collapsed": false,
    "deletable": true,
    "new_sheet": false,
    "run_control": {
     "read_only": false
    }
   },
   "outputs": [
    {
     "data": {
      "text/plain": [
       "{'Act',\n",
       " 'Apprehensions',\n",
       " 'Chandler',\n",
       " 'Commons',\n",
       " 'Conjuncture',\n",
       " 'Credit',\n",
       " 'Debates',\n",
       " 'Dispatch',\n",
       " 'Forms',\n",
       " 'Fund',\n",
       " 'Gentlemen',\n",
       " 'Grace',\n",
       " 'Honour',\n",
       " 'House',\n",
       " 'Houses',\n",
       " 'Indemnity',\n",
       " 'Ireland',\n",
       " 'John',\n",
       " 'King',\n",
       " 'Kingdom',\n",
       " 'London',\n",
       " 'Lords',\n",
       " 'March',\n",
       " 'Monarchy',\n",
       " 'Nation',\n",
       " 'Pages',\n",
       " 'Parliament',\n",
       " 'Peace',\n",
       " 'Persons',\n",
       " 'Presence',\n",
       " 'Prosperity',\n",
       " 'Revenue',\n",
       " 'Safeties',\n",
       " 'Safety',\n",
       " 'Service',\n",
       " 'Settlement',\n",
       " 'Sir',\n",
       " 'Speaker',\n",
       " 'Speech',\n",
       " 'Speed',\n",
       " 'Throne',\n",
       " 'Trevor',\n",
       " 'Vigour',\n",
       " 'Volume',\n",
       " 'War',\n",
       " 'Westminster'}"
      ]
     },
     "execution_count": 58,
     "metadata": {},
     "output_type": "execute_result"
    }
   ],
   "source": [
    "#from the Parts of Speech tagger from spaCy\n",
    "set([token.text for token in bank_year_spacy if token.pos_ == 'PROPN'][:50])"
   ]
  },
  {
   "cell_type": "code",
   "execution_count": 59,
   "metadata": {
    "button": false,
    "collapsed": false,
    "deletable": true,
    "new_sheet": false,
    "run_control": {
     "read_only": false
    }
   },
   "outputs": [
    {
     "data": {
      "text/plain": [
       "{'Act',\n",
       " 'Act of Parliament',\n",
       " 'Article',\n",
       " 'Article only 1 036 415 l The 25th',\n",
       " 'Bill viz',\n",
       " 'Cases of Amendment',\n",
       " 'Charter',\n",
       " 'Constitution',\n",
       " 'Examination of the Miscarriages of the Fleet',\n",
       " 'Notice',\n",
       " 'Oaths a guilty Man',\n",
       " 'Oaths of',\n",
       " 'Objection to the',\n",
       " 'Octob 8',\n",
       " 'Order',\n",
       " 'Order 5',\n",
       " 'Order d',\n",
       " 'Order of his',\n",
       " 'Order presented',\n",
       " 'Peer or Peeress',\n",
       " 'Receipts',\n",
       " 'Silk An Act',\n",
       " 'Version 5 0 2017 University of London Pages 389408',\n",
       " 'a Test or Declaration of Fidelity',\n",
       " 'the Bill',\n",
       " 'the Common Law',\n",
       " 'the Commons some Papers',\n",
       " 'the Constitution for the HighSteward',\n",
       " 'the Constitution of the Government That',\n",
       " 'the Constitution of the Judges and Sheriffs',\n",
       " 'the Constitution of this Court',\n",
       " 'the Intent and Design',\n",
       " 'the LandTax Bill An Act',\n",
       " 'the Proceedings of the Commons in Parliament',\n",
       " 'the first Amendment',\n",
       " 'the known Rules and Limitations of Law',\n",
       " 'this Clause the Constitution of the Court'}"
      ]
     },
     "execution_count": 59,
     "metadata": {},
     "output_type": "execute_result"
    }
   ],
   "source": [
    "set([ent.text for ent in bank_year_spacy.ents if ent.label_ == 'LAW'][:50])"
   ]
  },
  {
   "cell_type": "code",
   "execution_count": 60,
   "metadata": {
    "button": false,
    "collapsed": false,
    "deletable": true,
    "new_sheet": false,
    "run_control": {
     "read_only": false
    }
   },
   "outputs": [
    {
     "data": {
      "text/plain": [
       "{'Act of Indemnity',\n",
       " 'Anticipations',\n",
       " 'Army',\n",
       " 'Clause',\n",
       " 'Committee',\n",
       " 'Confirmation',\n",
       " 'Conjuncture',\n",
       " 'Consideration',\n",
       " 'Consideration an Union',\n",
       " 'Council',\n",
       " 'Crown',\n",
       " 'Crown of England',\n",
       " 'Customs',\n",
       " 'Debate the House',\n",
       " 'Enemies',\n",
       " 'Examination',\n",
       " 'Fear Discretion or Respect',\n",
       " 'FireHearths and Stoves',\n",
       " 'Fund of Credit',\n",
       " 'Government',\n",
       " 'House',\n",
       " 'Houses',\n",
       " 'Lists',\n",
       " 'Methods',\n",
       " 'Nation',\n",
       " 'Nations',\n",
       " 'Navy',\n",
       " 'Parliament',\n",
       " 'Pensions',\n",
       " 'Places',\n",
       " 'Readiness',\n",
       " 'Reason',\n",
       " 'Reckoning',\n",
       " 'Reflection',\n",
       " 'Resolution',\n",
       " 'Rule of my Government A',\n",
       " 'Salaries',\n",
       " 'Service',\n",
       " 'Speech',\n",
       " 'Subjects',\n",
       " 'Supply',\n",
       " 'Time',\n",
       " 'War',\n",
       " 'Westminster',\n",
       " 'the Administration of the Government',\n",
       " 'the Country Gentlemen',\n",
       " 'the Field For the Success of the War',\n",
       " 'the House of Commons',\n",
       " 'the King Money',\n",
       " 'the Life of the longest Liver of them',\n",
       " 'the Peace and Prosperity of this Nation',\n",
       " 'the People of England',\n",
       " 'the Protestant Religion',\n",
       " 'the Throne',\n",
       " 'the least Apprehensions'}"
      ]
     },
     "execution_count": 60,
     "metadata": {},
     "output_type": "execute_result"
    }
   ],
   "source": [
    "set([ent.text for ent in bank_year_spacy.ents if ent.label_ == 'ORG'][2:70])"
   ]
  },
  {
   "cell_type": "code",
   "execution_count": 61,
   "metadata": {
    "button": false,
    "collapsed": false,
    "deletable": true,
    "new_sheet": false,
    "run_control": {
     "read_only": false
    }
   },
   "outputs": [
    {
     "data": {
      "text/plain": [
       "{'Account',\n",
       " 'Affair',\n",
       " 'Allegiance',\n",
       " 'Annum',\n",
       " 'Assistance',\n",
       " 'Condition',\n",
       " 'Councils',\n",
       " 'Counties',\n",
       " 'Dockra',\n",
       " 'England',\n",
       " 'France',\n",
       " 'Friend',\n",
       " 'Hales',\n",
       " 'Ireland',\n",
       " 'Journey',\n",
       " 'Kingdom',\n",
       " 'Letter',\n",
       " 'Quarrel',\n",
       " 'Reducement of Ireland',\n",
       " 'Reigns',\n",
       " 'Scotland',\n",
       " 'Stations',\n",
       " 'Taxes',\n",
       " 'Vigour',\n",
       " 'War',\n",
       " 'Westminster',\n",
       " 'the City of London',\n",
       " 'the City of London An Act'}"
      ]
     },
     "execution_count": 61,
     "metadata": {},
     "output_type": "execute_result"
    }
   ],
   "source": [
    "#GPE stands for 'Geo-political Entity'\n",
    "set([ent.text for ent in bank_year_spacy.ents if ent.label_ == 'GPE'][:50])"
   ]
  },
  {
   "cell_type": "code",
   "execution_count": 62,
   "metadata": {
    "button": false,
    "collapsed": false,
    "deletable": true,
    "new_sheet": false,
    "run_control": {
     "read_only": false
    }
   },
   "outputs": [
    {
     "data": {
      "text/plain": [
       "[('Bill', 289),\n",
       " ('John Fenwick', 53),\n",
       " ('Law', 38),\n",
       " ('Majesty', 37),\n",
       " ('Guineas', 31),\n",
       " ('Sums', 30),\n",
       " ('Matter', 30),\n",
       " ('John', 27),\n",
       " ('Thomas Cooke', 26),\n",
       " ('Treason', 22),\n",
       " ('Resolutions', 21),\n",
       " ('Grant', 21),\n",
       " ('James', 20),\n",
       " ('Lords', 17),\n",
       " ('Bates', 17)]"
      ]
     },
     "execution_count": 62,
     "metadata": {},
     "output_type": "execute_result"
    }
   ],
   "source": [
    "#Let's get the most frequently mentioned people\n",
    "Counter([ent.string.strip() for ent in bank_year_spacy.ents if ent.label_ == 'PERSON']).most_common(15)"
   ]
  },
  {
   "cell_type": "code",
   "execution_count": 63,
   "metadata": {
    "button": false,
    "collapsed": false,
    "deletable": true,
    "new_sheet": false,
    "run_control": {
     "read_only": false
    }
   },
   "outputs": [
    {
     "data": {
      "text/plain": [
       "[('French', 16),\n",
       " ('Orphans', 14),\n",
       " ('Papists', 9),\n",
       " ('Trial', 9),\n",
       " ('Protestants', 8),\n",
       " ('Fund', 8),\n",
       " ('Speech', 6),\n",
       " ('Dutch', 6),\n",
       " ('Honour', 6),\n",
       " ('Heirs', 6),\n",
       " ('Proclamation', 5),\n",
       " ('Bribe', 4),\n",
       " ('Circumstances', 4),\n",
       " ('Employ', 3),\n",
       " ('Flanders', 3)]"
      ]
     },
     "execution_count": 63,
     "metadata": {},
     "output_type": "execute_result"
    }
   ],
   "source": [
    "#Let's get the most frequently mentioned people\n",
    "Counter([ent.string.strip() for ent in bank_year_spacy.ents if ent.label_ == 'NORP']).most_common(15)"
   ]
  },
  {
   "cell_type": "markdown",
   "metadata": {
    "button": false,
    "deletable": true,
    "new_sheet": false,
    "run_control": {
     "read_only": false
    }
   },
   "source": [
    "#### PUTTING POS AND NER TOGETHER: HOW WERE CERTAIN PEOPLE DESCRIBED? WHAT DID THEY DO?\n",
    "\n",
    "\n",
    "\n",
    "<font color=darkgreen>"
   ]
  },
  {
   "cell_type": "markdown",
   "metadata": {
    "button": false,
    "deletable": true,
    "new_sheet": false,
    "run_control": {
     "read_only": false
    }
   },
   "source": [
    "<font color=darkgreen>\n",
    "\n",
    "What's a sentence tree? \n",
    "\n",
    "<img src=\"images/sentence_tree.jpg\" alt=\"Drawing\" style=\"width: 500px;\"/>"
   ]
  },
  {
   "cell_type": "code",
   "execution_count": 64,
   "metadata": {
    "button": false,
    "collapsed": true,
    "deletable": true,
    "new_sheet": false,
    "run_control": {
     "read_only": false
    }
   },
   "outputs": [],
   "source": [
    "#From spaCy's tutorials:\n",
    "#https://github.com/explosion/spacy-notebooks/blob/master/notebooks/conference_notebooks/advanced_text_analysis.ipynb\n",
    "\n",
    "\n",
    "def AdjectivesDescribingPerson(text, person):\n",
    "    sents = [sent for sent in text.sents if person in sent.string]\n",
    "    adjectives = []\n",
    "    for sent in sents: \n",
    "        for word in sent: \n",
    "            if person in word.string:\n",
    "                for child in word.children: \n",
    "                    if child.pos_ == 'ADJ': \n",
    "                        adjectives.append(child.string.strip())\n",
    "    return Counter(adjectives).most_common(10)"
   ]
  },
  {
   "cell_type": "code",
   "execution_count": 65,
   "metadata": {
    "button": false,
    "collapsed": false,
    "deletable": true,
    "new_sheet": false,
    "run_control": {
     "read_only": false
    }
   },
   "outputs": [
    {
     "data": {
      "text/plain": [
       "[('good', 3),\n",
       " ('rightful', 3),\n",
       " ('your', 2),\n",
       " ('French', 2),\n",
       " ('their', 2),\n",
       " ('his', 2),\n",
       " ('young', 1),\n",
       " ('our', 1),\n",
       " ('hereditary', 1),\n",
       " ('other', 1)]"
      ]
     },
     "execution_count": 65,
     "metadata": {},
     "output_type": "execute_result"
    }
   ],
   "source": [
    "AdjectivesDescribingPerson(bank_year_spacy,'King')"
   ]
  },
  {
   "cell_type": "code",
   "execution_count": 66,
   "metadata": {
    "button": false,
    "collapsed": false,
    "deletable": true,
    "new_sheet": false,
    "run_control": {
     "read_only": false
    }
   },
   "outputs": [
    {
     "data": {
      "text/plain": [
       "[('public', 2), ('other', 1), ('their', 1), ('better', 1)]"
      ]
     },
     "execution_count": 66,
     "metadata": {},
     "output_type": "execute_result"
    }
   ],
   "source": [
    "AdjectivesDescribingPerson(bank_year_spacy,'Credit')"
   ]
  },
  {
   "cell_type": "code",
   "execution_count": 67,
   "metadata": {
    "button": false,
    "collapsed": false,
    "deletable": true,
    "new_sheet": false,
    "run_control": {
     "read_only": false
    }
   },
   "outputs": [
    {
     "data": {
      "text/plain": [
       "[('hereditary', 3),\n",
       " ('their', 2),\n",
       " ('public', 2),\n",
       " ('all', 2),\n",
       " ('his', 2),\n",
       " ('late', 1),\n",
       " ('own', 1),\n",
       " ('other', 1),\n",
       " ('large', 1),\n",
       " ('ancient', 1)]"
      ]
     },
     "execution_count": 67,
     "metadata": {},
     "output_type": "execute_result"
    }
   ],
   "source": [
    "AdjectivesDescribingPerson(bank_year_spacy,'Revenue')"
   ]
  },
  {
   "cell_type": "code",
   "execution_count": 68,
   "metadata": {
    "button": false,
    "collapsed": false,
    "deletable": true,
    "new_sheet": false,
    "run_control": {
     "read_only": false
    }
   },
   "outputs": [
    {
     "data": {
      "text/plain": [
       "[]"
      ]
     },
     "execution_count": 68,
     "metadata": {},
     "output_type": "execute_result"
    }
   ],
   "source": [
    "AdjectivesDescribingPerson(bank_year_spacy,'papist')"
   ]
  },
  {
   "cell_type": "code",
   "execution_count": 69,
   "metadata": {
    "button": false,
    "collapsed": false,
    "deletable": true,
    "new_sheet": false,
    "run_control": {
     "read_only": false
    }
   },
   "outputs": [
    {
     "data": {
      "text/plain": [
       "[('your', 12),\n",
       " ('my', 8),\n",
       " ('dutiful', 8),\n",
       " ('naturalborn', 5),\n",
       " ('his', 4),\n",
       " ('Protestant', 4),\n",
       " ('good', 4),\n",
       " ('all', 2),\n",
       " ('own', 2),\n",
       " ('other', 1)]"
      ]
     },
     "execution_count": 69,
     "metadata": {},
     "output_type": "execute_result"
    }
   ],
   "source": [
    "AdjectivesDescribingPerson(bank_year_spacy,'Subjects')"
   ]
  },
  {
   "cell_type": "code",
   "execution_count": 70,
   "metadata": {
    "button": false,
    "collapsed": true,
    "deletable": true,
    "new_sheet": false,
    "run_control": {
     "read_only": false
    }
   },
   "outputs": [],
   "source": [
    "def verbsForCharacters(text, person):\n",
    "    sents = [sent for sent in text.sents if person in sent.string]\n",
    "    charWords = []\n",
    "    for sent in sents: \n",
    "        for word in sent: \n",
    "            if person in word.string: \n",
    "                charWords.append(word)\n",
    "    charVerbs = []\n",
    "    for word in charWords: \n",
    "        # Start walking up the list of ancestors \n",
    "        # Until we get to the first verb. \n",
    "        for ancestor in word.ancestors: \n",
    "            if ancestor.pos_.startswith('V'): \n",
    "                charVerbs.append(ancestor.lemma_.strip())\n",
    "    return Counter(charVerbs).most_common(20)"
   ]
  },
  {
   "cell_type": "code",
   "execution_count": 71,
   "metadata": {
    "button": false,
    "collapsed": false,
    "deletable": true,
    "new_sheet": false,
    "run_control": {
     "read_only": false
    }
   },
   "outputs": [
    {
     "data": {
      "text/plain": [
       "[('be', 216),\n",
       " ('make', 48),\n",
       " ('give', 39),\n",
       " ('take', 32),\n",
       " ('say', 26),\n",
       " ('have', 23),\n",
       " ('do', 23),\n",
       " ('come', 20),\n",
       " ('bring', 19),\n",
       " ('present', 18),\n",
       " ('appoint', 14),\n",
       " ('find', 13),\n",
       " ('agree', 11),\n",
       " ('grant', 10),\n",
       " ('resolve', 10),\n",
       " ('hope', 10),\n",
       " ('call', 10),\n",
       " ('leave', 9),\n",
       " ('pay', 8),\n",
       " ('entitle', 8)]"
      ]
     },
     "execution_count": 71,
     "metadata": {},
     "output_type": "execute_result"
    }
   ],
   "source": [
    "verbsForCharacters(bank_year_spacy,'King')"
   ]
  },
  {
   "cell_type": "code",
   "execution_count": 72,
   "metadata": {
    "button": false,
    "collapsed": false,
    "deletable": true,
    "new_sheet": false,
    "run_control": {
     "read_only": false
    }
   },
   "outputs": [
    {
     "data": {
      "text/plain": [
       "[('be', 143),\n",
       " ('make', 37),\n",
       " ('have', 25),\n",
       " ('give', 19),\n",
       " ('say', 18),\n",
       " ('take', 18),\n",
       " ('resolve', 17),\n",
       " ('think', 15),\n",
       " ('meet', 14),\n",
       " ('find', 13),\n",
       " ('try', 12),\n",
       " ('beseech', 11),\n",
       " ('appoint', 10),\n",
       " ('bring', 10),\n",
       " ('entitle', 9),\n",
       " ('serve', 9),\n",
       " ('pass', 9),\n",
       " ('assemble', 9),\n",
       " ('vote', 8),\n",
       " ('agree', 8)]"
      ]
     },
     "execution_count": 72,
     "metadata": {},
     "output_type": "execute_result"
    }
   ],
   "source": [
    "verbsForCharacters(bank_year_spacy,'Parliament')"
   ]
  },
  {
   "cell_type": "code",
   "execution_count": 73,
   "metadata": {
    "button": false,
    "collapsed": false,
    "deletable": true,
    "new_sheet": false,
    "run_control": {
     "read_only": false
    }
   },
   "outputs": [
    {
     "data": {
      "text/plain": [
       "[('be', 8),\n",
       " ('take', 5),\n",
       " ('make', 5),\n",
       " ('come', 3),\n",
       " ('appoint', 3),\n",
       " ('support', 2),\n",
       " ('bring', 2),\n",
       " ('recognize', 2),\n",
       " ('entitle', 2),\n",
       " ('oblige', 2),\n",
       " ('vote', 2),\n",
       " ('summon', 2),\n",
       " ('say', 2),\n",
       " ('assert', 1),\n",
       " ('present', 1),\n",
       " ('vest', 1),\n",
       " ('become', 1),\n",
       " ('attaint', 1),\n",
       " ('resolve', 1),\n",
       " ('give', 1)]"
      ]
     },
     "execution_count": 73,
     "metadata": {},
     "output_type": "execute_result"
    }
   ],
   "source": [
    "verbsForCharacters(bank_year_spacy,'Mary')"
   ]
  },
  {
   "cell_type": "code",
   "execution_count": 74,
   "metadata": {
    "button": false,
    "collapsed": false,
    "deletable": true,
    "new_sheet": false,
    "run_control": {
     "read_only": false
    }
   },
   "outputs": [
    {
     "data": {
      "text/plain": [
       "[('have', 10),\n",
       " ('be', 7),\n",
       " ('say', 6),\n",
       " ('desire', 5),\n",
       " ('call', 5),\n",
       " ('depose', 5),\n",
       " ('make', 4),\n",
       " ('hear', 4),\n",
       " ('give', 3),\n",
       " ('refuse', 3),\n",
       " ('read', 3),\n",
       " ('come', 2),\n",
       " ('find', 2),\n",
       " ('examine', 2),\n",
       " ('think', 2),\n",
       " ('decline', 2),\n",
       " ('send', 2),\n",
       " ('appoint', 2),\n",
       " ('receive', 2),\n",
       " ('pass', 2)]"
      ]
     },
     "execution_count": 74,
     "metadata": {},
     "output_type": "execute_result"
    }
   ],
   "source": [
    "verbsForCharacters(bank_year_spacy,'Cooke')"
   ]
  },
  {
   "cell_type": "code",
   "execution_count": 75,
   "metadata": {
    "button": false,
    "collapsed": false,
    "deletable": true,
    "new_sheet": false,
    "run_control": {
     "read_only": false
    }
   },
   "outputs": [
    {
     "data": {
      "text/plain": [
       "[('be', 65),\n",
       " ('think', 16),\n",
       " ('make', 15),\n",
       " ('say', 15),\n",
       " ('give', 11),\n",
       " ('have', 8),\n",
       " ('allow', 8),\n",
       " ('call', 8),\n",
       " ('bring', 7),\n",
       " ('do', 7),\n",
       " ('pay', 6),\n",
       " ('put', 6),\n",
       " ('know', 6),\n",
       " ('take', 5),\n",
       " ('pass', 5),\n",
       " ('receive', 5),\n",
       " ('tell', 5),\n",
       " ('read', 5),\n",
       " ('agree', 5),\n",
       " ('examine', 4)]"
      ]
     },
     "execution_count": 75,
     "metadata": {},
     "output_type": "execute_result"
    }
   ],
   "source": [
    "verbsForCharacters(bank_year_spacy,'John')"
   ]
  },
  {
   "cell_type": "code",
   "execution_count": null,
   "metadata": {
    "button": false,
    "collapsed": true,
    "deletable": true,
    "new_sheet": false,
    "run_control": {
     "read_only": false
    }
   },
   "outputs": [],
   "source": [
    "verbsForCharacters(bank_year_spacy,'John')"
   ]
  },
  {
   "cell_type": "markdown",
   "metadata": {
    "button": false,
    "deletable": true,
    "new_sheet": false,
    "run_control": {
     "read_only": false
    }
   },
   "source": [
    "<font color=darkred>\n",
    "\n",
    "## 4. Dictionary methods\n",
    "\n",
    "- Given a pre-defined list of keywords, where are they in the corpus?\n",
    "- Another way to think about this: a single-dimensional indexing|\n",
    "\n",
    "#### Dictionary / crude sentiment analysis: count the frequency of words in each document. That's it."
   ]
  },
  {
   "cell_type": "code",
   "execution_count": 79,
   "metadata": {
    "button": false,
    "collapsed": true,
    "deletable": true,
    "new_sheet": false,
    "run_control": {
     "read_only": false
    }
   },
   "outputs": [],
   "source": [
    "#found a list of words online from a vocabulary builder site and I'm going to call this my royal dictionary\n",
    "royal = 'abdicate baron baroness clarence commonwealth consort countess crown prince princess descendant dowager duchess duke dukedom earl entitle genealogy godchild illegitimate interregnum investiture landau monarch monarchical monarchy pageant pageantry peerage peeress predecease regent regnant regnant reign reigning royal court royal sovereign sovereignty tenet titular viscount commoner footman livery liveried tiara parlance tunic redeemer equestrian emir eulogy denomination trot hoof primrose protocol archbishop hymn palace visage abbey coronation queen king'\n",
    "\n",
    "#Split and stem these words\n",
    "royal = royal.split(' ')\n",
    "from nltk.stem import PorterStemmer\n",
    "ps = PorterStemmer()\n",
    "royal = [ps.stem(token) for token in royal]\n",
    "#royal"
   ]
  },
  {
   "cell_type": "code",
   "execution_count": 77,
   "metadata": {
    "button": false,
    "collapsed": false,
    "deletable": true,
    "new_sheet": false,
    "run_control": {
     "read_only": false
    }
   },
   "outputs": [
    {
     "name": "stdout",
     "output_type": "stream",
     "text": [
      "['abidance', 'abidance', 'abilities', 'ability', 'able', 'above', 'above-average', 'abundant', 'abundance', 'acceptance']\n",
      "['abandoned', 'abandonment', 'aberration', 'aberration', 'abhorred', 'abhorrence', 'abhorrent', 'abhorrently', 'abhors', 'abhors']\n"
     ]
    }
   ],
   "source": [
    "#These lists come from Laura K Nelson at Northeastern.\n",
    "#sentiment analysis\n",
    "pos_sent = open(\"positive_words.txt\", encoding='utf-8').read()\n",
    "neg_sent = open(\"negative_words.txt\", encoding='utf-8').read()\n",
    "\n",
    "positive_words=pos_sent.split('\\n')\n",
    "negative_words=neg_sent.split('\\n')\n",
    "\n",
    "print(positive_words[:10])\n",
    "print(negative_words[:10])"
   ]
  },
  {
   "cell_type": "code",
   "execution_count": 80,
   "metadata": {
    "button": false,
    "collapsed": false,
    "deletable": true,
    "new_sheet": false,
    "run_control": {
     "read_only": false
    }
   },
   "outputs": [
    {
     "data": {
      "text/html": [
       "<div>\n",
       "<style>\n",
       "    .dataframe thead tr:only-child th {\n",
       "        text-align: right;\n",
       "    }\n",
       "\n",
       "    .dataframe thead th {\n",
       "        text-align: left;\n",
       "    }\n",
       "\n",
       "    .dataframe tbody tr th {\n",
       "        vertical-align: top;\n",
       "    }\n",
       "</style>\n",
       "<table border=\"1\" class=\"dataframe\">\n",
       "  <thead>\n",
       "    <tr style=\"text-align: right;\">\n",
       "      <th></th>\n",
       "      <th>date</th>\n",
       "      <th>proceedings</th>\n",
       "    </tr>\n",
       "  </thead>\n",
       "  <tbody>\n",
       "    <tr>\n",
       "      <th>0</th>\n",
       "      <td>1660_11</td>\n",
       "      <td>['Pages 25-31', 'The History and Proceedings o...</td>\n",
       "    </tr>\n",
       "    <tr>\n",
       "      <th>1</th>\n",
       "      <td>1660_4</td>\n",
       "      <td>['Pages 2-25', 'The History and Proceedings of...</td>\n",
       "    </tr>\n",
       "    <tr>\n",
       "      <th>2</th>\n",
       "      <td>1661_11</td>\n",
       "      <td>['Pages 46-60', 'The History and Proceedings o...</td>\n",
       "    </tr>\n",
       "    <tr>\n",
       "      <th>3</th>\n",
       "      <td>1661_5</td>\n",
       "      <td>['Pages 31-46', 'The History and Proceedings o...</td>\n",
       "    </tr>\n",
       "    <tr>\n",
       "      <th>4</th>\n",
       "      <td>1663_2</td>\n",
       "      <td>['Pages 60-72', 'The History and Proceedings o...</td>\n",
       "    </tr>\n",
       "  </tbody>\n",
       "</table>\n",
       "</div>"
      ],
      "text/plain": [
       "      date                                        proceedings\n",
       "0  1660_11  ['Pages 25-31', 'The History and Proceedings o...\n",
       "1   1660_4  ['Pages 2-25', 'The History and Proceedings of...\n",
       "2  1661_11  ['Pages 46-60', 'The History and Proceedings o...\n",
       "3   1661_5  ['Pages 31-46', 'The History and Proceedings o...\n",
       "4   1663_2  ['Pages 60-72', 'The History and Proceedings o..."
      ]
     },
     "execution_count": 80,
     "metadata": {},
     "output_type": "execute_result"
    }
   ],
   "source": [
    "df_date.head()"
   ]
  },
  {
   "cell_type": "code",
   "execution_count": 79,
   "metadata": {
    "button": false,
    "collapsed": true,
    "deletable": true,
    "new_sheet": false,
    "run_control": {
     "read_only": false
    }
   },
   "outputs": [],
   "source": [
    "#lambda does a function to a Series. In this case, we are asking to search for word in royal and sum that.\n",
    "df_date['royal_dict_count'] = df_date['bagged_tokens'].apply(lambda x: len([word for word in x if word in royal]))"
   ]
  },
  {
   "cell_type": "code",
   "execution_count": 1,
   "metadata": {
    "button": false,
    "collapsed": false,
    "deletable": true,
    "new_sheet": false,
    "run_control": {
     "read_only": false
    }
   },
   "outputs": [],
   "source": [
    "#A simple count is meaningless and it has to be \n",
    "#df_date['royal_proportion'] = df_date['royal_dict_count'] / df_date['bagged_tokens'].apply(len)"
   ]
  },
  {
   "cell_type": "code",
   "execution_count": 82,
   "metadata": {
    "button": false,
    "collapsed": false,
    "deletable": true,
    "new_sheet": false,
    "run_control": {
     "read_only": false
    }
   },
   "outputs": [
    {
     "data": {
      "text/html": [
       "<div>\n",
       "<style>\n",
       "    .dataframe thead tr:only-child th {\n",
       "        text-align: right;\n",
       "    }\n",
       "\n",
       "    .dataframe thead th {\n",
       "        text-align: left;\n",
       "    }\n",
       "\n",
       "    .dataframe tbody tr th {\n",
       "        vertical-align: top;\n",
       "    }\n",
       "</style>\n",
       "<table border=\"1\" class=\"dataframe\">\n",
       "  <thead>\n",
       "    <tr style=\"text-align: right;\">\n",
       "      <th></th>\n",
       "      <th>date</th>\n",
       "      <th>proceedings</th>\n",
       "    </tr>\n",
       "  </thead>\n",
       "  <tbody>\n",
       "    <tr>\n",
       "      <th>0</th>\n",
       "      <td>1660_11</td>\n",
       "      <td>['Pages 25-31', 'The History and Proceedings o...</td>\n",
       "    </tr>\n",
       "    <tr>\n",
       "      <th>1</th>\n",
       "      <td>1660_4</td>\n",
       "      <td>['Pages 2-25', 'The History and Proceedings of...</td>\n",
       "    </tr>\n",
       "    <tr>\n",
       "      <th>2</th>\n",
       "      <td>1661_11</td>\n",
       "      <td>['Pages 46-60', 'The History and Proceedings o...</td>\n",
       "    </tr>\n",
       "    <tr>\n",
       "      <th>3</th>\n",
       "      <td>1661_5</td>\n",
       "      <td>['Pages 31-46', 'The History and Proceedings o...</td>\n",
       "    </tr>\n",
       "    <tr>\n",
       "      <th>4</th>\n",
       "      <td>1663_2</td>\n",
       "      <td>['Pages 60-72', 'The History and Proceedings o...</td>\n",
       "    </tr>\n",
       "  </tbody>\n",
       "</table>\n",
       "</div>"
      ],
      "text/plain": [
       "      date                                        proceedings\n",
       "0  1660_11  ['Pages 25-31', 'The History and Proceedings o...\n",
       "1   1660_4  ['Pages 2-25', 'The History and Proceedings of...\n",
       "2  1661_11  ['Pages 46-60', 'The History and Proceedings o...\n",
       "3   1661_5  ['Pages 31-46', 'The History and Proceedings o...\n",
       "4   1663_2  ['Pages 60-72', 'The History and Proceedings o..."
      ]
     },
     "execution_count": 82,
     "metadata": {},
     "output_type": "execute_result"
    }
   ],
   "source": [
    "#datacheck\n",
    "df_date.head()"
   ]
  },
  {
   "cell_type": "code",
   "execution_count": 82,
   "metadata": {
    "button": false,
    "collapsed": false,
    "deletable": true,
    "new_sheet": false,
    "run_control": {
     "read_only": false
    },
    "scrolled": false
   },
   "outputs": [
    {
     "data": {
      "image/png": "[encoded data removed]",
      "text/plain": [
       "<matplotlib.figure.Figure at 0x127fa7f28>"
      ]
     },
     "metadata": {},
     "output_type": "display_data"
    }
   ],
   "source": [
    "import matplotlib.ticker as plticker\n",
    "\n",
    "plt.figure(figsize=(18, 10))\n",
    "#plot(X,Y)\n",
    "#selecting every other observation for the sake of clarity\n",
    "plt.plot(df_date.date,df_date.royal_proportion)\n",
    "plt.xticks(df_date.date[1::3], rotation=\"vertical\")\n",
    "\n",
    "#show plot\n",
    "plt.show()"
   ]
  },
  {
   "cell_type": "markdown",
   "metadata": {
    "button": false,
    "deletable": true,
    "new_sheet": false,
    "run_control": {
     "read_only": false
    }
   },
   "source": [
    "<font color=darkred>\n",
    "\n",
    "#### TF IDF\n",
    "\n",
    "For these analyses (the Bag of Words types), the mathematical representation of our text is in the document-term-matrix (DTM).\n",
    "\n",
    "<img src=\"images/count_vector.png\" alt=\"Drawing\" style=\"width: 600px;\"/>\n",
    "\n",
    "Really simple example:\n",
    "\n",
    "* D1=[The cat chased the mouse.]\n",
    "* D2=[The dog chased the cat.]\n",
    "* W=[The, chased, dog, cat, mouse](n=5)\n",
    "* V1=[2,1,0,1,1]\n",
    "* V2=[2,1,1,1,0]\n",
    "\n",
    "***\n",
    "\n",
    "* The issue of finding the right proportion per document (as well as in the Grimmer and Stewart method above) means we need a weighting scheme. \n",
    "* Once again, this is about finding 'content' or 'analytically useful' words.\n",
    "\n",
    "<img src=\"images/tfidf.gif\" alt=\"Drawing\" style=\"width: 400px;\">\n",
    "\n",
    "<img src=\"images/tfidf_fig2.JPG\" alt=\"Drawing\" style=\"width: 500px;\">"
   ]
  },
  {
   "cell_type": "code",
   "execution_count": 83,
   "metadata": {
    "button": false,
    "collapsed": true,
    "deletable": true,
    "new_sheet": false,
    "run_control": {
     "read_only": false
    }
   },
   "outputs": [],
   "source": [
    "from sklearn.feature_extraction.text import CountVectorizer\n",
    "\n",
    "#A sparsase representation of the counts of words.\n",
    "countvec = CountVectorizer(stop_words='english')\n",
    "#have to call it to fit it\n",
    "dtm = countvec.fit_transform(df_date.proceedings).toarray()\n",
    "#'vocab' is the particular list of words associated\n",
    "vocab=countvec.get_feature_names()\n",
    "dtm_df = pd.DataFrame(dtm,columns=vocab,index = df_date.index)"
   ]
  },
  {
   "cell_type": "code",
   "execution_count": 84,
   "metadata": {
    "button": false,
    "collapsed": false,
    "deletable": true,
    "new_sheet": false,
    "run_control": {
     "read_only": false
    },
    "scrolled": false
   },
   "outputs": [
    {
     "name": "stdout",
     "output_type": "stream",
     "text": [
      "nthe          8298\n",
      "house         8189\n",
      "majesty       7916\n",
      "sir           5733\n",
      "nand          5003\n",
      "said          4585\n",
      "great         4555\n",
      "nof           4455\n",
      "mr            4171\n",
      "nto           3999\n",
      "parliament    3933\n",
      "time          3646\n",
      "shall         3568\n",
      "commons       3264\n",
      "king          3141\n",
      "nthat         2895\n",
      "lords         2617\n",
      "people        2567\n",
      "make          2450\n",
      "present       2415\n",
      "dtype: int64\n"
     ]
    }
   ],
   "source": [
    "print(dtm_df.sum().sort_values(ascending=False)[:20])"
   ]
  },
  {
   "cell_type": "code",
   "execution_count": 85,
   "metadata": {
    "button": false,
    "collapsed": true,
    "deletable": true,
    "new_sheet": false,
    "run_control": {
     "read_only": false
    }
   },
   "outputs": [],
   "source": [
    "from sklearn.feature_extraction.text import TfidfVectorizer\n",
    "\n",
    "tfidfvec = TfidfVectorizer(stop_words='english')\n",
    "dtm = tfidfvec.fit_transform(df_date.proceedings).toarray()\n",
    "vocab = tfidfvec.get_feature_names()\n",
    "\n",
    "dtm_tfidf_df = pd.DataFrame(dtm, columns=vocab, index = df_date.index)"
   ]
  },
  {
   "cell_type": "code",
   "execution_count": 86,
   "metadata": {
    "button": false,
    "collapsed": false,
    "deletable": true,
    "new_sheet": false,
    "run_control": {
     "read_only": false
    }
   },
   "outputs": [
    {
     "name": "stdout",
     "output_type": "stream",
     "text": [
      "majesty       22.005089\n",
      "house         18.541597\n",
      "nthe          17.564203\n",
      "nand          11.291723\n",
      "great         10.248263\n",
      "sir           10.009446\n",
      "said           9.701873\n",
      "nof            9.590210\n",
      "mr             9.469450\n",
      "commons        8.735303\n",
      "parliament     8.674453\n",
      "nto            8.568167\n",
      "shall          7.981482\n",
      "time           7.882336\n",
      "king           7.845420\n",
      "lords          6.815019\n",
      "nthat          5.921521\n",
      "act            5.680501\n",
      "people         5.246735\n",
      "make           5.026139\n",
      "dtype: float64\n"
     ]
    }
   ],
   "source": [
    "print(dtm_tfidf_df.sum().sort_values(ascending=False)[:20])"
   ]
  },
  {
   "cell_type": "code",
   "execution_count": null,
   "metadata": {
    "button": false,
    "collapsed": true,
    "deletable": true,
    "new_sheet": false,
    "run_control": {
     "read_only": false
    }
   },
   "outputs": [],
   "source": []
  },
  {
   "cell_type": "code",
   "execution_count": null,
   "metadata": {
    "button": false,
    "collapsed": true,
    "deletable": true,
    "new_sheet": false,
    "run_control": {
     "read_only": false
    }
   },
   "outputs": [],
   "source": []
  }
 ],
 "metadata": {
  "kernelspec": {
   "display_name": "Python 3",
   "language": "python",
   "name": "python3"
  },
  "language_info": {
   "codemirror_mode": {
    "name": "ipython",
    "version": 3
   },
   "file_extension": ".py",
   "mimetype": "text/x-python",
   "name": "python",
   "nbconvert_exporter": "python",
   "pygments_lexer": "ipython3",
   "version": "3.5.0"
  }
 },
 "nbformat": 4,
 "nbformat_minor": 2
}
