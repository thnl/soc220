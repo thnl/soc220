{
 "cells": [
  {
   "cell_type": "markdown",
   "metadata": {},
   "source": [
    "<font color=darkred>\n",
    "    \n",
    "# Soc220 Computational Text Analysis\n",
    "## Lab 11: doc2vec\n",
    "### April 19 2018\n",
    "\n",
    "***\n",
    "\n",
    "<img src=\"images/camera_obscura2.jpg\", style=\"width: 550px\"/>"
   ]
  },
  {
   "cell_type": "markdown",
   "metadata": {},
   "source": [
    "***\n",
    "***\n",
    "\n",
    "What is doc2vec?\n",
    "\n",
    "- Same logic as word2vec applied to doc level.\n",
    "\n",
    "According to Mikolov et al. (2014), \"every paragraph is mapped to a unique vector, represented by a column in matrix D and every word is also mapped to a unique vector, represented by a column in matrix W. The paragraph vector and word vectors are averaged or concatenated to predict the next word in a context...The paragraph token can be thought of as another word. It acts as a memory that remembers what is missing from the current context – or the topic of the paragraph.\" https://cs.stanford.edu/~quocle/paragraph_vector.pdf\n",
    "\n",
    "- In other words: word2vec with another added contextual dimension.\n",
    "\n",
    "word2vec, in general, requires lots of data:\n",
    "\n",
    "- hundreds of millions of words, which is the equivalent of 1,000 books, 500,000 comments, or 4,000,000 tweets.\n",
    "\n",
    "- doc2vec is the same, but \"doc\" can be anything. It's just another context specific vector encoded within the word embedding.\n",
    "\n",
    "Arxiv paper:\n",
    "https://arxiv.org/pdf/1405.4053v2.pdf\n",
    "\n",
    "gensim dcoumentation:\n",
    "https://radimrehurek.com/gensim/models/doc2vec.html\n",
    "\n",
    "<img src=\"images/word2vec.png\", style=\"width: 450px\"/>\n",
    "\n",
    "<img src=\"images/doc2vec.png\", style=\"width: 450px\"/>\n",
    "\n",
    "**The endproduct is thus fundamentally the same, but with those word vectors we can also can infer a document to document level measure.**"
   ]
  },
  {
   "cell_type": "markdown",
   "metadata": {},
   "source": [
    "***\n",
    "***\n",
    "\n",
    "Just like word2vec, there are two flavors.\n",
    "\n",
    "- DBOW is exactly like CBOW: take context and predict word.\n",
    "- while DM (\"distributed-memory\") is just like skip-gram: takes a word and tries to find associated words.\n",
    "\n",
    "- DM is useful for rare words, while CBOW/DBOW is more computationally efficient and works better for frequent words\n",
    "\n",
    "<img src=\"images/doc2vec flavors.png\", style=\"width: 550px\"/>"
   ]
  },
  {
   "cell_type": "markdown",
   "metadata": {},
   "source": [
    "<font color=darkgreen>\n",
    "    \n",
    "### Loading data and some preprocessing"
   ]
  },
  {
   "cell_type": "code",
   "execution_count": 2,
   "metadata": {},
   "outputs": [
    {
     "data": {
      "text/html": [
       "<div>\n",
       "<style scoped>\n",
       "    .dataframe tbody tr th:only-of-type {\n",
       "        vertical-align: middle;\n",
       "    }\n",
       "\n",
       "    .dataframe tbody tr th {\n",
       "        vertical-align: top;\n",
       "    }\n",
       "\n",
       "    .dataframe thead th {\n",
       "        text-align: right;\n",
       "    }\n",
       "</style>\n",
       "<table border=\"1\" class=\"dataframe\">\n",
       "  <thead>\n",
       "    <tr style=\"text-align: right;\">\n",
       "      <th></th>\n",
       "      <th>date</th>\n",
       "      <th>monarch</th>\n",
       "      <th>text</th>\n",
       "    </tr>\n",
       "  </thead>\n",
       "  <tbody>\n",
       "    <tr>\n",
       "      <th>0</th>\n",
       "      <td>1660_11</td>\n",
       "      <td>charles2</td>\n",
       "      <td>On the sixth of November the Parliament met ac...</td>\n",
       "    </tr>\n",
       "    <tr>\n",
       "      <th>1</th>\n",
       "      <td>1660_4</td>\n",
       "      <td>charles2</td>\n",
       "      <td>CHARLES R.\", \"Trusty, and Wellbeloved, We gree...</td>\n",
       "    </tr>\n",
       "    <tr>\n",
       "      <th>2</th>\n",
       "      <td>1661_11</td>\n",
       "      <td>charles2</td>\n",
       "      <td>After a Recess of almost four Months the Parli...</td>\n",
       "    </tr>\n",
       "    <tr>\n",
       "      <th>3</th>\n",
       "      <td>1661_5</td>\n",
       "      <td>charles2</td>\n",
       "      <td>On the 8th of May the new Parliament met, and ...</td>\n",
       "    </tr>\n",
       "    <tr>\n",
       "      <th>4</th>\n",
       "      <td>1663_2</td>\n",
       "      <td>charles2</td>\n",
       "      <td>On February 18, 16623. the Parliament met afte...</td>\n",
       "    </tr>\n",
       "  </tbody>\n",
       "</table>\n",
       "</div>"
      ],
      "text/plain": [
       "      date   monarch                                               text\n",
       "0  1660_11  charles2  On the sixth of November the Parliament met ac...\n",
       "1   1660_4  charles2  CHARLES R.\", \"Trusty, and Wellbeloved, We gree...\n",
       "2  1661_11  charles2  After a Recess of almost four Months the Parli...\n",
       "3   1661_5  charles2  On the 8th of May the new Parliament met, and ...\n",
       "4   1663_2  charles2  On February 18, 16623. the Parliament met afte..."
      ]
     },
     "execution_count": 2,
     "metadata": {},
     "output_type": "execute_result"
    }
   ],
   "source": [
    "#\n",
    "import pickle\n",
    "df_texts = pickle.load(open(\"df_proceedings_monarch_and_date.p\",\"rb\"))\n",
    "\n",
    "import pandas as pd\n",
    "df_texts.head()"
   ]
  },
  {
   "cell_type": "code",
   "execution_count": 3,
   "metadata": {},
   "outputs": [],
   "source": [
    "from nltk.tokenize import word_tokenize\n",
    "from nltk.corpus import stopwords\n",
    "stop_words = set(stopwords.words('english'))\n",
    "from nltk.tokenize import RegexpTokenizer\n",
    "tokenizer = RegexpTokenizer(r'\\w+')\n",
    "import re\n",
    "\n",
    "def cleaning_text(string):\n",
    "    \n",
    "    #no punctuation\n",
    "    string = re.sub(r\"[^A-Za-z0-9(),!.?\\'\\`]\", \" \", string)\n",
    "    \n",
    "    #remove coding crap\n",
    "    string = re.sub(r\"\\'s\", \" 's \", string)\n",
    "    string = re.sub(r\"\\'ve\", \" 've \", string)\n",
    "    string = re.sub(r\"n\\'t\", \" 't \", string)\n",
    "    string = re.sub(r\"\\'re\", \" 're \", string)\n",
    "    string = re.sub(r\"\\'d\", \" 'd \", string)\n",
    "    string = re.sub(r\"\\.\", \" \", string)\n",
    "    string = re.sub(r\"\\(\", \" ( \", string)\n",
    "    string = re.sub(r\"\\)\", \" ) \", string)\n",
    "    string = re.sub(r\"\\?\", \" \", string)\n",
    "    \n",
    "    #word tokenize\n",
    "    word_tokens = tokenizer.tokenize(string)\n",
    "    #lowercase\n",
    "    word_tokens = [token.lower() for token in word_tokens]\n",
    "    \n",
    "    #no stopword removal\n",
    "    word_tokens = [word for word in word_tokens if not word in stop_words]\n",
    "    #no digits removal\n",
    "    final_tokens = [word for word in word_tokens if not word.isdigit()]\n",
    "    \n",
    "    #convert back to string\n",
    "    final_string = ' '.join(final_tokens)\n",
    "    \n",
    "    return final_string"
   ]
  },
  {
   "cell_type": "raw",
   "metadata": {},
   "source": []
  },
  {
   "cell_type": "code",
   "execution_count": 4,
   "metadata": {},
   "outputs": [],
   "source": [
    "# use apply to use my cleaning function to create a clean text cell:\n",
    "\n",
    "df_texts['text_clean'] = df_texts.text.apply(cleaning_text)"
   ]
  },
  {
   "cell_type": "code",
   "execution_count": 5,
   "metadata": {},
   "outputs": [
    {
     "data": {
      "text/html": [
       "<div>\n",
       "<style scoped>\n",
       "    .dataframe tbody tr th:only-of-type {\n",
       "        vertical-align: middle;\n",
       "    }\n",
       "\n",
       "    .dataframe tbody tr th {\n",
       "        vertical-align: top;\n",
       "    }\n",
       "\n",
       "    .dataframe thead th {\n",
       "        text-align: right;\n",
       "    }\n",
       "</style>\n",
       "<table border=\"1\" class=\"dataframe\">\n",
       "  <thead>\n",
       "    <tr style=\"text-align: right;\">\n",
       "      <th></th>\n",
       "      <th>date</th>\n",
       "      <th>monarch</th>\n",
       "      <th>text</th>\n",
       "      <th>text_clean</th>\n",
       "    </tr>\n",
       "  </thead>\n",
       "  <tbody>\n",
       "    <tr>\n",
       "      <th>0</th>\n",
       "      <td>1660_11</td>\n",
       "      <td>charles2</td>\n",
       "      <td>On the sixth of November the Parliament met ac...</td>\n",
       "      <td>on the sixth of november the parliament met ac...</td>\n",
       "    </tr>\n",
       "    <tr>\n",
       "      <th>1</th>\n",
       "      <td>1660_4</td>\n",
       "      <td>charles2</td>\n",
       "      <td>CHARLES R.\", \"Trusty, and Wellbeloved, We gree...</td>\n",
       "      <td>charles r trusty and wellbeloved we greet you ...</td>\n",
       "    </tr>\n",
       "    <tr>\n",
       "      <th>2</th>\n",
       "      <td>1661_11</td>\n",
       "      <td>charles2</td>\n",
       "      <td>After a Recess of almost four Months the Parli...</td>\n",
       "      <td>after a recess of almost four months the parli...</td>\n",
       "    </tr>\n",
       "    <tr>\n",
       "      <th>3</th>\n",
       "      <td>1661_5</td>\n",
       "      <td>charles2</td>\n",
       "      <td>On the 8th of May the new Parliament met, and ...</td>\n",
       "      <td>on the 8th of may the new parliament met and t...</td>\n",
       "    </tr>\n",
       "    <tr>\n",
       "      <th>4</th>\n",
       "      <td>1663_2</td>\n",
       "      <td>charles2</td>\n",
       "      <td>On February 18, 16623. the Parliament met afte...</td>\n",
       "      <td>on february the parliament met after a recess ...</td>\n",
       "    </tr>\n",
       "  </tbody>\n",
       "</table>\n",
       "</div>"
      ],
      "text/plain": [
       "      date   monarch                                               text  \\\n",
       "0  1660_11  charles2  On the sixth of November the Parliament met ac...   \n",
       "1   1660_4  charles2  CHARLES R.\", \"Trusty, and Wellbeloved, We gree...   \n",
       "2  1661_11  charles2  After a Recess of almost four Months the Parli...   \n",
       "3   1661_5  charles2  On the 8th of May the new Parliament met, and ...   \n",
       "4   1663_2  charles2  On February 18, 16623. the Parliament met afte...   \n",
       "\n",
       "                                          text_clean  \n",
       "0  on the sixth of november the parliament met ac...  \n",
       "1  charles r trusty and wellbeloved we greet you ...  \n",
       "2  after a recess of almost four months the parli...  \n",
       "3  on the 8th of may the new parliament met and t...  \n",
       "4  on february the parliament met after a recess ...  "
      ]
     },
     "execution_count": 5,
     "metadata": {},
     "output_type": "execute_result"
    }
   ],
   "source": [
    "df_texts.head()"
   ]
  },
  {
   "cell_type": "code",
   "execution_count": null,
   "metadata": {},
   "outputs": [],
   "source": []
  },
  {
   "cell_type": "markdown",
   "metadata": {},
   "source": [
    "#### Step 1: Create the LabeledSentence object\n",
    "\n",
    "- gensim requires a 'LabeledSentence' data structure\n",
    "- this is made up of your text as a list of tokens AND\n",
    "- a list of labels to identify the documents.\n",
    "\n",
    "- last time: a list of sentences, now a list of \"labeled sentences\"\n",
    "- in future gensim, retitled: \"TaggedDocument\"\n",
    "- from their github:"
   ]
  },
  {
   "cell_type": "raw",
   "metadata": {},
   "source": [
    "class TaggedDocument(namedtuple('TaggedDocument', 'words tags')):\n",
    "    \"\"\"\n",
    "    A single document, made up of `words` (a list of unicode string tokens) and `tags` (a list of tokens). Tags may be one or more unicode string tokens, but typical practice (which will also be most memory-efficient) is for the tags list to include a unique integer id as the only tag.\n",
    "\n",
    "    Replaces \"sentence as a list of words\" from Word2Vec."
   ]
  },
  {
   "cell_type": "code",
   "execution_count": 6,
   "metadata": {},
   "outputs": [
    {
     "name": "stderr",
     "output_type": "stream",
     "text": [
      "/Users/zwehrwein/anaconda3/lib/python3.6/site-packages/ipykernel_launcher.py:12: DeprecationWarning: Call to deprecated `LabeledSentence` (Class will be removed in 4.0.0, use TaggedDocument instead).\n",
      "  if sys.path[0] == '':\n"
     ]
    }
   ],
   "source": [
    "# import constructor\n",
    "from gensim.models.doc2vec import LabeledSentence\n",
    "\n",
    "# empty list\n",
    "doc2vec_labeled_texts =[]\n",
    "\n",
    "# go through my date and my clean text\n",
    "for date, text in zip(df_texts.date, df_texts.text_clean):\n",
    "    # append a 'LabeledSentence object which is taking in my text\n",
    "    #splitting it and then we're appending my date as a list to.\n",
    "    doc2vec_labeled_texts.append(LabeledSentence(\n",
    "    text.split(), [date]\n",
    "    ))"
   ]
  },
  {
   "cell_type": "code",
   "execution_count": 7,
   "metadata": {},
   "outputs": [
    {
     "data": {
      "text/plain": [
       "111"
      ]
     },
     "execution_count": 7,
     "metadata": {},
     "output_type": "execute_result"
    }
   ],
   "source": [
    "# datacheck\n",
    "\n",
    "# first doc\n",
    "doc2vec_labeled_texts[0]\n",
    "\n",
    "# check that we got everyone\n",
    "len(doc2vec_labeled_texts)"
   ]
  },
  {
   "cell_type": "code",
   "execution_count": 8,
   "metadata": {},
   "outputs": [
    {
     "data": {
      "text/plain": [
       "['__add__',\n",
       " '__class__',\n",
       " '__contains__',\n",
       " '__delattr__',\n",
       " '__delitem__',\n",
       " '__dir__',\n",
       " '__doc__',\n",
       " '__eq__',\n",
       " '__format__',\n",
       " '__ge__',\n",
       " '__getattribute__',\n",
       " '__getitem__',\n",
       " '__gt__',\n",
       " '__hash__',\n",
       " '__iadd__',\n",
       " '__imul__',\n",
       " '__init__',\n",
       " '__init_subclass__',\n",
       " '__iter__',\n",
       " '__le__',\n",
       " '__len__',\n",
       " '__lt__',\n",
       " '__mul__',\n",
       " '__ne__',\n",
       " '__new__',\n",
       " '__reduce__',\n",
       " '__reduce_ex__',\n",
       " '__repr__',\n",
       " '__reversed__',\n",
       " '__rmul__',\n",
       " '__setattr__',\n",
       " '__setitem__',\n",
       " '__sizeof__',\n",
       " '__str__',\n",
       " '__subclasshook__',\n",
       " 'append',\n",
       " 'clear',\n",
       " 'copy',\n",
       " 'count',\n",
       " 'extend',\n",
       " 'index',\n",
       " 'insert',\n",
       " 'pop',\n",
       " 'remove',\n",
       " 'reverse',\n",
       " 'sort']"
      ]
     },
     "execution_count": 8,
     "metadata": {},
     "output_type": "execute_result"
    }
   ],
   "source": [
    "# once completed, it can be modified without having to redo the whole thing\n",
    "dir(doc2vec_labeled_texts)"
   ]
  },
  {
   "cell_type": "markdown",
   "metadata": {},
   "source": [
    "#### Step 2: Build the \"Vocabulary Table\"\n",
    "\n",
    "- since in each doc, we don't know the full 'population' of possible word associations, doc2vec requires a vocabulary table\n",
    "- this is just a list of counts of unqiue words\n",
    "- gensim programmed the vocabulary table as a method of a model\n",
    "\n",
    "1.) So we have to specify the model we are going to run\n",
    "\n",
    "2.) Build the vocabulary table\n",
    "\n",
    "3.) Then run the model.\n",
    "\n",
    "full documentation:\n",
    "\n",
    "https://radimrehurek.com/gensim/models/doc2vec.html"
   ]
  },
  {
   "cell_type": "code",
   "execution_count": 9,
   "metadata": {},
   "outputs": [],
   "source": [
    "from gensim.models import Doc2Vec"
   ]
  },
  {
   "cell_type": "code",
   "execution_count": 50,
   "metadata": {},
   "outputs": [
    {
     "name": "stdout",
     "output_type": "stream",
     "text": [
      "alabaster==0.7.10\n",
      "anaconda-client==1.6.14\n",
      "anaconda-navigator==1.8.2\n",
      "anaconda-project==0.8.2\n",
      "appnope==0.1.0\n",
      "appscript==1.0.1\n",
      "asn1crypto==0.24.0\n",
      "astroid==1.6.1\n",
      "astropy==2.0.3\n",
      "attrs==17.4.0\n",
      "Babel==2.5.3\n",
      "backports.shutil-get-terminal-size==1.0.0\n",
      "beautifulsoup4==4.6.0\n",
      "bitarray==0.8.1\n",
      "bkcharts==0.2\n",
      "blaze==0.11.3\n",
      "bleach==2.1.2\n",
      "bokeh==0.12.13\n",
      "boto==2.48.0\n",
      "boto3==1.6.23\n",
      "botocore==1.9.23\n",
      "Bottleneck==1.2.1\n",
      "bz2file==0.98\n",
      "certifi==2018.1.18\n",
      "cffi==1.11.4\n",
      "chardet==3.0.4\n",
      "click==6.7\n",
      "cloudpickle==0.5.2\n",
      "clyent==1.2.2\n",
      "colorama==0.3.9\n",
      "conda==4.5.0\n",
      "conda-build==3.8.0\n",
      "conda-verify==2.0.0\n",
      "contextlib2==0.5.5\n",
      "cryptography==2.1.4\n",
      "cycler==0.10.0\n",
      "Cython==0.27.3\n",
      "cytoolz==0.9.0\n",
      "dask==0.16.1\n",
      "datashape==0.5.4\n",
      "decorator==4.2.1\n",
      "distributed==1.20.2\n",
      "docutils==0.14\n",
      "entrypoints==0.2.3\n",
      "et-xmlfile==1.0.1\n",
      "fastcache==1.0.2\n",
      "filelock==2.0.13\n",
      "Flask==0.12.2\n",
      "Flask-Cors==3.0.3\n",
      "funcy==1.10.1\n",
      "future==0.16.0\n",
      "gensim==3.4.0\n",
      "gevent==1.2.2\n",
      "glob2==0.6\n",
      "gmpy2==2.0.8\n",
      "greenlet==0.4.12\n",
      "h5py==2.7.1\n",
      "heapdict==1.0.0\n",
      "html5lib==1.0.1\n",
      "idna==2.6\n",
      "imageio==2.2.0\n",
      "imagesize==0.7.1\n",
      "ipykernel==4.8.0\n",
      "ipython==6.2.1\n",
      "ipython-genutils==0.2.0\n",
      "ipywidgets==7.1.1\n",
      "isort==4.2.15\n",
      "itsdangerous==0.24\n",
      "jdcal==1.3\n",
      "jedi==0.11.1\n",
      "Jinja2==2.10\n",
      "jmespath==0.9.3\n",
      "joblib==0.11\n",
      "jsonschema==2.6.0\n",
      "jupyter-client==5.2.2\n",
      "jupyter-console==5.2.0\n",
      "jupyter-core==4.4.0\n",
      "jupyterlab-launcher==0.10.2\n",
      "lazy-object-proxy==1.3.1\n",
      "llvmlite==0.21.0\n",
      "locket==0.2.0\n",
      "lxml==4.1.1\n",
      "MarkupSafe==1.0\n",
      "matplotlib==2.1.2\n",
      "mccabe==0.6.1\n",
      "mistune==0.8.3\n",
      "mpmath==1.0.0\n",
      "msgpack-python==0.5.1\n",
      "multipledispatch==0.4.9\n",
      "navigator-updater==0.1.0\n",
      "nbconvert==5.3.1\n",
      "nbformat==4.4.0\n",
      "networkx==2.1\n",
      "nltk==3.2.5\n",
      "nose==1.3.7\n",
      "notebook==5.4.0\n",
      "numba==0.36.2\n",
      "numexpr==2.6.4\n",
      "numpy==1.14.0\n",
      "numpydoc==0.7.0\n",
      "odo==0.5.1\n",
      "olefile==0.45.1\n",
      "openpyxl==2.4.10\n",
      "packaging==16.8\n",
      "pandas==0.22.0\n",
      "pandocfilters==1.4.2\n",
      "parso==0.1.1\n",
      "partd==0.3.8\n",
      "path.py==10.5\n",
      "pathlib2==2.3.0\n",
      "patsy==0.5.0\n",
      "pep8==1.7.1\n",
      "pexpect==4.3.1\n",
      "pickleshare==0.7.4\n",
      "Pillow==5.0.0\n",
      "pkginfo==1.4.1\n",
      "pluggy==0.6.0\n",
      "ply==3.10\n",
      "prompt-toolkit==1.0.15\n",
      "psutil==5.4.3\n",
      "ptyprocess==0.5.2\n",
      "py==1.5.2\n",
      "pycodestyle==2.3.1\n",
      "pycosat==0.6.3\n",
      "pycparser==2.18\n",
      "pycrypto==2.6.1\n",
      "pycurl==7.43.0.1\n",
      "pyflakes==1.6.0\n",
      "Pygments==2.2.0\n",
      "pyLDAvis==2.1.1\n",
      "pylint==1.8.2\n",
      "pyOpenSSL==17.5.0\n",
      "pyparsing==2.2.0\n",
      "PySocks==1.6.7\n",
      "pytest==3.3.2\n",
      "python-dateutil==2.6.1\n",
      "pytz==2017.3\n",
      "PyWavelets==0.5.2\n",
      "PyYAML==3.12\n",
      "pyzmq==16.0.3\n",
      "QtAwesome==0.4.4\n",
      "QtPy==1.3.1\n",
      "requests==2.18.4\n",
      "rope==0.10.7\n",
      "rpy2==2.9.2\n",
      "ruamel-yaml==0.15.35\n",
      "s3transfer==0.1.13\n",
      "scikit-image==0.13.1\n",
      "scikit-learn==0.19.1\n",
      "scipy==1.0.0\n",
      "seaborn==0.8.1\n",
      "Send2Trash==1.4.2\n",
      "simplegeneric==0.8.1\n",
      "singledispatch==3.4.0.3\n",
      "six==1.11.0\n",
      "smart-open==1.5.7\n",
      "snowballstemmer==1.2.1\n",
      "sortedcollections==0.5.3\n",
      "sortedcontainers==1.5.9\n",
      "Sphinx==1.6.6\n",
      "sphinxcontrib-websupport==1.0.1\n",
      "SQLAlchemy==1.2.1\n",
      "statsmodels==0.8.0\n",
      "sympy==1.1.1\n",
      "tables==3.4.2\n",
      "tblib==1.3.2\n",
      "terminado==0.8.1\n",
      "testpath==0.3.1\n",
      "toolz==0.9.0\n",
      "tornado==4.5.3\n",
      "tqdm==4.22.0\n",
      "traitlets==4.3.2\n",
      "typing==3.6.2\n",
      "unicodecsv==0.14.1\n",
      "urllib3==1.22\n",
      "wcwidth==0.1.7\n",
      "webencodings==0.5.1\n",
      "Werkzeug==0.14.1\n",
      "widgetsnbextension==3.1.0\n",
      "wrapt==1.10.11\n",
      "xlrd==1.1.0\n",
      "XlsxWriter==1.0.2\n",
      "xlwings==0.11.5\n",
      "xlwt==1.2.0\n",
      "yellowbrick==0.6\n",
      "zict==0.1.3\n",
      "\u001b[33mYou are using pip version 9.0.3, however version 10.0.1 is available.\n",
      "You should consider upgrading via the 'pip install --upgrade pip' command.\u001b[0m\n"
     ]
    }
   ],
   "source": [
    "# version check\n",
    "!pip3 freeze"
   ]
  },
  {
   "cell_type": "code",
   "execution_count": 47,
   "metadata": {},
   "outputs": [
    {
     "name": "stderr",
     "output_type": "stream",
     "text": [
      "/Users/zwehrwein/anaconda3/lib/python3.6/site-packages/gensim/models/doc2vec.py:366: UserWarning: The parameter `size` is deprecated, will be removed in 4.0.0, use `vector_size` instead.\n",
      "  warnings.warn(\"The parameter `size` is deprecated, will be removed in 4.0.0, use `vector_size` instead.\")\n"
     ]
    }
   ],
   "source": [
    "model = Doc2Vec(\n",
    "                #ignore words w/ frequency lower than this\n",
    "                min_count=5, \n",
    "                \n",
    "                window=10, #the maximum distance between current and\n",
    "                #predicted word in a model\n",
    "                \n",
    "                size=100, #dimesionality of the feature vectors\n",
    "                #According to Minkov, should be between 100 and 400\n",
    "                \n",
    "                # which higher-freq words are downsampled\n",
    "                #sample = 1e-4, \n",
    "                \n",
    "                # Limits RAM of total vocab\n",
    "                # rule of thumb: 10 million words means 1 GB\n",
    "                #max_vocab_size\n",
    "                \n",
    "                #specify how many training iterations to quit after\n",
    "                #iter\n",
    "                \n",
    "                # DBOW if 0, distributed-memory if 1\n",
    "                # This can drastically change results.\n",
    "                # dm = 1,\n",
    "    \n",
    "                #min_alpha=0.025,\n",
    "                \n",
    "                # threads to use, check to see what your processing power is.\n",
    "                workers=7)"
   ]
  },
  {
   "cell_type": "code",
   "execution_count": 11,
   "metadata": {},
   "outputs": [],
   "source": [
    "# build the vocab\n",
    "model.build_vocab(doc2vec_labeled_texts)"
   ]
  },
  {
   "cell_type": "markdown",
   "metadata": {},
   "source": [
    "#### According to some notes online, the gensim doc2vec works better if you randomly shuffle your documents."
   ]
  },
  {
   "cell_type": "code",
   "execution_count": 12,
   "metadata": {},
   "outputs": [],
   "source": [
    "import random\n",
    "\n",
    "random.shuffle(doc2vec_labeled_texts)"
   ]
  },
  {
   "cell_type": "code",
   "execution_count": 13,
   "metadata": {},
   "outputs": [
    {
     "data": {
      "text/plain": [
       "['1689_5']"
      ]
     },
     "execution_count": 13,
     "metadata": {},
     "output_type": "execute_result"
    }
   ],
   "source": [
    "#datacheck\n",
    "\n",
    "#selecting the \"first year\" and the tag of that year\n",
    "doc2vec_labeled_texts[0][1]"
   ]
  },
  {
   "cell_type": "markdown",
   "metadata": {},
   "source": [
    "#### Finally! Time to run the model.\n",
    "\n",
    "Two final parameters to specify:\n",
    "\n",
    "- The number of times that the entire dataset is passed forward and back through the neural net (epochs)\n",
    "- The number of sentences to embed for. (total_examples). Here we say to do so for the entire corpus"
   ]
  },
  {
   "cell_type": "code",
   "execution_count": 14,
   "metadata": {},
   "outputs": [
    {
     "name": "stdout",
     "output_type": "stream",
     "text": [
      "CPU times: user 32.8 s, sys: 389 ms, total: 33.2 s\n",
      "Wall time: 7.16 s\n"
     ]
    }
   ],
   "source": [
    "%%time\n",
    "\n",
    "\n",
    "model.train(doc2vec_labeled_texts,\n",
    "            epochs=10,\n",
    "            total_examples=model.corpus_count)"
   ]
  },
  {
   "cell_type": "code",
   "execution_count": null,
   "metadata": {},
   "outputs": [],
   "source": []
  },
  {
   "cell_type": "code",
   "execution_count": 15,
   "metadata": {},
   "outputs": [
    {
     "data": {
      "text/plain": [
       "[('queen', 0.7140930891036987),\n",
       " ('prince', 0.6128837466239929),\n",
       " ('god', 0.5276351571083069),\n",
       " ('decease', 0.5210491418838501),\n",
       " ('privycounsellors', 0.5057872533798218),\n",
       " ('duke', 0.49574020504951477),\n",
       " ('k', 0.48789751529693604),\n",
       " ('iid', 0.4691506326198578),\n",
       " ('crown', 0.4672580063343048),\n",
       " ('emperor', 0.4612896740436554)]"
      ]
     },
     "execution_count": 15,
     "metadata": {},
     "output_type": "execute_result"
    }
   ],
   "source": [
    "model.wv.most_similar('king')"
   ]
  },
  {
   "cell_type": "code",
   "execution_count": 16,
   "metadata": {},
   "outputs": [
    {
     "data": {
      "text/plain": [
       "[('king', 0.7140932083129883),\n",
       " ('princess', 0.6705242395401001),\n",
       " ('marrying', 0.6495223641395569),\n",
       " ('highness', 0.6494835019111633),\n",
       " ('dutchess', 0.642859160900116),\n",
       " ('elizabeth', 0.6386398673057556),\n",
       " ('prince', 0.6149485111236572),\n",
       " ('reign', 0.5969250202178955),\n",
       " ('dowager', 0.5827314257621765),\n",
       " ('galway', 0.5762913823127747)]"
      ]
     },
     "execution_count": 16,
     "metadata": {},
     "output_type": "execute_result"
    }
   ],
   "source": [
    "model.wv.most_similar('queen')"
   ]
  },
  {
   "cell_type": "code",
   "execution_count": 17,
   "metadata": {},
   "outputs": [
    {
     "data": {
      "text/plain": [
       "[('queen', 0.6398383378982544),\n",
       " ('declaration', 0.5936540961265564),\n",
       " ('league', 0.4839230179786682),\n",
       " ('mary', 0.473972886800766),\n",
       " ('restoration', 0.47035542130470276),\n",
       " ('majesties', 0.4532777965068817),\n",
       " ('princess', 0.45150643587112427),\n",
       " ('prince', 0.4513361155986786),\n",
       " ('elizabeth', 0.44881853461265564),\n",
       " ('kings', 0.44877389073371887)]"
      ]
     },
     "execution_count": 17,
     "metadata": {},
     "output_type": "execute_result"
    }
   ],
   "source": [
    "# our classic case\n",
    "model.wv.most_similar(positive=['woman', 'king'], negative=['man'])"
   ]
  },
  {
   "cell_type": "code",
   "execution_count": 18,
   "metadata": {},
   "outputs": [
    {
     "data": {
      "text/plain": [
       "[('parliaments', 0.6783679127693176),\n",
       " ('session', 0.5246150493621826),\n",
       " ('subsequent', 0.4993715286254883),\n",
       " ('qualifying', 0.49815833568573),\n",
       " ('ancient', 0.4482511281967163),\n",
       " ('dissolved', 0.4453126788139343),\n",
       " ('elections', 0.4352162480354309),\n",
       " ('toleration', 0.43066754937171936),\n",
       " ('calling', 0.4239138662815094),\n",
       " ('determination', 0.42220067977905273)]"
      ]
     },
     "execution_count": 18,
     "metadata": {},
     "output_type": "execute_result"
    }
   ],
   "source": [
    "model.wv.most_similar('parliament')"
   ]
  },
  {
   "cell_type": "code",
   "execution_count": 19,
   "metadata": {},
   "outputs": [
    {
     "data": {
      "text/plain": [
       "[('excise', 0.7295774817466736),\n",
       " ('landtax', 0.7054007649421692),\n",
       " ('pound', 0.7052956223487854),\n",
       " ('lottery', 0.7023975849151611),\n",
       " ('shilling', 0.7012126445770264),\n",
       " ('annuities', 0.6964763402938843),\n",
       " ('appropriated', 0.6901512145996094),\n",
       " ('million', 0.6896395087242126),\n",
       " ('commodity', 0.684363842010498),\n",
       " ('increase', 0.6805633902549744)]"
      ]
     },
     "execution_count": 19,
     "metadata": {},
     "output_type": "execute_result"
    }
   ],
   "source": [
    "model.wv.most_similar('tax')"
   ]
  },
  {
   "cell_type": "code",
   "execution_count": 20,
   "metadata": {},
   "outputs": [
    {
     "data": {
      "text/plain": [
       "[('proportion', 0.6803258061408997),\n",
       " ('increase', 0.6646455526351929),\n",
       " ('contracted', 0.6530373692512512),\n",
       " ('list', 0.6374746561050415),\n",
       " ('trifle', 0.6326913833618164),\n",
       " ('commodity', 0.6312653422355652),\n",
       " ('augmentation', 0.6195775270462036),\n",
       " ('consumption', 0.6165035963058472),\n",
       " ('fund', 0.6133785843849182),\n",
       " ('surplus', 0.6116498708724976)]"
      ]
     },
     "execution_count": 20,
     "metadata": {},
     "output_type": "execute_result"
    }
   ],
   "source": [
    "model.wv.most_similar(positive=['war', 'tax'])"
   ]
  },
  {
   "cell_type": "code",
   "execution_count": null,
   "metadata": {},
   "outputs": [],
   "source": []
  },
  {
   "cell_type": "markdown",
   "metadata": {},
   "source": [
    "#### .wv method allows us to access word2vec side, but docvecs is the document vectors"
   ]
  },
  {
   "cell_type": "code",
   "execution_count": 20,
   "metadata": {},
   "outputs": [],
   "source": [
    "# dir(model.docvecs)"
   ]
  },
  {
   "cell_type": "code",
   "execution_count": 21,
   "metadata": {},
   "outputs": [
    {
     "data": {
      "text/plain": [
       "[('1661_11', 0.8547716736793518),\n",
       " ('1665_10', 0.833668053150177),\n",
       " ('1661_5', 0.8313034772872925),\n",
       " ('1666_9', 0.8269803524017334),\n",
       " ('1660_4', 0.8254221677780151),\n",
       " ('1663_2', 0.8031841516494751),\n",
       " ('1673_2', 0.7739794850349426),\n",
       " ('1664_3', 0.7659974694252014),\n",
       " ('1675_10', 0.7506347298622131),\n",
       " ('1664_11', 0.7368090748786926)]"
      ]
     },
     "execution_count": 21,
     "metadata": {},
     "output_type": "execute_result"
    }
   ],
   "source": [
    "model.docvecs.most_similar('1660_11')"
   ]
  },
  {
   "cell_type": "code",
   "execution_count": 22,
   "metadata": {},
   "outputs": [
    {
     "data": {
      "text/plain": [
       "[('1673_2', 0.7803337574005127),\n",
       " ('1689_5', 0.7664321660995483),\n",
       " ('1678_10', 0.7293819189071655),\n",
       " ('1690_3', 0.7039273381233215),\n",
       " ('1679_3', 0.689883828163147),\n",
       " ('1660_11', 0.665562629699707),\n",
       " ('1695_11', 0.6503426432609558),\n",
       " ('1678_5', 0.6444309949874878),\n",
       " ('1692_11', 0.6318283677101135),\n",
       " ('1670_2', 0.6275140047073364)]"
      ]
     },
     "execution_count": 22,
     "metadata": {},
     "output_type": "execute_result"
    }
   ],
   "source": [
    "model.docvecs.most_similar('1689_2')"
   ]
  },
  {
   "cell_type": "code",
   "execution_count": null,
   "metadata": {},
   "outputs": [],
   "source": []
  },
  {
   "cell_type": "markdown",
   "metadata": {},
   "source": [
    "#### Visualizations\n",
    "\n",
    "1. The same as before."
   ]
  },
  {
   "cell_type": "code",
   "execution_count": 23,
   "metadata": {},
   "outputs": [],
   "source": [
    "subset_token = []\n",
    "\n",
    "for token, score in model.wv.most_similar(['crown','parliament']):\n",
    "    subset_token.append(token)"
   ]
  },
  {
   "cell_type": "code",
   "execution_count": 24,
   "metadata": {},
   "outputs": [
    {
     "data": {
      "text/plain": [
       "['rule',\n",
       " 'statutes',\n",
       " 'laws',\n",
       " 'legal',\n",
       " 'succession',\n",
       " 'altering',\n",
       " 'constitution',\n",
       " 'church',\n",
       " 'crown',\n",
       " 'law',\n",
       " 'realm',\n",
       " 'rights',\n",
       " 'judicature',\n",
       " 'subversion',\n",
       " 'magna',\n",
       " 'custom',\n",
       " 'exercise',\n",
       " 'established',\n",
       " 'peerage',\n",
       " 'claim']"
      ]
     },
     "execution_count": 24,
     "metadata": {},
     "output_type": "execute_result"
    }
   ],
   "source": [
    "# choose the 100 most similar to our chosen tokens\n",
    "chosen_tokens = model.wv.most_similar(subset_token, topn=100)\n",
    "chosen_tokens = [word for word, similarity in chosen_tokens]\n",
    "#printing out the top 20 most associated\n",
    "chosen_tokens[:20]"
   ]
  },
  {
   "cell_type": "code",
   "execution_count": 25,
   "metadata": {},
   "outputs": [],
   "source": [
    "# take our original two vectors and sort the most similar tokens\n",
    "# take our original two vectors\n",
    "x = [model.wv.similarity('crown', word) for word in chosen_tokens]\n",
    "y = [model.wv.similarity('parliament', word) for word in chosen_tokens]"
   ]
  },
  {
   "cell_type": "code",
   "execution_count": 26,
   "metadata": {},
   "outputs": [
    {
     "data": {
      "text/plain": [
       "Text(0.5,1,'doc2vec model words similar to crown and parliament')"
      ]
     },
     "execution_count": 26,
     "metadata": {},
     "output_type": "execute_result"
    }
   ],
   "source": [
    "#same as before\n",
    "\n",
    "import matplotlib.pyplot as plt\n",
    "import matplotlib\n",
    "\n",
    "#tell matplotlib to make a larger plot and define our axis object\n",
    "plt.figure(figsize=(15,15))\n",
    "\n",
    "\n",
    "#let's scatter our terms\n",
    "plt.scatter(x, y, color='darkblue')\n",
    "\n",
    "#this for loop marches through our list of tokens and adds an annotation to each value\n",
    "for i in range(len(chosen_tokens)):\n",
    "    plt.annotate(chosen_tokens[i], (x[i],y[i]))\n",
    "\n",
    "#this plot places a line splitting the vector space in two\n",
    "plt.plot([0, 1], [0, 1], linestyle='--', color='darkred')\n",
    "\n",
    "#finally, let's 'zoom in' on the plot by defining limits to our x and y axis\n",
    "#plt.xlim(.2,.5)\n",
    "#plt.ylim(.2,.5)\n",
    "\n",
    "plt.title('doc2vec model words similar to crown and parliament')"
   ]
  },
  {
   "cell_type": "code",
   "execution_count": 27,
   "metadata": {},
   "outputs": [
    {
     "data": {
      "image/png": "[encoded data removed]",
      "text/plain": [
       "<matplotlib.figure.Figure at 0x1a1f0c1eb8>"
      ]
     },
     "metadata": {},
     "output_type": "display_data"
    }
   ],
   "source": [
    "# zooming in\n",
    "#same as before\n",
    "\n",
    "#tell matplotlib to make a larger plot and define our axis object\n",
    "plt.figure(figsize=(15,15))\n",
    "\n",
    "#let's scatter our terms\n",
    "plt.scatter(x, y, color='darkblue')\n",
    "\n",
    "#this for loop marches through our list of tokens and adds an annotation to each value\n",
    "for i in range(len(chosen_tokens)):\n",
    "    plt.annotate(chosen_tokens[i], (x[i],y[i]))\n",
    "\n",
    "#this plot places a line splitting the vector space in two\n",
    "plt.plot([0, 1], [0, 1], linestyle='--', color='darkred')\n",
    "\n",
    "#finally, let's 'zoom in' on the plot by defining limits to our x and y axis\n",
    "plt.xlim(.15,.5)\n",
    "plt.ylim(.15,.5)\n",
    "\n",
    "plt.title('doc2vec model words similar to crown and parliament')\n",
    "plt.show()\n",
    "\n"
   ]
  },
  {
   "cell_type": "code",
   "execution_count": null,
   "metadata": {},
   "outputs": [],
   "source": []
  },
  {
   "cell_type": "markdown",
   "metadata": {},
   "source": [
    "#### Now, to do the same with all documents.\n",
    "\n",
    "Using the first and last of our labels."
   ]
  },
  {
   "cell_type": "code",
   "execution_count": 27,
   "metadata": {},
   "outputs": [],
   "source": [
    "subset_docs = []\n",
    "\n",
    "for token, score in model.docvecs.most_similar(['1660_11','1739_2']):\n",
    "    subset_docs.append(token)"
   ]
  },
  {
   "cell_type": "code",
   "execution_count": 28,
   "metadata": {},
   "outputs": [],
   "source": [
    "#change the topn parameter in order to get more and more docs.\n",
    "chosen_docs = model.docvecs.most_similar(subset_docs, topn=100)\n",
    "chosen_docs = [doc for doc, similarity in chosen_docs]"
   ]
  },
  {
   "cell_type": "code",
   "execution_count": 29,
   "metadata": {},
   "outputs": [],
   "source": [
    "x = [model.docvecs.similarity('1660_11', word) for word in chosen_docs]\n",
    "y = [model.docvecs.similarity('1739_2', word) for word in chosen_docs]"
   ]
  },
  {
   "cell_type": "code",
   "execution_count": 30,
   "metadata": {},
   "outputs": [
    {
     "data": {
      "image/png": "[encoded data removed]",
      "text/plain": [
       "<matplotlib.figure.Figure at 0x1a232410f0>"
      ]
     },
     "metadata": {},
     "output_type": "display_data"
    }
   ],
   "source": [
    "#tell matplotlib to make a larger plot and define our axis object\n",
    "plt.figure(figsize=(15,15))\n",
    "\n",
    "\n",
    "#let's scatter our terms\n",
    "plt.scatter(x, y, color='darkblue')\n",
    "\n",
    "#this for loop marches through our list of tokens and adds an annotation to each value\n",
    "for i in range(len(chosen_docs)):\n",
    "    plt.annotate(chosen_docs[i], (x[i],y[i]))\n",
    "\n",
    "#this plot places a line splitting the vector space in two\n",
    "plt.plot([0, 1], [0, 1], linestyle='--', color='darkred')\n",
    "\n",
    "#finally, let's 'zoom in' on the plot by defining limits to our x and y axis\n",
    "#plt.xlim(.2,.5)\n",
    "#plt.ylim(.2,.5)\n",
    "\n",
    "plt.title('doc2vec projection of documents')\n",
    "plt.show()"
   ]
  },
  {
   "cell_type": "code",
   "execution_count": null,
   "metadata": {},
   "outputs": [],
   "source": []
  },
  {
   "cell_type": "code",
   "execution_count": null,
   "metadata": {},
   "outputs": [],
   "source": []
  },
  {
   "cell_type": "markdown",
   "metadata": {},
   "source": [
    "#### 2.) T-sne projection of the documents with some k-means clustering\n",
    "\n",
    "``model.docvecs`` holds our document vectors"
   ]
  },
  {
   "cell_type": "code",
   "execution_count": 43,
   "metadata": {},
   "outputs": [],
   "source": [
    "# pop out our document vectors from the model\n",
    "doc_vectors = model.docvecs.vectors_docs"
   ]
  },
  {
   "cell_type": "code",
   "execution_count": 44,
   "metadata": {},
   "outputs": [
    {
     "data": {
      "text/plain": [
       "array([[ 1.4929804 ,  0.1646847 , -0.06755856, ..., -1.7722903 ,\n",
       "        -0.06284841, -1.5212504 ],\n",
       "       [ 1.071757  , -0.0494026 , -1.989819  , ..., -1.9219549 ,\n",
       "         0.96741176, -3.3230805 ],\n",
       "       [ 1.4795923 ,  0.36213216, -0.22734313, ..., -1.3636063 ,\n",
       "        -0.2649679 , -2.7718425 ],\n",
       "       ...,\n",
       "       [-1.7618555 , -3.0330818 ,  0.74885356, ...,  2.033601  ,\n",
       "         0.5423493 ,  0.4541251 ],\n",
       "       [-2.447096  ,  0.75762594,  2.036008  , ...,  3.6481562 ,\n",
       "         5.0884924 , -1.3359829 ],\n",
       "       [-3.506053  , -0.37313527,  0.9305701 , ...,  4.9491086 ,\n",
       "         4.8414054 , -2.557141  ]], dtype=float32)"
      ]
     },
     "execution_count": 44,
     "metadata": {},
     "output_type": "execute_result"
    }
   ],
   "source": [
    "model.docvecs.vectors_docs"
   ]
  },
  {
   "cell_type": "code",
   "execution_count": 32,
   "metadata": {},
   "outputs": [
    {
     "data": {
      "text/plain": [
       "KMeans(algorithm='auto', copy_x=True, init='k-means++', max_iter=300,\n",
       "    n_clusters=5, n_init=10, n_jobs=1, precompute_distances='auto',\n",
       "    random_state=None, tol=0.0001, verbose=0)"
      ]
     },
     "execution_count": 32,
     "metadata": {},
     "output_type": "execute_result"
    }
   ],
   "source": [
    "from sklearn.cluster import KMeans\n",
    "\n",
    "#five clusters for five monarchs\n",
    "clusters = KMeans(n_clusters=5)\n",
    "clusters.fit(doc_vectors)"
   ]
  },
  {
   "cell_type": "code",
   "execution_count": 33,
   "metadata": {},
   "outputs": [
    {
     "data": {
      "text/plain": [
       "TSNEVisualizer(ax=<matplotlib.axes._subplots.AxesSubplot object at 0x1a247e77b8>,\n",
       "        classes=None, colormap=None, colors=None, decompose=None,\n",
       "        decompose_by=None, labels=None, random_state=None)"
      ]
     },
     "execution_count": 33,
     "metadata": {},
     "output_type": "execute_result"
    },
    {
     "data": {
      "image/png": "[encoded data removed]",
      "text/plain": [
       "<matplotlib.figure.Figure at 0x1a244f4e48>"
      ]
     },
     "metadata": {},
     "output_type": "display_data"
    }
   ],
   "source": [
    "#from lab7\n",
    "from yellowbrick.text import TSNEVisualizer\n",
    "\n",
    "tsne = TSNEVisualizer()\n",
    "tsne.fit(doc_vectors, [\"c{}\".format(c) for c in clusters.labels_])"
   ]
  },
  {
   "cell_type": "code",
   "execution_count": 34,
   "metadata": {},
   "outputs": [
    {
     "data": {
      "image/png": "[encoded data removed]",
      "text/plain": [
       "<matplotlib.figure.Figure at 0x1a247e09b0>"
      ]
     },
     "metadata": {},
     "output_type": "display_data"
    }
   ],
   "source": [
    "#same as above, but this time, color code by monarch\n",
    "\n",
    "from yellowbrick.text import TSNEVisualizer\n",
    "\n",
    "labels = df_texts['monarch'].tolist()\n",
    "\n",
    "tsne = TSNEVisualizer()\n",
    "tsne.fit(doc_vectors,labels)\n",
    "tsne.poof()"
   ]
  },
  {
   "cell_type": "markdown",
   "metadata": {},
   "source": [
    "#### Brief substantive interpretation:\n",
    "\n",
    "1. Although not oriented the same way, we still have some distinct clusters.\n",
    "2. There is roughly a linear movement, from charles2 to Will and Mary to Anne and then the Georges."
   ]
  },
  {
   "cell_type": "code",
   "execution_count": null,
   "metadata": {},
   "outputs": [],
   "source": []
  },
  {
   "cell_type": "markdown",
   "metadata": {},
   "source": [
    "#### 3.) Lastly, is this legit? We can plot the cosine distance between doc2vec vectors.\n",
    "\n",
    "$$\\text{similarity} = \\cos(\\theta) = {\\mathbf{A} \\cdot \\mathbf{B} \\over \\|\\mathbf{A}\\| \\|\\mathbf{B}\\|} = \\frac{ \\sum\\limits_{i=1}^{n}{A_i  B_i} }{ \\sqrt{\\sum\\limits_{i=1}^{n}{A_i^2}}  \\sqrt{\\sum\\limits_{i=1}^{n}{B_i^2}} }$$\n",
    "\n",
    "<img src=\"images/cosine_sim.png\", style=\"width: 500px\"/>\n",
    "\n",
    "- The cosine similarity of two matrices is one matrix by the other's transpose.\n",
    "- If we take the docvecs vectors and multiple it by the transpose of itself, we calculate the cosine distance between each doc.\n",
    "- For each of our embeddings vector, we're calculating the distance between each document on that axis."
   ]
  },
  {
   "cell_type": "code",
   "execution_count": 36,
   "metadata": {},
   "outputs": [],
   "source": [
    "# docvecs methods contains all of our vectors\n",
    "# model.docvecs[0]"
   ]
  },
  {
   "cell_type": "code",
   "execution_count": 35,
   "metadata": {},
   "outputs": [],
   "source": [
    "import sklearn.preprocessing as preprocessing\n",
    "import numpy as np\n",
    "\n",
    "def cosine_mat_similarities(mat):\n",
    "    col_normed_mat = preprocessing.normalize(mat, axis=0)\n",
    "    mat = np.matmul(col_normed_mat, col_normed_mat.T,)\n",
    "    np.fill_diagonal(mat,0)\n",
    "    return mat"
   ]
  },
  {
   "cell_type": "code",
   "execution_count": 36,
   "metadata": {},
   "outputs": [],
   "source": [
    "d2v_cs = cosine_mat_similarities(pd.DataFrame(data=doc_vectors))"
   ]
  },
  {
   "cell_type": "code",
   "execution_count": 37,
   "metadata": {},
   "outputs": [
    {
     "data": {
      "text/plain": [
       "(111, 111)"
      ]
     },
     "execution_count": 37,
     "metadata": {},
     "output_type": "execute_result"
    }
   ],
   "source": [
    "d2v_cs.shape"
   ]
  },
  {
   "cell_type": "code",
   "execution_count": 38,
   "metadata": {},
   "outputs": [],
   "source": [
    "#define a dataframe where both rows and columns are the doc labels\n",
    "#and the data is the cosine similarities\n",
    "d = pd.DataFrame(data=d2v_cs,\n",
    "                 columns=list(df_texts.date),\n",
    "                 index=list(df_texts.date))"
   ]
  },
  {
   "cell_type": "code",
   "execution_count": 39,
   "metadata": {},
   "outputs": [
    {
     "data": {
      "text/html": [
       "<div>\n",
       "<style scoped>\n",
       "    .dataframe tbody tr th:only-of-type {\n",
       "        vertical-align: middle;\n",
       "    }\n",
       "\n",
       "    .dataframe tbody tr th {\n",
       "        vertical-align: top;\n",
       "    }\n",
       "\n",
       "    .dataframe thead th {\n",
       "        text-align: right;\n",
       "    }\n",
       "</style>\n",
       "<table border=\"1\" class=\"dataframe\">\n",
       "  <thead>\n",
       "    <tr style=\"text-align: right;\">\n",
       "      <th></th>\n",
       "      <th>1660_11</th>\n",
       "      <th>1660_4</th>\n",
       "      <th>1661_11</th>\n",
       "      <th>1661_5</th>\n",
       "      <th>1663_2</th>\n",
       "      <th>1664_11</th>\n",
       "      <th>1664_3</th>\n",
       "      <th>1665_10</th>\n",
       "      <th>1666_9</th>\n",
       "      <th>1667_10</th>\n",
       "      <th>...</th>\n",
       "      <th>1736_4</th>\n",
       "      <th>1737_2</th>\n",
       "      <th>1737_3</th>\n",
       "      <th>1737_5</th>\n",
       "      <th>1738_1</th>\n",
       "      <th>1738_2</th>\n",
       "      <th>1738_3</th>\n",
       "      <th>1738_4</th>\n",
       "      <th>1738_5</th>\n",
       "      <th>1739_2</th>\n",
       "    </tr>\n",
       "  </thead>\n",
       "  <tbody>\n",
       "    <tr>\n",
       "      <th>1660_11</th>\n",
       "      <td>0.000000</td>\n",
       "      <td>0.420854</td>\n",
       "      <td>0.370768</td>\n",
       "      <td>0.430954</td>\n",
       "      <td>0.324825</td>\n",
       "      <td>0.211498</td>\n",
       "      <td>0.262733</td>\n",
       "      <td>0.329455</td>\n",
       "      <td>0.319806</td>\n",
       "      <td>0.294395</td>\n",
       "      <td>...</td>\n",
       "      <td>0.042993</td>\n",
       "      <td>-0.088484</td>\n",
       "      <td>-0.172091</td>\n",
       "      <td>0.082400</td>\n",
       "      <td>0.051542</td>\n",
       "      <td>0.000068</td>\n",
       "      <td>-0.229899</td>\n",
       "      <td>-0.104964</td>\n",
       "      <td>-0.136731</td>\n",
       "      <td>-0.201384</td>\n",
       "    </tr>\n",
       "    <tr>\n",
       "      <th>1660_4</th>\n",
       "      <td>0.420854</td>\n",
       "      <td>0.000000</td>\n",
       "      <td>0.488799</td>\n",
       "      <td>0.567256</td>\n",
       "      <td>0.446477</td>\n",
       "      <td>0.249993</td>\n",
       "      <td>0.349036</td>\n",
       "      <td>0.399115</td>\n",
       "      <td>0.403062</td>\n",
       "      <td>0.346335</td>\n",
       "      <td>...</td>\n",
       "      <td>0.025790</td>\n",
       "      <td>-0.120380</td>\n",
       "      <td>-0.165644</td>\n",
       "      <td>0.095549</td>\n",
       "      <td>0.069507</td>\n",
       "      <td>-0.019081</td>\n",
       "      <td>-0.208281</td>\n",
       "      <td>-0.280795</td>\n",
       "      <td>-0.274493</td>\n",
       "      <td>-0.269257</td>\n",
       "    </tr>\n",
       "    <tr>\n",
       "      <th>1661_11</th>\n",
       "      <td>0.370768</td>\n",
       "      <td>0.488799</td>\n",
       "      <td>0.000000</td>\n",
       "      <td>0.463735</td>\n",
       "      <td>0.401021</td>\n",
       "      <td>0.252342</td>\n",
       "      <td>0.314357</td>\n",
       "      <td>0.366330</td>\n",
       "      <td>0.368098</td>\n",
       "      <td>0.373872</td>\n",
       "      <td>...</td>\n",
       "      <td>0.069127</td>\n",
       "      <td>-0.057993</td>\n",
       "      <td>-0.071853</td>\n",
       "      <td>0.195015</td>\n",
       "      <td>0.038654</td>\n",
       "      <td>0.051659</td>\n",
       "      <td>-0.182331</td>\n",
       "      <td>-0.171865</td>\n",
       "      <td>-0.134924</td>\n",
       "      <td>-0.216115</td>\n",
       "    </tr>\n",
       "    <tr>\n",
       "      <th>1661_5</th>\n",
       "      <td>0.430954</td>\n",
       "      <td>0.567256</td>\n",
       "      <td>0.463735</td>\n",
       "      <td>0.000000</td>\n",
       "      <td>0.462556</td>\n",
       "      <td>0.267935</td>\n",
       "      <td>0.372821</td>\n",
       "      <td>0.421442</td>\n",
       "      <td>0.433633</td>\n",
       "      <td>0.355236</td>\n",
       "      <td>...</td>\n",
       "      <td>-0.013356</td>\n",
       "      <td>-0.072231</td>\n",
       "      <td>-0.344734</td>\n",
       "      <td>0.135656</td>\n",
       "      <td>0.052014</td>\n",
       "      <td>0.043280</td>\n",
       "      <td>-0.247803</td>\n",
       "      <td>-0.126123</td>\n",
       "      <td>-0.109741</td>\n",
       "      <td>-0.190582</td>\n",
       "    </tr>\n",
       "    <tr>\n",
       "      <th>1663_2</th>\n",
       "      <td>0.324825</td>\n",
       "      <td>0.446477</td>\n",
       "      <td>0.401021</td>\n",
       "      <td>0.462556</td>\n",
       "      <td>0.000000</td>\n",
       "      <td>0.225248</td>\n",
       "      <td>0.312347</td>\n",
       "      <td>0.334751</td>\n",
       "      <td>0.333324</td>\n",
       "      <td>0.300790</td>\n",
       "      <td>...</td>\n",
       "      <td>0.079968</td>\n",
       "      <td>-0.002829</td>\n",
       "      <td>-0.094848</td>\n",
       "      <td>0.129247</td>\n",
       "      <td>0.075171</td>\n",
       "      <td>0.101822</td>\n",
       "      <td>-0.073793</td>\n",
       "      <td>-0.079215</td>\n",
       "      <td>-0.050746</td>\n",
       "      <td>-0.059349</td>\n",
       "    </tr>\n",
       "  </tbody>\n",
       "</table>\n",
       "<p>5 rows × 111 columns</p>\n",
       "</div>"
      ],
      "text/plain": [
       "          1660_11    1660_4   1661_11    1661_5    1663_2   1664_11    1664_3  \\\n",
       "1660_11  0.000000  0.420854  0.370768  0.430954  0.324825  0.211498  0.262733   \n",
       "1660_4   0.420854  0.000000  0.488799  0.567256  0.446477  0.249993  0.349036   \n",
       "1661_11  0.370768  0.488799  0.000000  0.463735  0.401021  0.252342  0.314357   \n",
       "1661_5   0.430954  0.567256  0.463735  0.000000  0.462556  0.267935  0.372821   \n",
       "1663_2   0.324825  0.446477  0.401021  0.462556  0.000000  0.225248  0.312347   \n",
       "\n",
       "          1665_10    1666_9   1667_10    ...       1736_4    1737_2    1737_3  \\\n",
       "1660_11  0.329455  0.319806  0.294395    ...     0.042993 -0.088484 -0.172091   \n",
       "1660_4   0.399115  0.403062  0.346335    ...     0.025790 -0.120380 -0.165644   \n",
       "1661_11  0.366330  0.368098  0.373872    ...     0.069127 -0.057993 -0.071853   \n",
       "1661_5   0.421442  0.433633  0.355236    ...    -0.013356 -0.072231 -0.344734   \n",
       "1663_2   0.334751  0.333324  0.300790    ...     0.079968 -0.002829 -0.094848   \n",
       "\n",
       "           1737_5    1738_1    1738_2    1738_3    1738_4    1738_5    1739_2  \n",
       "1660_11  0.082400  0.051542  0.000068 -0.229899 -0.104964 -0.136731 -0.201384  \n",
       "1660_4   0.095549  0.069507 -0.019081 -0.208281 -0.280795 -0.274493 -0.269257  \n",
       "1661_11  0.195015  0.038654  0.051659 -0.182331 -0.171865 -0.134924 -0.216115  \n",
       "1661_5   0.135656  0.052014  0.043280 -0.247803 -0.126123 -0.109741 -0.190582  \n",
       "1663_2   0.129247  0.075171  0.101822 -0.073793 -0.079215 -0.050746 -0.059349  \n",
       "\n",
       "[5 rows x 111 columns]"
      ]
     },
     "execution_count": 39,
     "metadata": {},
     "output_type": "execute_result"
    }
   ],
   "source": [
    "#datacheck\n",
    "d.head()"
   ]
  },
  {
   "cell_type": "code",
   "execution_count": 40,
   "metadata": {},
   "outputs": [
    {
     "data": {
      "text/plain": [
       "<matplotlib.axes._subplots.AxesSubplot at 0x1a24001588>"
      ]
     },
     "execution_count": 40,
     "metadata": {},
     "output_type": "execute_result"
    },
    {
     "data": {
      "image/png": "[encoded data removed]",
      "text/plain": [
       "<matplotlib.figure.Figure at 0x1a255789e8>"
      ]
     },
     "metadata": {},
     "output_type": "display_data"
    }
   ],
   "source": [
    "#seaborn is a attractive plotting system\n",
    "import numpy as np\n",
    "import pandas as pd\n",
    "import seaborn as sns\n",
    "import matplotlib.pyplot as plt\n",
    "\n",
    "sns.set(style=\"white\")\n",
    "\n",
    "# Generate a mask for the upper triangle\n",
    "mask = np.zeros_like(d, dtype=np.bool)\n",
    "mask[np.triu_indices_from(mask)] = True\n",
    "\n",
    "# Set up the matplotlib figure\n",
    "f, ax = plt.subplots(figsize=(18, 15))\n",
    "\n",
    "cmap = sns.diverging_palette(220, 1, as_cmap=False)\n",
    "\n",
    "# Draw the heatmap with the mask and correct aspect ratio\n",
    "sns.heatmap(d, mask=mask, cmap=cmap, vmax=.3, center=0.1,\n",
    "            square=True, linewidths=.5, cbar_kws={\"shrink\": .5})"
   ]
  },
  {
   "cell_type": "code",
   "execution_count": 41,
   "metadata": {},
   "outputs": [
    {
     "data": {
      "text/plain": [
       "[('1735_1', 0.8344191312789917),\n",
       " ('1734_1', 0.7808488607406616),\n",
       " ('1732_1', 0.7597342729568481),\n",
       " ('1733_1', 0.722997784614563),\n",
       " ('1739_2', 0.7226582765579224),\n",
       " ('1737_2', 0.6767001152038574),\n",
       " ('1738_3', 0.67246013879776),\n",
       " ('1736_1', 0.6681199669837952),\n",
       " ('1731_1', 0.637686550617218),\n",
       " ('1738_2', 0.6282162666320801)]"
      ]
     },
     "execution_count": 41,
     "metadata": {},
     "output_type": "execute_result"
    }
   ],
   "source": [
    "model.docvecs.most_similar(['1735_2'])"
   ]
  },
  {
   "cell_type": "code",
   "execution_count": 42,
   "metadata": {},
   "outputs": [
    {
     "data": {
      "text/plain": [
       "[('1679_10', 0.8927876353263855),\n",
       " ('1680_10', 0.8541738986968994),\n",
       " ('1680_12', 0.7859451770782471),\n",
       " ('1681_3', 0.6865837574005127),\n",
       " ('1679_3', 0.5246655941009521),\n",
       " ('1696_10', 0.5215299129486084),\n",
       " ('1689_1', 0.5089402198791504),\n",
       " ('1675_4', 0.442027747631073),\n",
       " ('1695_11', 0.440282940864563),\n",
       " ('1678_10', 0.43717849254608154)]"
      ]
     },
     "execution_count": 42,
     "metadata": {},
     "output_type": "execute_result"
    }
   ],
   "source": [
    "model.docvecs.most_similar(['1680_11'])"
   ]
  },
  {
   "cell_type": "markdown",
   "metadata": {},
   "source": [
    "#### Final substantive interpretation: \n",
    "\n",
    "1. Clearly there's some \"autocorrelation\" here.\n",
    "2. Most documents just don't really relate to one another (and our PCA and T-sne projections show this.\n",
    "3. However, this is picking up on some fundamental difference between the Whig Supremacy (after the 1745 Jacobite Rebellion leads to the suppression of the Tories) and the old-divine right of kings absolutist rule of Charles II."
   ]
  },
  {
   "cell_type": "code",
   "execution_count": null,
   "metadata": {},
   "outputs": [],
   "source": []
  }
 ],
 "metadata": {
  "kernelspec": {
   "display_name": "Python 3",
   "language": "python",
   "name": "python3"
  },
  "language_info": {
   "codemirror_mode": {
    "name": "ipython",
    "version": 3
   },
   "file_extension": ".py",
   "mimetype": "text/x-python",
   "name": "python",
   "nbconvert_exporter": "python",
   "pygments_lexer": "ipython3",
   "version": "3.6.4"
  }
 },
 "nbformat": 4,
 "nbformat_minor": 2
}
