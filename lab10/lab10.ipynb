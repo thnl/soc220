{
 "cells": [
  {
   "cell_type": "markdown",
   "metadata": {},
   "source": [
    "<font color=darkred>\n",
    "\n",
    "# Soc 220: Computational Text Methods\n",
    "\n",
    "## Lab 10: Word Embeddings\n",
    "\n",
    "***\n",
    "\n",
    "<img src=\"images/camera.png\" style=\"width: 600px\"/>\n",
    "\n",
    "***\n",
    "\n",
    "1. XML files\n",
    "2. word2vec: Skip-gram\n",
    "3. word2vec: CBOW\n",
    "4. doc2vec"
   ]
  },
  {
   "cell_type": "markdown",
   "metadata": {},
   "source": [
    "***\n",
    "***\n",
    "\n",
    "### Data\n",
    "\n",
    "- We never discussed XML.\n",
    "- \"Extensible Markup Language\" (XML) encodes information that is both machine and human readable.\n",
    "- Not that different from html."
   ]
  },
  {
   "cell_type": "code",
   "execution_count": 1,
   "metadata": {},
   "outputs": [],
   "source": [
    "#!pip3 install tqdm"
   ]
  },
  {
   "cell_type": "code",
   "execution_count": 2,
   "metadata": {},
   "outputs": [],
   "source": [
    "#imports a progress bar on all our big functions\n",
    "#from tqdm import tqdm\n",
    "#tqdm.pandas(desc=\"progress-bar\")"
   ]
  },
  {
   "cell_type": "code",
   "execution_count": 3,
   "metadata": {},
   "outputs": [
    {
     "data": {
      "text/plain": [
       "'/Users/zwehrwein/Dropbox/coursework/2018Spring/soc220_spring2018/soc220-labs-draft/Github_draft/lab10'"
      ]
     },
     "execution_count": 3,
     "metadata": {},
     "output_type": "execute_result"
    }
   ],
   "source": [
    "# get current working directory\n",
    "import os\n",
    "os.getcwd()"
   ]
  },
  {
   "cell_type": "code",
   "execution_count": 4,
   "metadata": {},
   "outputs": [
    {
     "data": {
      "text/plain": [
       "'/Users/zwehrwein/Dropbox/research/obo_ordinaryaccounts'"
      ]
     },
     "execution_count": 4,
     "metadata": {},
     "output_type": "execute_result"
    }
   ],
   "source": [
    "# define where the data is and change the working directory\n",
    "ob_directory = '/Users/zwehrwein/Dropbox/research/obo_ordinaryaccounts'\n",
    "os.chdir(ob_directory)\n",
    "# check that we have the right data\n",
    "os.getcwd()"
   ]
  },
  {
   "cell_type": "code",
   "execution_count": 5,
   "metadata": {},
   "outputs": [
    {
     "name": "stdout",
     "output_type": "stream",
     "text": [
      "['OA17191106.xml', 'OA17441107.xml', 'OA17611005.xml', 'OA17150202.xml', 'OA17600915.xml']\n"
     ]
    }
   ],
   "source": [
    "# glob loads all files that fit a regular expression\n",
    "import glob\n",
    "# here i am asking for anything with .xml and printing the first files.\n",
    "xml_files = glob.glob('*.xml')\n",
    "print(xml_files[:5])"
   ]
  },
  {
   "cell_type": "code",
   "execution_count": 6,
   "metadata": {},
   "outputs": [],
   "source": [
    "# we use xml library like bs4\n",
    "import xml.etree.ElementTree as et\n",
    "# parse a random xml file\n",
    "tree = et.parse(xml_files[5])\n",
    "root = tree.getroot()"
   ]
  },
  {
   "cell_type": "code",
   "execution_count": 7,
   "metadata": {},
   "outputs": [
    {
     "name": "stdout",
     "output_type": "stream",
     "text": [
      "THE ORDINARY of NEWGATE his ACCOUNT, Of the Behaviour, Confession, and dying Words of the Malefactors, who were executed at Tyburn, on Tuesday the 12th, of this Instant May, 1730.\n",
      "<class 'str'>\n",
      "AT the King's Commission of Oyer and Terminer, and Gaol-Delivery of Newgate, held (before the \n",
      "<class 'str'>\n",
      "Nine Men, viz. \n",
      "<class 'str'>\n",
      "While under Sentence, they were instructed in the first Principles of Religion, both in Publick and Private: Some of them having been grossly Ignorant, (partly for want of Education, and partly by Reason of their obstinate and unadviseable Tempers) whether in natural or revealed Maxims. From St. John, 1. 12. 13. But as many as received him, to them gave he Power to become the Sons of God; even to them that believe on his Name: which were born, not of Blood, nor of the Will of the Flesh, nor of the Will of Man, but of God. I took Occasion to shew them the absolute Necessity of believing in Christ, as the Son of God, the true Messias, and only Saviour of lost Man, since we, by Sin and our Apostacy from God, having lost all Power of satisfying divine Justice, it is Necessary for us to endeavour to attain to the imputed Righteousness of Christ Jesus, by a lively Faith in him, who by his Sufferings and Death hath made a perfect Attonement for the Sins of all Men. I shew'd them, that their attacking, beating, frightning and robbing upon the Highway, was a Sin bordering upon Murder, which they will also commit, when they think upon being discover'd and brought to Justice by the injur'd Party; and therefore those who were guilty of Robbery, ought to repent as if they had committed Murder. I instructed them in the Nature of the Christian Sacraments, that they being Pledges of the divine Love, and Seals of the new Covenant; the worthy and faithful Receivers are made Partakers of the invisible Grace signify'd thereby, Pardon of their Sins and eternal Life. As from several other Texts, so particularly from Rev. 14. 13. Blessed are the dead which die in the Lord; yea, saith the Spirit, from henceforth, that they may rest from their Labours and their Works do follow them. I used several Exhortations to prepare them for their great Change; since upon the Conclusion of their Life by Death, depended their eternal Welfare or Misery in the other World.\n",
      "<class 'str'>\n",
      "\n",
      "               \n",
      "<class 'str'>\n",
      "When these and other Exhortations were given, they attended in Chapel and made regular Responses, as they could; they were in a better State of Health, than commonly such miserable Objects use to be, when they are kept so long under Sentence; only Horton and the Woman were a little indispos'd, but recover'd very soon, and fail'd not in giving their usual Attendance. Dalton was very observant in attending Chapel, and comply'd with Prayers, and was more attentive to Exhortations, then Men use to be in his unhappy Condition; only once, the Woman under Sentence having given him some sharp Words, upon his stopping her at the Door of the Cells, as she intended (as he alledg'd) to make her Escape, which (I believe) was impracticable; he was a little uneasy to her in Chapel, and threatn'd to cut off her Head, or beat her unmercifully if she spoke to him again on that Subject. He said, he knew nothing of her Intention to make an Escape in her Hood and Mantle, or else he would not have stopp'd her. I advis'd him to be Patient, that he would forbear such desperate Resolutions, and consider his present Circumstances: He said, he would not be displeas'd at his being blam'd for what he did, but could not endure to bear the Blame of what he had not done; but as for what he said to the Woman, that it was only for Terror, not that he design'd to do any such thing.\n",
      "<class 'str'>\n",
      "Abraham the Jew came mostly to Chapel, but more for a little Freedom, than any love he had to the Devotion; appearing altogether indifferent that way, only sometimes he look'd a little on his Hebrew Psalter, and on Ascension day he sung aloud the one half of the\n",
      "<class 'str'>\n",
      "24th Psalm, and the last part of the Doxology, for I observ'd that he did not sing the first part of it, along with the rest. I endeavour'd to persuade him to the belief of Christianity; but, although he had little or nothing to say, he persisted inflexible. \n",
      "<class 'str'>\n",
      "Upon Friday, the 8th of May, the Report of the above ten Malefactors was made to his Majesty in Council; when \n",
      "<class 'str'>\n",
      "\n",
      "               \n",
      "<class 'str'>\n",
      "\n",
      "               \n",
      "<class 'str'>\n",
      "\n",
      "               \n",
      "<class 'str'>\n",
      "by Land, with Approbation and Respect, till at last that Suspicion of his committing a scandalous Action broke out upon him.\n",
      "<class 'str'>\n",
      "The Account he gave of the Crime for which he died was to this Purpose: On Sunday, the 1st of March, as he was crossing \n",
      "<class 'str'>\n",
      "\n",
      "               \n",
      "<class 'str'>\n",
      "The Prosecutor depos'd, that he being a \n",
      "<class 'str'>\n",
      "\n",
      "               \n",
      "<class 'str'>\n",
      "He took ten Guineas from a certain Person in Town to swear falsly against one Nichols, who was executed with the Street Robbers upon Neaves's Evidence, but said that his Conscience check'd him for engaging to do such an unjust Action, and he would neither return the Money nor appear as Evidence against him; he begg'd God Pardon for undertaking so villainous a Design.\n",
      "<class 'str'>\n",
      "He behav'd always Civily in Chapel and at other Times, for what I know, except in one single Instance before-mention'd. He profess'd himself Penitent, that he believ'd in Christ, and died in Peace with all the World. As for the Crime for which he suffer'd, he absolutely deny'd it, and after all the Arguments could be used, he would not alter in his Confession; but reflected on his Prosecutor as one no less Wicked than himself: However, he freely forgave him; and often own'd to me, that for twenty Years past he never rose out of his Bed, but he deserv'd the Gallows. His Carriage was much more Modest and Civil, than that of several of those notorious Offenders useth to be.\n",
      "<class 'str'>\n",
      "\n",
      "               \n",
      "<class 'str'>\n",
      "\n",
      "               \n",
      "<class 'str'>\n",
      "N. B. There being such a Variety of uncommon Facts, in the Life of the two before-mention'd Malefactors, viz. Dalton and \n",
      "<class 'str'>\n",
      "\n",
      "               \n",
      "<class 'str'>\n",
      "\n",
      "               \n",
      "<class 'str'>\n",
      "At the Place of EXECUTION,\n",
      "<class 'str'>\n",
      "ABRAHAM the Jew, had some of his Nation speaking and reading a little to him in Hebrew; before I could get to pray for the rest. He said he had nothing more to say, only shew'd me a little Hebrew Prayer Book he was reading in. He seem'd to be very uncharitable to his Prosecutors when there was no Expectation of Life. I ask'd him if he freely forgave his Enemies? He hesitated upon this, and did not know if it was agreeable to their Religion, but answer'd faintly, he did. At another Time he prayed God might Reward them as they had dealt by him. Mr. Aubert had no more to say, only that he had given Satisfaction to one who had come to him several Days about an Affair. \n",
      "<class 'str'>\n",
      "When I came this Morning to Chapel, in order to recommend them to God as usual, before they die; they told me, that this Morning, \n",
      "<class 'str'>\n",
      "This all the Account given by me,\n",
      "<class 'str'>\n",
      "\n",
      "               \n",
      "<class 'str'>\n",
      "ADVERTISEMENT.\n",
      "<class 'str'>\n",
      "This Day is publish'd\n",
      "<class 'str'>\n",
      "The Third Edition, with Additions, of A Practical Treatise: Or, Second Thoughts on the Consequences of the VENEREAL DISEASE. In three Parts, viz.\n",
      "<class 'str'>\n",
      "I. On the Simple Gonorrhea, Gleets, and other Weaknesses, whether from Venereal Embraces, Self-Pollution, improperly call'd Onanism, or Natural Imbecility.\n",
      "<class 'str'>\n",
      "II. On the Virulent Gonorrhoea, or Clap.\n",
      "<class 'str'>\n",
      "III. On the Venereal Lues or Grand Pox.\n",
      "<class 'str'>\n",
      "Wherein are plainly shew'd, the exact Degrees of Difference; with their Signs, Symtoms, Prognosticks and Cures in all Cases; their Beginnings, Progress, and fatal Periods, when neglected, or unskillfully managed; and how their absolute Cure, without Violence, or Injury, is completed. With proper and effectual Remedies, in their several Stages, prescrib'd and recommended therein. With some Remarks on that preposterous Way of Venery with Machines, &c. a plain Discovery of the Dangers (tho' little expected) which attend that vile Practice. Also many other useful Discoveries relating to Infections in both Sexes, not before taken Notice of.\n",
      "<class 'str'>\n",
      "To which is annex'd, A Vindication of the Practice of Salivating, &c. The whole fitted, as well for the Advantage of Patients, as young Practitioners.\n",
      "<class 'str'>\n",
      "\n",
      "               \n",
      "<class 'str'>\n",
      "Printed for the Author, and sold by him at his House at the \n",
      "<class 'str'>\n",
      "\n",
      "               \n",
      "<class 'str'>\n"
     ]
    }
   ],
   "source": [
    "# sort for paragraphs and extract text\n",
    "for par in root.iter('p'):\n",
    "    print(par.text)\n",
    "    print(type(par.text))"
   ]
  },
  {
   "cell_type": "code",
   "execution_count": 8,
   "metadata": {},
   "outputs": [
    {
     "data": {
      "text/plain": [
       "475"
      ]
     },
     "execution_count": 8,
     "metadata": {},
     "output_type": "execute_result"
    }
   ],
   "source": [
    "len(xml_files)"
   ]
  },
  {
   "cell_type": "code",
   "execution_count": 9,
   "metadata": {},
   "outputs": [],
   "source": [
    "# our aim is to have a list of the transcripts (as strings) of each trial.\n",
    "# we'll also remove escape characters.\n",
    "\n",
    "list_trial_full_texts = []\n",
    "\n",
    "for file in xml_files:\n",
    "    tree = et.parse(file)\n",
    "    root = tree.getroot()\n",
    "    \n",
    "    list_trial_pars = []\n",
    "    \n",
    "    try:\n",
    "        for par in root.iter('p'):\n",
    "            list_trial_pars.append(par.text)\n",
    "    except:\n",
    "        pass\n",
    "    \n",
    "    full_trial = str(list_trial_pars)\n",
    "    \n",
    "    #remove escape characters\n",
    "    full_trial_correct = corrected_text = full_trial.replace('\\\\n', ' ').replace('\\r', '').replace('\\t', '').replace(\"\\\\\",\"\").replace(\"-\",'')\n",
    "    \n",
    "    list_trial_full_texts.append(full_trial_correct)"
   ]
  },
  {
   "cell_type": "code",
   "execution_count": 10,
   "metadata": {},
   "outputs": [
    {
     "data": {
      "text/plain": [
       "475"
      ]
     },
     "execution_count": 10,
     "metadata": {},
     "output_type": "execute_result"
    }
   ],
   "source": [
    "# datacheck that we looped through all of our texts\n",
    "len(list_trial_full_texts)"
   ]
  },
  {
   "cell_type": "code",
   "execution_count": 11,
   "metadata": {},
   "outputs": [
    {
     "data": {
      "text/plain": [
       "str"
      ]
     },
     "execution_count": 11,
     "metadata": {},
     "output_type": "execute_result"
    }
   ],
   "source": [
    "# datacheck for type\n",
    "type(list_trial_full_texts[0])"
   ]
  },
  {
   "cell_type": "code",
   "execution_count": 12,
   "metadata": {},
   "outputs": [
    {
     "name": "stdout",
     "output_type": "stream",
     "text": [
      "ation, I perceived, in most People whom I have since conversed with, of having a True and Genuine Relation of the last Dying Words and Actions of these Criminals, have, in a manner, forc’d from me (though at this distance of Time) this present Account.', 'ON Sunday, November the First, in the Afternoon, I Preached to the Prisoners on these Words, taken out of the Third Chapter of the Second Epistle General of St. Peter, and the Ninth Verse;', 'The Lord is not slack concerning his Promise (as som\n"
     ]
    }
   ],
   "source": [
    "# datacheck to that we have the data that we want.\n",
    "print(list_trial_full_texts[0][500:1000])"
   ]
  },
  {
   "cell_type": "markdown",
   "metadata": {},
   "source": [
    "***\n",
    "***\n",
    "\n",
    "<font color=purple>\n",
    "### **word2vec works off \"sentences\" of tokens!** "
   ]
  },
  {
   "cell_type": "code",
   "execution_count": 13,
   "metadata": {},
   "outputs": [],
   "source": [
    "# NOW we create sentences.\n",
    "# one could imagine splitting the corpus across time and then comparing how words changes.\n",
    "from nltk.tokenize import sent_tokenize\n",
    "\n",
    "list_all_sentences = []\n",
    "\n",
    "for trial in list_trial_full_texts:\n",
    "    \n",
    "    #tokenize by sentences\n",
    "    sents = sent_tokenize(trial)\n",
    "    \n",
    "    #use extend method to create a single dimensional list\n",
    "    list_all_sentences.extend(sents)"
   ]
  },
  {
   "cell_type": "code",
   "execution_count": 14,
   "metadata": {},
   "outputs": [
    {
     "data": {
      "text/plain": [
       "41090"
      ]
     },
     "execution_count": 14,
     "metadata": {},
     "output_type": "execute_result"
    }
   ],
   "source": [
    "# data check for length of all sentences\n",
    "len(list_all_sentences)"
   ]
  },
  {
   "cell_type": "code",
   "execution_count": 15,
   "metadata": {},
   "outputs": [
    {
     "data": {
      "text/plain": [
       "['Whereupon he began to be a little more civil, and we told him at the same time, it was a Thing they never did in their Lives, go into a House with a strange Man, and that he may take it as a particular Favour; it being a very cold Night, we said, a Dram would warm us, or a Bowl of Punch, which was the very Reason we came with you.',\n",
       " \"While we was talking, up comes the Landlady with the other Bowl of Punch; the Man ask'd our Landlady to drink a Glass, which she did, and drank to his good Health; and at the same time told him, he need not be any way uneasy in the Company he was in, for she could pass her Word they were as modest Girls as any in London, so Sir, I am your humble Servant.\",\n",
       " 'When the second Bowl of Punch was just out, we perceiv\\'d he began to be very merry, and now we thought it was the most properest Time for our purpose; so I took my usual Method, with the Assistance of \", \\'I and \\', \"I had not been down Stairs a Quarter of an Hour, but he called for another Tiff, which was immediately carried up by our Landlady, and I follow\\'d.']"
      ]
     },
     "execution_count": 15,
     "metadata": {},
     "output_type": "execute_result"
    }
   ],
   "source": [
    "list_all_sentences[100:103]"
   ]
  },
  {
   "cell_type": "code",
   "execution_count": 16,
   "metadata": {},
   "outputs": [],
   "source": [
    "# remove punctuation, but keep proper nouns\n",
    "list_all_words_sents = []\n",
    "\n",
    "from nltk.tokenize import word_tokenize\n",
    "import re\n",
    "\n",
    "for sent in list_all_sentences:\n",
    "    \n",
    "    #tokenize by word\n",
    "    corrected_sent = word_tokenize(sent)\n",
    "    \n",
    "    #lower case\n",
    "    corrected_sent = [word.lower() for word in corrected_sent]\n",
    "    \n",
    "    #removing punctuation\n",
    "    corrected_sent = re.sub('[^A-Za-z0-9]+', ' ', str(corrected_sent))\n",
    "    \n",
    "    #split by ' ' to create a list of words\n",
    "    corrected_sent = corrected_sent.split(' ')\n",
    "    \n",
    "    \n",
    "    #save to outside list\n",
    "    list_all_words_sents.append(corrected_sent)"
   ]
  },
  {
   "cell_type": "code",
   "execution_count": 17,
   "metadata": {},
   "outputs": [
    {
     "data": {
      "text/plain": [
       "[['',\n",
       "  'they',\n",
       "  'were',\n",
       "  'told',\n",
       "  'how',\n",
       "  'great',\n",
       "  'a',\n",
       "  'crime',\n",
       "  'it',\n",
       "  'was',\n",
       "  'to',\n",
       "  'rob',\n",
       "  'our',\n",
       "  'neighbour',\n",
       "  'how',\n",
       "  'expressly',\n",
       "  'contrary',\n",
       "  'to',\n",
       "  'the',\n",
       "  'command',\n",
       "  'of',\n",
       "  'god',\n",
       "  'and',\n",
       "  'the',\n",
       "  'laws',\n",
       "  'of',\n",
       "  'man',\n",
       "  'and',\n",
       "  'that',\n",
       "  'the',\n",
       "  'robber',\n",
       "  'sooner',\n",
       "  'or',\n",
       "  'later',\n",
       "  'will',\n",
       "  'meet',\n",
       "  'his',\n",
       "  'reward',\n",
       "  ''],\n",
       " ['',\n",
       "  'they',\n",
       "  'were',\n",
       "  'also',\n",
       "  'instructed',\n",
       "  'in',\n",
       "  'the',\n",
       "  'nature',\n",
       "  'end',\n",
       "  'and',\n",
       "  'design',\n",
       "  'of',\n",
       "  'the',\n",
       "  'christian',\n",
       "  'sacraments',\n",
       "  'and',\n",
       "  'were',\n",
       "  'entreated',\n",
       "  'truly',\n",
       "  'to',\n",
       "  'prepare',\n",
       "  'themselves',\n",
       "  'to',\n",
       "  'receive',\n",
       "  'the',\n",
       "  'blessed',\n",
       "  'sacrament',\n",
       "  'of',\n",
       "  'our',\n",
       "  'lord',\n",
       "  's',\n",
       "  'last',\n",
       "  'supper',\n",
       "  '']]"
      ]
     },
     "execution_count": 17,
     "metadata": {},
     "output_type": "execute_result"
    }
   ],
   "source": [
    "list_all_words_sents[50:52]"
   ]
  },
  {
   "cell_type": "code",
   "execution_count": 18,
   "metadata": {},
   "outputs": [
    {
     "data": {
      "text/plain": [
       "list"
      ]
     },
     "execution_count": 18,
     "metadata": {},
     "output_type": "execute_result"
    }
   ],
   "source": [
    "# needs to be a list\n",
    "type(list_all_words_sents[5])"
   ]
  },
  {
   "cell_type": "raw",
   "metadata": {},
   "source": [
    "Another way to achieve this, through NLTK:\n",
    "\n",
    "sentences = nltk.sent_tokenize(SINGLE_CONTINOUS_STRING)\n",
    "tokenized_sentences = [nltk.word_tokenize(sentence) for sentence in sentences]\n",
    "model = gensim.models.Word2Vec(tokenized_sentences, min_count=1)"
   ]
  },
  {
   "cell_type": "markdown",
   "metadata": {},
   "source": [
    "<font color=darkblue>\n",
    "\n",
    "#### Final data structure:\n",
    "\n",
    "- **A list of all sentences, which are stored as lists of strings where each string is a word.**\n",
    "- Each string is a sentence\n",
    "- Punctuation has been remoed because estimating the \"similarity\" of \".\" is not interesting."
   ]
  },
  {
   "cell_type": "code",
   "execution_count": null,
   "metadata": {},
   "outputs": [],
   "source": []
  },
  {
   "cell_type": "markdown",
   "metadata": {},
   "source": [
    "***\n",
    "***\n",
    "\n",
    "## Word Embeddings\n",
    "\n",
    "- Words or phrases from vocabulary are mapped to vectors of reals.\n",
    "- \"Meaning\" is inferred from context / relations. \n",
    "- word2vec is one popular algorithm for doing so.\n",
    "\n",
    "### word2vec Intuition\n",
    "\n",
    "- Developed by Google to efficiently represent text as a vector.\n",
    "- Input to word2vec: text corpus (a list of strings)\n",
    "- Output: vectors for each word\n",
    "- use a large amount of text to create a high-dimensional representaitons of words capturing relationships between words unaided by external annotations.\n",
    "- capture regularities in language games\n",
    "\n",
    "**Wittgenstein (of the Philosophical Investigations) might be happy with this.**\n",
    "\n",
    "\n",
    "\n",
    "\n",
    "Classic examples:\n",
    "\n",
    "vec('Paris') - vec('France') + vec('Italy') = vec('Rome')\n",
    "\n",
    "vec('King') - vec('Man') + vec('Woman') = vec('Queen')\n",
    "\n",
    "https://www.technologyreview.com/s/541356/king-man-woman-queen-the-marvelous-mathematics-of-computational-linguistics/\n",
    "\n",
    "***\n",
    "\n",
    "<font color=black>\n",
    "\n",
    "\n",
    "- *Topic models identify latenttopics within documents based on co-apperance of tokens.*\n",
    "\n",
    "- *Word embeddings identify co-apperance of words in sentences to find equivalence and relation between words.*\n",
    "\n",
    "<font color=darkgreen>\n",
    "    \n",
    "### Two ways to do word2vec: Continuous Bag of Words (CBOW) and Skip-Gram\n",
    "\n",
    "<img src=\"images/cbow_sg_architecture.png\" style=\"width: 600px\"/>\n",
    "\n",
    "<font color=black>\n",
    "\n",
    "Excellent class notes from Stanford's Deep Learning for NLP course:\n",
    "\n",
    "https://cs224d.stanford.edu/lecture_notes/notes1.pdf\n",
    "\n",
    "\n",
    "Moby Dick's first sentence is 'Call me Ishmael.'\n",
    "\n",
    "- The Skip-Gram approach takes a **word** of interest (e.g. \"me\") and tries to find associated words (\"call\", \"Ishmael\").\n",
    "- The CBOW approach takes **context** (\"Call\",\"Ishmael\") and tries to predict the word of interest (\"me\").\n",
    "- CBOW: faster and does well with frequent words\n",
    "- Skip-Gram: rare words\n",
    "\n",
    "https://cs224d.stanford.edu/lecture_notes/notes1.pdf\n",
    "https://www.tensorflow.org/tutorials/word2vec\n"
   ]
  },
  {
   "cell_type": "markdown",
   "metadata": {},
   "source": [
    "***\n",
    "\n",
    "## Getting under the hood a little bit:\n",
    "\n",
    "<img src=\"images/cmoody_lda_gif.gif\" style=\"width: 300px\"/>\n",
    "\n",
    "<img src=\"images/cmoody_w2v_gif.gif\" style=\"width: 300px\"/>\n",
    "\n",
    "**Our goal: get a vector which weights the relationship between each word in our corpus to every other word. **\n",
    "\n",
    "$$ W: \\text{words} \\rightarrow \\mathbb{R}^N $$\n",
    "\n",
    "1. We represent each word as a \"one hot vector\" meaning that there is one \"1\" and all other values are 0s. The length of this vector is the same as the length of our total unique words in the corpus, our vocabulary, i.e. each 1 is \"turned on\" for a given word in a vocabulary.\n",
    "\n",
    "<img src=\"images/neural_network_basic.png\" style=\"width: 300px\"/>\n",
    "\n",
    "2. Each input ($x_1$) in our neural net is a one-hot word vector. Each output is essentially a probability that $x_1$ is associated with any other given word ($y_1$).\n",
    "\n",
    "3. What the neural net does at each layer is train the probability that the next \"target\" word $w_t$ given the previous history ($h$) according to this softmax function (which is a generalization of a logistic regression):\n",
    "\n",
    "\n",
    "$$ \\begin{align}\n",
    "P(w_t | h) &= \\text{softmax} (\\text{score} (w_t, h)) \\\\\n",
    "           &= \\frac{\\exp \\{ \\text{score} (w_t, h) \\} }\n",
    "             {\\sum_\\text{Word w' in Vocab} \\exp \\{ \\text{score} (w', h) \\} }\n",
    "\\end{align}$$\n",
    "\n",
    "where score($w_t,h$) is the dot product of word $w_t$ and the context h.\n",
    "\n",
    "In other words: for each word, given some observed history, what is the probability of observing that one word, compared to observing all other words, given the same history. Think of \n",
    "\n",
    "4. Really simply: $P(w_t | h)$ is the probability of a given word $w_t$ within the context $h$.\n",
    "\n",
    "5. We won't get into the details of NN. Below is a link to Grant Sanderson's (aka 3 Blue 1 Brown) four-part video series of how a neural network works. The basic intuition you have to have is this: **if you break down the component parts of a complicated task and feed them into a machine, the machine can optimize the performance of those discrete tasks and optimize the order in which those tasks are done. Each 'neuron' in a neural network is a task or calculation and it is networked to other tasks.**\n",
    "\n",
    "The original Google paper:\n",
    "https://arxiv.org/abs/1301.3781\n",
    "\n",
    "TensorFlow explanation/documentation:\n",
    "https://www.tensorflow.org/tutorials/word2vec\n",
    "\n",
    "3Blue1Brown's series on how a neural network works:\n",
    "https://www.youtube.com/watch?v=aircAruvnKk&list=PLZHQObOWTQDNU6R1_67000Dx_ZCJB-3pi\n",
    "\n",
    "\n",
    "\n",
    "***\n",
    "***"
   ]
  },
  {
   "cell_type": "code",
   "execution_count": 19,
   "metadata": {},
   "outputs": [],
   "source": [
    "# word2vec is implemented in gensim\n",
    "from gensim.models import Word2Vec\n",
    "\n",
    "\n",
    "#let's fit the first model wiht all defaults\n",
    "model1 = Word2Vec(\n",
    "    #just our data\n",
    "    list_all_words_sents,\n",
    "    sg = 0 #CBOW fit\n",
    ")"
   ]
  },
  {
   "cell_type": "markdown",
   "metadata": {},
   "source": [
    "<font color=darkblue>\n",
    "\n",
    "#### Default parameters:\n",
    "\n",
    "* size: (default 100) The number of dimensions for embedding, e.g. the length of the dense vector to represent each token (word).\n",
    "\n",
    "* window: (default 5) The maximum distance between a target word and words around the target word.\n",
    "\n",
    "* min_count: (default 5) The minimum count of words to consider when training the model; words with an occurrence less than this count will be ignored.\n",
    "\n",
    "* workers: (default 3) The number of threads to use while training. This splits the training corpus into N parts, each to be processed by a separate parallel process.\n",
    "\n",
    "* sg: (default 0 or CBOW) The training algorithm, either CBOW (0) or skip gram (1).\n",
    "\n",
    "***\n",
    "\n",
    "#### Other parameters:\n",
    "\n",
    "* Alpha: (default is 0.025) \"Learning rate\" -- how fast the model updates its predictions. Higher rates will result in more precision at the expense of time / computational resources.\n",
    "* Iterations: Number of passes through dataset\n",
    "* Batch size: Number of words to sample from data during each pass\n",
    "* Seed for the random generator. Set this to ensure replicability.\n",
    "\n",
    "Full documentation:\n",
    "\n",
    "https://radimrehurek.com/gensim/models/word2vec.html"
   ]
  },
  {
   "cell_type": "code",
   "execution_count": 20,
   "metadata": {},
   "outputs": [
    {
     "data": {
      "text/plain": [
       "'/Users/zwehrwein/Dropbox/coursework/2018Spring/soc220_spring2018/Github_Labs/lab10'"
      ]
     },
     "execution_count": 20,
     "metadata": {},
     "output_type": "execute_result"
    }
   ],
   "source": [
    "#change working directory to save our model in a useful spot\n",
    "ob_directory = '/Users/zwehrwein/Dropbox/coursework/2018Spring/soc220_spring2018/Github_Labs/lab10'\n",
    "os.chdir(ob_directory)\n",
    "os.getcwd()"
   ]
  },
  {
   "cell_type": "code",
   "execution_count": 21,
   "metadata": {},
   "outputs": [],
   "source": [
    "# saving model\n",
    "model1.save('model1_obo.model.bin')"
   ]
  },
  {
   "cell_type": "code",
   "execution_count": 22,
   "metadata": {},
   "outputs": [],
   "source": [
    "# loading model\n",
    "model1 = Word2Vec.load('model1_obo.model.bin')"
   ]
  },
  {
   "cell_type": "code",
   "execution_count": 23,
   "metadata": {},
   "outputs": [
    {
     "name": "stdout",
     "output_type": "stream",
     "text": [
      "Word2Vec(vocab=9470, size=100, alpha=0.025)\n"
     ]
    }
   ],
   "source": [
    "#print summary of model parameters\n",
    "print(model1)"
   ]
  },
  {
   "cell_type": "code",
   "execution_count": 24,
   "metadata": {
    "scrolled": false
   },
   "outputs": [
    {
     "name": "stdout",
     "output_type": "stream",
     "text": [
      "['might', 'be', 'offered', 'not', 'publishing', 'this', 'sooner', 'may', 'suffice', 'that', 'as', 'there', 'was', 'time', 'no', 'ordinary', 'so', 'i', 'presum', 'd', 'paper', 'kind', 'would', 'expected', 'from', 'minister', 'who', 'but', 'my', 'friends', 'expectation', 'perceived', 'most', 'people', 'whom', 'have', 'since', 'conversed', 'with', 'having', 'a', 'true', 'genuine', 'relation', 'last', 'dying', 'words', 'actions', 'these', 'criminals', 'manner', 'forc', 'me', 'though', 'distance', 'present', 'on', 'sunday', 'november', 'first', 'afternoon', 'preached', 'to', 'prisoners', 'taken', 'out', 'third', 'chapter', 'second', 'epistle', 'general', 'st', 'peter', 'ninth', 'verse', 'lord', 'is', 'slack', 'concerning', 'his', 'promise', 'some', 'men', 'count', 'slackness', 'longsuffering', 'usward', 'willing', 'any', 'should', 'perish', 'all', 'come', 'repentance', 'after', 'short', 'preface', 'upon', 'their', 'proper']\n"
     ]
    }
   ],
   "source": [
    "# selecting \"wv\" for word2vec and then \"vocab\" method prints out all the word for which vectors have been\n",
    "#calculated\n",
    "print(list(model1.wv.vocab)[25:125]) #"
   ]
  },
  {
   "cell_type": "markdown",
   "metadata": {},
   "source": [
    "<font color=darkblue>\n",
    "\n",
    "### Now that we have vectors, we can use cosine distance and other vector operations to see similarities.\n",
    "\n",
    "Brief reminder what cosine similarity is:\n",
    "\n",
    "<img src=\"images/euclidean_cosine_distance.png\" style=\"width: 300px\"/>\n",
    "\n",
    "(The model itself is accessible via the 'wv' attribute which holds the actual word vector model.)\n",
    "\n",
    "<img src=\"images/kingqueen_vectors.png\" style=\"width: 500px\"/>\n",
    "\n",
    "<img src=\"images/kingqueen_composition.png\" style=\"width: 500px\"/>\n",
    "\n",
    "\n",
    "Images from: https://blog.acolyer.org/2016/04/21/the-amazing-power-of-word-vectors/"
   ]
  },
  {
   "cell_type": "code",
   "execution_count": 25,
   "metadata": {},
   "outputs": [
    {
     "data": {
      "text/plain": [
       "[('commission', 0.8664613962173462),\n",
       " ('prince', 0.823644757270813),\n",
       " ('author', 0.7925946712493896),\n",
       " ('queen', 0.784939169883728),\n",
       " ('royal', 0.7760535478591919),\n",
       " ('dr', 0.7699480652809143),\n",
       " ('virtue', 0.7633548378944397),\n",
       " ('george', 0.7580252885818481),\n",
       " ('right', 0.7456930875778198),\n",
       " ('printers', 0.7360671162605286)]"
      ]
     },
     "execution_count": 25,
     "metadata": {},
     "output_type": "execute_result"
    }
   ],
   "source": [
    "# Find the 10 most similar vectors to the given word vector, using cosine distance\n",
    "model1.wv.most_similar('king')"
   ]
  },
  {
   "cell_type": "code",
   "execution_count": 26,
   "metadata": {},
   "outputs": [
    {
     "data": {
      "text/plain": [
       "[('royal', 0.8999849557876587),\n",
       " ('duke', 0.8608121871948242),\n",
       " ('blackbird', 0.8606035709381104),\n",
       " ('prince', 0.8554762005805969),\n",
       " ('george', 0.8539446592330933),\n",
       " ('prerogative', 0.8522111773490906),\n",
       " ('highness', 0.8493794798851013),\n",
       " ('dunstan', 0.8448513746261597),\n",
       " ('churchyard', 0.8308798670768738),\n",
       " ('dr', 0.8277525305747986)]"
      ]
     },
     "execution_count": 26,
     "metadata": {},
     "output_type": "execute_result"
    }
   ],
   "source": [
    "model1.wv.most_similar('queen')"
   ]
  },
  {
   "cell_type": "code",
   "execution_count": 27,
   "metadata": {},
   "outputs": [
    {
     "data": {
      "text/plain": [
       "[('writings', 0.8666576147079468),\n",
       " ('whiggish', 0.8596307039260864),\n",
       " ('faction', 0.8526493906974792),\n",
       " ('rochester', 0.8515680432319641),\n",
       " ('spiggot', 0.8511835336685181),\n",
       " ('memoirs', 0.8509910106658936),\n",
       " ('current', 0.8476921916007996),\n",
       " ('division', 0.8448795080184937),\n",
       " ('perjury', 0.8439634442329407),\n",
       " ('commissioners', 0.8335074782371521)]"
      ]
     },
     "execution_count": 27,
     "metadata": {},
     "output_type": "execute_result"
    }
   ],
   "source": [
    "model1.wv.most_similar('parliament')"
   ]
  },
  {
   "cell_type": "code",
   "execution_count": 28,
   "metadata": {},
   "outputs": [
    {
     "data": {
      "text/plain": [
       "[('gods', 0.8855944275856018),\n",
       " ('christs', 0.8210858106613159),\n",
       " ('goodness', 0.7972713708877563),\n",
       " ('grace', 0.792394757270813),\n",
       " ('wisdom', 0.7783383727073669),\n",
       " ('infinite', 0.7777382135391235),\n",
       " ('holy', 0.7777177691459656),\n",
       " ('obedience', 0.7650195360183716),\n",
       " ('spirit', 0.7605594992637634),\n",
       " ('protection', 0.7580384016036987)]"
      ]
     },
     "execution_count": 28,
     "metadata": {},
     "output_type": "execute_result"
    }
   ],
   "source": [
    "model1.wv.most_similar('divine')"
   ]
  },
  {
   "cell_type": "code",
   "execution_count": 29,
   "metadata": {},
   "outputs": [
    {
     "data": {
      "text/plain": [
       "[('punishment', 0.6609941720962524),\n",
       " ('pronounced', 0.6225273609161377),\n",
       " ('pass', 0.6209086775779724),\n",
       " ('judgment', 0.6156994700431824),\n",
       " ('condemnation', 0.6156954765319824),\n",
       " ('justice', 0.6088631749153137),\n",
       " ('suffering', 0.5851225256919861),\n",
       " ('end', 0.5784398317337036),\n",
       " ('pronounc', 0.57778000831604),\n",
       " ('justness', 0.5776772499084473)]"
      ]
     },
     "execution_count": 29,
     "metadata": {},
     "output_type": "execute_result"
    }
   ],
   "source": [
    "model1.wv.most_similar('death')"
   ]
  },
  {
   "cell_type": "code",
   "execution_count": 30,
   "metadata": {},
   "outputs": [
    {
     "data": {
      "text/plain": [
       "[('dr', 0.7136260867118835),\n",
       " ('county', 0.7029448747634888),\n",
       " ('printer', 0.6818540096282959),\n",
       " ('city', 0.6763643026351929),\n",
       " ('middlesex', 0.6665331125259399),\n",
       " ('justices', 0.6614565849304199),\n",
       " ('wilford', 0.6592681407928467),\n",
       " ('chymist', 0.6575353741645813),\n",
       " ('author', 0.6565471887588501),\n",
       " ('oyer', 0.6565284132957458)]"
      ]
     },
     "execution_count": 30,
     "metadata": {},
     "output_type": "execute_result"
    }
   ],
   "source": [
    "# canonical example of King - Man + Woman ->\n",
    "model1.wv.most_similar(positive=['woman', 'king'], negative=['man'])"
   ]
  },
  {
   "cell_type": "code",
   "execution_count": 31,
   "metadata": {},
   "outputs": [
    {
     "data": {
      "text/plain": [
       "[('prince', 0.898044764995575),\n",
       " ('george', 0.8893587589263916),\n",
       " ('dr', 0.8665187358856201),\n",
       " ('highness', 0.8632216453552246),\n",
       " ('duke', 0.8622002601623535),\n",
       " ('prerogative', 0.8509378433227539),\n",
       " ('blackbird', 0.8507504463195801),\n",
       " ('dunstan', 0.828270435333252),\n",
       " ('author', 0.8204637169837952),\n",
       " ('commission', 0.8191218972206116)]"
      ]
     },
     "execution_count": 31,
     "metadata": {},
     "output_type": "execute_result"
    }
   ],
   "source": [
    "# let's examine some gender dynamics\n",
    "model1.wv.most_similar(['queen','royal','king'])"
   ]
  },
  {
   "cell_type": "code",
   "execution_count": 32,
   "metadata": {},
   "outputs": [
    {
     "data": {
      "text/plain": [
       "[('spirit', 0.8517414927482605),\n",
       " ('infinite', 0.839813232421875),\n",
       " ('goodness', 0.8332583904266357),\n",
       " ('merits', 0.8291335105895996),\n",
       " ('blessed', 0.8265384435653687),\n",
       " ('gods', 0.8244027495384216),\n",
       " ('righteousness', 0.82169508934021),\n",
       " ('christs', 0.8122649788856506),\n",
       " ('crucified', 0.803619384765625),\n",
       " ('grace', 0.8013240098953247)]"
      ]
     },
     "execution_count": 32,
     "metadata": {},
     "output_type": "execute_result"
    }
   ],
   "source": [
    "model1.wv.most_similar(['divine','holy','christ'])"
   ]
  },
  {
   "cell_type": "markdown",
   "metadata": {},
   "source": [
    "### Let's try a different model!"
   ]
  },
  {
   "cell_type": "code",
   "execution_count": 33,
   "metadata": {},
   "outputs": [
    {
     "name": "stdout",
     "output_type": "stream",
     "text": [
      "CPU times: user 1min 35s, sys: 735 ms, total: 1min 36s\n",
      "Wall time: 33 s\n"
     ]
    }
   ],
   "source": [
    "%%time\n",
    "\n",
    "model2 = Word2Vec(list_all_words_sents, #same data as before\n",
    "                  window=7, #increasing size of window. this time, more words in our context.\n",
    "                  min_count=5, #word has to occur at least 15 times in the model. this time, fewer words.\n",
    "                  sg=1, #yes we are doing skip gram\n",
    "                  alpha=0.05, #doubling our alpha. doubled our alpha\n",
    "                  iter=10, #10 passes through the corpse.\n",
    "                  workers=3) #3 simultaneous processes"
   ]
  },
  {
   "cell_type": "code",
   "execution_count": 34,
   "metadata": {},
   "outputs": [
    {
     "data": {
      "text/plain": [
       "[('dr', 0.7136260867118835),\n",
       " ('county', 0.7029448747634888),\n",
       " ('printer', 0.6818540096282959),\n",
       " ('city', 0.6763643026351929),\n",
       " ('middlesex', 0.6665331125259399),\n",
       " ('justices', 0.6614565849304199),\n",
       " ('wilford', 0.6592681407928467),\n",
       " ('chymist', 0.6575353741645813),\n",
       " ('author', 0.6565471887588501),\n",
       " ('oyer', 0.6565284132957458)]"
      ]
     },
     "execution_count": 34,
     "metadata": {},
     "output_type": "execute_result"
    }
   ],
   "source": [
    "# let's check again\n",
    "model1.wv.most_similar(positive=['woman', 'king'], negative=['man'])"
   ]
  },
  {
   "cell_type": "code",
   "execution_count": 35,
   "metadata": {},
   "outputs": [
    {
     "data": {
      "text/plain": [
       "[('writings', 0.8666576147079468),\n",
       " ('whiggish', 0.8596307039260864),\n",
       " ('faction', 0.8526493906974792),\n",
       " ('rochester', 0.8515680432319641),\n",
       " ('spiggot', 0.8511835336685181),\n",
       " ('memoirs', 0.8509910106658936),\n",
       " ('current', 0.8476921916007996),\n",
       " ('division', 0.8448795080184937),\n",
       " ('perjury', 0.8439634442329407),\n",
       " ('commissioners', 0.8335074782371521)]"
      ]
     },
     "execution_count": 35,
     "metadata": {},
     "output_type": "execute_result"
    }
   ],
   "source": [
    "model1.wv.most_similar('parliament')"
   ]
  },
  {
   "cell_type": "code",
   "execution_count": 36,
   "metadata": {},
   "outputs": [
    {
     "data": {
      "text/plain": [
       "[('guilt', 0.816034734249115),\n",
       " ('fact', 0.814969003200531),\n",
       " ('offence', 0.754718542098999),\n",
       " ('denial', 0.7406421899795532),\n",
       " ('murder', 0.7381924390792847),\n",
       " ('horrid', 0.7229720950126648),\n",
       " ('murther', 0.7077596187591553),\n",
       " ('consequence', 0.7007860541343689),\n",
       " ('case', 0.7007223963737488),\n",
       " ('barbarous', 0.6886932849884033)]"
      ]
     },
     "execution_count": 36,
     "metadata": {},
     "output_type": "execute_result"
    }
   ],
   "source": [
    "model1.wv.most_similar('crime')"
   ]
  },
  {
   "cell_type": "code",
   "execution_count": 37,
   "metadata": {},
   "outputs": [
    {
     "data": {
      "text/plain": [
       "[('sin', 0.8138152956962585),\n",
       " ('dreadful', 0.7846767902374268),\n",
       " ('wickedness', 0.7788015007972717),\n",
       " ('destruction', 0.7734140157699585),\n",
       " ('severity', 0.7516592741012573),\n",
       " ('law', 0.7415364384651184),\n",
       " ('even', 0.740958034992218),\n",
       " ('suffering', 0.7330186367034912),\n",
       " ('guilt', 0.7319416403770447),\n",
       " ('shame', 0.7284661531448364)]"
      ]
     },
     "execution_count": 37,
     "metadata": {},
     "output_type": "execute_result"
    }
   ],
   "source": [
    "model1.wv.most_similar('punishment')"
   ]
  },
  {
   "cell_type": "code",
   "execution_count": null,
   "metadata": {},
   "outputs": [],
   "source": []
  },
  {
   "cell_type": "markdown",
   "metadata": {},
   "source": [
    "### Visualization"
   ]
  },
  {
   "cell_type": "code",
   "execution_count": 38,
   "metadata": {},
   "outputs": [],
   "source": [
    "# __getitem == [] as a selector\n",
    "X = model1.wv.__getitem__(model1.wv.vocab)"
   ]
  },
  {
   "cell_type": "code",
   "execution_count": 40,
   "metadata": {},
   "outputs": [],
   "source": [
    "from sklearn.decomposition import PCA\n",
    "\n",
    "pca = PCA(n_components=2)\n",
    "result = pca.fit_transform(X)"
   ]
  },
  {
   "cell_type": "code",
   "execution_count": 44,
   "metadata": {
    "scrolled": true
   },
   "outputs": [
    {
     "data": {
      "text/plain": [
       "<matplotlib.collections.PathCollection at 0x1a2b6c82b0>"
      ]
     },
     "execution_count": 44,
     "metadata": {},
     "output_type": "execute_result"
    },
    {
     "data": {
      "image/png": "[encoded data removed]",
      "text/plain": [
       "<matplotlib.figure.Figure at 0x1a2b46ff28>"
      ]
     },
     "metadata": {},
     "output_type": "display_data"
    }
   ],
   "source": [
    "import matplotlib.pyplot as plt\n",
    "import matplotlib\n",
    "\n",
    "plt.figure(figsize=(9,5))\n",
    "plt.scatter(result[:, 0], result[:, 1])"
   ]
  },
  {
   "cell_type": "markdown",
   "metadata": {},
   "source": [
    "This isn't that useful though, so let's zoom in a bit on words we care about."
   ]
  },
  {
   "cell_type": "code",
   "execution_count": 45,
   "metadata": {},
   "outputs": [],
   "source": [
    "subset_token = []\n",
    "\n",
    "for token, score in model1.wv.most_similar(['crime','punishment']):\n",
    "    subset_token.append(token)\n",
    "\n",
    "#for token, score in model1.wv.most_similar(['divine','holy','christ']):\n",
    "#    list_token.append(token)"
   ]
  },
  {
   "cell_type": "code",
   "execution_count": 46,
   "metadata": {},
   "outputs": [
    {
     "data": {
      "text/plain": [
       "['guilt',\n",
       " 'sin',\n",
       " 'offence',\n",
       " 'wickedness',\n",
       " 'consequence',\n",
       " 'horrid',\n",
       " 'truth',\n",
       " 'heinousness',\n",
       " 'cause',\n",
       " 'suffering']"
      ]
     },
     "execution_count": 46,
     "metadata": {},
     "output_type": "execute_result"
    }
   ],
   "source": [
    "subset_token"
   ]
  },
  {
   "cell_type": "code",
   "execution_count": 47,
   "metadata": {},
   "outputs": [
    {
     "name": "stderr",
     "output_type": "stream",
     "text": [
      "/Users/zwehrwein/anaconda3/lib/python3.6/site-packages/ipykernel_launcher.py:2: DeprecationWarning: Call to deprecated `most_similar` (Method will be removed in 4.0.0, use self.wv.most_similar() instead).\n",
      "  \n"
     ]
    },
    {
     "data": {
      "text/plain": [
       "['ends',\n",
       " 'pleasures',\n",
       " 'case',\n",
       " 'encouragement',\n",
       " 'affliction',\n",
       " 'crimes',\n",
       " 'covetousness',\n",
       " 'opinion',\n",
       " 'convinced',\n",
       " 'condition',\n",
       " 'villanies',\n",
       " 'reformation',\n",
       " 'light',\n",
       " 'innocence',\n",
       " 'dread',\n",
       " 'offender',\n",
       " 'natural',\n",
       " 'necessity',\n",
       " 'danger',\n",
       " 'course',\n",
       " 'advantage',\n",
       " 'disobeying',\n",
       " 'wilful',\n",
       " 'state',\n",
       " 'murderer']"
      ]
     },
     "execution_count": 47,
     "metadata": {},
     "output_type": "execute_result"
    }
   ],
   "source": [
    "# pick the 100 most similar words to our chosen list\n",
    "chosen_tokens = model1.most_similar(subset_token, topn=100)\n",
    "chosen_tokens = [word for word, similarity in chosen_tokens]\n",
    "chosen_tokens[50:75] #printing out tokens from 50 to 75"
   ]
  },
  {
   "cell_type": "code",
   "execution_count": 48,
   "metadata": {},
   "outputs": [],
   "source": [
    "# take our original two vectors\n",
    "x = [model1.wv.similarity('crime', word) for word in chosen_tokens]\n",
    "y = [model1.wv.similarity('punishment', word) for word in chosen_tokens]"
   ]
  },
  {
   "cell_type": "code",
   "execution_count": 49,
   "metadata": {},
   "outputs": [
    {
     "data": {
      "image/png": "[encoded data removed]",
      "text/plain": [
       "<matplotlib.figure.Figure at 0x1a2b6c89e8>"
      ]
     },
     "metadata": {},
     "output_type": "display_data"
    }
   ],
   "source": [
    "\n",
    "#tell matplotlib to make a larger plot and define our axis object\n",
    "\n",
    "plt.figure(figsize=(15,15))\n",
    "\n",
    "\n",
    "#let's scatter our terms\n",
    "plt.scatter(x, y, color='darkblue')\n",
    "\n",
    "#this for loop marches through our list of tokens and adds an annotation to each value\n",
    "for i in range(len(chosen_tokens)):\n",
    "    plt.annotate(chosen_tokens[i], (x[i],y[i]))\n",
    "\n",
    "#this plot places a line splitting the vector space in two\n",
    "plt.plot([0, 1], [0, 1], linestyle='--', color='darkred')\n",
    "\n",
    "#finally, let's 'zoom in' on the plot by defining limits to our x and y axis\n",
    "plt.xlim(.25,1.05)\n",
    "plt.ylim(.35,1.05)\n",
    "\n",
    "plt.title('Raskolnikov, but word2vec')\n",
    "\n",
    "#show the plot\n",
    "plt.show()"
   ]
  },
  {
   "cell_type": "markdown",
   "metadata": {},
   "source": [
    "***\n",
    "***\n",
    "## Your turn."
   ]
  }
 ],
 "metadata": {
  "kernelspec": {
   "display_name": "Python 3",
   "language": "python",
   "name": "python3"
  },
  "language_info": {
   "codemirror_mode": {
    "name": "ipython",
    "version": 3
   },
   "file_extension": ".py",
   "mimetype": "text/x-python",
   "name": "python",
   "nbconvert_exporter": "python",
   "pygments_lexer": "ipython3",
   "version": "3.6.4"
  }
 },
 "nbformat": 4,
 "nbformat_minor": 2
}
